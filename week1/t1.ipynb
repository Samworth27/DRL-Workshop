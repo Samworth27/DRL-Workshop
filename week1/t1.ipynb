{
 "cells": [
  {
   "cell_type": "code",
   "execution_count": 1,
   "metadata": {},
   "outputs": [],
   "source": [
    "import sys"
   ]
  },
  {
   "cell_type": "code",
   "execution_count": 21,
   "metadata": {},
   "outputs": [
    {
     "name": "stdout",
     "output_type": "stream",
     "text": [
      "Defaulting to user installation because normal site-packages is not writeable\n",
      "Requirement already satisfied: numpy in /usr/lib/python3/dist-packages (1.21.5)\n"
     ]
    }
   ],
   "source": [
    "!{sys.executable} -m pip install numpy"
   ]
  },
  {
   "cell_type": "code",
   "execution_count": 2,
   "metadata": {},
   "outputs": [],
   "source": [
    "import numpy as np\n",
    "import math\n"
   ]
  },
  {
   "cell_type": "code",
   "execution_count": 171,
   "metadata": {},
   "outputs": [],
   "source": [
    "def randomMatrix(y_size=10, x_size=10, range=100):\n",
    "    return np.asmatrix(np.random.randint(range, size=(y_size, x_size)))\n",
    "\n",
    "\n",
    "def orderedMatrix(y_size=10, x_size=10):\n",
    "    return np.asmatrix(np.arange(x_size*y_size).reshape(y_size, x_size))\n"
   ]
  },
  {
   "cell_type": "code",
   "execution_count": 178,
   "metadata": {},
   "outputs": [],
   "source": [
    "def swapRows(matrix):\n",
    "    length = len(matrix)\n",
    "    # check if matrix has an even number of rows to skip creating the split list\n",
    "    # to avoid looping unnecessarily\n",
    "    if(length % 2 == 0):\n",
    "        split = length/2\n",
    "    else:\n",
    "        # create list of indices to split the matrix into pairs of rows for inputs with odd or even number\n",
    "        # of rows\n",
    "        split = []\n",
    "        for i in range(math.ceil(length/2)):\n",
    "            split.append(i*2)\n",
    "        # append the final index to the list, this has no effect on matrices with an even number of rows\n",
    "        split.append(length)\n",
    "\n",
    "    # split the matrix into pairs of rows\n",
    "    row_pairs = np.vsplit(matrix, split)\n",
    "\n",
    "    # swap the rows in each pair\n",
    "    swapped = map(lambda pair: np.flipud(pair), row_pairs)\n",
    "\n",
    "    # rejoin the rows into a new matrix and return\n",
    "    return np.vstack(list(swapped))\n"
   ]
  },
  {
   "cell_type": "code",
   "execution_count": 179,
   "metadata": {},
   "outputs": [
    {
     "data": {
      "text/plain": [
       "matrix([[10, 11, 12, 13, 14, 15, 16, 17, 18, 19],\n",
       "        [ 0,  1,  2,  3,  4,  5,  6,  7,  8,  9],\n",
       "        [30, 31, 32, 33, 34, 35, 36, 37, 38, 39],\n",
       "        [20, 21, 22, 23, 24, 25, 26, 27, 28, 29],\n",
       "        [40, 41, 42, 43, 44, 45, 46, 47, 48, 49]])"
      ]
     },
     "execution_count": 179,
     "metadata": {},
     "output_type": "execute_result"
    }
   ],
   "source": [
    "swapRows(orderedMatrix(5,10))"
   ]
  }
 ],
 "metadata": {
  "kernelspec": {
   "display_name": "Python 3.10.4 64-bit",
   "language": "python",
   "name": "python3"
  },
  "language_info": {
   "codemirror_mode": {
    "name": "ipython",
    "version": 3
   },
   "file_extension": ".py",
   "mimetype": "text/x-python",
   "name": "python",
   "nbconvert_exporter": "python",
   "pygments_lexer": "ipython3",
   "version": "3.10.4"
  },
  "orig_nbformat": 4,
  "vscode": {
   "interpreter": {
    "hash": "916dbcbb3f70747c44a77c7bcd40155683ae19c65e1c03b4aa3499c5328201f1"
   }
  }
 },
 "nbformat": 4,
 "nbformat_minor": 2
}
