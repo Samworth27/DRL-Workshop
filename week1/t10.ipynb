{
 "cells": [
  {
   "cell_type": "code",
   "execution_count": 1,
   "metadata": {},
   "outputs": [],
   "source": [
    "import sys"
   ]
  },
  {
   "cell_type": "code",
   "execution_count": 2,
   "metadata": {},
   "outputs": [
    {
     "name": "stdout",
     "output_type": "stream",
     "text": [
      "Defaulting to user installation because normal site-packages is not writeable\n",
      "Requirement already satisfied: numpy in /usr/lib/python3/dist-packages (1.21.5)\n",
      "Defaulting to user installation because normal site-packages is not writeable\n",
      "Requirement already satisfied: matplotlib in /home/sam/.local/lib/python3.10/site-packages (3.5.2)\n",
      "Requirement already satisfied: numpy>=1.17 in /usr/lib/python3/dist-packages (from matplotlib) (1.21.5)\n",
      "Requirement already satisfied: packaging>=20.0 in /home/sam/.local/lib/python3.10/site-packages (from matplotlib) (21.3)\n",
      "Requirement already satisfied: kiwisolver>=1.0.1 in /home/sam/.local/lib/python3.10/site-packages (from matplotlib) (1.4.4)\n",
      "Requirement already satisfied: fonttools>=4.22.0 in /home/sam/.local/lib/python3.10/site-packages (from matplotlib) (4.34.4)\n",
      "Requirement already satisfied: cycler>=0.10 in /home/sam/.local/lib/python3.10/site-packages (from matplotlib) (0.11.0)\n",
      "Requirement already satisfied: pillow>=6.2.0 in /usr/lib/python3/dist-packages (from matplotlib) (9.0.1)\n",
      "Requirement already satisfied: python-dateutil>=2.7 in /home/sam/.local/lib/python3.10/site-packages (from matplotlib) (2.8.2)\n",
      "Requirement already satisfied: pyparsing>=2.2.1 in /usr/lib/python3/dist-packages (from matplotlib) (2.4.7)\n",
      "Requirement already satisfied: six>=1.5 in /usr/lib/python3/dist-packages (from python-dateutil>=2.7->matplotlib) (1.16.0)\n"
     ]
    }
   ],
   "source": [
    "!{sys.executable} -m pip install numpy\n",
    "!{sys.executable} -m pip install matplotlib"
   ]
  },
  {
   "cell_type": "code",
   "execution_count": 3,
   "metadata": {},
   "outputs": [],
   "source": [
    "import numpy as np\n",
    "import matplotlib.pyplot as plt\n",
    "from enum import Enum\n",
    "import random"
   ]
  },
  {
   "cell_type": "code",
   "execution_count": 173,
   "metadata": {},
   "outputs": [],
   "source": [
    "def largestSubsequence(sequence, verbose=False, score=False):\n",
    "    n = len(sequence)\n",
    "    maxSum = -float('inf')\n",
    "    maxSeq = []\n",
    "    l = 0\n",
    "    r = 0\n",
    "    windowLeft = 0\n",
    "    windowRight = 0\n",
    "    count = 0\n",
    "    while windowLeft < n and windowRight < n:\n",
    "        count += 1\n",
    "        seq = sequence[windowLeft:windowRight+1]\n",
    "        sum = np.sum(seq)\n",
    "        if verbose:\n",
    "            print(\"\\nsubsequence:{0}\".format(\n",
    "                sequence[windowLeft:windowRight+1]))\n",
    "            print(\"subsequence sum:{0}\".format(sum))\n",
    "        if sum > maxSum:\n",
    "            if verbose:\n",
    "                print(\"Old Max:{0} || New Max:{1}\".format(maxSum, sum))\n",
    "            maxSeq = seq\n",
    "            maxSum = sum\n",
    "            l = windowLeft\n",
    "            r = windowRight\n",
    "\n",
    "        if sum > 0:\n",
    "            windowRight += 1\n",
    "        else:\n",
    "            windowLeft = windowRight + 1\n",
    "            windowRight += 1\n",
    "    if score:\n",
    "        return count\n",
    "    else:\n",
    "        return l, r, maxSeq, maxSum\n",
    "\n",
    "\n",
    "def generateTestSequence(length):\n",
    "    return np.random.randint(-length, length, length)\n"
   ]
  },
  {
   "cell_type": "code",
   "execution_count": 203,
   "metadata": {},
   "outputs": [
    {
     "name": "stdout",
     "output_type": "stream",
     "text": [
      "[[  0   1   2   3   4   5   6   7   8   9  10  11  12  13  14]\n",
      " [  5   8  13  -1 -15 -14  -5 -11   2 -13   3 -10  12 -15   7]]\n",
      "Left index: 0, Right Index: 2, Sum: 26\n",
      "Sequence: [ 5  8 13]\n"
     ]
    }
   ],
   "source": [
    "testSequence = generateTestSequence(15)\n",
    "print(np.stack([np.arange(15),testSequence]))\n",
    "print(\"Left index: {0}, Right Index: {1}, Sum: {3}\\nSequence: {2}\".format(*largestSubsequence(testSequence)))"
   ]
  }
 ],
 "metadata": {
  "kernelspec": {
   "display_name": "Python 3.10.4 64-bit",
   "language": "python",
   "name": "python3"
  },
  "language_info": {
   "codemirror_mode": {
    "name": "ipython",
    "version": 3
   },
   "file_extension": ".py",
   "mimetype": "text/x-python",
   "name": "python",
   "nbconvert_exporter": "python",
   "pygments_lexer": "ipython3",
   "version": "3.10.4"
  },
  "orig_nbformat": 4,
  "vscode": {
   "interpreter": {
    "hash": "916dbcbb3f70747c44a77c7bcd40155683ae19c65e1c03b4aa3499c5328201f1"
   }
  }
 },
 "nbformat": 4,
 "nbformat_minor": 2
}
