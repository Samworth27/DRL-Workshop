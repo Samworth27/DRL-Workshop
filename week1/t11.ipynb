{
 "cells": [
  {
   "cell_type": "code",
   "execution_count": 1,
   "metadata": {},
   "outputs": [],
   "source": [
    "import sys"
   ]
  },
  {
   "cell_type": "code",
   "execution_count": null,
   "metadata": {},
   "outputs": [],
   "source": [
    "!{sys.executable} -m pip install numpy\n",
    "!{sys.executable} -m pip install matplotlib"
   ]
  },
  {
   "cell_type": "code",
   "execution_count": 680,
   "metadata": {},
   "outputs": [],
   "source": [
    "import math\n",
    "import random\n",
    "import numpy as np\n",
    "import matplotlib.pyplot as plt"
   ]
  },
  {
   "cell_type": "code",
   "execution_count": 715,
   "metadata": {},
   "outputs": [
    {
     "data": {
      "image/png": "[encoded data removed]",
      "text/plain": [
       "<Figure size 432x288 with 1 Axes>"
      ]
     },
     "metadata": {
      "needs_background": "light"
     },
     "output_type": "display_data"
    }
   ],
   "source": [
    "def squareRoot(value, precision=10):\n",
    "    # guess = round(1/((value)**-0.5),precision+1)\n",
    "    guess = 1\n",
    "    iterations = 0\n",
    "\n",
    "    while (value / guess != guess and iterations < 20):\n",
    "        nextGuess = round((guess + (value/guess))/2, precision)\n",
    "        if nextGuess == guess:\n",
    "            break\n",
    "        guess = nextGuess\n",
    "        iterations += 1\n",
    "\n",
    "    return round(guess, precision), iterations\n",
    "\n",
    "\n",
    "x = random.randint(1, 100000000) # +random.random()\n",
    "y, iter = squareRoot(x)\n",
    "error = abs(x-y*y)\n",
    "\n",
    "\n",
    "x = []\n",
    "y = []\n",
    "for i in np.logspace(1,4,num=1000):\n",
    "  x.append(i)\n",
    "  _, time = squareRoot(i)\n",
    "  y.append(time)\n",
    "  \n",
    "plt.plot(x,y)\n",
    "plt.show()"
   ]
  }
 ],
 "metadata": {
  "kernelspec": {
   "display_name": "Python 3.10.4 64-bit",
   "language": "python",
   "name": "python3"
  },
  "language_info": {
   "codemirror_mode": {
    "name": "ipython",
    "version": 3
   },
   "file_extension": ".py",
   "mimetype": "text/x-python",
   "name": "python",
   "nbconvert_exporter": "python",
   "pygments_lexer": "ipython3",
   "version": "3.10.4"
  },
  "orig_nbformat": 4,
  "vscode": {
   "interpreter": {
    "hash": "916dbcbb3f70747c44a77c7bcd40155683ae19c65e1c03b4aa3499c5328201f1"
   }
  }
 },
 "nbformat": 4,
 "nbformat_minor": 2
}
