{
 "cells": [
  {
   "cell_type": "code",
   "execution_count": 2,
   "metadata": {},
   "outputs": [],
   "source": [
    "import sys"
   ]
  },
  {
   "cell_type": "code",
   "execution_count": 3,
   "metadata": {},
   "outputs": [
    {
     "name": "stdout",
     "output_type": "stream",
     "text": [
      "Defaulting to user installation because normal site-packages is not writeable\n",
      "Requirement already satisfied: numpy in /usr/lib/python3/dist-packages (1.21.5)\n",
      "Defaulting to user installation because normal site-packages is not writeable\n",
      "Requirement already satisfied: matplotlib in /home/sam/.local/lib/python3.10/site-packages (3.5.2)\n",
      "Requirement already satisfied: numpy>=1.17 in /usr/lib/python3/dist-packages (from matplotlib) (1.21.5)\n",
      "Requirement already satisfied: pillow>=6.2.0 in /usr/lib/python3/dist-packages (from matplotlib) (9.0.1)\n",
      "Requirement already satisfied: pyparsing>=2.2.1 in /usr/lib/python3/dist-packages (from matplotlib) (2.4.7)\n",
      "Requirement already satisfied: python-dateutil>=2.7 in /home/sam/.local/lib/python3.10/site-packages (from matplotlib) (2.8.2)\n",
      "Requirement already satisfied: kiwisolver>=1.0.1 in /home/sam/.local/lib/python3.10/site-packages (from matplotlib) (1.4.4)\n",
      "Requirement already satisfied: packaging>=20.0 in /home/sam/.local/lib/python3.10/site-packages (from matplotlib) (21.3)\n",
      "Requirement already satisfied: fonttools>=4.22.0 in /home/sam/.local/lib/python3.10/site-packages (from matplotlib) (4.34.4)\n",
      "Requirement already satisfied: cycler>=0.10 in /home/sam/.local/lib/python3.10/site-packages (from matplotlib) (0.11.0)\n",
      "Requirement already satisfied: six>=1.5 in /usr/lib/python3/dist-packages (from python-dateutil>=2.7->matplotlib) (1.16.0)\n"
     ]
    }
   ],
   "source": [
    "!{sys.executable} -m pip install numpy\n",
    "!{sys.executable} -m pip install matplotlib"
   ]
  },
  {
   "cell_type": "code",
   "execution_count": 210,
   "metadata": {},
   "outputs": [],
   "source": [
    "import math\n",
    "import cmath\n",
    "import random\n",
    "import numpy as np\n",
    "import matplotlib.pyplot as plt"
   ]
  },
  {
   "cell_type": "code",
   "execution_count": 393,
   "metadata": {},
   "outputs": [
    {
     "name": "stdout",
     "output_type": "stream",
     "text": [
      "n: -479\n",
      " square root: 21.88606862823929j\n",
      " math.sqrt:   21.88606862823929j\n",
      " iterations:  9\n"
     ]
    }
   ],
   "source": [
    "def squareRoot(value, precision=10):\n",
    "    # guess = round(1/((value)**-0.5),precision+1)\n",
    "    guess = 1\n",
    "    imaginary = False\n",
    "    if value < 0:\n",
    "        value = abs(value)\n",
    "        imaginary = True\n",
    "        \n",
    "    iterations = 0\n",
    "\n",
    "    while (value / guess != guess and iterations < 50):\n",
    "        nextGuess = round((guess + (value/guess))/2, precision)\n",
    "        if nextGuess == guess:\n",
    "            break\n",
    "        guess = nextGuess\n",
    "        iterations += 1\n",
    "    if imaginary:\n",
    "        return complex(0,round(guess, precision)), iterations\n",
    "    return round(guess, precision), iterations\n",
    "\n",
    "\n",
    "x = random.randint(-1000, 1000)\n",
    "y, iter = squareRoot(x, 15)\n",
    "answer = cmath.sqrt(x) if x < 0 else math.sqrt(x)\n",
    "print(\"n: {0}\\n square root: {1}\\n math.sqrt:   {2}\\n iterations:  {3}\".format(x,y,answer,iter))"
   ]
  },
  {
   "cell_type": "code",
   "execution_count": 72,
   "metadata": {},
   "outputs": [],
   "source": [
    "scores = []\n",
    "x=[]\n",
    "for i in np.logspace(1,5,num=5000):\n",
    "    x.append(i)\n",
    "    xScores = []\n",
    "    for _ in range(100):\n",
    "        _,score = squareRoot(i)\n",
    "        xScores.append(score)\n",
    "    scores.append(xScores)\n",
    "    \n",
    "\n",
    "scores = np.asarray(scores)"
   ]
  },
  {
   "cell_type": "code",
   "execution_count": 79,
   "metadata": {},
   "outputs": [
    {
     "data": {
      "image/png": "[encoded data removed]",
      "text/plain": [
       "<Figure size 432x288 with 1 Axes>"
      ]
     },
     "metadata": {
      "needs_background": "light"
     },
     "output_type": "display_data"
    }
   ],
   "source": [
    "plt.plot(x,np.log(x)*0.75+4.3)\n",
    "plt.plot(x,scores.max(1))\n",
    "plt.show()"
   ]
  }
 ],
 "metadata": {
  "kernelspec": {
   "display_name": "Python 3.10.4 64-bit",
   "language": "python",
   "name": "python3"
  },
  "language_info": {
   "codemirror_mode": {
    "name": "ipython",
    "version": 3
   },
   "file_extension": ".py",
   "mimetype": "text/x-python",
   "name": "python",
   "nbconvert_exporter": "python",
   "pygments_lexer": "ipython3",
   "version": "3.10.4"
  },
  "orig_nbformat": 4,
  "vscode": {
   "interpreter": {
    "hash": "916dbcbb3f70747c44a77c7bcd40155683ae19c65e1c03b4aa3499c5328201f1"
   }
  }
 },
 "nbformat": 4,
 "nbformat_minor": 2
}
