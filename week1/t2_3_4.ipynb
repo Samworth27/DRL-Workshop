{
 "cells": [
  {
   "cell_type": "code",
   "execution_count": 3,
   "metadata": {},
   "outputs": [],
   "source": [
    "import sys"
   ]
  },
  {
   "cell_type": "code",
   "execution_count": 4,
   "metadata": {},
   "outputs": [
    {
     "name": "stdout",
     "output_type": "stream",
     "text": [
      "Defaulting to user installation because normal site-packages is not writeable\n",
      "Requirement already satisfied: numpy in /usr/lib/python3/dist-packages (1.21.5)\n"
     ]
    }
   ],
   "source": [
    "!{sys.executable} -m pip install numpy"
   ]
  },
  {
   "cell_type": "code",
   "execution_count": 5,
   "metadata": {},
   "outputs": [],
   "source": [
    "import numpy as np\n",
    "import math"
   ]
  },
  {
   "cell_type": "code",
   "execution_count": 6,
   "metadata": {},
   "outputs": [],
   "source": [
    "def randomMatrix(y_size=10, x_size=10, range=100):\n",
    "    return np.asmatrix(np.random.randint(range, size=(y_size, x_size)))\n",
    "\n",
    "\n",
    "def orderedMatrix(y_size=10, x_size=10):\n",
    "    return np.asmatrix(np.arange(x_size*y_size).reshape(y_size, x_size))\n"
   ]
  },
  {
   "cell_type": "code",
   "execution_count": 7,
   "metadata": {},
   "outputs": [],
   "source": [
    "class ColIndex:\n",
    "    def largestValue(matrix, verbose = False):\n",
    "        if verbose:\n",
    "            largestPosition  = np.argmax(matrix, axis=0)\n",
    "            print(\"\\nLargest value for verification of largest value\")\n",
    "            print(\"positions:\") \n",
    "            print(largestPosition)\n",
    "            print(\"values:\")\n",
    "            print(matrix[np.asarray(largestPosition),np.arange(matrix.shape[1])])\n",
    "            \n",
    "        return (np.argmax(matrix) % matrix.shape[1])\n",
    "\n",
    "    def largestSum(matrix, verbose=False):\n",
    "        if verbose:\n",
    "            print(\"\\n Cumulative totals for verification of largest sum\")\n",
    "            print(np.cumsum(matrix, axis=0))\n",
    "        return np.argmax(np.sum(matrix, axis=0))\n",
    "    \n",
    "    def largestMedian(matrix, verbose=False):\n",
    "        if verbose:\n",
    "            centre_rows = [math.floor((matrix.shape[0]-1)/2),math.ceil((matrix.shape[0]-1)/2)]\n",
    "            print(\"\\n centre rows of sorted columns:\")\n",
    "            print(np.sort(matrix, axis=0)[centre_rows ])\n",
    "            print(\"Column Median Values:\")\n",
    "            print(np.median(matrix, axis=0))\n",
    "        return np.argmax(np.median(matrix, axis=0))\n",
    "\n",
    "\n",
    "matrix = randomMatrix(10, 10)\n",
    "\n"
   ]
  },
  {
   "cell_type": "code",
   "execution_count": 8,
   "metadata": {},
   "outputs": [
    {
     "name": "stdout",
     "output_type": "stream",
     "text": [
      "[[ 9 91 58 21 25 34 33 30 90 98]\n",
      " [62 89 78 25 97 89 24 47 54 69]\n",
      " [ 9 71 45 27  4 58 53 11 79 15]\n",
      " [61 50 94 33 95  2 49 53 29 73]\n",
      " [65 55 47 98 47 28 28 67 58 99]\n",
      " [51 73 45 63 21 36 42 29 77 61]\n",
      " [82 20 95 45 59 54 81 42 90 45]\n",
      " [86 20 75 89 51  6 24 40 22 43]\n",
      " [98 30 57 97 36 12 14 14 45 36]\n",
      " [75 73 28 77  6 68 15 18 14 21]]\n",
      "\n",
      "Largest value for verification of largest value\n",
      "positions:\n",
      "[[8 0 6 4 1 1 6 4 0 4]]\n",
      "values:\n",
      "[[98 91 95 98 97 89 81 67 90 99]]\n",
      "largest value col index: 9\n"
     ]
    }
   ],
   "source": [
    "print(matrix)\n",
    "print(\"largest value col index: {0}\".format(\n",
    "    ColIndex.largestValue(matrix, verbose=True)))\n"
   ]
  },
  {
   "cell_type": "code",
   "execution_count": 9,
   "metadata": {},
   "outputs": [
    {
     "name": "stdout",
     "output_type": "stream",
     "text": [
      "[[ 9 91 58 21 25 34 33 30 90 98]\n",
      " [62 89 78 25 97 89 24 47 54 69]\n",
      " [ 9 71 45 27  4 58 53 11 79 15]\n",
      " [61 50 94 33 95  2 49 53 29 73]\n",
      " [65 55 47 98 47 28 28 67 58 99]\n",
      " [51 73 45 63 21 36 42 29 77 61]\n",
      " [82 20 95 45 59 54 81 42 90 45]\n",
      " [86 20 75 89 51  6 24 40 22 43]\n",
      " [98 30 57 97 36 12 14 14 45 36]\n",
      " [75 73 28 77  6 68 15 18 14 21]]\n",
      "\n",
      " Cumulative totals for verification of largest sum\n",
      "[[  9  91  58  21  25  34  33  30  90  98]\n",
      " [ 71 180 136  46 122 123  57  77 144 167]\n",
      " [ 80 251 181  73 126 181 110  88 223 182]\n",
      " [141 301 275 106 221 183 159 141 252 255]\n",
      " [206 356 322 204 268 211 187 208 310 354]\n",
      " [257 429 367 267 289 247 229 237 387 415]\n",
      " [339 449 462 312 348 301 310 279 477 460]\n",
      " [425 469 537 401 399 307 334 319 499 503]\n",
      " [523 499 594 498 435 319 348 333 544 539]\n",
      " [598 572 622 575 441 387 363 351 558 560]]\n",
      "largest sum col index: 2\n"
     ]
    }
   ],
   "source": [
    "print(matrix)\n",
    "print(\"largest sum col index: {0}\".format(\n",
    "    ColIndex.largestSum(matrix, verbose=True)))\n"
   ]
  },
  {
   "cell_type": "code",
   "execution_count": 10,
   "metadata": {},
   "outputs": [
    {
     "name": "stdout",
     "output_type": "stream",
     "text": [
      "[[ 9 91 58 21 25 34 33 30 90 98]\n",
      " [62 89 78 25 97 89 24 47 54 69]\n",
      " [ 9 71 45 27  4 58 53 11 79 15]\n",
      " [61 50 94 33 95  2 49 53 29 73]\n",
      " [65 55 47 98 47 28 28 67 58 99]\n",
      " [51 73 45 63 21 36 42 29 77 61]\n",
      " [82 20 95 45 59 54 81 42 90 45]\n",
      " [86 20 75 89 51  6 24 40 22 43]\n",
      " [98 30 57 97 36 12 14 14 45 36]\n",
      " [75 73 28 77  6 68 15 18 14 21]]\n",
      "\n",
      " centre rows of sorted columns:\n",
      "[[62 55 57 45 36 34 28 30 54 45]\n",
      " [65 71 58 63 47 36 33 40 58 61]]\n",
      "Column Median Values:\n",
      "[[63.5 63.  57.5 54.  41.5 35.  30.5 35.  56.  53. ]]\n",
      "largest median col index: 0\n"
     ]
    }
   ],
   "source": [
    "print(matrix)\n",
    "print(\"largest median col index: {0}\".format(\n",
    "    ColIndex.largestMedian(matrix, verbose=True)))\n"
   ]
  }
 ],
 "metadata": {
  "kernelspec": {
   "display_name": "Python 3.10.4 64-bit",
   "language": "python",
   "name": "python3"
  },
  "language_info": {
   "codemirror_mode": {
    "name": "ipython",
    "version": 3
   },
   "file_extension": ".py",
   "mimetype": "text/x-python",
   "name": "python",
   "nbconvert_exporter": "python",
   "pygments_lexer": "ipython3",
   "version": "3.10.4"
  },
  "orig_nbformat": 4,
  "vscode": {
   "interpreter": {
    "hash": "916dbcbb3f70747c44a77c7bcd40155683ae19c65e1c03b4aa3499c5328201f1"
   }
  }
 },
 "nbformat": 4,
 "nbformat_minor": 2
}
