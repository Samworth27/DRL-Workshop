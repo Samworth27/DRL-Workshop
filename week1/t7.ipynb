{
 "cells": [
  {
   "cell_type": "code",
   "execution_count": 1,
   "metadata": {},
   "outputs": [],
   "source": [
    "import sys"
   ]
  },
  {
   "cell_type": "code",
   "execution_count": 49,
   "metadata": {},
   "outputs": [],
   "source": [
    "import random"
   ]
  },
  {
   "cell_type": "code",
   "execution_count": 168,
   "metadata": {},
   "outputs": [],
   "source": [
    "class Stack:\n",
    "    def __init__(self):\n",
    "        self.stack = []\n",
    "        self.__max = None\n",
    "        self.maxHistory = []\n",
    "\n",
    "    def __repr__(self):\n",
    "        return str(self.stack)\n",
    "\n",
    "    def push(self,value):\n",
    "        if self.__max == None or value > self.__max:\n",
    "            self.__max = value\n",
    "        self.stack.append(value)\n",
    "        self.maxHistory.append(self.__max)\n",
    "        return self.stack\n",
    "\n",
    "    def pop(self):\n",
    "        self.maxHistory.pop()\n",
    "        self.__max = self.maxHistory[-1] if len(self.maxHistory) > 0 else None\n",
    "        return self.stack.pop()\n",
    "\n",
    "    def max(self):\n",
    "        return self.__max"
   ]
  },
  {
   "cell_type": "code",
   "execution_count": 169,
   "metadata": {},
   "outputs": [
    {
     "name": "stdout",
     "output_type": "stream",
     "text": [
      "Max value: None from: []\n",
      "Max value: 4.1 from: [4.1]\n",
      "Max value: 4.1 from: [4.1, 2.0]\n",
      "Max value: 4.1 from: [4.1, 2.0, 1.1]\n",
      "Max value: 4.4 from: [4.1, 2.0, 1.1, 4.4]\n",
      "Max value: 4.4 from: [4.1, 2.0, 1.1, 4.4, 4.0]\n",
      "Max value: 4.4 from: [4.1, 2.0, 1.1, 4.4, 4.0, 3.9]\n",
      "Max value: 4.4 from: [4.1, 2.0, 1.1, 4.4, 4.0, 3.9, 3.3]\n",
      "Max value: 4.4 from: [4.1, 2.0, 1.1, 4.4, 4.0, 3.9, 3.3, 3.5]\n",
      "Max value: 4.6 from: [4.1, 2.0, 1.1, 4.4, 4.0, 3.9, 3.3, 3.5, 4.6]\n",
      "Max value: 4.6 from: [4.1, 2.0, 1.1, 4.4, 4.0, 3.9, 3.3, 3.5, 4.6, 4.1]\n",
      "Max value: 4.6 from: [4.1, 2.0, 1.1, 4.4, 4.0, 3.9, 3.3, 3.5, 4.6]\n",
      "Max value: 4.4 from: [4.1, 2.0, 1.1, 4.4, 4.0, 3.9, 3.3, 3.5]\n",
      "Max value: 4.4 from: [4.1, 2.0, 1.1, 4.4, 4.0, 3.9, 3.3]\n",
      "Max value: 4.4 from: [4.1, 2.0, 1.1, 4.4, 4.0, 3.9]\n",
      "Max value: 4.4 from: [4.1, 2.0, 1.1, 4.4, 4.0]\n",
      "Max value: 4.4 from: [4.1, 2.0, 1.1, 4.4]\n",
      "Max value: 4.1 from: [4.1, 2.0, 1.1]\n",
      "Max value: 4.1 from: [4.1, 2.0]\n",
      "Max value: 4.1 from: [4.1]\n",
      "Max value: None from: []\n"
     ]
    }
   ],
   "source": [
    "myStack = Stack()\n",
    "print(\"Max value: \"+str(myStack.max())+\" from: \"+str(myStack))\n",
    "\n",
    "for i in range(10):\n",
    "  state = myStack.push(random.randint(1,4)+round(random.random(),1))\n",
    "  print(\"Max value: \"+str(myStack.max())+\" from: \"+str(state))\n",
    "  \n",
    "for i in range(10):\n",
    "  myStack.pop()\n",
    "  print(\"Max value: \"+str(myStack.max())+\" from: \"+str(myStack))\n"
   ]
  }
 ],
 "metadata": {
  "kernelspec": {
   "display_name": "Python 3.10.4 64-bit",
   "language": "python",
   "name": "python3"
  },
  "language_info": {
   "codemirror_mode": {
    "name": "ipython",
    "version": 3
   },
   "file_extension": ".py",
   "mimetype": "text/x-python",
   "name": "python",
   "nbconvert_exporter": "python",
   "pygments_lexer": "ipython3",
   "version": "3.10.4"
  },
  "orig_nbformat": 4,
  "vscode": {
   "interpreter": {
    "hash": "916dbcbb3f70747c44a77c7bcd40155683ae19c65e1c03b4aa3499c5328201f1"
   }
  }
 },
 "nbformat": 4,
 "nbformat_minor": 2
}
