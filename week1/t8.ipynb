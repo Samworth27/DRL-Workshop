{
 "cells": [
  {
   "cell_type": "code",
   "execution_count": null,
   "metadata": {},
   "outputs": [],
   "source": [
    "import sys"
   ]
  },
  {
   "cell_type": "code",
   "execution_count": null,
   "metadata": {},
   "outputs": [],
   "source": []
  },
  {
   "cell_type": "code",
   "execution_count": null,
   "metadata": {},
   "outputs": [],
   "source": [
    "\n"
   ]
  },
  {
   "cell_type": "code",
   "execution_count": 30,
   "metadata": {},
   "outputs": [
    {
     "name": "stdout",
     "output_type": "stream",
     "text": [
      "[] True\n",
      "() True\n",
      "{} True\n",
      "[({})] True\n",
      "{([ False\n",
      "{[]}] False\n",
      "}]{[ False\n",
      "if(True){console.log(array[index])} True\n"
     ]
    }
   ],
   "source": [
    "def parse(string):\n",
    "    def opposingBracket(bracket):\n",
    "      if bracket in open:\n",
    "        return close[open.index(bracket)]\n",
    "      elif bracket in close:\n",
    "        return open[close.index(bracket)]  \n",
    "      \n",
    "    open = [\"[\", \"{\", \"(\"]\n",
    "    close = [\"]\", \"}\", \")\"]\n",
    "    bracketStack = []\n",
    "    \n",
    "    for c in string:\n",
    "        if c in open:\n",
    "          bracketStack.append(c)\n",
    "        elif c in close:\n",
    "          if len(bracketStack) > 0 and bracketStack[-1] == opposingBracket(c):\n",
    "            bracketStack.pop()\n",
    "          else:\n",
    "            return False\n",
    "    if len(bracketStack) == 0:\n",
    "      return True\n",
    "    else:\n",
    "      return False\n",
    "\n",
    "\n",
    "strings = [\n",
    "  \"[]\",\"()\",\"{}\", \"[({})]\", \"{([\", \"{[]}]\", \"}]{[\",\"if(True){console.log(array[index])}\"\n",
    "]\n",
    "\n",
    "for string in strings:\n",
    "  print(string, parse(string))\n"
   ]
  }
 ],
 "metadata": {
  "kernelspec": {
   "display_name": "Python 3.10.4 64-bit",
   "language": "python",
   "name": "python3"
  },
  "language_info": {
   "codemirror_mode": {
    "name": "ipython",
    "version": 3
   },
   "file_extension": ".py",
   "mimetype": "text/x-python",
   "name": "python",
   "nbconvert_exporter": "python",
   "pygments_lexer": "ipython3",
   "version": "3.10.4"
  },
  "orig_nbformat": 4,
  "vscode": {
   "interpreter": {
    "hash": "916dbcbb3f70747c44a77c7bcd40155683ae19c65e1c03b4aa3499c5328201f1"
   }
  }
 },
 "nbformat": 4,
 "nbformat_minor": 2
}
