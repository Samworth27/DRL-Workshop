{
 "cells": [
  {
   "cell_type": "code",
   "execution_count": 7,
   "metadata": {},
   "outputs": [],
   "source": [
    "import sys"
   ]
  },
  {
   "cell_type": "code",
   "execution_count": 6,
   "metadata": {},
   "outputs": [
    {
     "name": "stdout",
     "output_type": "stream",
     "text": [
      "Defaulting to user installation because normal site-packages is not writeable\n",
      "Requirement already satisfied: numpy in /usr/lib/python3/dist-packages (1.21.5)\n",
      "Defaulting to user installation because normal site-packages is not writeable\n",
      "Requirement already satisfied: matplotlib in /home/sam/.local/lib/python3.10/site-packages (3.5.2)\n",
      "Requirement already satisfied: kiwisolver>=1.0.1 in /home/sam/.local/lib/python3.10/site-packages (from matplotlib) (1.4.4)\n",
      "Requirement already satisfied: pyparsing>=2.2.1 in /usr/lib/python3/dist-packages (from matplotlib) (2.4.7)\n",
      "Requirement already satisfied: fonttools>=4.22.0 in /home/sam/.local/lib/python3.10/site-packages (from matplotlib) (4.34.4)\n",
      "Requirement already satisfied: cycler>=0.10 in /home/sam/.local/lib/python3.10/site-packages (from matplotlib) (0.11.0)\n",
      "Requirement already satisfied: pillow>=6.2.0 in /usr/lib/python3/dist-packages (from matplotlib) (9.0.1)\n",
      "Requirement already satisfied: numpy>=1.17 in /usr/lib/python3/dist-packages (from matplotlib) (1.21.5)\n",
      "Requirement already satisfied: packaging>=20.0 in /home/sam/.local/lib/python3.10/site-packages (from matplotlib) (21.3)\n",
      "Requirement already satisfied: python-dateutil>=2.7 in /home/sam/.local/lib/python3.10/site-packages (from matplotlib) (2.8.2)\n",
      "Requirement already satisfied: six>=1.5 in /usr/lib/python3/dist-packages (from python-dateutil>=2.7->matplotlib) (1.16.0)\n"
     ]
    }
   ],
   "source": [
    "!{sys.executable} -m pip install numpy\n",
    "!{sys.executable} -m pip install matplotlib"
   ]
  },
  {
   "cell_type": "code",
   "execution_count": 160,
   "metadata": {},
   "outputs": [],
   "source": [
    "import numpy as np\n",
    "import matplotlib.pyplot as plt\n",
    "from enum import Enum\n",
    "import random"
   ]
  },
  {
   "cell_type": "code",
   "execution_count": 23,
   "metadata": {},
   "outputs": [],
   "source": [
    "def sumBetween(start, finish, data):\n",
    "    sum = 0\n",
    "    if start == finish:\n",
    "        return data[start]\n",
    "    \n",
    "    for i in range(start, finish):\n",
    "        sum += data[i]\n",
    "    return sum\n",
    "\n",
    "\n",
    "def sumWindow(start,size,data):\n",
    "  return sumBetween(start, start+size, data)\n",
    "  \n",
    "\n"
   ]
  },
  {
   "cell_type": "code",
   "execution_count": 124,
   "metadata": {},
   "outputs": [
    {
     "name": "stdout",
     "output_type": "stream",
     "text": [
      "3 6 12\n"
     ]
    }
   ],
   "source": [
    "\n",
    "\n",
    "def findWindow(value, data):\n",
    "    n = len(data)+1\n",
    "    leftBound = None\n",
    "    rightBound = None\n",
    "    for window in range(1, n):\n",
    "        leftBound = data[0] if leftBound is None else leftBound + window\n",
    "        rightBound = data[-1] if rightBound is None else rightBound + \\\n",
    "            (n-window)\n",
    "        if leftBound <= value <= rightBound:\n",
    "            if (value-leftBound) % window == 0:\n",
    "                return window, int((value-leftBound)/window)\n",
    "    return None\n",
    "\n",
    "window, start = findWindow(12, sequence)\n",
    "print(start+1, start+1+window, sumBetween(start, start+window, sequence))\n"
   ]
  },
  {
   "cell_type": "code",
   "execution_count": 26,
   "metadata": {},
   "outputs": [
    {
     "data": {
      "text/plain": [
       "66"
      ]
     },
     "execution_count": 26,
     "metadata": {},
     "output_type": "execute_result"
    }
   ],
   "source": [
    "def slidingWindowNaiveIterations(n):\n",
    "  count = 0\n",
    "  for i in range(n):\n",
    "    for j in range(n-i):\n",
    "      count += 1\n",
    "  return count\n",
    "\n",
    "\n",
    "slidingWindowNaiveIterations(11)"
   ]
  },
  {
   "cell_type": "code",
   "execution_count": 250,
   "metadata": {},
   "outputs": [
    {
     "name": "stdout",
     "output_type": "stream",
     "text": [
      "Iteration 1/55 Target:2\n",
      "Sum: 4, Window: [0,0], State: States.LOOK_FORWARD\n",
      "\n",
      "Iteration 2/55 Target:2\n",
      "Sum: 0, Window: [1,0], State: States.MOVE_FORWARD\n",
      "\n",
      "Iteration 3/55 Target:2\n",
      "Sum: 9, Window: [1,1], State: States.LOOK_BACK\n",
      "\n",
      "Iteration 4/55 Target:2\n",
      "Sum: 9, Window: [1,1], State: States.LOOK_FORWARD\n",
      "\n",
      "Iteration 5/55 Target:2\n",
      "Sum: 0, Window: [2,1], State: States.MOVE_FORWARD\n",
      "\n",
      "Iteration 6/55 Target:2\n",
      "Sum: 10, Window: [2,2], State: States.LOOK_BACK\n",
      "\n",
      "Iteration 7/55 Target:2\n",
      "Sum: 10, Window: [2,2], State: States.LOOK_FORWARD\n",
      "\n",
      "Iteration 8/55 Target:2\n",
      "Sum: 0, Window: [3,2], State: States.MOVE_FORWARD\n",
      "\n",
      "Iteration 9/55 Target:2\n",
      "Sum: 6, Window: [3,3], State: States.LOOK_BACK\n",
      "\n",
      "Iteration 10/55 Target:2\n",
      "Sum: 6, Window: [3,3], State: States.LOOK_FORWARD\n",
      "\n",
      "Iteration 11/55 Target:2\n",
      "Sum: 0, Window: [4,3], State: States.MOVE_FORWARD\n",
      "\n",
      "Iteration 12/55 Target:2\n",
      "Sum: 5, Window: [4,4], State: States.LOOK_BACK\n",
      "\n",
      "Iteration 13/55 Target:2\n",
      "Sum: 5, Window: [4,4], State: States.LOOK_FORWARD\n",
      "\n",
      "Iteration 14/55 Target:2\n",
      "Sum: 0, Window: [5,4], State: States.MOVE_FORWARD\n",
      "\n",
      "Iteration 15/55 Target:2\n",
      "Sum: 6, Window: [5,5], State: States.LOOK_BACK\n",
      "\n",
      "Iteration 16/55 Target:2\n",
      "Sum: 6, Window: [5,5], State: States.LOOK_FORWARD\n",
      "\n",
      "Iteration 17/55 Target:2\n",
      "Sum: 0, Window: [6,5], State: States.MOVE_FORWARD\n",
      "\n",
      "Iteration 18/55 Target:2\n",
      "Sum: 9, Window: [6,6], State: States.LOOK_BACK\n",
      "\n",
      "Iteration 19/55 Target:2\n",
      "Sum: 9, Window: [6,6], State: States.LOOK_FORWARD\n",
      "\n",
      "Iteration 20/55 Target:2\n",
      "Sum: 0, Window: [7,6], State: States.MOVE_FORWARD\n",
      "\n",
      "Iteration 21/55 Target:2\n",
      "Sum: 8, Window: [7,7], State: States.LOOK_BACK\n",
      "\n",
      "Iteration 22/55 Target:2\n",
      "Sum: 8, Window: [7,7], State: States.LOOK_FORWARD\n",
      "\n",
      "Iteration 23/55 Target:2\n",
      "Sum: 0, Window: [8,7], State: States.MOVE_FORWARD\n",
      "\n",
      "Iteration 24/55 Target:2\n",
      "Sum: 10, Window: [8,8], State: States.LOOK_BACK\n",
      "\n",
      "Iteration 25/55 Target:2\n",
      "Sum: 10, Window: [8,8], State: States.LOOK_FORWARD\n",
      "\n",
      "Iteration 26/55 Target:2\n",
      "Sum: 0, Window: [9,8], State: States.MOVE_FORWARD\n",
      "\n",
      "Iteration 27/55 Target:2\n",
      "Sum: 1, Window: [9,9], State: States.LOOK_BACK\n",
      "\n",
      "Iteration 28/55 Target:2\n",
      "Sum: 11, Window: [8,9], State: States.LOOK_BACK\n",
      "\n",
      "Iteration 29/55 Target:2\n",
      "Sum: 1, Window: [9,9], State: States.LOOK_FORWARD\n",
      "\n"
     ]
    },
    {
     "data": {
      "text/plain": [
       "(None, None, 29)"
      ]
     },
     "execution_count": 250,
     "metadata": {},
     "output_type": "execute_result"
    }
   ],
   "source": [
    "def bouncingWindow(target, sequence, verbose=False):\n",
    "    class States(Enum):\n",
    "        LOOK_FORWARD = 0\n",
    "        MOVE_FORWARD = 1\n",
    "        LOOK_BACK = 2\n",
    "\n",
    "    n = len(sequence)\n",
    "    windowLeft = 0\n",
    "    windowRight = 0\n",
    "    state = States.LOOK_FORWARD\n",
    "    memory = (0, 0)\n",
    "    iterCount = 0\n",
    "    if verbose:\n",
    "        naiveIter = slidingWindowNaiveIterations(n)\n",
    "    while windowLeft != n and windowRight != n:\n",
    "        iterCount += 1\n",
    "        sum = np.sum(sequence[windowLeft: windowRight+1])\n",
    "        if verbose:\n",
    "            print(\"Iteration {0}/{1} Target:{6}\\nSum: {2}, Window: [{3},{4}], State: {5}\\n\".format(\n",
    "                iterCount, naiveIter, sum, windowLeft, windowRight, state, target))\n",
    "            \n",
    "        if target == sum:\n",
    "            return windowLeft, windowRight, iterCount\n",
    "\n",
    "        match state:\n",
    "            case States.LOOK_FORWARD:\n",
    "                if sum < target:\n",
    "                    windowRight += 1\n",
    "                elif sum > target:\n",
    "                    state = States.MOVE_FORWARD\n",
    "                    windowLeft += 1\n",
    "\n",
    "            case States.MOVE_FORWARD:\n",
    "                if sum > target:\n",
    "                    windowLeft += 1\n",
    "                elif sum < target:\n",
    "                    windowRight += 1\n",
    "                    memory = (windowLeft, windowRight)\n",
    "                    state = States.LOOK_BACK\n",
    "\n",
    "            case States.LOOK_BACK:\n",
    "                if sum < target:\n",
    "                    windowLeft -= 1\n",
    "                elif sum > target:\n",
    "                    windowLeft, windowRight = memory\n",
    "                    state = States.LOOK_FORWARD\n",
    "    return None,None,iterCount\n",
    "\n",
    "def generateTestSequence(length):\n",
    "    return np.random.randint(1,length+1, length)\n",
    "\n",
    "testSequence = [1, 8, 7, 2, 5, 4, 3, 9, 6, 5, 2]\n",
    "bouncingWindow(random.randint(1,20), generateTestSequence(10), True)\n"
   ]
  },
  {
   "cell_type": "code",
   "execution_count": 256,
   "metadata": {},
   "outputs": [],
   "source": [
    "\n",
    "scores = []\n",
    "for i in range(1,100):\n",
    "    xScores = []\n",
    "    for _ in range(200):\n",
    "        testSequence = generateTestSequence(i)\n",
    "        target = random.randint(1,i+1)\n",
    "        _,_,score = bouncingWindow(target, testSequence)\n",
    "        xScores.append(score)\n",
    "    scores.append(xScores)\n",
    "    \n",
    "scores = np.asarray(scores)\n",
    "\n"
   ]
  },
  {
   "cell_type": "code",
   "execution_count": 269,
   "metadata": {},
   "outputs": [
    {
     "data": {
      "image/png": "[encoded data removed]",
      "text/plain": [
       "<Figure size 432x288 with 1 Axes>"
      ]
     },
     "metadata": {
      "needs_background": "light"
     },
     "output_type": "display_data"
    },
    {
     "data": {
      "image/png": "[encoded data removed]",
      "text/plain": [
       "<Figure size 432x288 with 1 Axes>"
      ]
     },
     "metadata": {
      "needs_background": "light"
     },
     "output_type": "display_data"
    }
   ],
   "source": [
    "plt.plot(scores.max(1))\n",
    "plt.show()\n",
    "plt.boxplot(scores.transpose()[:,::5])\n",
    "plt.show()"
   ]
  }
 ],
 "metadata": {
  "kernelspec": {
   "display_name": "Python 3.10.4 64-bit",
   "language": "python",
   "name": "python3"
  },
  "language_info": {
   "codemirror_mode": {
    "name": "ipython",
    "version": 3
   },
   "file_extension": ".py",
   "mimetype": "text/x-python",
   "name": "python",
   "nbconvert_exporter": "python",
   "pygments_lexer": "ipython3",
   "version": "3.10.4"
  },
  "orig_nbformat": 4,
  "vscode": {
   "interpreter": {
    "hash": "916dbcbb3f70747c44a77c7bcd40155683ae19c65e1c03b4aa3499c5328201f1"
   }
  }
 },
 "nbformat": 4,
 "nbformat_minor": 2
}
