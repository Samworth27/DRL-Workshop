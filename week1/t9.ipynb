{
 "cells": [
  {
   "cell_type": "code",
   "execution_count": null,
   "metadata": {},
   "outputs": [],
   "source": [
    "import sys"
   ]
  },
  {
   "cell_type": "code",
   "execution_count": null,
   "metadata": {},
   "outputs": [],
   "source": []
  },
  {
   "cell_type": "code",
   "execution_count": null,
   "metadata": {},
   "outputs": [],
   "source": []
  },
  {
   "cell_type": "code",
   "execution_count": 121,
   "metadata": {},
   "outputs": [],
   "source": [
    "sequence = [1, 2, 3, 4, 5, 6, 7, 8, 9]\n",
    "\n",
    "def sumBetween(start, finish, data):\n",
    "    sum = 0\n",
    "    for i in range(start, finish):\n",
    "        sum += data[i]\n",
    "    return sum\n",
    "\n",
    "\n",
    "def sumWindow(start,size,data):\n",
    "  return sumBetween(start, start+size, data)\n",
    "  \n",
    "\n"
   ]
  },
  {
   "cell_type": "code",
   "execution_count": 124,
   "metadata": {},
   "outputs": [
    {
     "name": "stdout",
     "output_type": "stream",
     "text": [
      "3 6 12\n"
     ]
    }
   ],
   "source": [
    "\n",
    "\n",
    "def findWindow(value, data):\n",
    "    n = len(data)+1\n",
    "    leftBound = None\n",
    "    rightBound = None\n",
    "    for window in range(1, n):\n",
    "        leftBound = data[0] if leftBound is None else leftBound + window\n",
    "        rightBound = data[-1] if rightBound is None else rightBound + \\\n",
    "            (n-window)\n",
    "        if leftBound <= value <= rightBound:\n",
    "            if (value-leftBound) % window == 0:\n",
    "                return window, int((value-leftBound)/window)\n",
    "    return None\n",
    "\n",
    "window, start = findWindow(12, sequence)\n",
    "print(start+1, start+1+window, sumBetween(start, start+window, sequence))\n"
   ]
  }
 ],
 "metadata": {
  "kernelspec": {
   "display_name": "Python 3.10.4 64-bit",
   "language": "python",
   "name": "python3"
  },
  "language_info": {
   "codemirror_mode": {
    "name": "ipython",
    "version": 3
   },
   "file_extension": ".py",
   "mimetype": "text/x-python",
   "name": "python",
   "nbconvert_exporter": "python",
   "pygments_lexer": "ipython3",
   "version": "3.10.4"
  },
  "orig_nbformat": 4,
  "vscode": {
   "interpreter": {
    "hash": "916dbcbb3f70747c44a77c7bcd40155683ae19c65e1c03b4aa3499c5328201f1"
   }
  }
 },
 "nbformat": 4,
 "nbformat_minor": 2
}
