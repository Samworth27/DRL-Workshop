{
 "cells": [
  {
   "cell_type": "code",
   "execution_count": 1,
   "metadata": {},
   "outputs": [],
   "source": [
    "import sys"
   ]
  },
  {
   "cell_type": "code",
   "execution_count": 2,
   "metadata": {},
   "outputs": [
    {
     "name": "stdout",
     "output_type": "stream",
     "text": [
      "Defaulting to user installation because normal site-packages is not writeable\n",
      "Requirement already satisfied: numpy in /usr/lib/python3/dist-packages (1.21.5)\n",
      "Defaulting to user installation because normal site-packages is not writeable\n",
      "Collecting gym==0.25.1\n",
      "  Using cached gym-0.25.1-py3-none-any.whl\n",
      "Requirement already satisfied: cloudpickle>=1.2.0 in /home/sam/.local/lib/python3.10/site-packages (from gym==0.25.1) (2.1.0)\n",
      "Requirement already satisfied: gym-notices>=0.0.4 in /home/sam/.local/lib/python3.10/site-packages (from gym==0.25.1) (0.0.8)\n",
      "Requirement already satisfied: numpy>=1.18.0 in /usr/lib/python3/dist-packages (from gym==0.25.1) (1.21.5)\n",
      "Installing collected packages: gym\n",
      "  Attempting uninstall: gym\n",
      "    Found existing installation: gym 0.23.1\n",
      "    Uninstalling gym-0.23.1:\n",
      "      Successfully uninstalled gym-0.23.1\n",
      "Successfully installed gym-0.25.1\n",
      "Defaulting to user installation because normal site-packages is not writeable\n",
      "Requirement already satisfied: gym[toy_text]==0.25.1 in /home/sam/.local/lib/python3.10/site-packages (0.25.1)\n",
      "Requirement already satisfied: numpy>=1.18.0 in /usr/lib/python3/dist-packages (from gym[toy_text]==0.25.1) (1.21.5)\n",
      "Requirement already satisfied: cloudpickle>=1.2.0 in /home/sam/.local/lib/python3.10/site-packages (from gym[toy_text]==0.25.1) (2.1.0)\n",
      "Requirement already satisfied: gym-notices>=0.0.4 in /home/sam/.local/lib/python3.10/site-packages (from gym[toy_text]==0.25.1) (0.0.8)\n",
      "Requirement already satisfied: pygame==2.1.0 in /home/sam/.local/lib/python3.10/site-packages (from gym[toy_text]==0.25.1) (2.1.0)\n"
     ]
    }
   ],
   "source": [
    "!{sys.executable} -m pip install numpy\n",
    "!{sys.executable} -m pip install gym==0.25.1\n",
    "!{sys.executable} -m pip install gym[toy_text]==0.25.1"
   ]
  },
  {
   "cell_type": "code",
   "execution_count": 3,
   "metadata": {},
   "outputs": [],
   "source": [
    "import numpy as np\n",
    "import gym\n",
    "import matplotlib.pyplot as plt\n",
    "from mpl_toolkits.axes_grid1 import ImageGrid\n",
    "from IPython import display\n",
    "import time\n",
    "import math\n",
    "import random\n",
    "\n",
    "from timeit import default_timer as timer\n",
    "%matplotlib inline"
   ]
  },
  {
   "cell_type": "code",
   "execution_count": 12,
   "metadata": {},
   "outputs": [],
   "source": [
    "env = gym.make(\"FrozenLake-v1\", map_name=\"4x4\", is_slippery=False, new_step_api=True)\n",
    "\n",
    "max_episodes = 10000\n",
    "max_steps = 200\n",
    "learning_rate = 0.4\n",
    "discount = 0.9\n",
    "\n",
    "\n",
    "act_space = env.action_space\n",
    "obs_space = env.observation_space\n",
    "\n"
   ]
  },
  {
   "cell_type": "code",
   "execution_count": 13,
   "metadata": {},
   "outputs": [],
   "source": [
    "def calcPolicy(q_table):\n",
    "  policy = np.empty((4,4))\n",
    "  index = 0\n",
    "  for row in q_table:\n",
    "    if np.sum(row) == 0:\n",
    "      policy[int(index/4),int(index%4) ] = float('nan')\n",
    "    else:\n",
    "      policy[int(index/4),int(index%4) ] = np.argmax(row)\n",
    "    index += 1\n",
    "  return policy"
   ]
  },
  {
   "cell_type": "code",
   "execution_count": 14,
   "metadata": {},
   "outputs": [],
   "source": [
    "def runEpisode(env, q_table, learning_rate, discount, exploration_rate, max_steps=200):\n",
    "    state = env.reset()\n",
    "    episode_score = 0\n",
    "    for step in range(max_steps):\n",
    "\n",
    "        ## Decide an action\n",
    "        \n",
    "        exploration_rate_threshold = random.uniform(0, 1)\n",
    "        if exploration_rate_threshold > exploration_rate:\n",
    "            action = np.argmax(q_table[state,:])\n",
    "        else:\n",
    "            action = env.action_space.sample()\n",
    "\n",
    "        new_state, reward, terminated, _,_ = env.step(action)\n",
    "        \n",
    "        episode_score += reward\n",
    "        \n",
    "        # current_q_value = q_table[state, action]\n",
    "        \n",
    "        # optimal_future_value = np.max(q_table[new_state])\n",
    "        \n",
    "        # q_table[state,action] = current_q_value + learning_rate * (reward + discount * optimal_future_value - current_q_value) \n",
    "        q_table[state, action] = q_table[state, action] * (1 - learning_rate) + \\\n",
    "            learning_rate * (reward + discount * np.max(q_table[new_state, :]))\n",
    "            \n",
    "        state = new_state\n",
    "\n",
    "        if terminated:\n",
    "\n",
    "            break\n",
    "    return q_table,episode_score\n",
    "\n"
   ]
  },
  {
   "cell_type": "code",
   "execution_count": 15,
   "metadata": {},
   "outputs": [
    {
     "data": {
      "image/png": "[encoded data removed]",
      "text/plain": [
       "<Figure size 432x288 with 1 Axes>"
      ]
     },
     "metadata": {
      "needs_background": "light"
     },
     "output_type": "display_data"
    }
   ],
   "source": [
    "def explorationDecayRate(episodes,max,min,factor):\n",
    "  decay_rate = (max-min)/episodes\n",
    "  x = np.linspace(0,episodes,num=100)\n",
    "  y = min+(max-min)*np.exp(-decay_rate*factor*x)\n",
    "  plt.plot(x,y)\n",
    "\n",
    "for i in range(5,10):\n",
    "  explorationDecayRate(10000,1,0.01,i)"
   ]
  },
  {
   "cell_type": "code",
   "execution_count": 16,
   "metadata": {},
   "outputs": [],
   "source": [
    "\n",
    "def trainModel(env,episodes, learning_rate, discount_factor, exploration_factor_max, exploration_factor_min, exploration_factor_decay):\n",
    "  start = timer()\n",
    "  q_table = np.zeros([obs_space.n, act_space.n])\n",
    "  all_scores = []\n",
    "  exploration_factor = exploration_factor_max\n",
    "  exploration_decay_rate = (exploration_factor_max - exploration_factor_min) / episodes\n",
    "  end = timer()\n",
    "  print(end-start)\n",
    "  times = []\n",
    "  for episode in range(episodes):\n",
    "      start = timer()\n",
    "      q_table, episode_score = runEpisode(env, q_table, 0.4, 0.9, 0.5)\n",
    "      end = timer()\n",
    "      times.append(end-start)\n",
    "      \n",
    "      all_scores.append(episode_score)\n",
    "      \n",
    "      exploration_factor = (exploration_factor_max - exploration_factor_min)*np.exp(-exploration_decay_rate*exploration_factor_decay*episode)\n",
    "     \n",
    "  \n",
    "  print(np.mean(times))\n",
    "  score_per_thousand = np.split(np.array(all_scores), episodes/1000)\n",
    "  return q_table, score_per_thousand\n"
   ]
  },
  {
   "cell_type": "code",
   "execution_count": 21,
   "metadata": {},
   "outputs": [
    {
     "name": "stdout",
     "output_type": "stream",
     "text": [
      "8.520000847056508e-06\n",
      "0.00014579245731729317\n"
     ]
    }
   ],
   "source": [
    "q_table, score_per_thousand = trainModel(env,10000, 0.4, 0.9, 1,0.01, 5)\n"
   ]
  },
  {
   "cell_type": "code",
   "execution_count": 20,
   "metadata": {},
   "outputs": [
    {
     "name": "stdout",
     "output_type": "stream",
     "text": [
      "1000: 0.186\n"
     ]
    }
   ],
   "source": [
    "\n",
    "index = 1\n",
    "for bin in score_per_thousand:\n",
    "    print(\"{0}: {1}\".format(index*1000, np.sum(bin)/1000))\n",
    "    index += 1\n"
   ]
  },
  {
   "cell_type": "code",
   "execution_count": 581,
   "metadata": {},
   "outputs": [
    {
     "name": "stdout",
     "output_type": "stream",
     "text": [
      "[[ 1.  2.  1.  0.]\n",
      " [ 1. nan  1. nan]\n",
      " [ 2.  1.  1. nan]\n",
      " [nan  2.  2. nan]]\n",
      "[[0.531441 0.59049  0.59049  0.531441]\n",
      " [0.531441 0.       0.6561   0.59049 ]\n",
      " [0.59049  0.729    0.59049  0.6561  ]\n",
      " [0.6561   0.       0.59049  0.59049 ]\n",
      " [0.59049  0.6561   0.       0.531441]\n",
      " [0.       0.       0.       0.      ]\n",
      " [0.       0.81     0.       0.6561  ]\n",
      " [0.       0.       0.       0.      ]\n",
      " [0.6561   0.       0.729    0.59049 ]\n",
      " [0.6561   0.81     0.81     0.      ]\n",
      " [0.729    0.9      0.       0.729   ]\n",
      " [0.       0.       0.       0.      ]\n",
      " [0.       0.       0.       0.      ]\n",
      " [0.       0.81     0.9      0.729   ]\n",
      " [0.81     0.9      1.       0.81    ]\n",
      " [0.       0.       0.       0.      ]]\n"
     ]
    }
   ],
   "source": [
    "\n",
    "print(calcPolicy(q_table))\n",
    "print(q_table)\n",
    "\n"
   ]
  },
  {
   "cell_type": "code",
   "execution_count": 574,
   "metadata": {},
   "outputs": [
    {
     "data": {
      "image/png": "[encoded data removed]",
      "text/plain": [
       "<Figure size 288x288 with 32 Axes>"
      ]
     },
     "metadata": {
      "needs_background": "light"
     },
     "output_type": "display_data"
    }
   ],
   "source": [
    "\n",
    "\n",
    "fig = plt.figure(figsize=(4., 4.))\n",
    "grid = ImageGrid(fig, 111,  # similar to subplot(111)\n",
    "                 nrows_ncols=(4, 4),  # creates 2x2 grid of axes\n",
    "                 axes_pad=0,  # pad between axes in inch.\n",
    "                 )\n",
    "\n",
    "for ax, im in zip(grid, q_table.reshape(16,2,2)[:,:,0:]):\n",
    "    # Iterating over the grid returns the Axes.\n",
    "    ax.imshow(im)\n",
    "\n",
    "plt.show()"
   ]
  }
 ],
 "metadata": {
  "kernelspec": {
   "display_name": "Python 3.10.4 64-bit",
   "language": "python",
   "name": "python3"
  },
  "language_info": {
   "codemirror_mode": {
    "name": "ipython",
    "version": 3
   },
   "file_extension": ".py",
   "mimetype": "text/x-python",
   "name": "python",
   "nbconvert_exporter": "python",
   "pygments_lexer": "ipython3",
   "version": "3.10.4"
  },
  "orig_nbformat": 4,
  "vscode": {
   "interpreter": {
    "hash": "31f2aee4e71d21fbe5cf8b01ff0e069b9275f58929596ceb00d14d90e3e16cd6"
   }
  }
 },
 "nbformat": 4,
 "nbformat_minor": 2
}
