{
 "cells": [
  {
   "cell_type": "markdown",
   "metadata": {},
   "source": [
    "## Work Environment Setup"
   ]
  },
  {
   "cell_type": "code",
   "execution_count": 243,
   "metadata": {},
   "outputs": [],
   "source": [
    "import sys"
   ]
  },
  {
   "cell_type": "code",
   "execution_count": 244,
   "metadata": {},
   "outputs": [
    {
     "name": "stdout",
     "output_type": "stream",
     "text": [
      "Defaulting to user installation because normal site-packages is not writeable\n",
      "Requirement already satisfied: numpy in /usr/lib/python3/dist-packages (1.21.5)\n",
      "Defaulting to user installation because normal site-packages is not writeable\n",
      "Requirement already satisfied: gym==0.25.1 in /home/sam/.local/lib/python3.10/site-packages (0.25.1)\n",
      "Requirement already satisfied: gym-notices>=0.0.4 in /home/sam/.local/lib/python3.10/site-packages (from gym==0.25.1) (0.0.8)\n",
      "Requirement already satisfied: numpy>=1.18.0 in /usr/lib/python3/dist-packages (from gym==0.25.1) (1.21.5)\n",
      "Requirement already satisfied: cloudpickle>=1.2.0 in /home/sam/.local/lib/python3.10/site-packages (from gym==0.25.1) (2.1.0)\n",
      "Defaulting to user installation because normal site-packages is not writeable\n",
      "Requirement already satisfied: gym[toy_text]==0.25.1 in /home/sam/.local/lib/python3.10/site-packages (0.25.1)\n",
      "Requirement already satisfied: cloudpickle>=1.2.0 in /home/sam/.local/lib/python3.10/site-packages (from gym[toy_text]==0.25.1) (2.1.0)\n",
      "Requirement already satisfied: numpy>=1.18.0 in /usr/lib/python3/dist-packages (from gym[toy_text]==0.25.1) (1.21.5)\n",
      "Requirement already satisfied: gym-notices>=0.0.4 in /home/sam/.local/lib/python3.10/site-packages (from gym[toy_text]==0.25.1) (0.0.8)\n",
      "Requirement already satisfied: pygame==2.1.0 in /home/sam/.local/lib/python3.10/site-packages (from gym[toy_text]==0.25.1) (2.1.0)\n"
     ]
    }
   ],
   "source": [
    "!{sys.executable} -m pip install numpy\n",
    "!{sys.executable} -m pip install gym==0.25.1\n",
    "!{sys.executable} -m pip install gym[toy_text]==0.25.1"
   ]
  },
  {
   "cell_type": "code",
   "execution_count": 666,
   "metadata": {},
   "outputs": [],
   "source": [
    "import numpy as np\n",
    "import gym\n",
    "import matplotlib\n",
    "import matplotlib.pyplot as plt\n",
    "from IPython.display import display\n",
    "import ipywidgets as widgets\n",
    "\n",
    "\n",
    "from mpl_toolkits.axes_grid1 import ImageGrid\n",
    "import time\n",
    "import math\n",
    "import random\n",
    "\n",
    "from timeit import default_timer as timer\n",
    "%matplotlib inline"
   ]
  },
  {
   "cell_type": "markdown",
   "metadata": {},
   "source": [
    "## Functions"
   ]
  },
  {
   "cell_type": "markdown",
   "metadata": {},
   "source": [
    "### Misc Functions"
   ]
  },
  {
   "cell_type": "code",
   "execution_count": 534,
   "metadata": {},
   "outputs": [],
   "source": [
    "def movingAverage(data, window):\n",
    "  cumsum = np.cumsum(np.insert(data,0,0))\n",
    "  ma = (cumsum[window:] - cumsum[:-window]) / window\n",
    "  return ma"
   ]
  },
  {
   "cell_type": "code",
   "execution_count": 247,
   "metadata": {},
   "outputs": [],
   "source": [
    "def calcPolicy(q_table):\n",
    "  policy = np.empty((4,4))\n",
    "  index = 0\n",
    "  for row in q_table:\n",
    "    if np.sum(row) == 0:\n",
    "      policy[int(index/4),int(index%4) ] = float('nan')\n",
    "    else:\n",
    "      policy[int(index/4),int(index%4) ] = np.argmax(row)\n",
    "    index += 1\n",
    "  return policy"
   ]
  },
  {
   "cell_type": "code",
   "execution_count": 248,
   "metadata": {},
   "outputs": [
    {
     "data": {
      "image/png": "[encoded data removed]",
      "text/plain": [
       "<Figure size 432x288 with 1 Axes>"
      ]
     },
     "metadata": {
      "needs_background": "light"
     },
     "output_type": "display_data"
    }
   ],
   "source": [
    "def explorationDecayRate(episodes,max,min,factor):\n",
    "  decay_rate = (max-min)/episodes\n",
    "  x = np.linspace(0,episodes,num=100)\n",
    "  y = min+(max-min)*np.exp(-decay_rate*factor*x)\n",
    "  plt.plot(x,y)\n",
    "\n",
    "for i in range(5,10):\n",
    "  explorationDecayRate(10000,1,0.01,i)"
   ]
  },
  {
   "cell_type": "markdown",
   "metadata": {},
   "source": [
    "### Training and Testing Functions"
   ]
  },
  {
   "cell_type": "markdown",
   "metadata": {},
   "source": [
    "#### Training Episode Function"
   ]
  },
  {
   "cell_type": "code",
   "execution_count": 283,
   "metadata": {},
   "outputs": [],
   "source": [
    "def runEpisode(env, q_table, learning_rate, discount, epsilon,  max_steps=200):\n",
    "    state = env.reset()\n",
    "    episode_score = 0\n",
    "    for step in range(max_steps):\n",
    "\n",
    "        # Decide an action\n",
    "\n",
    "        if random.uniform(0, 1) > epsilon:\n",
    "            action = np.argmax(q_table[state])\n",
    "        else:\n",
    "            action = env.action_space.sample()\n",
    "\n",
    "        new_state, reward, terminated, _, _ = env.step(action)\n",
    "\n",
    "        episode_score += reward\n",
    "\n",
    "        current_q = q_table[state, action]\n",
    "        max_future_q = np.max(q_table[new_state])\n",
    "\n",
    "        q_table[state, action] = (\n",
    "            1 - learning_rate) * current_q + learning_rate * (reward + discount * max_future_q)\n",
    "\n",
    "        state = new_state\n",
    "\n",
    "        if terminated:\n",
    "            break\n",
    "\n",
    "    return q_table, episode_score\n"
   ]
  },
  {
   "cell_type": "markdown",
   "metadata": {},
   "source": [
    "#### Train Model"
   ]
  },
  {
   "cell_type": "code",
   "execution_count": 710,
   "metadata": {},
   "outputs": [],
   "source": [
    "class HyperParams:\n",
    "    def __init__(self, learning_rate, discount, epsilon_decay, epsilon_max = float(1), epsilon_min = 0.05, epsilon_delay = 0):\n",
    "        self.learning_rate = learning_rate\n",
    "        self.discount = discount\n",
    "        self.epsilon_decay = epsilon_decay\n",
    "        self.epsilon_max = epsilon_max\n",
    "        self.epsilon_min = epsilon_min\n",
    "        self.epsilon_delay = epsilon_delay\n",
    "\n",
    "def trainModel(env, episodes, hyper_params, start_episode=0, prev_q_table = None):\n",
    "    hp = hyper_params\n",
    "    q_table = np.zeros([env.observation_space.n, env.action_space.n]) if prev_q_table is None else prev_q_table\n",
    "    \n",
    "    all_rewards = []\n",
    "    epsilon = hp.epsilon_max\n",
    "    previous_episode_score = -float('inf')\n",
    "\n",
    "    for episode in range(start_episode, start_episode + episodes):\n",
    "\n",
    "        q_table, episode_score = runEpisode(\n",
    "            env, q_table, hp.learning_rate, hp.discount, epsilon)\n",
    "\n",
    "        all_rewards.append(episode_score)\n",
    "        if epsilon > hp.epsilon_min and episode > hp.epsilon_delay and episode_score > previous_episode_score:\n",
    "            epsilon = hp.epsilon_min + \\\n",
    "                (hp.epsilon_max - hp.epsilon_min) * \\\n",
    "                np.exp(-hp.epsilon_decay * (episode-hp.epsilon_delay))\n",
    "\n",
    "    return q_table, all_rewards\n"
   ]
  },
  {
   "cell_type": "markdown",
   "metadata": {},
   "source": [
    "#### Test Model"
   ]
  },
  {
   "cell_type": "code",
   "execution_count": 373,
   "metadata": {},
   "outputs": [],
   "source": [
    "def testModel(env, q_table, max_steps = 200):\n",
    "  test_reward = 0\n",
    "  state = env.reset()\n",
    "  for step in range(max_steps):\n",
    "    action = np.argmax(q_table[state])\n",
    "    state, reward, terminated, _, _ = env.step(action)\n",
    "    test_reward += reward\n",
    "    if terminated:\n",
    "      break\n",
    "    \n",
    "  return test_reward\n",
    "  \n",
    "def runTests(env, q_table, num_tests):\n",
    "  all_scores = []\n",
    "  \n",
    "  for i in range(num_tests):\n",
    "    all_scores.append(testModel(env, q_table))\n",
    "  \n",
    "  average_score = np.mean(all_scores)\n",
    "  return average_score\n",
    "    "
   ]
  },
  {
   "cell_type": "markdown",
   "metadata": {},
   "source": [
    "#### Train and Test"
   ]
  },
  {
   "cell_type": "code",
   "execution_count": 412,
   "metadata": {},
   "outputs": [],
   "source": [
    "def trainAndTest(env, episodes, test_interval, test_iterations, hyper_params):\n",
    "  q_table = None\n",
    "  current_episode = 0\n",
    "  \n",
    "  episode_array = [0]\n",
    "  score_array = [0]\n",
    "  rewards_array = []\n",
    "  \n",
    "  while current_episode < episodes:\n",
    "    q_table, rewards = trainModel(env, test_interval, hyper_params, current_episode, q_table )\n",
    "    current_episode += test_interval\n",
    "    \n",
    "    \n",
    "    episode_array.append(current_episode)\n",
    "    score_array.append(runTests(env, q_table, test_iterations))\n",
    "    rewards_array.append(rewards)\n",
    "    \n",
    "    \n",
    "  return  q_table, episode_array, score_array, rewards_array"
   ]
  },
  {
   "cell_type": "markdown",
   "metadata": {},
   "source": [
    "### Experiment Function\n"
   ]
  },
  {
   "cell_type": "code",
   "execution_count": 711,
   "metadata": {},
   "outputs": [],
   "source": [
    "def runExperiment(env, parameter, experiment_space, training_event_per_interval, number_episodes, train_test_interval_size, test_iterations):\n",
    "\n",
    "    \n",
    "\n",
    "    hyper_params = HyperParams(0.8, 0.9, 0.0001)\n",
    "\n",
    "    # setup progress bar\n",
    "    learning_rate_scores = []\n",
    "    test_progress = widgets.FloatProgress(\n",
    "        value=0,\n",
    "        min=0,\n",
    "        max=len(experiment_space),\n",
    "        description='experiment value:',\n",
    "        bar_style='info',\n",
    "        style={'bar_color': 'red'},\n",
    "        orientation='horizontal'\n",
    "    )\n",
    "    event_progress = widgets.FloatProgress(\n",
    "        value=0,\n",
    "        min=0,\n",
    "        max=training_event_per_interval,\n",
    "        description='training event:',\n",
    "        bar_style='info',\n",
    "        style={'bar_color': 'red'},\n",
    "        orientation='horizontal'\n",
    "    )\n",
    "    display(test_progress)\n",
    "    display(event_progress)\n",
    "\n",
    "    # run experiment\n",
    "\n",
    "    experiment_results = []\n",
    "\n",
    "    for experiment in range(len(experiment_space)):\n",
    "        experiment_value = experiment_space[experiment]\n",
    "        setattr(hyper_params, parameter, experiment_value)\n",
    "        \n",
    "        test_progress.value = experiment\n",
    "\n",
    "        test_score = []\n",
    "\n",
    "        x_axis = []\n",
    "        for event in range(training_event_per_interval):\n",
    "\n",
    "            _, x_axis, score, _ = trainAndTest(\n",
    "                env, number_episodes, train_test_interval_size, test_iterations, hyper_params)\n",
    "\n",
    "            test_score.append(score)\n",
    "\n",
    "            event_progress.value = event+1\n",
    "\n",
    "        average_test_score = np.mean(test_score, 0)\n",
    "\n",
    "        experiment_results.append(average_test_score)\n",
    "\n",
    "        \n",
    "\n",
    "    event_progress.close()\n",
    "    test_progress.close()\n",
    "    return experiment_results\n"
   ]
  },
  {
   "cell_type": "markdown",
   "metadata": {},
   "source": [
    "### Result Plotting Functions"
   ]
  },
  {
   "cell_type": "code",
   "execution_count": null,
   "metadata": {},
   "outputs": [],
   "source": [
    "def plotResults(parameter, experiment_space, experiment_results, number_episodes, train_test_interval_size, x_axis_scale = 'linear'):\n",
    "    experiment_intervals = math.ceil(\n",
    "        number_episodes / train_test_interval_size)\n",
    "\n",
    "    range_start_slider = widgets.IntSlider(\n",
    "        value=0,\n",
    "        min=0,\n",
    "        max=experiment_intervals,\n",
    "        step=1,\n",
    "        description='Start:',\n",
    "        disabled=False,\n",
    "        continuous_update=True,\n",
    "        orientation='horizontal',\n",
    "        readout=False\n",
    "    )\n",
    "    range_end_slider = widgets.IntSlider(\n",
    "        value=experiment_intervals,\n",
    "        min=0,\n",
    "        max=experiment_intervals,\n",
    "        step=1,\n",
    "        description='End:',\n",
    "        disabled=False,\n",
    "        continuous_update=True,\n",
    "        orientation='horizontal',\n",
    "        readout=False\n",
    "    )\n",
    "    slice_slider = widgets.IntSlider(\n",
    "        value=0,\n",
    "        min=0,\n",
    "        max=experiment_intervals,\n",
    "        step=1,\n",
    "        description='Episode:',\n",
    "        disabled=False,\n",
    "        continuous_update=True,\n",
    "        orientation='horizontal',\n",
    "        readout=False,\n",
    "        readout_format='d'\n",
    "    )\n",
    "\n",
    "    def figureRange(x, y):\n",
    "        for test in range(len(experiment_space)):\n",
    "            plt.plot(np.arange(x*train_test_interval_size, y*train_test_interval_size, train_test_interval_size),\n",
    "                     np.asarray(experiment_results)[test][x:y], label=experiment_space[test])\n",
    "        plt.legend(title=\"Training Event\", bbox_to_anchor=(1, 1))\n",
    "        plt.title(parameter)\n",
    "        plt.show()\n",
    "\n",
    "        range_end_slider.min = x+1\n",
    "        range_start_slider.max = y-1\n",
    "\n",
    "    \n",
    "\n",
    "    def plotSlice(x):\n",
    "        slice = np.asarray(experiment_results)[:, x]\n",
    "        figure, axes = plt.subplots()\n",
    "        axes.plot(experiment_space[:], slice)\n",
    "        axes.set_xscale(x_axis_scale)\n",
    "        axes.get_xaxis().set_major_formatter(matplotlib.ticker.ScalarFormatter())\n",
    "        plt.title(\"{0} vs Score at Episode {1}\".format(parameter, x*train_test_interval_size))\n",
    "        plt.xlabel(\"{0}\".format(parameter))\n",
    "\n",
    "        plt.ylabel(\"Score at episode\")\n",
    "        plt.show()\n",
    "\n",
    "    widgets.interact(figureRange, x=range_start_slider, y=range_end_slider)\n",
    "    widgets.interact(plotSlice, x=slice_slider)  \n",
    "\n",
    "    figure, axes = plt.subplots()\n",
    "    axes.plot(experiment_space[:], experiment_results)\n",
    "    axes.set_xscale(x_axis_scale)\n",
    "    axes.get_xaxis().set_major_formatter(matplotlib.ticker.ScalarFormatter())\n",
    "\n",
    "    plt.title(\"{0} vs Score at episode (All)\".format(parameter))\n",
    "    plt.xlabel(\"{0}\".format(parameter))\n",
    "    plt.ylabel(\"Score at episode\")\n",
    "    plt.show()\n"
   ]
  },
  {
   "cell_type": "markdown",
   "metadata": {},
   "source": [
    "## Testing The Functions"
   ]
  },
  {
   "cell_type": "code",
   "execution_count": 458,
   "metadata": {},
   "outputs": [
    {
     "data": {
      "image/png": "[encoded data removed]",
      "text/plain": [
       "<Figure size 432x288 with 2 Axes>"
      ]
     },
     "metadata": {
      "needs_background": "light"
     },
     "output_type": "display_data"
    }
   ],
   "source": [
    "env = gym.make(\"FrozenLake-v1\", map_name=\"4x4\",\n",
    "               is_slippery=True, new_step_api=True)\n",
    "\n",
    "hyper_params = HyperParams(0.1, 0.99, 0.001)\n",
    "\n",
    "q_table, x_axis, y_axis, rewards = trainAndTest(env, 5000, 100, 100, hyper_params)\n",
    "\n",
    "\n",
    "fig, ax = plt.subplots()\n",
    "twin = ax.twinx()\n",
    "cumulative_rewards = np.cumsum(rewards)\n",
    "\n",
    "ax.plot(x_axis, y_axis)\n",
    "twin.plot(cumulative_rewards)\n",
    "\n",
    "\n",
    "\n",
    "plt.show()\n"
   ]
  },
  {
   "cell_type": "code",
   "execution_count": null,
   "metadata": {},
   "outputs": [
    {
     "data": {
      "image/png": "[encoded data removed]",
      "text/plain": [
       "<Figure size 288x288 with 32 Axes>"
      ]
     },
     "metadata": {},
     "output_type": "display_data"
    }
   ],
   "source": [
    "\n",
    "\n",
    "fig = plt.figure(figsize=(4., 4.))\n",
    "grid = ImageGrid(fig, 111,  # similar to subplot(111)\n",
    "                 nrows_ncols=(4, 4),  # creates 2x2 grid of axes\n",
    "                 axes_pad=0,  # pad between axes in inch.\n",
    "                 )\n",
    "\n",
    "for ax, im in zip(grid, q_table.reshape(16,2,2)[:,:,0:]):\n",
    "    # Iterating over the grid returns the Axes.\n",
    "    ax.imshow(im)\n",
    "\n",
    "plt.show()"
   ]
  },
  {
   "cell_type": "markdown",
   "metadata": {},
   "source": [
    "## Experiments"
   ]
  },
  {
   "cell_type": "markdown",
   "metadata": {},
   "source": [
    "### Learning Rate Experiment"
   ]
  },
  {
   "cell_type": "code",
   "execution_count": 596,
   "metadata": {},
   "outputs": [
    {
     "data": {
      "application/vnd.jupyter.widget-view+json": {
       "model_id": "d4063203c0bb466d9151af77d827075f",
       "version_major": 2,
       "version_minor": 0
      },
      "text/plain": [
       "FloatProgress(value=0.0, bar_style='info', description='experiment value:', max=1.0, style=ProgressStyle(bar_c…"
      ]
     },
     "metadata": {},
     "output_type": "display_data"
    },
    {
     "data": {
      "application/vnd.jupyter.widget-view+json": {
       "model_id": "42017078835743d2b95c2eefbd983f97",
       "version_major": 2,
       "version_minor": 0
      },
      "text/plain": [
       "FloatProgress(value=0.0, bar_style='info', description='training event:', max=5.0, style=ProgressStyle(bar_col…"
      ]
     },
     "metadata": {},
     "output_type": "display_data"
    }
   ],
   "source": [
    "# Run Experiment\n",
    "env = gym.make(\"FrozenLake-v1\", map_name=\"4x4\",\n",
    "            is_slippery=False, new_step_api=True)\n",
    "\n",
    "experiment_intervals = 5\n",
    "training_event_per_interval = 5\n",
    "\n",
    "number_episodes = 1000\n",
    "train_test_interval_size = 100\n",
    "test_iterations = 20\n",
    "\n",
    "# hyper parameters\n",
    "\n",
    "parameter = \"learning_rate\"\n",
    "max_experiment_value = 1\n",
    "min_experiment_value = 0\n",
    "learning_rate_experiment_space = np.linspace(\n",
    "        min_experiment_value, max_experiment_value, experiment_intervals)\n",
    "\n",
    "learning_rate_results = runExperiment(env, parameter, learning_rate_experiment_space, training_event_per_interval, number_episodes, train_test_interval_size, test_iterations)\n"
   ]
  },
  {
   "cell_type": "code",
   "execution_count": 696,
   "metadata": {},
   "outputs": [
    {
     "data": {
      "application/vnd.jupyter.widget-view+json": {
       "model_id": "3c907bedad464bd586386fc785135e9a",
       "version_major": 2,
       "version_minor": 0
      },
      "text/plain": [
       "interactive(children=(IntSlider(value=0, description='Start:', max=10, readout=False), IntSlider(value=10, des…"
      ]
     },
     "metadata": {},
     "output_type": "display_data"
    },
    {
     "data": {
      "application/vnd.jupyter.widget-view+json": {
       "model_id": "2ba32352ac3e436eb83cdd82b4c5655a",
       "version_major": 2,
       "version_minor": 0
      },
      "text/plain": [
       "interactive(children=(IntSlider(value=0, description='Episode:', max=10, readout=False), Output()), _dom_class…"
      ]
     },
     "metadata": {},
     "output_type": "display_data"
    },
    {
     "data": {
      "image/png": "[encoded data removed]",
      "text/plain": [
       "<Figure size 432x288 with 1 Axes>"
      ]
     },
     "metadata": {
      "needs_background": "light"
     },
     "output_type": "display_data"
    }
   ],
   "source": [
    "# Plot Results\n",
    "plotResults(\"learning_rate\", learning_rate_experiment_space,learning_rate_results, number_episodes, train_test_interval_size )"
   ]
  },
  {
   "cell_type": "markdown",
   "metadata": {},
   "source": [
    "### Discount Experiment"
   ]
  },
  {
   "cell_type": "code",
   "execution_count": 690,
   "metadata": {},
   "outputs": [
    {
     "data": {
      "application/vnd.jupyter.widget-view+json": {
       "model_id": "56989ab526c549889a64857043e3ea62",
       "version_major": 2,
       "version_minor": 0
      },
      "text/plain": [
       "FloatProgress(value=0.0, bar_style='info', description='experiment value:', max=12.0, style=ProgressStyle(bar_…"
      ]
     },
     "metadata": {},
     "output_type": "display_data"
    },
    {
     "data": {
      "application/vnd.jupyter.widget-view+json": {
       "model_id": "febebeed25e344b68f64645c3f01ab9f",
       "version_major": 2,
       "version_minor": 0
      },
      "text/plain": [
       "FloatProgress(value=0.0, bar_style='info', description='training event:', max=20.0, style=ProgressStyle(bar_co…"
      ]
     },
     "metadata": {},
     "output_type": "display_data"
    }
   ],
   "source": [
    "# Run Experiment\n",
    "\n",
    "env = gym.make(\"FrozenLake-v1\", map_name=\"4x4\",\n",
    "            is_slippery=False, new_step_api=True)\n",
    "\n",
    "experiment_intervals = 10\n",
    "training_event_per_interval = 20\n",
    "\n",
    "number_episodes = 1000\n",
    "train_test_interval_size = 100\n",
    "test_iterations = 10\n",
    "\n",
    "# hyper parameters\n",
    "\n",
    "parameter = \"discount\"\n",
    "max_experiment_value = math.log(0.99)\n",
    "min_experiment_value = math.log(0.9)\n",
    "# discount_experiment_space = np.linspace(\n",
    "#         min_experiment_value, max_experiment_value, num = experiment_intervals)\n",
    "discount_experiment_space = [0.1,0.2,0.3,0.4,0.5,0.6,0.7,0.8,0.9,0.99,0.999,0.9999]\n",
    "\n",
    "discount_results = runExperiment(env, parameter, discount_experiment_space, training_event_per_interval, number_episodes, train_test_interval_size, test_iterations)\n"
   ]
  },
  {
   "cell_type": "code",
   "execution_count": 695,
   "metadata": {},
   "outputs": [
    {
     "data": {
      "application/vnd.jupyter.widget-view+json": {
       "model_id": "cf7bfda8e98a487596491ed57dd6b043",
       "version_major": 2,
       "version_minor": 0
      },
      "text/plain": [
       "interactive(children=(IntSlider(value=0, description='Start:', max=10, readout=False), IntSlider(value=10, des…"
      ]
     },
     "metadata": {},
     "output_type": "display_data"
    },
    {
     "data": {
      "application/vnd.jupyter.widget-view+json": {
       "model_id": "563ffa8c2b7c463b8250992e36790ae1",
       "version_major": 2,
       "version_minor": 0
      },
      "text/plain": [
       "interactive(children=(IntSlider(value=0, description='Episode:', max=10, readout=False), Output()), _dom_class…"
      ]
     },
     "metadata": {},
     "output_type": "display_data"
    },
    {
     "data": {
      "image/png": "[encoded data removed]",
      "text/plain": [
       "<Figure size 432x288 with 1 Axes>"
      ]
     },
     "metadata": {
      "needs_background": "light"
     },
     "output_type": "display_data"
    }
   ],
   "source": [
    "# plot results\n",
    "plotResults(\"discount\", discount_experiment_space,discount_results, number_episodes, train_test_interval_size, x_axis_scale = 'logit' )"
   ]
  },
  {
   "cell_type": "markdown",
   "metadata": {},
   "source": [
    "### Exploration Experiment"
   ]
  },
  {
   "cell_type": "code",
   "execution_count": 714,
   "metadata": {},
   "outputs": [
    {
     "data": {
      "application/vnd.jupyter.widget-view+json": {
       "model_id": "d4484e04b21a45b8a95508e6841fb122",
       "version_major": 2,
       "version_minor": 0
      },
      "text/plain": [
       "FloatProgress(value=0.0, bar_style='info', description='experiment value:', max=8.0, style=ProgressStyle(bar_c…"
      ]
     },
     "metadata": {},
     "output_type": "display_data"
    },
    {
     "data": {
      "application/vnd.jupyter.widget-view+json": {
       "model_id": "ce4bc0e500574972aed70d9165a405e4",
       "version_major": 2,
       "version_minor": 0
      },
      "text/plain": [
       "FloatProgress(value=0.0, bar_style='info', description='training event:', max=10.0, style=ProgressStyle(bar_co…"
      ]
     },
     "metadata": {},
     "output_type": "display_data"
    }
   ],
   "source": [
    "# Run Experiment\n",
    "\n",
    "env = gym.make(\"FrozenLake-v1\", map_name=\"4x4\",\n",
    "            is_slippery=False, new_step_api=True)\n",
    "\n",
    "experiment_intervals = 10\n",
    "training_event_per_interval = 10\n",
    "\n",
    "number_episodes = 1000\n",
    "train_test_interval_size = 100\n",
    "test_iterations = 10\n",
    "\n",
    "# hyper parameters\n",
    "\n",
    "parameter = \"epsilon_decay\"\n",
    "max_experiment_value = math.log(0.00001)\n",
    "min_experiment_value = math.log(0.1)\n",
    "# epsilon_experiment_space = np.linspace(\n",
    "#         min_experiment_value, max_experiment_value, num = experiment_intervals)\n",
    "epsilon_experiment_space = [0.8,0.4,0.2,0.1,0.05,0.01,0.001,0.0001]\n",
    "\n",
    "epsilon_results = runExperiment(env, parameter, epsilon_experiment_space, training_event_per_interval, number_episodes, train_test_interval_size, test_iterations)\n"
   ]
  },
  {
   "cell_type": "code",
   "execution_count": 715,
   "metadata": {},
   "outputs": [
    {
     "data": {
      "application/vnd.jupyter.widget-view+json": {
       "model_id": "8a746f05c21d4710aafd360d592607c4",
       "version_major": 2,
       "version_minor": 0
      },
      "text/plain": [
       "interactive(children=(IntSlider(value=0, description='Start:', max=10, readout=False), IntSlider(value=10, des…"
      ]
     },
     "metadata": {},
     "output_type": "display_data"
    },
    {
     "data": {
      "application/vnd.jupyter.widget-view+json": {
       "model_id": "b78eea30b9544493855dc346d66d4c0d",
       "version_major": 2,
       "version_minor": 0
      },
      "text/plain": [
       "interactive(children=(IntSlider(value=0, description='Episode:', max=10, readout=False), Output()), _dom_class…"
      ]
     },
     "metadata": {},
     "output_type": "display_data"
    },
    {
     "data": {
      "image/png": "[encoded data removed]",
      "text/plain": [
       "<Figure size 432x288 with 1 Axes>"
      ]
     },
     "metadata": {
      "needs_background": "light"
     },
     "output_type": "display_data"
    }
   ],
   "source": [
    "# plot results\n",
    "plotResults(parameter, epsilon_experiment_space,epsilon_results, number_episodes, train_test_interval_size, x_axis_scale = 'logit' )"
   ]
  }
 ],
 "metadata": {
  "kernelspec": {
   "display_name": "Python 3.10.4 64-bit",
   "language": "python",
   "name": "python3"
  },
  "language_info": {
   "codemirror_mode": {
    "name": "ipython",
    "version": 3
   },
   "file_extension": ".py",
   "mimetype": "text/x-python",
   "name": "python",
   "nbconvert_exporter": "python",
   "pygments_lexer": "ipython3",
   "version": "3.10.4"
  },
  "orig_nbformat": 4,
  "vscode": {
   "interpreter": {
    "hash": "31f2aee4e71d21fbe5cf8b01ff0e069b9275f58929596ceb00d14d90e3e16cd6"
   }
  }
 },
 "nbformat": 4,
 "nbformat_minor": 2
}
