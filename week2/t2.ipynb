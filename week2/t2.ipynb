{
 "cells": [
  {
   "cell_type": "code",
   "execution_count": 1,
   "metadata": {},
   "outputs": [],
   "source": [
    "import sys"
   ]
  },
  {
   "cell_type": "code",
   "execution_count": 2,
   "metadata": {},
   "outputs": [
    {
     "name": "stdout",
     "output_type": "stream",
     "text": [
      "Defaulting to user installation because normal site-packages is not writeable\n",
      "Requirement already satisfied: numpy in /usr/lib/python3/dist-packages (1.21.5)\n",
      "Defaulting to user installation because normal site-packages is not writeable\n",
      "Requirement already satisfied: gym==0.25.1 in /home/sam/.local/lib/python3.10/site-packages (0.25.1)\n",
      "Requirement already satisfied: gym-notices>=0.0.4 in /home/sam/.local/lib/python3.10/site-packages (from gym==0.25.1) (0.0.8)\n",
      "Requirement already satisfied: cloudpickle>=1.2.0 in /home/sam/.local/lib/python3.10/site-packages (from gym==0.25.1) (2.1.0)\n",
      "Requirement already satisfied: numpy>=1.18.0 in /usr/lib/python3/dist-packages (from gym==0.25.1) (1.21.5)\n",
      "Defaulting to user installation because normal site-packages is not writeable\n",
      "Requirement already satisfied: gym[classic_control]==0.25.1 in /home/sam/.local/lib/python3.10/site-packages (0.25.1)\n",
      "Requirement already satisfied: numpy>=1.18.0 in /usr/lib/python3/dist-packages (from gym[classic_control]==0.25.1) (1.21.5)\n",
      "Requirement already satisfied: gym-notices>=0.0.4 in /home/sam/.local/lib/python3.10/site-packages (from gym[classic_control]==0.25.1) (0.0.8)\n",
      "Requirement already satisfied: cloudpickle>=1.2.0 in /home/sam/.local/lib/python3.10/site-packages (from gym[classic_control]==0.25.1) (2.1.0)\n",
      "Requirement already satisfied: pygame==2.1.0 in /home/sam/.local/lib/python3.10/site-packages (from gym[classic_control]==0.25.1) (2.1.0)\n"
     ]
    }
   ],
   "source": [
    "!{sys.executable} -m pip install numpy\n",
    "!{sys.executable} -m pip install gym==0.25.1\n",
    "!{sys.executable} -m pip install gym[classic_control]==0.25.1"
   ]
  },
  {
   "cell_type": "code",
   "execution_count": 3,
   "metadata": {},
   "outputs": [],
   "source": [
    "import numpy as np\n",
    "import gym\n",
    "import matplotlib\n",
    "import matplotlib.pyplot as plt\n",
    "from mpl_toolkits.axes_grid1 import ImageGrid\n",
    "from IPython.display import display\n",
    "import ipywidgets as widgets\n",
    "import time\n",
    "import math\n",
    "import random\n",
    "\n",
    "from timeit import default_timer as timer\n",
    "%matplotlib inline"
   ]
  },
  {
   "cell_type": "code",
   "execution_count": 4,
   "metadata": {},
   "outputs": [],
   "source": [
    "env = gym.make(\"CartPole-v1\",new_step_api=True)"
   ]
  },
  {
   "cell_type": "code",
   "execution_count": 5,
   "metadata": {},
   "outputs": [],
   "source": [
    "class ObservationSpace:\n",
    "  def __init__(self, observation_limits, observation_windows):\n",
    "    self.window_size = np.asarray(observation_windows)\n",
    "    self.shape = ((2 * np.asarray(observation_limits))/self.window_size).astype(int)\n",
    "  \n",
    "  def discreteState(self,state):\n",
    "    return tuple((state/self.window_size + self.shape/2).astype(int))"
   ]
  },
  {
   "cell_type": "markdown",
   "metadata": {},
   "source": [
    "## Functions"
   ]
  },
  {
   "cell_type": "markdown",
   "metadata": {},
   "source": [
    "### Training and Testing Functions"
   ]
  },
  {
   "cell_type": "markdown",
   "metadata": {},
   "source": [
    "#### Training Episode Function"
   ]
  },
  {
   "cell_type": "code",
   "execution_count": 132,
   "metadata": {},
   "outputs": [],
   "source": [
    "def runEpisode(env, observation_space, q_table, learning_rate, discount, epsilon,  max_steps=500):\n",
    "    state = observation_space.discreteState(env.reset())\n",
    "    episode_score = 0\n",
    "    for step in range(max_steps):\n",
    "\n",
    "        # Decide an action\n",
    "\n",
    "        if random.uniform(0, 1) > epsilon:\n",
    "            action = np.argmax(q_table[state])\n",
    "        else:\n",
    "            action = env.action_space.sample()\n",
    "\n",
    "        observation, reward, terminated, _, _ = env.step(action)\n",
    "\n",
    "        new_state = observation_space.discreteState(observation)\n",
    "\n",
    "        episode_score += reward\n",
    "\n",
    "        current_q = q_table[state][action]\n",
    "        max_future_q = np.max(q_table[new_state])\n",
    "\n",
    "        q_table[state][action] = (\n",
    "            1 - learning_rate) * current_q + learning_rate * (reward + discount * max_future_q)\n",
    "\n",
    "        state = new_state\n",
    "\n",
    "        if terminated:\n",
    "            break\n",
    "\n",
    "    return q_table, episode_score\n"
   ]
  },
  {
   "cell_type": "markdown",
   "metadata": {},
   "source": [
    "#### Train Model"
   ]
  },
  {
   "cell_type": "code",
   "execution_count": 131,
   "metadata": {},
   "outputs": [],
   "source": [
    "class HyperParams:\n",
    "    def __init__(self, learning_rate, discount, epsilon_decay, epsilon_max = float(1), epsilon_min = 0.05, epsilon_delay = 0):\n",
    "        self.learning_rate = learning_rate\n",
    "        self.discount = discount\n",
    "        self.epsilon_decay = epsilon_decay\n",
    "        self.epsilon_max = epsilon_max\n",
    "        self.epsilon_min = epsilon_min\n",
    "        self.epsilon_delay = epsilon_delay\n",
    "\n",
    "def trainModel(env, observation_space, episodes, hyper_params, start_episode=0, prev_q_table = None):\n",
    "    hp = hyper_params\n",
    "    q_table = q_table = np.random.uniform(-1,1,list(observation_space.shape)+ [env.action_space.n]) if prev_q_table is None else prev_q_table\n",
    "    # q_table = q_table = np.empty(list(observation_space.shape)+ [env.action_space.n]) if prev_q_table is None else prev_q_table\n",
    "    \n",
    "    all_rewards = []\n",
    "    epsilon = hp.epsilon_max\n",
    "    previous_episode_score = -float('inf')\n",
    "\n",
    "    for episode in range(start_episode, start_episode + episodes):\n",
    "\n",
    "        q_table, episode_score = runEpisode(\n",
    "            env, observation_space, q_table, hp.learning_rate, hp.discount, epsilon)\n",
    "\n",
    "        all_rewards.append(episode_score)\n",
    "        if epsilon > hp.epsilon_min and episode > hp.epsilon_delay and episode_score > previous_episode_score:\n",
    "            epsilon = hp.epsilon_min + \\\n",
    "                (hp.epsilon_max - hp.epsilon_min) * \\\n",
    "                np.exp(-hp.epsilon_decay * (episode-hp.epsilon_delay))\n",
    "\n",
    "    return q_table, all_rewards\n"
   ]
  },
  {
   "cell_type": "markdown",
   "metadata": {},
   "source": [
    "#### Test Model"
   ]
  },
  {
   "cell_type": "code",
   "execution_count": 21,
   "metadata": {},
   "outputs": [],
   "source": [
    "def testModel(env, observation_space, q_table, render=False, max_steps = 500):\n",
    "  if render:\n",
    "    env = gym.make(\"CartPole-v1\", new_step_api = True, render_mode = 'human')\n",
    "  test_reward = 0\n",
    "  state = observation_space.discreteState(env.reset())\n",
    "  for step in range(max_steps):\n",
    "    if render:\n",
    "      env.render()\n",
    "    action = np.argmax(q_table[state])\n",
    "    observation, reward, terminated, _, _ = env.step(action)\n",
    "    state = observation_space.discreteState(observation)\n",
    "    test_reward += reward\n",
    "    if terminated:\n",
    "      break\n",
    "  return test_reward\n",
    "  \n",
    "def runTests(env, observation_space, q_table, num_tests):\n",
    "  all_scores = []\n",
    "  \n",
    "  for i in range(num_tests):\n",
    "    all_scores.append(testModel(env, observation_space, q_table, render = i == 0))\n",
    "  \n",
    "  average_score = np.mean(all_scores)\n",
    "  return average_score\n",
    "    "
   ]
  },
  {
   "cell_type": "markdown",
   "metadata": {},
   "source": [
    "#### Train and Test"
   ]
  },
  {
   "cell_type": "code",
   "execution_count": 9,
   "metadata": {},
   "outputs": [],
   "source": [
    "def trainAndTest(env, observation_space, episodes, test_interval, test_iterations, hyper_params):\n",
    "  q_table = None\n",
    "  current_episode = 0\n",
    "  \n",
    "  episode_array = [0]\n",
    "  score_array = [0]\n",
    "  rewards_array = []\n",
    "  \n",
    "  while current_episode < episodes:\n",
    "    q_table, rewards = trainModel(env, observation_space, test_interval, hyper_params, current_episode, q_table )\n",
    "    current_episode += test_interval\n",
    "    \n",
    "    \n",
    "    episode_array.append(current_episode)\n",
    "    score_array.append(runTests(env, observation_space, q_table, test_iterations))\n",
    "    rewards_array.append(rewards)\n",
    "    \n",
    "  \n",
    "  return  q_table, episode_array, score_array, rewards_array"
   ]
  },
  {
   "cell_type": "markdown",
   "metadata": {},
   "source": [
    "### Experiment Function\n"
   ]
  },
  {
   "cell_type": "code",
   "execution_count": 10,
   "metadata": {},
   "outputs": [],
   "source": [
    "def runExperiment(env, observation_space, parameter, experiment_space, training_event_per_interval, number_episodes, train_test_interval_size, test_iterations):\n",
    "\n",
    "    \n",
    "\n",
    "    hyper_params = HyperParams(0.8, 0.9, 0.0001)\n",
    "\n",
    "    # setup progress bar\n",
    "    learning_rate_scores = []\n",
    "    test_progress = widgets.FloatProgress(\n",
    "        value=0,\n",
    "        min=0,\n",
    "        max=len(experiment_space),\n",
    "        description='experiment value:',\n",
    "        bar_style='info',\n",
    "        style={'bar_color': 'red'},\n",
    "        orientation='horizontal'\n",
    "    )\n",
    "    event_progress = widgets.FloatProgress(\n",
    "        value=0,\n",
    "        min=0,\n",
    "        max=training_event_per_interval,\n",
    "        description='training event:',\n",
    "        bar_style='info',\n",
    "        style={'bar_color': 'red'},\n",
    "        orientation='horizontal'\n",
    "    )\n",
    "    display(test_progress)\n",
    "    display(event_progress)\n",
    "\n",
    "    # run experiment\n",
    "\n",
    "    experiment_results = []\n",
    "\n",
    "    for experiment in range(len(experiment_space)):\n",
    "        experiment_value = experiment_space[experiment]\n",
    "        setattr(hyper_params, parameter, experiment_value)\n",
    "        \n",
    "        test_progress.value = experiment\n",
    "\n",
    "        test_score = []\n",
    "\n",
    "        x_axis = []\n",
    "        for event in range(training_event_per_interval):\n",
    "\n",
    "            _, x_axis, score, _ = trainAndTest(\n",
    "                env, observation_space, number_episodes, train_test_interval_size, test_iterations, hyper_params)\n",
    "\n",
    "            test_score.append(score)\n",
    "\n",
    "            event_progress.value = event+1\n",
    "\n",
    "        average_test_score = np.mean(test_score, 0)\n",
    "\n",
    "        experiment_results.append(average_test_score)\n",
    "\n",
    "        \n",
    "\n",
    "    event_progress.close()\n",
    "    test_progress.close()\n",
    "    return experiment_results\n"
   ]
  },
  {
   "cell_type": "markdown",
   "metadata": {},
   "source": [
    "### Result Plotting Functions"
   ]
  },
  {
   "cell_type": "code",
   "execution_count": 11,
   "metadata": {},
   "outputs": [],
   "source": [
    "def plotResults(parameter, experiment_space, experiment_results, number_episodes, train_test_interval_size, x_axis_scale = 'linear'):\n",
    "    experiment_intervals = math.ceil(\n",
    "        number_episodes / train_test_interval_size)\n",
    "\n",
    "    range_start_slider = widgets.IntSlider(\n",
    "        value=0,\n",
    "        min=0,\n",
    "        max=experiment_intervals,\n",
    "        step=1,\n",
    "        description='Start:',\n",
    "        disabled=False,\n",
    "        continuous_update=True,\n",
    "        orientation='horizontal',\n",
    "        readout=False\n",
    "    )\n",
    "    range_end_slider = widgets.IntSlider(\n",
    "        value=experiment_intervals,\n",
    "        min=0,\n",
    "        max=experiment_intervals,\n",
    "        step=1,\n",
    "        description='End:',\n",
    "        disabled=False,\n",
    "        continuous_update=True,\n",
    "        orientation='horizontal',\n",
    "        readout=False\n",
    "    )\n",
    "    slice_slider = widgets.IntSlider(\n",
    "        value=0,\n",
    "        min=0,\n",
    "        max=experiment_intervals,\n",
    "        step=1,\n",
    "        description='Episode:',\n",
    "        disabled=False,\n",
    "        continuous_update=True,\n",
    "        orientation='horizontal',\n",
    "        readout=False,\n",
    "        readout_format='d'\n",
    "    )\n",
    "\n",
    "    def figureRange(x, y):\n",
    "        for test in range(len(experiment_space)):\n",
    "            plt.plot(np.arange(x*train_test_interval_size, y*train_test_interval_size, train_test_interval_size),\n",
    "                     np.asarray(experiment_results)[test][x:y], label=experiment_space[test])\n",
    "        plt.legend(title=\"Training Event\", bbox_to_anchor=(1, 1))\n",
    "        plt.title(parameter)\n",
    "        plt.show()\n",
    "\n",
    "        range_end_slider.min = x+1\n",
    "        range_start_slider.max = y-1\n",
    "\n",
    "    \n",
    "\n",
    "    def plotSlice(x):\n",
    "        slice = np.asarray(experiment_results)[:, x]\n",
    "        figure, axes = plt.subplots()\n",
    "        axes.plot(experiment_space[:], slice)\n",
    "        axes.set_xscale(x_axis_scale)\n",
    "        axes.get_xaxis().set_major_formatter(matplotlib.ticker.ScalarFormatter())\n",
    "        plt.title(\"{0} vs Score at Episode {1}\".format(parameter, x*train_test_interval_size))\n",
    "        plt.xlabel(\"{0}\".format(parameter))\n",
    "\n",
    "        plt.ylabel(\"Score at episode\")\n",
    "        plt.show()\n",
    "\n",
    "    widgets.interact(figureRange, x=range_start_slider, y=range_end_slider)\n",
    "    widgets.interact(plotSlice, x=slice_slider)  \n",
    "\n",
    "    figure, axes = plt.subplots()\n",
    "    axes.plot(experiment_space[:], experiment_results)\n",
    "    axes.set_xscale(x_axis_scale)\n",
    "    axes.get_xaxis().set_major_formatter(matplotlib.ticker.ScalarFormatter())\n",
    "\n",
    "    plt.title(\"{0} vs Score at episode (All)\".format(parameter))\n",
    "    plt.xlabel(\"{0}\".format(parameter))\n",
    "    plt.ylabel(\"Score at episode\")\n",
    "    plt.show()\n"
   ]
  },
  {
   "cell_type": "markdown",
   "metadata": {},
   "source": [
    "## Testing"
   ]
  },
  {
   "cell_type": "code",
   "execution_count": 12,
   "metadata": {},
   "outputs": [],
   "source": [
    "observation_limits = [2.5,5,0.5,5]\n",
    "observation_windows = [0.05,0.1,0.01,0.1]\n",
    "\n",
    "env = gym.make(\"CartPole-v1\", new_step_api=True)\n",
    "observation_space = ObservationSpace(observation_limits, observation_windows)\n",
    "hyper_params = HyperParams(0.2,0.99,0.0001)\n",
    "\n",
    "# Run Experiment\n",
    "\n",
    "\n",
    "\n",
    "experiment_intervals = 3\n",
    "training_event_per_interval = 1\n",
    "\n",
    "number_episodes = 30000\n",
    "train_test_interval_size = 1000\n",
    "test_iterations = 10\n",
    "\n",
    "# hyper parameters\n",
    "\n",
    "parameter = \"learning_rate\"\n",
    "max_experiment_value = 0.1\n",
    "min_experiment_value = 1\n",
    "experiment_space = np.linspace(\n",
    "        min_experiment_value, max_experiment_value, num = experiment_intervals)\n",
    "\n",
    "\n",
    "# results = runExperiment(env, observation_space, parameter, experiment_space, training_event_per_interval, number_episodes, train_test_interval_size, test_iterations)\n"
   ]
  },
  {
   "cell_type": "code",
   "execution_count": 13,
   "metadata": {},
   "outputs": [],
   "source": [
    "# plotResults(\"learning_rate\", experiment_space, results,\n",
    "#             number_episodes, train_test_interval_size)\n"
   ]
  },
  {
   "cell_type": "code",
   "execution_count": 137,
   "metadata": {},
   "outputs": [
    {
     "name": "stdout",
     "output_type": "stream",
     "text": [
      "[12 20 60 50]\n"
     ]
    }
   ],
   "source": [
    "observation_limits = [3,5,0.6,5]\n",
    "observation_windows = [0.5,0.5,0.02,0.2]\n",
    "\n",
    "env = gym.make(\"CartPole-v1\", new_step_api=True)\n",
    "observation_space = ObservationSpace(observation_limits, observation_windows)\n",
    "print(observation_space.shape)\n",
    "hyper_params = HyperParams(0.3,0.99,0.00001, epsilon_delay=1000)\n"
   ]
  },
  {
   "cell_type": "code",
   "execution_count": 144,
   "metadata": {},
   "outputs": [],
   "source": [
    "q_table, episode_array, score_array, rewards_array = trainAndTest(env,observation_space, 10000, 100, 10, hyper_params)\n",
    "env.close()"
   ]
  },
  {
   "cell_type": "code",
   "execution_count": 145,
   "metadata": {},
   "outputs": [
    {
     "data": {
      "image/png": "[encoded data removed]",
      "text/plain": [
       "<Figure size 432x288 with 1 Axes>"
      ]
     },
     "metadata": {
      "needs_background": "light"
     },
     "output_type": "display_data"
    },
    {
     "data": {
      "text/plain": [
       "[<matplotlib.lines.Line2D at 0x7f2030648d60>]"
      ]
     },
     "execution_count": 145,
     "metadata": {},
     "output_type": "execute_result"
    },
    {
     "data": {
      "image/png": "[encoded data removed]",
      "text/plain": [
       "<Figure size 432x288 with 1 Axes>"
      ]
     },
     "metadata": {
      "needs_background": "light"
     },
     "output_type": "display_data"
    }
   ],
   "source": [
    "plt.plot(episode_array, score_array)\n",
    "plt.show()\n",
    "plt.plot(np.cumsum((rewards_array)))"
   ]
  }
 ],
 "metadata": {
  "kernelspec": {
   "display_name": "Python 3.10.4 64-bit",
   "language": "python",
   "name": "python3"
  },
  "language_info": {
   "codemirror_mode": {
    "name": "ipython",
    "version": 3
   },
   "file_extension": ".py",
   "mimetype": "text/x-python",
   "name": "python",
   "nbconvert_exporter": "python",
   "pygments_lexer": "ipython3",
   "version": "3.10.4"
  },
  "orig_nbformat": 4,
  "vscode": {
   "interpreter": {
    "hash": "916dbcbb3f70747c44a77c7bcd40155683ae19c65e1c03b4aa3499c5328201f1"
   }
  }
 },
 "nbformat": 4,
 "nbformat_minor": 2
}
