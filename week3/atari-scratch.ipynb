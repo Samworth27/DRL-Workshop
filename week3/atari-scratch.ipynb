{
 "cells": [
  {
   "cell_type": "code",
   "execution_count": 4,
   "metadata": {},
   "outputs": [],
   "source": [
    "import gym\n",
    "import numpy as np\n",
    "import cv2\n",
    "import matplotlib.pyplot as plt\n",
    "import random\n",
    "%matplotlib inline"
   ]
  },
  {
   "cell_type": "code",
   "execution_count": 5,
   "metadata": {},
   "outputs": [],
   "source": [
    "def processFrame(frame):\n",
    "  resized = cv2.resize(frame, dsize=(80,110),interpolation=cv2.INTER_NEAREST)\n",
    "  return resized\n",
    "\n",
    "def addFrame(buffer, frame):\n",
    "  if len(buffer) >= 4:\n",
    "    buffer = np.roll(buffer,-1,0)\n",
    "    buffer[-1] = frame\n",
    "  else:\n",
    "    buffer = np.append(buffer, [frame],0)\n",
    "  return buffer\n",
    "\n",
    "\n",
    "def averageFrame(buffer):\n",
    "  mean = np.average(buffer,weights=[1,2,3,4][:len(buffer)],axis=0,keepdims=True).astype('uint8')\n",
    "  return mean[0]\n",
    "  "
   ]
  },
  {
   "cell_type": "code",
   "execution_count": 7,
   "metadata": {},
   "outputs": [],
   "source": [
    "env = gym.make(\"BreakoutNoFrameskip-v4\")\n",
    "\n",
    "initObs = env.reset()\n",
    "buffer = np.asarray([initObs])\n",
    "obs, _, _, _ = env.step(random.randint(0, 3))\n",
    "\n",
    "\n",
    "cv2.namedWindow(\"average\")\n",
    "cv2.startWindowThread()\n",
    "\n",
    "while cv2.getWindowProperty('average', 0) >= 0:\n",
    "    obs, reward, done, _ = env.step(random.randint(0, 3))\n",
    "    buffer = addFrame(buffer, obs)\n",
    "    processed = processFrame(averageFrame(buffer))\n",
    "    process = averageFrame(buffer)\n",
    "    cv2.imshow(\"average\", cv2.resize(processed,(320,420)))\n",
    "    key = cv2.waitKey(0)\n",
    "    if key == 27 or done:\n",
    "        cv2.destroyAllWindows()\n",
    "        break\n",
    "      \n"
   ]
  }
 ],
 "metadata": {
  "kernelspec": {
   "display_name": "Python 3.9.12 ('ray')",
   "language": "python",
   "name": "python3"
  },
  "language_info": {
   "codemirror_mode": {
    "name": "ipython",
    "version": 3
   },
   "file_extension": ".py",
   "mimetype": "text/x-python",
   "name": "python",
   "nbconvert_exporter": "python",
   "pygments_lexer": "ipython3",
   "version": "3.9.12"
  },
  "orig_nbformat": 4,
  "vscode": {
   "interpreter": {
    "hash": "6ad465c2675b3f8dcc08dbaa7da39a6c4938396ea84379da3fe2bd2da4323b46"
   }
  }
 },
 "nbformat": 4,
 "nbformat_minor": 2
}
