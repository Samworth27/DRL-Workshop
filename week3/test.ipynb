{
 "cells": [
  {
   "cell_type": "code",
   "execution_count": 48,
   "metadata": {},
   "outputs": [],
   "source": [
    "import ray\n",
    "import json\n",
    "import numpy as np\n",
    "import ray.rllib.algorithms.apex_dqn as apex_dqn\n",
    "import ray.rllib.algorithms.dqn as dqn\n",
    "from timeit import default_timer as timer\n"
   ]
  },
  {
   "cell_type": "code",
   "execution_count": 15,
   "metadata": {},
   "outputs": [
    {
     "name": "stderr",
     "output_type": "stream",
     "text": [
      "2022-08-24 15:28:29,611\tINFO worker.py:1351 -- Calling ray.init() again after it has already been called.\n"
     ]
    },
    {
     "data": {
      "text/html": [
       "<div>\n",
       "    <div style=\"margin-left: 50px;display: flex;flex-direction: row;align-items: center\">\n",
       "        <h3 style=\"color: var(--jp-ui-font-color0)\">Ray</h3>\n",
       "        <svg version=\"1.1\" id=\"ray\" width=\"3em\" viewBox=\"0 0 144.5 144.6\" style=\"margin-left: 3em;margin-right: 3em\">\n",
       "            <g id=\"layer-1\">\n",
       "                <path fill=\"#00a2e9\" class=\"st0\" d=\"M97.3,77.2c-3.8-1.1-6.2,0.9-8.3,5.1c-3.5,6.8-9.9,9.9-17.4,9.6S58,88.1,54.8,81.2c-1.4-3-3-4-6.3-4.1\n",
       "                    c-5.6-0.1-9.9,0.1-13.1,6.4c-3.8,7.6-13.6,10.2-21.8,7.6C5.2,88.4-0.4,80.5,0,71.7c0.1-8.4,5.7-15.8,13.8-18.2\n",
       "                    c8.4-2.6,17.5,0.7,22.3,8c1.3,1.9,1.3,5.2,3.6,5.6c3.9,0.6,8,0.2,12,0.2c1.8,0,1.9-1.6,2.4-2.8c3.5-7.8,9.7-11.8,18-11.9\n",
       "                    c8.2-0.1,14.4,3.9,17.8,11.4c1.3,2.8,2.9,3.6,5.7,3.3c1-0.1,2,0.1,3,0c2.8-0.5,6.4,1.7,8.1-2.7s-2.3-5.5-4.1-7.5\n",
       "                    c-5.1-5.7-10.9-10.8-16.1-16.3C84,38,81.9,37.1,78,38.3C66.7,42,56.2,35.7,53,24.1C50.3,14,57.3,2.8,67.7,0.5\n",
       "                    C78.4-2,89,4.7,91.5,15.3c0.1,0.3,0.1,0.5,0.2,0.8c0.7,3.4,0.7,6.9-0.8,9.8c-1.7,3.2-0.8,5,1.5,7.2c6.7,6.5,13.3,13,19.8,19.7\n",
       "                    c1.8,1.8,3,2.1,5.5,1.2c9.1-3.4,17.9-0.6,23.4,7c4.8,6.9,4.6,16.1-0.4,22.9c-5.4,7.2-14.2,9.9-23.1,6.5c-2.3-0.9-3.5-0.6-5.1,1.1\n",
       "                    c-6.7,6.9-13.6,13.7-20.5,20.4c-1.8,1.8-2.5,3.2-1.4,5.9c3.5,8.7,0.3,18.6-7.7,23.6c-7.9,5-18.2,3.8-24.8-2.9\n",
       "                    c-6.4-6.4-7.4-16.2-2.5-24.3c4.9-7.8,14.5-11,23.1-7.8c3,1.1,4.7,0.5,6.9-1.7C91.7,98.4,98,92.3,104.2,86c1.6-1.6,4.1-2.7,2.6-6.2\n",
       "                    c-1.4-3.3-3.8-2.5-6.2-2.6C99.8,77.2,98.9,77.2,97.3,77.2z M72.1,29.7c5.5,0.1,9.9-4.3,10-9.8c0-0.1,0-0.2,0-0.3\n",
       "                    C81.8,14,77,9.8,71.5,10.2c-5,0.3-9,4.2-9.3,9.2c-0.2,5.5,4,10.1,9.5,10.3C71.8,29.7,72,29.7,72.1,29.7z M72.3,62.3\n",
       "                    c-5.4-0.1-9.9,4.2-10.1,9.7c0,0.2,0,0.3,0,0.5c0.2,5.4,4.5,9.7,9.9,10c5.1,0.1,9.9-4.7,10.1-9.8c0.2-5.5-4-10-9.5-10.3\n",
       "                    C72.6,62.3,72.4,62.3,72.3,62.3z M115,72.5c0.1,5.4,4.5,9.7,9.8,9.9c5.6-0.2,10-4.8,10-10.4c-0.2-5.4-4.6-9.7-10-9.7\n",
       "                    c-5.3-0.1-9.8,4.2-9.9,9.5C115,72.1,115,72.3,115,72.5z M19.5,62.3c-5.4,0.1-9.8,4.4-10,9.8c-0.1,5.1,5.2,10.4,10.2,10.3\n",
       "                    c5.6-0.2,10-4.9,9.8-10.5c-0.1-5.4-4.5-9.7-9.9-9.6C19.6,62.3,19.5,62.3,19.5,62.3z M71.8,134.6c5.9,0.2,10.3-3.9,10.4-9.6\n",
       "                    c0.5-5.5-3.6-10.4-9.1-10.8c-5.5-0.5-10.4,3.6-10.8,9.1c0,0.5,0,0.9,0,1.4c-0.2,5.3,4,9.8,9.3,10\n",
       "                    C71.6,134.6,71.7,134.6,71.8,134.6z\"/>\n",
       "            </g>\n",
       "        </svg>\n",
       "        <table>\n",
       "            <tr>\n",
       "                <td style=\"text-align: left\"><b>Python version:</b></td>\n",
       "                <td style=\"text-align: left\"><b>3.9.12</b></td>\n",
       "            </tr>\n",
       "            <tr>\n",
       "                <td style=\"text-align: left\"><b>Ray version:</b></td>\n",
       "                <td style=\"text-align: left\"><b> 2.0.0</b></td>\n",
       "            </tr>\n",
       "            <tr>\n",
       "    <td style=\"text-align: left\"><b>Dashboard:</b></td>\n",
       "    <td style=\"text-align: left\"><b><a href=\"http://127.0.0.1:8265\" target=\"_blank\">http://127.0.0.1:8265</a></b></td>\n",
       "</tr>\n",
       "\n",
       "        </table>\n",
       "    </div>\n",
       "</div>\n"
      ],
      "text/plain": [
       "RayContext(dashboard_url='127.0.0.1:8265', python_version='3.9.12', ray_version='2.0.0', ray_commit='cba26cc83f6b5b8a2ff166594a65cb74c0ec8740', address_info={'node_ip_address': '192.168.20.12', 'raylet_ip_address': '192.168.20.12', 'redis_address': None, 'object_store_address': '/tmp/ray/session_2022-08-24_15-26-11_919507_5257/sockets/plasma_store', 'raylet_socket_name': '/tmp/ray/session_2022-08-24_15-26-11_919507_5257/sockets/raylet', 'webui_url': '127.0.0.1:8265', 'session_dir': '/tmp/ray/session_2022-08-24_15-26-11_919507_5257', 'metrics_export_port': 51421, 'gcs_address': '192.168.20.12:57576', 'address': '192.168.20.12:57576', 'dashboard_agent_listen_port': 52365, 'node_id': '9406c59393a2a269f25c77cb46585bf39d64f86b090ad85cb6b441fb'})"
      ]
     },
     "execution_count": 15,
     "metadata": {},
     "output_type": "execute_result"
    }
   ],
   "source": [
    "\n",
    "from logging import RootLogger\n",
    "\n",
    "\n",
    "ray.init(ignore_reinit_error=True)\n"
   ]
  },
  {
   "cell_type": "code",
   "execution_count": 21,
   "metadata": {},
   "outputs": [
    {
     "name": "stdout",
     "output_type": "stream",
     "text": [
      ".checkpoints/BreakoutNoFrameskip-v4/dqn_v1\n"
     ]
    }
   ],
   "source": [
    "ENV = \"BreakoutNoFrameskip-v4\"\n",
    "VERSION = \"dqn_v1\"\n",
    "TRAINER = dqn\n",
    "\n",
    "checkpoint_root = f'.checkpoints/{ENV}/{VERSION}'\n",
    "\n",
    "config=TRAINER.DEFAULT_CONFIG.copy()\n",
    "\n",
    "print(checkpoint_root)"
   ]
  },
  {
   "cell_type": "code",
   "execution_count": 22,
   "metadata": {},
   "outputs": [
    {
     "name": "stdout",
     "output_type": "stream",
     "text": [
      "8\n"
     ]
    }
   ],
   "source": [
    "\n",
    "config=dqn.DEFAULT_CONFIG.copy()\n",
    "config['env'] = ENV\n",
    "config[\"num_gpus\"]=1\n",
    "config[\"num_workers\"]=8\n",
    "config[\"num_cpus_per_worker\"]=0.25\n",
    "config['target_network_update_freq'] = 8000\n",
    "config['replay_buffer_config']['capacity']= 10000\n",
    "\n",
    "print(config['num_workers'])"
   ]
  },
  {
   "cell_type": "code",
   "execution_count": 23,
   "metadata": {},
   "outputs": [
    {
     "name": "stderr",
     "output_type": "stream",
     "text": [
      "2022-08-24 15:29:41,527\tWARNING deprecation.py:47 -- DeprecationWarning: `config['multiagent']['replay_mode']` has been deprecated. config['replay_buffer_config']['replay_mode'] This will raise an error in the future!\n",
      "\u001b[2m\u001b[36m(pid=7494)\u001b[0m /home/sam/micromamba/envs/ray/lib/python3.9/site-packages/flatbuffers/compat.py:19: DeprecationWarning: the imp module is deprecated in favour of importlib; see the module's documentation for alternative uses\n",
      "\u001b[2m\u001b[36m(pid=7494)\u001b[0m   import imp\n",
      "\u001b[2m\u001b[36m(pid=7495)\u001b[0m /home/sam/micromamba/envs/ray/lib/python3.9/site-packages/flatbuffers/compat.py:19: DeprecationWarning: the imp module is deprecated in favour of importlib; see the module's documentation for alternative uses\n",
      "\u001b[2m\u001b[36m(pid=7495)\u001b[0m   import imp\n",
      "\u001b[2m\u001b[36m(pid=7500)\u001b[0m /home/sam/micromamba/envs/ray/lib/python3.9/site-packages/flatbuffers/compat.py:19: DeprecationWarning: the imp module is deprecated in favour of importlib; see the module's documentation for alternative uses\n",
      "\u001b[2m\u001b[36m(pid=7500)\u001b[0m   import imp\n",
      "\u001b[2m\u001b[36m(pid=7498)\u001b[0m /home/sam/micromamba/envs/ray/lib/python3.9/site-packages/flatbuffers/compat.py:19: DeprecationWarning: the imp module is deprecated in favour of importlib; see the module's documentation for alternative uses\n",
      "\u001b[2m\u001b[36m(pid=7498)\u001b[0m   import imp\n",
      "\u001b[2m\u001b[36m(pid=7499)\u001b[0m /home/sam/micromamba/envs/ray/lib/python3.9/site-packages/flatbuffers/compat.py:19: DeprecationWarning: the imp module is deprecated in favour of importlib; see the module's documentation for alternative uses\n",
      "\u001b[2m\u001b[36m(pid=7499)\u001b[0m   import imp\n",
      "\u001b[2m\u001b[36m(pid=7497)\u001b[0m /home/sam/micromamba/envs/ray/lib/python3.9/site-packages/flatbuffers/compat.py:19: DeprecationWarning: the imp module is deprecated in favour of importlib; see the module's documentation for alternative uses\n",
      "\u001b[2m\u001b[36m(pid=7497)\u001b[0m   import imp\n",
      "\u001b[2m\u001b[36m(pid=7496)\u001b[0m /home/sam/micromamba/envs/ray/lib/python3.9/site-packages/flatbuffers/compat.py:19: DeprecationWarning: the imp module is deprecated in favour of importlib; see the module's documentation for alternative uses\n",
      "\u001b[2m\u001b[36m(pid=7496)\u001b[0m   import imp\n",
      "\u001b[2m\u001b[36m(pid=7494)\u001b[0m /home/sam/micromamba/envs/ray/lib/python3.9/site-packages/keras/utils/image_utils.py:36: DeprecationWarning: NEAREST is deprecated and will be removed in Pillow 10 (2023-07-01). Use Resampling.NEAREST or Dither.NONE instead.\n",
      "\u001b[2m\u001b[36m(pid=7494)\u001b[0m   'nearest': pil_image.NEAREST,\n",
      "\u001b[2m\u001b[36m(pid=7494)\u001b[0m /home/sam/micromamba/envs/ray/lib/python3.9/site-packages/keras/utils/image_utils.py:37: DeprecationWarning: BILINEAR is deprecated and will be removed in Pillow 10 (2023-07-01). Use Resampling.BILINEAR instead.\n",
      "\u001b[2m\u001b[36m(pid=7494)\u001b[0m   'bilinear': pil_image.BILINEAR,\n",
      "\u001b[2m\u001b[36m(pid=7494)\u001b[0m /home/sam/micromamba/envs/ray/lib/python3.9/site-packages/keras/utils/image_utils.py:38: DeprecationWarning: BICUBIC is deprecated and will be removed in Pillow 10 (2023-07-01). Use Resampling.BICUBIC instead.\n",
      "\u001b[2m\u001b[36m(pid=7494)\u001b[0m   'bicubic': pil_image.BICUBIC,\n",
      "\u001b[2m\u001b[36m(pid=7494)\u001b[0m /home/sam/micromamba/envs/ray/lib/python3.9/site-packages/keras/utils/image_utils.py:39: DeprecationWarning: HAMMING is deprecated and will be removed in Pillow 10 (2023-07-01). Use Resampling.HAMMING instead.\n",
      "\u001b[2m\u001b[36m(pid=7494)\u001b[0m   'hamming': pil_image.HAMMING,\n",
      "\u001b[2m\u001b[36m(pid=7494)\u001b[0m /home/sam/micromamba/envs/ray/lib/python3.9/site-packages/keras/utils/image_utils.py:40: DeprecationWarning: BOX is deprecated and will be removed in Pillow 10 (2023-07-01). Use Resampling.BOX instead.\n",
      "\u001b[2m\u001b[36m(pid=7494)\u001b[0m   'box': pil_image.BOX,\n",
      "\u001b[2m\u001b[36m(pid=7494)\u001b[0m /home/sam/micromamba/envs/ray/lib/python3.9/site-packages/keras/utils/image_utils.py:41: DeprecationWarning: LANCZOS is deprecated and will be removed in Pillow 10 (2023-07-01). Use Resampling.LANCZOS instead.\n",
      "\u001b[2m\u001b[36m(pid=7494)\u001b[0m   'lanczos': pil_image.LANCZOS,\n",
      "\u001b[2m\u001b[36m(pid=7501)\u001b[0m /home/sam/micromamba/envs/ray/lib/python3.9/site-packages/flatbuffers/compat.py:19: DeprecationWarning: the imp module is deprecated in favour of importlib; see the module's documentation for alternative uses\n",
      "\u001b[2m\u001b[36m(pid=7501)\u001b[0m   import imp\n",
      "\u001b[2m\u001b[36m(pid=7495)\u001b[0m /home/sam/micromamba/envs/ray/lib/python3.9/site-packages/keras/utils/image_utils.py:36: DeprecationWarning: NEAREST is deprecated and will be removed in Pillow 10 (2023-07-01). Use Resampling.NEAREST or Dither.NONE instead.\n",
      "\u001b[2m\u001b[36m(pid=7495)\u001b[0m   'nearest': pil_image.NEAREST,\n",
      "\u001b[2m\u001b[36m(pid=7495)\u001b[0m /home/sam/micromamba/envs/ray/lib/python3.9/site-packages/keras/utils/image_utils.py:37: DeprecationWarning: BILINEAR is deprecated and will be removed in Pillow 10 (2023-07-01). Use Resampling.BILINEAR instead.\n",
      "\u001b[2m\u001b[36m(pid=7495)\u001b[0m   'bilinear': pil_image.BILINEAR,\n",
      "\u001b[2m\u001b[36m(pid=7495)\u001b[0m /home/sam/micromamba/envs/ray/lib/python3.9/site-packages/keras/utils/image_utils.py:38: DeprecationWarning: BICUBIC is deprecated and will be removed in Pillow 10 (2023-07-01). Use Resampling.BICUBIC instead.\n",
      "\u001b[2m\u001b[36m(pid=7495)\u001b[0m   'bicubic': pil_image.BICUBIC,\n",
      "\u001b[2m\u001b[36m(pid=7495)\u001b[0m /home/sam/micromamba/envs/ray/lib/python3.9/site-packages/keras/utils/image_utils.py:39: DeprecationWarning: HAMMING is deprecated and will be removed in Pillow 10 (2023-07-01). Use Resampling.HAMMING instead.\n",
      "\u001b[2m\u001b[36m(pid=7495)\u001b[0m   'hamming': pil_image.HAMMING,\n",
      "\u001b[2m\u001b[36m(pid=7495)\u001b[0m /home/sam/micromamba/envs/ray/lib/python3.9/site-packages/keras/utils/image_utils.py:40: DeprecationWarning: BOX is deprecated and will be removed in Pillow 10 (2023-07-01). Use Resampling.BOX instead.\n",
      "\u001b[2m\u001b[36m(pid=7495)\u001b[0m   'box': pil_image.BOX,\n",
      "\u001b[2m\u001b[36m(pid=7495)\u001b[0m /home/sam/micromamba/envs/ray/lib/python3.9/site-packages/keras/utils/image_utils.py:41: DeprecationWarning: LANCZOS is deprecated and will be removed in Pillow 10 (2023-07-01). Use Resampling.LANCZOS instead.\n",
      "\u001b[2m\u001b[36m(pid=7495)\u001b[0m   'lanczos': pil_image.LANCZOS,\n",
      "\u001b[2m\u001b[36m(pid=7500)\u001b[0m /home/sam/micromamba/envs/ray/lib/python3.9/site-packages/keras/utils/image_utils.py:36: DeprecationWarning: NEAREST is deprecated and will be removed in Pillow 10 (2023-07-01). Use Resampling.NEAREST or Dither.NONE instead.\n",
      "\u001b[2m\u001b[36m(pid=7500)\u001b[0m   'nearest': pil_image.NEAREST,\n",
      "\u001b[2m\u001b[36m(pid=7500)\u001b[0m /home/sam/micromamba/envs/ray/lib/python3.9/site-packages/keras/utils/image_utils.py:37: DeprecationWarning: BILINEAR is deprecated and will be removed in Pillow 10 (2023-07-01). Use Resampling.BILINEAR instead.\n",
      "\u001b[2m\u001b[36m(pid=7500)\u001b[0m   'bilinear': pil_image.BILINEAR,\n",
      "\u001b[2m\u001b[36m(pid=7500)\u001b[0m /home/sam/micromamba/envs/ray/lib/python3.9/site-packages/keras/utils/image_utils.py:38: DeprecationWarning: BICUBIC is deprecated and will be removed in Pillow 10 (2023-07-01). Use Resampling.BICUBIC instead.\n",
      "\u001b[2m\u001b[36m(pid=7500)\u001b[0m   'bicubic': pil_image.BICUBIC,\n",
      "\u001b[2m\u001b[36m(pid=7500)\u001b[0m /home/sam/micromamba/envs/ray/lib/python3.9/site-packages/keras/utils/image_utils.py:39: DeprecationWarning: HAMMING is deprecated and will be removed in Pillow 10 (2023-07-01). Use Resampling.HAMMING instead.\n",
      "\u001b[2m\u001b[36m(pid=7500)\u001b[0m   'hamming': pil_image.HAMMING,\n",
      "\u001b[2m\u001b[36m(pid=7500)\u001b[0m /home/sam/micromamba/envs/ray/lib/python3.9/site-packages/keras/utils/image_utils.py:40: DeprecationWarning: BOX is deprecated and will be removed in Pillow 10 (2023-07-01). Use Resampling.BOX instead.\n",
      "\u001b[2m\u001b[36m(pid=7500)\u001b[0m   'box': pil_image.BOX,\n",
      "\u001b[2m\u001b[36m(pid=7500)\u001b[0m /home/sam/micromamba/envs/ray/lib/python3.9/site-packages/keras/utils/image_utils.py:41: DeprecationWarning: LANCZOS is deprecated and will be removed in Pillow 10 (2023-07-01). Use Resampling.LANCZOS instead.\n",
      "\u001b[2m\u001b[36m(pid=7500)\u001b[0m   'lanczos': pil_image.LANCZOS,\n",
      "\u001b[2m\u001b[36m(pid=7498)\u001b[0m /home/sam/micromamba/envs/ray/lib/python3.9/site-packages/keras/utils/image_utils.py:36: DeprecationWarning: NEAREST is deprecated and will be removed in Pillow 10 (2023-07-01). Use Resampling.NEAREST or Dither.NONE instead.\n",
      "\u001b[2m\u001b[36m(pid=7498)\u001b[0m   'nearest': pil_image.NEAREST,\n",
      "\u001b[2m\u001b[36m(pid=7498)\u001b[0m /home/sam/micromamba/envs/ray/lib/python3.9/site-packages/keras/utils/image_utils.py:37: DeprecationWarning: BILINEAR is deprecated and will be removed in Pillow 10 (2023-07-01). Use Resampling.BILINEAR instead.\n",
      "\u001b[2m\u001b[36m(pid=7498)\u001b[0m   'bilinear': pil_image.BILINEAR,\n",
      "\u001b[2m\u001b[36m(pid=7498)\u001b[0m /home/sam/micromamba/envs/ray/lib/python3.9/site-packages/keras/utils/image_utils.py:38: DeprecationWarning: BICUBIC is deprecated and will be removed in Pillow 10 (2023-07-01). Use Resampling.BICUBIC instead.\n",
      "\u001b[2m\u001b[36m(pid=7498)\u001b[0m   'bicubic': pil_image.BICUBIC,\n",
      "\u001b[2m\u001b[36m(pid=7498)\u001b[0m /home/sam/micromamba/envs/ray/lib/python3.9/site-packages/keras/utils/image_utils.py:39: DeprecationWarning: HAMMING is deprecated and will be removed in Pillow 10 (2023-07-01). Use Resampling.HAMMING instead.\n",
      "\u001b[2m\u001b[36m(pid=7498)\u001b[0m   'hamming': pil_image.HAMMING,\n",
      "\u001b[2m\u001b[36m(pid=7498)\u001b[0m /home/sam/micromamba/envs/ray/lib/python3.9/site-packages/keras/utils/image_utils.py:40: DeprecationWarning: BOX is deprecated and will be removed in Pillow 10 (2023-07-01). Use Resampling.BOX instead.\n",
      "\u001b[2m\u001b[36m(pid=7498)\u001b[0m   'box': pil_image.BOX,\n",
      "\u001b[2m\u001b[36m(pid=7498)\u001b[0m /home/sam/micromamba/envs/ray/lib/python3.9/site-packages/keras/utils/image_utils.py:41: DeprecationWarning: LANCZOS is deprecated and will be removed in Pillow 10 (2023-07-01). Use Resampling.LANCZOS instead.\n",
      "\u001b[2m\u001b[36m(pid=7498)\u001b[0m   'lanczos': pil_image.LANCZOS,\n",
      "\u001b[2m\u001b[36m(pid=7497)\u001b[0m /home/sam/micromamba/envs/ray/lib/python3.9/site-packages/keras/utils/image_utils.py:36: DeprecationWarning: NEAREST is deprecated and will be removed in Pillow 10 (2023-07-01). Use Resampling.NEAREST or Dither.NONE instead.\n",
      "\u001b[2m\u001b[36m(pid=7497)\u001b[0m   'nearest': pil_image.NEAREST,\n",
      "\u001b[2m\u001b[36m(pid=7497)\u001b[0m /home/sam/micromamba/envs/ray/lib/python3.9/site-packages/keras/utils/image_utils.py:37: DeprecationWarning: BILINEAR is deprecated and will be removed in Pillow 10 (2023-07-01). Use Resampling.BILINEAR instead.\n",
      "\u001b[2m\u001b[36m(pid=7497)\u001b[0m   'bilinear': pil_image.BILINEAR,\n",
      "\u001b[2m\u001b[36m(pid=7497)\u001b[0m /home/sam/micromamba/envs/ray/lib/python3.9/site-packages/keras/utils/image_utils.py:38: DeprecationWarning: BICUBIC is deprecated and will be removed in Pillow 10 (2023-07-01). Use Resampling.BICUBIC instead.\n",
      "\u001b[2m\u001b[36m(pid=7497)\u001b[0m   'bicubic': pil_image.BICUBIC,\n",
      "\u001b[2m\u001b[36m(pid=7497)\u001b[0m /home/sam/micromamba/envs/ray/lib/python3.9/site-packages/keras/utils/image_utils.py:39: DeprecationWarning: HAMMING is deprecated and will be removed in Pillow 10 (2023-07-01). Use Resampling.HAMMING instead.\n",
      "\u001b[2m\u001b[36m(pid=7497)\u001b[0m   'hamming': pil_image.HAMMING,\n",
      "\u001b[2m\u001b[36m(pid=7497)\u001b[0m /home/sam/micromamba/envs/ray/lib/python3.9/site-packages/keras/utils/image_utils.py:40: DeprecationWarning: BOX is deprecated and will be removed in Pillow 10 (2023-07-01). Use Resampling.BOX instead.\n",
      "\u001b[2m\u001b[36m(pid=7497)\u001b[0m   'box': pil_image.BOX,\n",
      "\u001b[2m\u001b[36m(pid=7497)\u001b[0m /home/sam/micromamba/envs/ray/lib/python3.9/site-packages/keras/utils/image_utils.py:41: DeprecationWarning: LANCZOS is deprecated and will be removed in Pillow 10 (2023-07-01). Use Resampling.LANCZOS instead.\n",
      "\u001b[2m\u001b[36m(pid=7497)\u001b[0m   'lanczos': pil_image.LANCZOS,\n",
      "\u001b[2m\u001b[36m(pid=7496)\u001b[0m /home/sam/micromamba/envs/ray/lib/python3.9/site-packages/keras/utils/image_utils.py:36: DeprecationWarning: NEAREST is deprecated and will be removed in Pillow 10 (2023-07-01). Use Resampling.NEAREST or Dither.NONE instead.\n",
      "\u001b[2m\u001b[36m(pid=7496)\u001b[0m   'nearest': pil_image.NEAREST,\n",
      "\u001b[2m\u001b[36m(pid=7496)\u001b[0m /home/sam/micromamba/envs/ray/lib/python3.9/site-packages/keras/utils/image_utils.py:37: DeprecationWarning: BILINEAR is deprecated and will be removed in Pillow 10 (2023-07-01). Use Resampling.BILINEAR instead.\n",
      "\u001b[2m\u001b[36m(pid=7496)\u001b[0m   'bilinear': pil_image.BILINEAR,\n",
      "\u001b[2m\u001b[36m(pid=7496)\u001b[0m /home/sam/micromamba/envs/ray/lib/python3.9/site-packages/keras/utils/image_utils.py:38: DeprecationWarning: BICUBIC is deprecated and will be removed in Pillow 10 (2023-07-01). Use Resampling.BICUBIC instead.\n",
      "\u001b[2m\u001b[36m(pid=7496)\u001b[0m   'bicubic': pil_image.BICUBIC,\n",
      "\u001b[2m\u001b[36m(pid=7496)\u001b[0m /home/sam/micromamba/envs/ray/lib/python3.9/site-packages/keras/utils/image_utils.py:39: DeprecationWarning: HAMMING is deprecated and will be removed in Pillow 10 (2023-07-01). Use Resampling.HAMMING instead.\n",
      "\u001b[2m\u001b[36m(pid=7496)\u001b[0m   'hamming': pil_image.HAMMING,\n",
      "\u001b[2m\u001b[36m(pid=7496)\u001b[0m /home/sam/micromamba/envs/ray/lib/python3.9/site-packages/keras/utils/image_utils.py:40: DeprecationWarning: BOX is deprecated and will be removed in Pillow 10 (2023-07-01). Use Resampling.BOX instead.\n",
      "\u001b[2m\u001b[36m(pid=7496)\u001b[0m   'box': pil_image.BOX,\n",
      "\u001b[2m\u001b[36m(pid=7496)\u001b[0m /home/sam/micromamba/envs/ray/lib/python3.9/site-packages/keras/utils/image_utils.py:41: DeprecationWarning: LANCZOS is deprecated and will be removed in Pillow 10 (2023-07-01). Use Resampling.LANCZOS instead.\n",
      "\u001b[2m\u001b[36m(pid=7496)\u001b[0m   'lanczos': pil_image.LANCZOS,\n",
      "\u001b[2m\u001b[36m(pid=7499)\u001b[0m /home/sam/micromamba/envs/ray/lib/python3.9/site-packages/keras/utils/image_utils.py:36: DeprecationWarning: NEAREST is deprecated and will be removed in Pillow 10 (2023-07-01). Use Resampling.NEAREST or Dither.NONE instead.\n",
      "\u001b[2m\u001b[36m(pid=7499)\u001b[0m   'nearest': pil_image.NEAREST,\n",
      "\u001b[2m\u001b[36m(pid=7499)\u001b[0m /home/sam/micromamba/envs/ray/lib/python3.9/site-packages/keras/utils/image_utils.py:37: DeprecationWarning: BILINEAR is deprecated and will be removed in Pillow 10 (2023-07-01). Use Resampling.BILINEAR instead.\n",
      "\u001b[2m\u001b[36m(pid=7499)\u001b[0m   'bilinear': pil_image.BILINEAR,\n",
      "\u001b[2m\u001b[36m(pid=7499)\u001b[0m /home/sam/micromamba/envs/ray/lib/python3.9/site-packages/keras/utils/image_utils.py:38: DeprecationWarning: BICUBIC is deprecated and will be removed in Pillow 10 (2023-07-01). Use Resampling.BICUBIC instead.\n",
      "\u001b[2m\u001b[36m(pid=7499)\u001b[0m   'bicubic': pil_image.BICUBIC,\n",
      "\u001b[2m\u001b[36m(pid=7499)\u001b[0m /home/sam/micromamba/envs/ray/lib/python3.9/site-packages/keras/utils/image_utils.py:39: DeprecationWarning: HAMMING is deprecated and will be removed in Pillow 10 (2023-07-01). Use Resampling.HAMMING instead.\n",
      "\u001b[2m\u001b[36m(pid=7499)\u001b[0m   'hamming': pil_image.HAMMING,\n",
      "\u001b[2m\u001b[36m(pid=7499)\u001b[0m /home/sam/micromamba/envs/ray/lib/python3.9/site-packages/keras/utils/image_utils.py:40: DeprecationWarning: BOX is deprecated and will be removed in Pillow 10 (2023-07-01). Use Resampling.BOX instead.\n",
      "\u001b[2m\u001b[36m(pid=7499)\u001b[0m   'box': pil_image.BOX,\n",
      "\u001b[2m\u001b[36m(pid=7499)\u001b[0m /home/sam/micromamba/envs/ray/lib/python3.9/site-packages/keras/utils/image_utils.py:41: DeprecationWarning: LANCZOS is deprecated and will be removed in Pillow 10 (2023-07-01). Use Resampling.LANCZOS instead.\n",
      "\u001b[2m\u001b[36m(pid=7499)\u001b[0m   'lanczos': pil_image.LANCZOS,\n",
      "\u001b[2m\u001b[36m(pid=7501)\u001b[0m /home/sam/micromamba/envs/ray/lib/python3.9/site-packages/keras/utils/image_utils.py:36: DeprecationWarning: NEAREST is deprecated and will be removed in Pillow 10 (2023-07-01). Use Resampling.NEAREST or Dither.NONE instead.\n",
      "\u001b[2m\u001b[36m(pid=7501)\u001b[0m   'nearest': pil_image.NEAREST,\n",
      "\u001b[2m\u001b[36m(pid=7501)\u001b[0m /home/sam/micromamba/envs/ray/lib/python3.9/site-packages/keras/utils/image_utils.py:37: DeprecationWarning: BILINEAR is deprecated and will be removed in Pillow 10 (2023-07-01). Use Resampling.BILINEAR instead.\n",
      "\u001b[2m\u001b[36m(pid=7501)\u001b[0m   'bilinear': pil_image.BILINEAR,\n",
      "\u001b[2m\u001b[36m(pid=7501)\u001b[0m /home/sam/micromamba/envs/ray/lib/python3.9/site-packages/keras/utils/image_utils.py:38: DeprecationWarning: BICUBIC is deprecated and will be removed in Pillow 10 (2023-07-01). Use Resampling.BICUBIC instead.\n",
      "\u001b[2m\u001b[36m(pid=7501)\u001b[0m   'bicubic': pil_image.BICUBIC,\n",
      "\u001b[2m\u001b[36m(pid=7501)\u001b[0m /home/sam/micromamba/envs/ray/lib/python3.9/site-packages/keras/utils/image_utils.py:39: DeprecationWarning: HAMMING is deprecated and will be removed in Pillow 10 (2023-07-01). Use Resampling.HAMMING instead.\n",
      "\u001b[2m\u001b[36m(pid=7501)\u001b[0m   'hamming': pil_image.HAMMING,\n",
      "\u001b[2m\u001b[36m(pid=7501)\u001b[0m /home/sam/micromamba/envs/ray/lib/python3.9/site-packages/keras/utils/image_utils.py:40: DeprecationWarning: BOX is deprecated and will be removed in Pillow 10 (2023-07-01). Use Resampling.BOX instead.\n",
      "\u001b[2m\u001b[36m(pid=7501)\u001b[0m   'box': pil_image.BOX,\n",
      "\u001b[2m\u001b[36m(pid=7501)\u001b[0m /home/sam/micromamba/envs/ray/lib/python3.9/site-packages/keras/utils/image_utils.py:41: DeprecationWarning: LANCZOS is deprecated and will be removed in Pillow 10 (2023-07-01). Use Resampling.LANCZOS instead.\n",
      "\u001b[2m\u001b[36m(pid=7501)\u001b[0m   'lanczos': pil_image.LANCZOS,\n",
      "\u001b[2m\u001b[36m(RolloutWorker pid=7495)\u001b[0m A.L.E: Arcade Learning Environment (version 0.7.5+db37282)\n",
      "\u001b[2m\u001b[36m(RolloutWorker pid=7495)\u001b[0m [Powered by Stella]\n",
      "\u001b[2m\u001b[36m(RolloutWorker pid=7500)\u001b[0m A.L.E: Arcade Learning Environment (version 0.7.5+db37282)\n",
      "\u001b[2m\u001b[36m(RolloutWorker pid=7500)\u001b[0m [Powered by Stella]\n",
      "\u001b[2m\u001b[36m(RolloutWorker pid=7499)\u001b[0m A.L.E: Arcade Learning Environment (version 0.7.5+db37282)\n",
      "\u001b[2m\u001b[36m(RolloutWorker pid=7499)\u001b[0m [Powered by Stella]\n",
      "\u001b[2m\u001b[36m(RolloutWorker pid=7494)\u001b[0m A.L.E: Arcade Learning Environment (version 0.7.5+db37282)\n",
      "\u001b[2m\u001b[36m(RolloutWorker pid=7494)\u001b[0m [Powered by Stella]\n",
      "\u001b[2m\u001b[36m(RolloutWorker pid=7497)\u001b[0m A.L.E: Arcade Learning Environment (version 0.7.5+db37282)\n",
      "\u001b[2m\u001b[36m(RolloutWorker pid=7497)\u001b[0m [Powered by Stella]\n",
      "\u001b[2m\u001b[36m(RolloutWorker pid=7496)\u001b[0m A.L.E: Arcade Learning Environment (version 0.7.5+db37282)\n",
      "\u001b[2m\u001b[36m(RolloutWorker pid=7496)\u001b[0m [Powered by Stella]\n",
      "\u001b[2m\u001b[36m(RolloutWorker pid=7494)\u001b[0m 2022-08-24 15:29:44,905\tWARNING env.py:154 -- Your env reset() method appears to take 'seed' or 'return_info' arguments. Note that these are not yet supported in RLlib. Seeding will take place using 'env.seed()' and the info dict will not be returned from reset.\n",
      "\u001b[2m\u001b[36m(RolloutWorker pid=7494)\u001b[0m 2022-08-24 15:29:44,916\tWARNING deprecation.py:47 -- DeprecationWarning: `FrameStack` has been deprecated. This will raise an error in the future!\n",
      "\u001b[2m\u001b[36m(RolloutWorker pid=7494)\u001b[0m 2022-08-24 15:29:44,922\tWARNING deprecation.py:47 -- DeprecationWarning: `ray.rllib.algorithms.dqn.dqn.DEFAULT_CONFIG` has been deprecated. Use `ray.rllib.algorithms.dqn.dqn.DQNConfig(...)` instead. This will raise an error in the future!\n",
      "\u001b[2m\u001b[36m(RolloutWorker pid=7498)\u001b[0m A.L.E: Arcade Learning Environment (version 0.7.5+db37282)\n",
      "\u001b[2m\u001b[36m(RolloutWorker pid=7498)\u001b[0m [Powered by Stella]\n",
      "\u001b[2m\u001b[36m(RolloutWorker pid=7501)\u001b[0m A.L.E: Arcade Learning Environment (version 0.7.5+db37282)\n",
      "\u001b[2m\u001b[36m(RolloutWorker pid=7501)\u001b[0m [Powered by Stella]\n",
      "2022-08-24 15:29:47,923\tWARNING util.py:65 -- Install gputil for GPU system monitoring.\n"
     ]
    }
   ],
   "source": [
    "\n",
    "algorithm = TRAINER.DQN(config=config)"
   ]
  },
  {
   "cell_type": "code",
   "execution_count": 24,
   "metadata": {},
   "outputs": [
    {
     "data": {
      "text/plain": [
       "'.checkpoints/BreakoutNoFrameskip-v4/dqn_v1/'"
      ]
     },
     "execution_count": 24,
     "metadata": {},
     "output_type": "execute_result"
    }
   ],
   "source": [
    "algorithm._logdir = checkpoint_root\n",
    "algorithm.logdir"
   ]
  },
  {
   "cell_type": "code",
   "execution_count": 131,
   "metadata": {},
   "outputs": [],
   "source": [
    "def cleanValue(value):\n",
    "  valueType = type(value)\n",
    "  if (valueType == dict):\n",
    "    value = cleanDict(value)\n",
    "  elif(valueType == list):\n",
    "    value = cleanList(value)\n",
    "  elif(valueType) == float:\n",
    "    value == float(round(value,5))\n",
    "  elif (valueType in [str, int, bool, type(None)]):\n",
    "    pass\n",
    "  elif(valueType in [np.float32, np.float64]):\n",
    "    value = float(round(value,5))\n",
    "  elif(valueType == np.ndarray):\n",
    "    value = cleanList(value)\n",
    "  elif(valueType == type(TRAINER.DEFAULT_CONFIG)):\n",
    "    value == cleanDict(value)\n",
    "  else:\n",
    "    value = str(value)\n",
    "  return value\n",
    "  \n",
    "def cleanList(dirtyList):\n",
    "  cleanList=[]\n",
    "  for value in dirtyList:\n",
    "      cleanList.append(cleanValue(value))\n",
    "  return cleanList\n",
    "\n",
    "def cleanDict(dictionary):\n",
    "  for key, value in zip(dictionary.keys(),dictionary.values()):\n",
    "    dictionary[key] = cleanValue(value)\n",
    "  return dictionary\n"
   ]
  },
  {
   "cell_type": "code",
   "execution_count": 134,
   "metadata": {},
   "outputs": [],
   "source": [
    "for i in range(1000):\n",
    "  result = algorithm.train()\n",
    "  if i % 100 == 0:\n",
    "    checkpoint = algorithm.save(checkpoint_root)\n",
    "    with open(f'{checkpoint}/result.json', 'w') as fp:\n",
    "        # fp.write(str(result))\n",
    "        json.dump(cleanDict(result), fp,  indent=4)\n",
    "\n"
   ]
  }
 ],
 "metadata": {
  "kernelspec": {
   "display_name": "Python 3.9.12 ('ray')",
   "language": "python",
   "name": "python3"
  },
  "language_info": {
   "codemirror_mode": {
    "name": "ipython",
    "version": 3
   },
   "file_extension": ".py",
   "mimetype": "text/x-python",
   "name": "python",
   "nbconvert_exporter": "python",
   "pygments_lexer": "ipython3",
   "version": "3.9.12"
  },
  "orig_nbformat": 4,
  "vscode": {
   "interpreter": {
    "hash": "6ad465c2675b3f8dcc08dbaa7da39a6c4938396ea84379da3fe2bd2da4323b46"
   }
  }
 },
 "nbformat": 4,
 "nbformat_minor": 2
}
