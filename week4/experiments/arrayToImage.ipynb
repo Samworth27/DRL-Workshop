{
 "cells": [
  {
   "cell_type": "code",
   "execution_count": 107,
   "metadata": {},
   "outputs": [],
   "source": [
    "import base64\n",
    "import numpy as np\n",
    "from PIL import Image\n",
    "import io\n",
    "import os\n",
    "import json"
   ]
  },
  {
   "cell_type": "code",
   "execution_count": 130,
   "metadata": {},
   "outputs": [
    {
     "name": "stdout",
     "output_type": "stream",
     "text": [
      "[0.0000e+00 1.0000e+00 2.0000e+00 ... 7.6797e+04 7.6798e+04 7.6799e+04]\n",
      "[ True  True  True ...  True  True  True]\n"
     ]
    }
   ],
   "source": [
    "data = np.arange(320*240).astype(\"float32\")\n",
    "print(data)\n",
    "\n",
    "def encodeArray(array):\n",
    "    shape = array.shape\n",
    "    buffer = bytes(array.astype(\"float32\"))\n",
    "    encoded_string = base64.b64encode(buffer).decode(\"utf-8\")\n",
    "    return encoded_string, shape\n",
    "\n",
    "def decodeArray(encoded_string, shape):\n",
    "    decoded_bytes = base64.b64decode(bytes(encoded_string, 'utf-8'))\n",
    "    array = np.frombuffer(decoded_bytes, \"float32\").reshape(shape)\n",
    "    return array\n",
    "  \n",
    "encoded_data, shape = encodeArray(data)\n",
    "\n",
    "data2 = decodeArray(encoded_data, shape)\n",
    "print(data == data2)"
   ]
  },
  {
   "cell_type": "code",
   "execution_count": null,
   "metadata": {},
   "outputs": [],
   "source": [
    "\n",
    "# image = Image.fromarray(data.reshape(240,320),'L')\n",
    "# image.save(buffer, \"JPEG\")\n",
    "# buffer.seek(0)\n",
    "# b64string = base64.b64encode(buffer.read())\n",
    "# json_string = b64string.decode(\"utf-8\")\n",
    "\n",
    "# b64string_2 = bytes(json_string, 'utf-8')\n",
    "\n",
    "# image_bytes = base64.b64decode(b64string_2)\n",
    "# buffer_2 = io.BytesIO()\n",
    "# buffer_2.write(b64string_2)\n",
    "# buffer_2.seek(0)\n",
    "# Image.frombytes(\"RAW\", (240,320),b64string_2)\n",
    "\n",
    "# test = Image.open(buffer_2, formats=None, mode=\"r\")\n",
    "\n",
    "\n",
    "# decodeit = open('hello_level.jpeg', 'wb')\n",
    "# decodeit.write(base64.b64decode((b64string_2)))\n",
    "# decodeit.close()"
   ]
  },
  {
   "cell_type": "code",
   "execution_count": null,
   "metadata": {},
   "outputs": [],
   "source": []
  }
 ],
 "metadata": {
  "kernelspec": {
   "display_name": "Python 3.9.13 ('ray')",
   "language": "python",
   "name": "python3"
  },
  "language_info": {
   "codemirror_mode": {
    "name": "ipython",
    "version": 3
   },
   "file_extension": ".py",
   "mimetype": "text/x-python",
   "name": "python",
   "nbconvert_exporter": "python",
   "pygments_lexer": "ipython3",
   "version": "3.9.13"
  },
  "orig_nbformat": 4,
  "vscode": {
   "interpreter": {
    "hash": "6ad465c2675b3f8dcc08dbaa7da39a6c4938396ea84379da3fe2bd2da4323b46"
   }
  }
 },
 "nbformat": 4,
 "nbformat_minor": 2
}
