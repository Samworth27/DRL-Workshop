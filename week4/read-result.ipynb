{
 "cells": [
  {
   "cell_type": "code",
   "execution_count": 14,
   "metadata": {},
   "outputs": [],
   "source": [
    "import json\n",
    "import numpy as np\n",
    "import pandas as pd\n",
    "import matplotlib.pyplot as plt\n",
    "import os\n",
    "import plotly.express as px"
   ]
  },
  {
   "cell_type": "code",
   "execution_count": 114,
   "metadata": {},
   "outputs": [],
   "source": [
    "def collectVersionData(env, version):\n",
    "  BASE_DIR = \"./.checkpoints\"\n",
    "  results_dir = f'{BASE_DIR}/{env}/{version}'\n",
    "  \n",
    "  data = []\n",
    "  for folder in sorted(os.listdir(results_dir)):\n",
    "    if 'result.json' in os.listdir(f'{results_dir}/{folder}'):\n",
    "      data.append(json.load(open(f'{results_dir}/{folder}/result.json')))\n",
    "      \n",
    "  return data"
   ]
  },
  {
   "cell_type": "code",
   "execution_count": null,
   "metadata": {},
   "outputs": [],
   "source": [
    "def getAllFromDict(keys, listOfDicts):\n",
    "    data = {}\n",
    "    for key in keys:\n",
    "      data[key] =  [d[key] for d in listOfDicts]\n",
    "    return data"
   ]
  },
  {
   "cell_type": "code",
   "execution_count": 177,
   "metadata": {},
   "outputs": [],
   "source": [
    "def collectData(env, versions, stats=[]):\n",
    "  SAMPLER_KEYS = [\n",
    "    'episode_reward_max',\n",
    "    'episode_reward_min',\n",
    "    'episode_reward_mean',\n",
    "    \"episode_len_mean\"\n",
    "    ]\n",
    "  DQN_LEARNER_KEYS = [\n",
    "    'mean_q',\n",
    "    'mean_td_error'\n",
    "  ]\n",
    "  PPO_LEARNER_KEYS =[\n",
    "    \"cur_lr\",\n",
    "    \"total_loss\"\n",
    "  ]\n",
    "  TIME_KEYS = [\n",
    "    \"time_this_iter_s\",\n",
    "    \"episodes_total\"\n",
    "  ]\n",
    "  PERF_KEYS = [\n",
    "    \"cpu_util_percent\",\n",
    "    \"ram_util_percent\"\n",
    "  ]\n",
    "  \n",
    "  history = pd.DataFrame()\n",
    "  \n",
    "  for version in versions:\n",
    "    data = collectVersionData(env, version)\n",
    "    for epoch in data:\n",
    "      epoch_data = {\n",
    "        'epoch': epoch[\"training_iteration\"],\n",
    "        'environment': env,\n",
    "        'version': version\n",
    "      }\n",
    "      \n",
    "      sampler = epoch['sampler_results']\n",
    "      learner = epoch['info']['learner']['default_policy']['learner_stats']\n",
    "      perf = epoch['perf']\n",
    "      \n",
    "      if 'SAMPLER' in stats:\n",
    "        for key in SAMPLER_KEYS:\n",
    "          epoch_data[key] = sampler[key]\n",
    "      if 'DQN_LEARNER' in stats:\n",
    "        for key in DQN_LEARNER_KEYS:\n",
    "          epoch_data[key] = learner[key]\n",
    "      if 'PPO_LEARNER' in stats:\n",
    "        for key in PPO_LEARNER_KEYS:\n",
    "          epoch_data[key] = learner[key]\n",
    "      if 'TIME' in stats:\n",
    "        for key in TIME_KEYS:\n",
    "          epoch_data[key] = epoch[key]\n",
    "      if 'PERF' in stats:\n",
    "        for key in PERF_KEYS:\n",
    "          epoch_data[key] = perf[key]\n",
    "    \n",
    "      df = pd.DataFrame(epoch_data, index=[len(history)+1])\n",
    "      history = pd.concat([history,df])\n",
    "    \n",
    "  return history\n",
    "  \n"
   ]
  },
  {
   "cell_type": "code",
   "execution_count": 180,
   "metadata": {},
   "outputs": [],
   "source": [
    "def plotResultsVsEpoch(data, env, versions, keys=[]):\n",
    "  for key in keys:\n",
    "    fig = px.line(data, x='epoch', y=key, color='version')\n",
    "    fig.show()\n",
    "    \n",
    "def plotResultsVsEpisode(data,env,versions, keys=[]):\n",
    "    for key in keys:\n",
    "      fig = px.line(data, x='episodes_total', y=key, color='version')\n",
    "      fig.show()\n",
    "\n"
   ]
  },
  {
   "cell_type": "code",
   "execution_count": 178,
   "metadata": {},
   "outputs": [
    {
     "data": {
      "text/html": [
       "<div>\n",
       "<style scoped>\n",
       "    .dataframe tbody tr th:only-of-type {\n",
       "        vertical-align: middle;\n",
       "    }\n",
       "\n",
       "    .dataframe tbody tr th {\n",
       "        vertical-align: top;\n",
       "    }\n",
       "\n",
       "    .dataframe thead th {\n",
       "        text-align: right;\n",
       "    }\n",
       "</style>\n",
       "<table border=\"1\" class=\"dataframe\">\n",
       "  <thead>\n",
       "    <tr style=\"text-align: right;\">\n",
       "      <th></th>\n",
       "      <th>epoch</th>\n",
       "      <th>environment</th>\n",
       "      <th>version</th>\n",
       "      <th>episode_reward_max</th>\n",
       "      <th>episode_reward_min</th>\n",
       "      <th>episode_reward_mean</th>\n",
       "      <th>episode_len_mean</th>\n",
       "      <th>cur_lr</th>\n",
       "      <th>total_loss</th>\n",
       "      <th>time_this_iter_s</th>\n",
       "      <th>episodes_total</th>\n",
       "      <th>cpu_util_percent</th>\n",
       "      <th>ram_util_percent</th>\n",
       "    </tr>\n",
       "  </thead>\n",
       "  <tbody>\n",
       "    <tr>\n",
       "      <th>1</th>\n",
       "      <td>1</td>\n",
       "      <td>CustomOffWorldDockerMonolithDiscreteSim-v0</td>\n",
       "      <td>depth_only_v2</td>\n",
       "      <td>1.0</td>\n",
       "      <td>0.0</td>\n",
       "      <td>0.16667</td>\n",
       "      <td>36.62500</td>\n",
       "      <td>0.00005</td>\n",
       "      <td>-0.00128</td>\n",
       "      <td>198.378625</td>\n",
       "      <td>24</td>\n",
       "      <td>84.88028</td>\n",
       "      <td>77.04613</td>\n",
       "    </tr>\n",
       "    <tr>\n",
       "      <th>2</th>\n",
       "      <td>2</td>\n",
       "      <td>CustomOffWorldDockerMonolithDiscreteSim-v0</td>\n",
       "      <td>depth_only_v2</td>\n",
       "      <td>1.0</td>\n",
       "      <td>0.0</td>\n",
       "      <td>0.21739</td>\n",
       "      <td>40.04348</td>\n",
       "      <td>0.00005</td>\n",
       "      <td>-0.00070</td>\n",
       "      <td>201.156595</td>\n",
       "      <td>46</td>\n",
       "      <td>84.80488</td>\n",
       "      <td>79.42648</td>\n",
       "    </tr>\n",
       "    <tr>\n",
       "      <th>3</th>\n",
       "      <td>3</td>\n",
       "      <td>CustomOffWorldDockerMonolithDiscreteSim-v0</td>\n",
       "      <td>depth_only_v2</td>\n",
       "      <td>1.0</td>\n",
       "      <td>0.0</td>\n",
       "      <td>0.13636</td>\n",
       "      <td>44.18182</td>\n",
       "      <td>0.00005</td>\n",
       "      <td>-0.01210</td>\n",
       "      <td>279.636126</td>\n",
       "      <td>66</td>\n",
       "      <td>91.60576</td>\n",
       "      <td>89.78471</td>\n",
       "    </tr>\n",
       "    <tr>\n",
       "      <th>4</th>\n",
       "      <td>4</td>\n",
       "      <td>CustomOffWorldDockerMonolithDiscreteSim-v0</td>\n",
       "      <td>depth_only_v2</td>\n",
       "      <td>1.0</td>\n",
       "      <td>0.0</td>\n",
       "      <td>0.15730</td>\n",
       "      <td>44.56180</td>\n",
       "      <td>0.00005</td>\n",
       "      <td>0.00074</td>\n",
       "      <td>289.799797</td>\n",
       "      <td>89</td>\n",
       "      <td>91.59807</td>\n",
       "      <td>90.52126</td>\n",
       "    </tr>\n",
       "    <tr>\n",
       "      <th>5</th>\n",
       "      <td>5</td>\n",
       "      <td>CustomOffWorldDockerMonolithDiscreteSim-v0</td>\n",
       "      <td>depth_only_v2</td>\n",
       "      <td>1.0</td>\n",
       "      <td>0.0</td>\n",
       "      <td>0.18000</td>\n",
       "      <td>43.23000</td>\n",
       "      <td>0.00005</td>\n",
       "      <td>0.00121</td>\n",
       "      <td>285.488732</td>\n",
       "      <td>113</td>\n",
       "      <td>91.21744</td>\n",
       "      <td>89.59582</td>\n",
       "    </tr>\n",
       "    <tr>\n",
       "      <th>...</th>\n",
       "      <td>...</td>\n",
       "      <td>...</td>\n",
       "      <td>...</td>\n",
       "      <td>...</td>\n",
       "      <td>...</td>\n",
       "      <td>...</td>\n",
       "      <td>...</td>\n",
       "      <td>...</td>\n",
       "      <td>...</td>\n",
       "      <td>...</td>\n",
       "      <td>...</td>\n",
       "      <td>...</td>\n",
       "      <td>...</td>\n",
       "    </tr>\n",
       "    <tr>\n",
       "      <th>195</th>\n",
       "      <td>96</td>\n",
       "      <td>CustomOffWorldDockerMonolithDiscreteSim-v0</td>\n",
       "      <td>rgbd_v1</td>\n",
       "      <td>1.0</td>\n",
       "      <td>0.0</td>\n",
       "      <td>0.56000</td>\n",
       "      <td>46.58000</td>\n",
       "      <td>0.00005</td>\n",
       "      <td>-0.01660</td>\n",
       "      <td>208.451929</td>\n",
       "      <td>1601</td>\n",
       "      <td>85.15034</td>\n",
       "      <td>70.92416</td>\n",
       "    </tr>\n",
       "    <tr>\n",
       "      <th>196</th>\n",
       "      <td>97</td>\n",
       "      <td>CustomOffWorldDockerMonolithDiscreteSim-v0</td>\n",
       "      <td>rgbd_v1</td>\n",
       "      <td>1.0</td>\n",
       "      <td>0.0</td>\n",
       "      <td>0.49000</td>\n",
       "      <td>48.44000</td>\n",
       "      <td>0.00005</td>\n",
       "      <td>-0.02461</td>\n",
       "      <td>210.436869</td>\n",
       "      <td>1623</td>\n",
       "      <td>84.96833</td>\n",
       "      <td>71.22333</td>\n",
       "    </tr>\n",
       "    <tr>\n",
       "      <th>197</th>\n",
       "      <td>98</td>\n",
       "      <td>CustomOffWorldDockerMonolithDiscreteSim-v0</td>\n",
       "      <td>rgbd_v1</td>\n",
       "      <td>1.0</td>\n",
       "      <td>0.0</td>\n",
       "      <td>0.49000</td>\n",
       "      <td>46.40000</td>\n",
       "      <td>0.00005</td>\n",
       "      <td>-0.02717</td>\n",
       "      <td>207.933633</td>\n",
       "      <td>1638</td>\n",
       "      <td>85.19226</td>\n",
       "      <td>71.35926</td>\n",
       "    </tr>\n",
       "    <tr>\n",
       "      <th>198</th>\n",
       "      <td>99</td>\n",
       "      <td>CustomOffWorldDockerMonolithDiscreteSim-v0</td>\n",
       "      <td>rgbd_v1</td>\n",
       "      <td>1.0</td>\n",
       "      <td>0.0</td>\n",
       "      <td>0.42000</td>\n",
       "      <td>52.26000</td>\n",
       "      <td>0.00005</td>\n",
       "      <td>-0.03035</td>\n",
       "      <td>206.753668</td>\n",
       "      <td>1653</td>\n",
       "      <td>85.05831</td>\n",
       "      <td>71.77966</td>\n",
       "    </tr>\n",
       "    <tr>\n",
       "      <th>199</th>\n",
       "      <td>100</td>\n",
       "      <td>CustomOffWorldDockerMonolithDiscreteSim-v0</td>\n",
       "      <td>rgbd_v1</td>\n",
       "      <td>1.0</td>\n",
       "      <td>0.0</td>\n",
       "      <td>0.50000</td>\n",
       "      <td>52.11000</td>\n",
       "      <td>0.00005</td>\n",
       "      <td>-0.01742</td>\n",
       "      <td>209.234075</td>\n",
       "      <td>1676</td>\n",
       "      <td>85.27785</td>\n",
       "      <td>71.81544</td>\n",
       "    </tr>\n",
       "  </tbody>\n",
       "</table>\n",
       "<p>199 rows × 13 columns</p>\n",
       "</div>"
      ],
      "text/plain": [
       "     epoch                                 environment        version  \\\n",
       "1        1  CustomOffWorldDockerMonolithDiscreteSim-v0  depth_only_v2   \n",
       "2        2  CustomOffWorldDockerMonolithDiscreteSim-v0  depth_only_v2   \n",
       "3        3  CustomOffWorldDockerMonolithDiscreteSim-v0  depth_only_v2   \n",
       "4        4  CustomOffWorldDockerMonolithDiscreteSim-v0  depth_only_v2   \n",
       "5        5  CustomOffWorldDockerMonolithDiscreteSim-v0  depth_only_v2   \n",
       "..     ...                                         ...            ...   \n",
       "195     96  CustomOffWorldDockerMonolithDiscreteSim-v0        rgbd_v1   \n",
       "196     97  CustomOffWorldDockerMonolithDiscreteSim-v0        rgbd_v1   \n",
       "197     98  CustomOffWorldDockerMonolithDiscreteSim-v0        rgbd_v1   \n",
       "198     99  CustomOffWorldDockerMonolithDiscreteSim-v0        rgbd_v1   \n",
       "199    100  CustomOffWorldDockerMonolithDiscreteSim-v0        rgbd_v1   \n",
       "\n",
       "     episode_reward_max  episode_reward_min  episode_reward_mean  \\\n",
       "1                   1.0                 0.0              0.16667   \n",
       "2                   1.0                 0.0              0.21739   \n",
       "3                   1.0                 0.0              0.13636   \n",
       "4                   1.0                 0.0              0.15730   \n",
       "5                   1.0                 0.0              0.18000   \n",
       "..                  ...                 ...                  ...   \n",
       "195                 1.0                 0.0              0.56000   \n",
       "196                 1.0                 0.0              0.49000   \n",
       "197                 1.0                 0.0              0.49000   \n",
       "198                 1.0                 0.0              0.42000   \n",
       "199                 1.0                 0.0              0.50000   \n",
       "\n",
       "     episode_len_mean   cur_lr  total_loss  time_this_iter_s  episodes_total  \\\n",
       "1            36.62500  0.00005    -0.00128        198.378625              24   \n",
       "2            40.04348  0.00005    -0.00070        201.156595              46   \n",
       "3            44.18182  0.00005    -0.01210        279.636126              66   \n",
       "4            44.56180  0.00005     0.00074        289.799797              89   \n",
       "5            43.23000  0.00005     0.00121        285.488732             113   \n",
       "..                ...      ...         ...               ...             ...   \n",
       "195          46.58000  0.00005    -0.01660        208.451929            1601   \n",
       "196          48.44000  0.00005    -0.02461        210.436869            1623   \n",
       "197          46.40000  0.00005    -0.02717        207.933633            1638   \n",
       "198          52.26000  0.00005    -0.03035        206.753668            1653   \n",
       "199          52.11000  0.00005    -0.01742        209.234075            1676   \n",
       "\n",
       "     cpu_util_percent  ram_util_percent  \n",
       "1            84.88028          77.04613  \n",
       "2            84.80488          79.42648  \n",
       "3            91.60576          89.78471  \n",
       "4            91.59807          90.52126  \n",
       "5            91.21744          89.59582  \n",
       "..                ...               ...  \n",
       "195          85.15034          70.92416  \n",
       "196          84.96833          71.22333  \n",
       "197          85.19226          71.35926  \n",
       "198          85.05831          71.77966  \n",
       "199          85.27785          71.81544  \n",
       "\n",
       "[199 rows x 13 columns]"
      ]
     },
     "execution_count": 178,
     "metadata": {},
     "output_type": "execute_result"
    }
   ],
   "source": [
    "ENV = 'CustomOffWorldDockerMonolithDiscreteSim-v0'\n",
    "VERSIONS = [\n",
    "    'depth_only_v2',\n",
    "    'RGB_only_v1',\n",
    "    'rgbd_v1'\n",
    "    ]\n",
    "\n",
    "data = collectData(ENV, VERSIONS,['SAMPLER','PPO_LEARNER','TIME','PERF'])\n",
    "data"
   ]
  },
  {
   "cell_type": "code",
   "execution_count": 181,
   "metadata": {},
   "outputs": [
    {
     "data": {
      "application/vnd.plotly.v1+json": {
       "config": {
        "plotlyServerURL": "https://plot.ly"
       },
       "data": [
        {
         "hovertemplate": "version=depth_only_v2<br>epoch=%{x}<br>episode_reward_mean=%{y}<extra></extra>",
         "legendgroup": "depth_only_v2",
         "line": {
          "color": "#636efa",
          "dash": "solid"
         },
         "marker": {
          "symbol": "circle"
         },
         "mode": "lines",
         "name": "depth_only_v2",
         "orientation": "v",
         "showlegend": true,
         "type": "scatter",
         "x": [
          1,
          2,
          3,
          4,
          5,
          6,
          7,
          8,
          9,
          10,
          11,
          12,
          13,
          14,
          15,
          16,
          17,
          18,
          19,
          20,
          21,
          22,
          23,
          24,
          25,
          26,
          27,
          28,
          29,
          30,
          31,
          32,
          33,
          34,
          35,
          36,
          37,
          38
         ],
         "xaxis": "x",
         "y": [
          0.16667,
          0.21739,
          0.13636,
          0.1573,
          0.18,
          0.22,
          0.3,
          0.34,
          0.36,
          0.38,
          0.42,
          0.48,
          0.55,
          0.6,
          0.63,
          0.62,
          0.61,
          0.55,
          0.49,
          0.51,
          0.53,
          0.54,
          0.57,
          0.68,
          0.7,
          0.68,
          0.58824,
          0.56098,
          0.63768,
          0.66292,
          0.73913,
          0.7451,
          0.75641,
          0.72,
          0.71,
          0.68,
          0.72,
          0.75
         ],
         "yaxis": "y"
        },
        {
         "hovertemplate": "version=RGB_only_v1<br>epoch=%{x}<br>episode_reward_mean=%{y}<extra></extra>",
         "legendgroup": "RGB_only_v1",
         "line": {
          "color": "#EF553B",
          "dash": "solid"
         },
         "marker": {
          "symbol": "circle"
         },
         "mode": "lines",
         "name": "RGB_only_v1",
         "orientation": "v",
         "showlegend": true,
         "type": "scatter",
         "x": [
          1,
          2,
          3,
          4,
          5,
          6,
          7,
          8,
          9,
          10,
          11,
          12,
          13,
          14,
          15,
          16,
          17,
          18,
          19,
          20,
          21,
          22,
          23,
          24,
          25,
          26,
          27,
          28,
          29,
          30,
          31,
          32,
          33,
          34,
          35,
          36,
          37,
          38,
          39,
          40,
          41,
          42,
          43,
          44,
          45,
          46,
          47,
          48,
          49,
          50,
          51,
          52,
          53,
          54,
          55,
          56,
          57,
          58,
          59,
          60,
          61
         ],
         "xaxis": "x",
         "y": [
          0.13636,
          0.12766,
          0.10448,
          0.08889,
          0.09,
          0.07,
          0.09,
          0.24,
          0.14754,
          0.18182,
          0.2,
          0.17,
          0.18,
          0.15,
          0.1,
          0.12,
          0.15,
          0.13,
          0.14,
          0.16,
          0.15,
          0.21,
          0.21,
          0.22,
          0.22,
          0.2,
          0.22,
          0.2,
          0.21,
          0.2,
          0.21,
          0.19,
          0.2,
          0.21,
          0.23,
          0.18,
          0.16,
          0.19,
          0.17,
          0.14,
          0.15,
          0.17,
          0.17,
          0.22,
          0.25,
          0.26,
          0.31,
          0.37,
          0.4,
          0.37,
          0.36,
          0.36,
          0.33,
          0.3,
          0.32,
          0.34,
          0.38,
          0.32,
          0.29,
          0.27,
          0.29
         ],
         "yaxis": "y"
        },
        {
         "hovertemplate": "version=rgbd_v1<br>epoch=%{x}<br>episode_reward_mean=%{y}<extra></extra>",
         "legendgroup": "rgbd_v1",
         "line": {
          "color": "#00cc96",
          "dash": "solid"
         },
         "marker": {
          "symbol": "circle"
         },
         "mode": "lines",
         "name": "rgbd_v1",
         "orientation": "v",
         "showlegend": true,
         "type": "scatter",
         "x": [
          1,
          2,
          3,
          4,
          5,
          6,
          7,
          8,
          9,
          10,
          11,
          12,
          13,
          14,
          15,
          16,
          17,
          18,
          19,
          20,
          21,
          22,
          23,
          24,
          25,
          26,
          27,
          28,
          29,
          30,
          31,
          32,
          33,
          34,
          35,
          36,
          37,
          38,
          39,
          40,
          41,
          42,
          43,
          44,
          45,
          46,
          47,
          48,
          49,
          50,
          51,
          52,
          53,
          54,
          55,
          56,
          57,
          58,
          59,
          60,
          61,
          62,
          63,
          64,
          65,
          66,
          67,
          68,
          69,
          70,
          71,
          72,
          73,
          74,
          75,
          76,
          77,
          78,
          79,
          80,
          81,
          82,
          83,
          84,
          85,
          86,
          87,
          88,
          89,
          90,
          91,
          92,
          93,
          94,
          95,
          96,
          97,
          98,
          99,
          100
         ],
         "xaxis": "x",
         "y": [
          0.07692,
          0.04444,
          0.03077,
          0.0375,
          0.04255,
          0.03,
          0.02,
          0.02,
          0.04,
          0.05,
          0.06,
          0.08,
          0.1,
          0.09,
          0.12,
          0.12,
          0.12,
          0.09,
          0.11,
          0.14,
          0.15,
          0.15,
          0.16,
          0.17,
          0.19,
          0.19,
          0.19,
          0.14,
          0.15,
          0.14,
          0.14,
          0.15,
          0.14,
          0.14,
          0.15,
          0.16,
          0.18,
          0.17,
          0.16,
          0.18,
          0.2,
          0.23,
          0.21,
          0.22,
          0.25,
          0.24,
          0.22,
          0.2,
          0.22,
          0.23,
          0.25,
          0.25,
          0.25,
          0.29,
          0.32,
          0.34,
          0.34,
          0.36,
          0.38,
          0.36,
          0.32,
          0.32,
          0.32,
          0.36,
          0.34,
          0.37,
          0.35,
          0.35,
          0.34,
          0.3,
          0.29,
          0.28,
          0.3,
          0.3,
          0.31,
          0.32,
          0.31,
          0.33,
          0.29,
          0.35,
          0.38,
          0.39,
          0.43,
          0.43,
          0.42,
          0.44,
          0.39,
          0.4,
          0.43,
          0.4,
          0.38,
          0.43,
          0.41,
          0.48,
          0.51,
          0.56,
          0.49,
          0.49,
          0.42,
          0.5
         ],
         "yaxis": "y"
        }
       ],
       "layout": {
        "legend": {
         "title": {
          "text": "version"
         },
         "tracegroupgap": 0
        },
        "margin": {
         "t": 60
        },
        "template": {
         "data": {
          "bar": [
           {
            "error_x": {
             "color": "#2a3f5f"
            },
            "error_y": {
             "color": "#2a3f5f"
            },
            "marker": {
             "line": {
              "color": "#E5ECF6",
              "width": 0.5
             },
             "pattern": {
              "fillmode": "overlay",
              "size": 10,
              "solidity": 0.2
             }
            },
            "type": "bar"
           }
          ],
          "barpolar": [
           {
            "marker": {
             "line": {
              "color": "#E5ECF6",
              "width": 0.5
             },
             "pattern": {
              "fillmode": "overlay",
              "size": 10,
              "solidity": 0.2
             }
            },
            "type": "barpolar"
           }
          ],
          "carpet": [
           {
            "aaxis": {
             "endlinecolor": "#2a3f5f",
             "gridcolor": "white",
             "linecolor": "white",
             "minorgridcolor": "white",
             "startlinecolor": "#2a3f5f"
            },
            "baxis": {
             "endlinecolor": "#2a3f5f",
             "gridcolor": "white",
             "linecolor": "white",
             "minorgridcolor": "white",
             "startlinecolor": "#2a3f5f"
            },
            "type": "carpet"
           }
          ],
          "choropleth": [
           {
            "colorbar": {
             "outlinewidth": 0,
             "ticks": ""
            },
            "type": "choropleth"
           }
          ],
          "contour": [
           {
            "colorbar": {
             "outlinewidth": 0,
             "ticks": ""
            },
            "colorscale": [
             [
              0,
              "#0d0887"
             ],
             [
              0.1111111111111111,
              "#46039f"
             ],
             [
              0.2222222222222222,
              "#7201a8"
             ],
             [
              0.3333333333333333,
              "#9c179e"
             ],
             [
              0.4444444444444444,
              "#bd3786"
             ],
             [
              0.5555555555555556,
              "#d8576b"
             ],
             [
              0.6666666666666666,
              "#ed7953"
             ],
             [
              0.7777777777777778,
              "#fb9f3a"
             ],
             [
              0.8888888888888888,
              "#fdca26"
             ],
             [
              1,
              "#f0f921"
             ]
            ],
            "type": "contour"
           }
          ],
          "contourcarpet": [
           {
            "colorbar": {
             "outlinewidth": 0,
             "ticks": ""
            },
            "type": "contourcarpet"
           }
          ],
          "heatmap": [
           {
            "colorbar": {
             "outlinewidth": 0,
             "ticks": ""
            },
            "colorscale": [
             [
              0,
              "#0d0887"
             ],
             [
              0.1111111111111111,
              "#46039f"
             ],
             [
              0.2222222222222222,
              "#7201a8"
             ],
             [
              0.3333333333333333,
              "#9c179e"
             ],
             [
              0.4444444444444444,
              "#bd3786"
             ],
             [
              0.5555555555555556,
              "#d8576b"
             ],
             [
              0.6666666666666666,
              "#ed7953"
             ],
             [
              0.7777777777777778,
              "#fb9f3a"
             ],
             [
              0.8888888888888888,
              "#fdca26"
             ],
             [
              1,
              "#f0f921"
             ]
            ],
            "type": "heatmap"
           }
          ],
          "heatmapgl": [
           {
            "colorbar": {
             "outlinewidth": 0,
             "ticks": ""
            },
            "colorscale": [
             [
              0,
              "#0d0887"
             ],
             [
              0.1111111111111111,
              "#46039f"
             ],
             [
              0.2222222222222222,
              "#7201a8"
             ],
             [
              0.3333333333333333,
              "#9c179e"
             ],
             [
              0.4444444444444444,
              "#bd3786"
             ],
             [
              0.5555555555555556,
              "#d8576b"
             ],
             [
              0.6666666666666666,
              "#ed7953"
             ],
             [
              0.7777777777777778,
              "#fb9f3a"
             ],
             [
              0.8888888888888888,
              "#fdca26"
             ],
             [
              1,
              "#f0f921"
             ]
            ],
            "type": "heatmapgl"
           }
          ],
          "histogram": [
           {
            "marker": {
             "pattern": {
              "fillmode": "overlay",
              "size": 10,
              "solidity": 0.2
             }
            },
            "type": "histogram"
           }
          ],
          "histogram2d": [
           {
            "colorbar": {
             "outlinewidth": 0,
             "ticks": ""
            },
            "colorscale": [
             [
              0,
              "#0d0887"
             ],
             [
              0.1111111111111111,
              "#46039f"
             ],
             [
              0.2222222222222222,
              "#7201a8"
             ],
             [
              0.3333333333333333,
              "#9c179e"
             ],
             [
              0.4444444444444444,
              "#bd3786"
             ],
             [
              0.5555555555555556,
              "#d8576b"
             ],
             [
              0.6666666666666666,
              "#ed7953"
             ],
             [
              0.7777777777777778,
              "#fb9f3a"
             ],
             [
              0.8888888888888888,
              "#fdca26"
             ],
             [
              1,
              "#f0f921"
             ]
            ],
            "type": "histogram2d"
           }
          ],
          "histogram2dcontour": [
           {
            "colorbar": {
             "outlinewidth": 0,
             "ticks": ""
            },
            "colorscale": [
             [
              0,
              "#0d0887"
             ],
             [
              0.1111111111111111,
              "#46039f"
             ],
             [
              0.2222222222222222,
              "#7201a8"
             ],
             [
              0.3333333333333333,
              "#9c179e"
             ],
             [
              0.4444444444444444,
              "#bd3786"
             ],
             [
              0.5555555555555556,
              "#d8576b"
             ],
             [
              0.6666666666666666,
              "#ed7953"
             ],
             [
              0.7777777777777778,
              "#fb9f3a"
             ],
             [
              0.8888888888888888,
              "#fdca26"
             ],
             [
              1,
              "#f0f921"
             ]
            ],
            "type": "histogram2dcontour"
           }
          ],
          "mesh3d": [
           {
            "colorbar": {
             "outlinewidth": 0,
             "ticks": ""
            },
            "type": "mesh3d"
           }
          ],
          "parcoords": [
           {
            "line": {
             "colorbar": {
              "outlinewidth": 0,
              "ticks": ""
             }
            },
            "type": "parcoords"
           }
          ],
          "pie": [
           {
            "automargin": true,
            "type": "pie"
           }
          ],
          "scatter": [
           {
            "fillpattern": {
             "fillmode": "overlay",
             "size": 10,
             "solidity": 0.2
            },
            "type": "scatter"
           }
          ],
          "scatter3d": [
           {
            "line": {
             "colorbar": {
              "outlinewidth": 0,
              "ticks": ""
             }
            },
            "marker": {
             "colorbar": {
              "outlinewidth": 0,
              "ticks": ""
             }
            },
            "type": "scatter3d"
           }
          ],
          "scattercarpet": [
           {
            "marker": {
             "colorbar": {
              "outlinewidth": 0,
              "ticks": ""
             }
            },
            "type": "scattercarpet"
           }
          ],
          "scattergeo": [
           {
            "marker": {
             "colorbar": {
              "outlinewidth": 0,
              "ticks": ""
             }
            },
            "type": "scattergeo"
           }
          ],
          "scattergl": [
           {
            "marker": {
             "colorbar": {
              "outlinewidth": 0,
              "ticks": ""
             }
            },
            "type": "scattergl"
           }
          ],
          "scattermapbox": [
           {
            "marker": {
             "colorbar": {
              "outlinewidth": 0,
              "ticks": ""
             }
            },
            "type": "scattermapbox"
           }
          ],
          "scatterpolar": [
           {
            "marker": {
             "colorbar": {
              "outlinewidth": 0,
              "ticks": ""
             }
            },
            "type": "scatterpolar"
           }
          ],
          "scatterpolargl": [
           {
            "marker": {
             "colorbar": {
              "outlinewidth": 0,
              "ticks": ""
             }
            },
            "type": "scatterpolargl"
           }
          ],
          "scatterternary": [
           {
            "marker": {
             "colorbar": {
              "outlinewidth": 0,
              "ticks": ""
             }
            },
            "type": "scatterternary"
           }
          ],
          "surface": [
           {
            "colorbar": {
             "outlinewidth": 0,
             "ticks": ""
            },
            "colorscale": [
             [
              0,
              "#0d0887"
             ],
             [
              0.1111111111111111,
              "#46039f"
             ],
             [
              0.2222222222222222,
              "#7201a8"
             ],
             [
              0.3333333333333333,
              "#9c179e"
             ],
             [
              0.4444444444444444,
              "#bd3786"
             ],
             [
              0.5555555555555556,
              "#d8576b"
             ],
             [
              0.6666666666666666,
              "#ed7953"
             ],
             [
              0.7777777777777778,
              "#fb9f3a"
             ],
             [
              0.8888888888888888,
              "#fdca26"
             ],
             [
              1,
              "#f0f921"
             ]
            ],
            "type": "surface"
           }
          ],
          "table": [
           {
            "cells": {
             "fill": {
              "color": "#EBF0F8"
             },
             "line": {
              "color": "white"
             }
            },
            "header": {
             "fill": {
              "color": "#C8D4E3"
             },
             "line": {
              "color": "white"
             }
            },
            "type": "table"
           }
          ]
         },
         "layout": {
          "annotationdefaults": {
           "arrowcolor": "#2a3f5f",
           "arrowhead": 0,
           "arrowwidth": 1
          },
          "autotypenumbers": "strict",
          "coloraxis": {
           "colorbar": {
            "outlinewidth": 0,
            "ticks": ""
           }
          },
          "colorscale": {
           "diverging": [
            [
             0,
             "#8e0152"
            ],
            [
             0.1,
             "#c51b7d"
            ],
            [
             0.2,
             "#de77ae"
            ],
            [
             0.3,
             "#f1b6da"
            ],
            [
             0.4,
             "#fde0ef"
            ],
            [
             0.5,
             "#f7f7f7"
            ],
            [
             0.6,
             "#e6f5d0"
            ],
            [
             0.7,
             "#b8e186"
            ],
            [
             0.8,
             "#7fbc41"
            ],
            [
             0.9,
             "#4d9221"
            ],
            [
             1,
             "#276419"
            ]
           ],
           "sequential": [
            [
             0,
             "#0d0887"
            ],
            [
             0.1111111111111111,
             "#46039f"
            ],
            [
             0.2222222222222222,
             "#7201a8"
            ],
            [
             0.3333333333333333,
             "#9c179e"
            ],
            [
             0.4444444444444444,
             "#bd3786"
            ],
            [
             0.5555555555555556,
             "#d8576b"
            ],
            [
             0.6666666666666666,
             "#ed7953"
            ],
            [
             0.7777777777777778,
             "#fb9f3a"
            ],
            [
             0.8888888888888888,
             "#fdca26"
            ],
            [
             1,
             "#f0f921"
            ]
           ],
           "sequentialminus": [
            [
             0,
             "#0d0887"
            ],
            [
             0.1111111111111111,
             "#46039f"
            ],
            [
             0.2222222222222222,
             "#7201a8"
            ],
            [
             0.3333333333333333,
             "#9c179e"
            ],
            [
             0.4444444444444444,
             "#bd3786"
            ],
            [
             0.5555555555555556,
             "#d8576b"
            ],
            [
             0.6666666666666666,
             "#ed7953"
            ],
            [
             0.7777777777777778,
             "#fb9f3a"
            ],
            [
             0.8888888888888888,
             "#fdca26"
            ],
            [
             1,
             "#f0f921"
            ]
           ]
          },
          "colorway": [
           "#636efa",
           "#EF553B",
           "#00cc96",
           "#ab63fa",
           "#FFA15A",
           "#19d3f3",
           "#FF6692",
           "#B6E880",
           "#FF97FF",
           "#FECB52"
          ],
          "font": {
           "color": "#2a3f5f"
          },
          "geo": {
           "bgcolor": "white",
           "lakecolor": "white",
           "landcolor": "#E5ECF6",
           "showlakes": true,
           "showland": true,
           "subunitcolor": "white"
          },
          "hoverlabel": {
           "align": "left"
          },
          "hovermode": "closest",
          "mapbox": {
           "style": "light"
          },
          "paper_bgcolor": "white",
          "plot_bgcolor": "#E5ECF6",
          "polar": {
           "angularaxis": {
            "gridcolor": "white",
            "linecolor": "white",
            "ticks": ""
           },
           "bgcolor": "#E5ECF6",
           "radialaxis": {
            "gridcolor": "white",
            "linecolor": "white",
            "ticks": ""
           }
          },
          "scene": {
           "xaxis": {
            "backgroundcolor": "#E5ECF6",
            "gridcolor": "white",
            "gridwidth": 2,
            "linecolor": "white",
            "showbackground": true,
            "ticks": "",
            "zerolinecolor": "white"
           },
           "yaxis": {
            "backgroundcolor": "#E5ECF6",
            "gridcolor": "white",
            "gridwidth": 2,
            "linecolor": "white",
            "showbackground": true,
            "ticks": "",
            "zerolinecolor": "white"
           },
           "zaxis": {
            "backgroundcolor": "#E5ECF6",
            "gridcolor": "white",
            "gridwidth": 2,
            "linecolor": "white",
            "showbackground": true,
            "ticks": "",
            "zerolinecolor": "white"
           }
          },
          "shapedefaults": {
           "line": {
            "color": "#2a3f5f"
           }
          },
          "ternary": {
           "aaxis": {
            "gridcolor": "white",
            "linecolor": "white",
            "ticks": ""
           },
           "baxis": {
            "gridcolor": "white",
            "linecolor": "white",
            "ticks": ""
           },
           "bgcolor": "#E5ECF6",
           "caxis": {
            "gridcolor": "white",
            "linecolor": "white",
            "ticks": ""
           }
          },
          "title": {
           "x": 0.05
          },
          "xaxis": {
           "automargin": true,
           "gridcolor": "white",
           "linecolor": "white",
           "ticks": "",
           "title": {
            "standoff": 15
           },
           "zerolinecolor": "white",
           "zerolinewidth": 2
          },
          "yaxis": {
           "automargin": true,
           "gridcolor": "white",
           "linecolor": "white",
           "ticks": "",
           "title": {
            "standoff": 15
           },
           "zerolinecolor": "white",
           "zerolinewidth": 2
          }
         }
        },
        "xaxis": {
         "anchor": "y",
         "domain": [
          0,
          1
         ],
         "title": {
          "text": "epoch"
         }
        },
        "yaxis": {
         "anchor": "x",
         "domain": [
          0,
          1
         ],
         "title": {
          "text": "episode_reward_mean"
         }
        }
       }
      }
     },
     "metadata": {},
     "output_type": "display_data"
    },
    {
     "data": {
      "application/vnd.plotly.v1+json": {
       "config": {
        "plotlyServerURL": "https://plot.ly"
       },
       "data": [
        {
         "hovertemplate": "version=depth_only_v2<br>episodes_total=%{x}<br>episode_reward_mean=%{y}<extra></extra>",
         "legendgroup": "depth_only_v2",
         "line": {
          "color": "#636efa",
          "dash": "solid"
         },
         "marker": {
          "symbol": "circle"
         },
         "mode": "lines",
         "name": "depth_only_v2",
         "orientation": "v",
         "showlegend": true,
         "type": "scatter",
         "x": [
          24,
          46,
          66,
          89,
          113,
          136,
          159,
          180,
          198,
          217,
          241,
          263,
          281,
          302,
          321,
          344,
          362,
          376,
          394,
          418,
          435,
          456,
          473,
          499,
          523,
          544,
          561,
          585,
          613,
          633,
          656,
          684,
          711,
          739,
          765,
          790,
          814,
          839
         ],
         "xaxis": "x",
         "y": [
          0.16667,
          0.21739,
          0.13636,
          0.1573,
          0.18,
          0.22,
          0.3,
          0.34,
          0.36,
          0.38,
          0.42,
          0.48,
          0.55,
          0.6,
          0.63,
          0.62,
          0.61,
          0.55,
          0.49,
          0.51,
          0.53,
          0.54,
          0.57,
          0.68,
          0.7,
          0.68,
          0.58824,
          0.56098,
          0.63768,
          0.66292,
          0.73913,
          0.7451,
          0.75641,
          0.72,
          0.71,
          0.68,
          0.72,
          0.75
         ],
         "yaxis": "y"
        },
        {
         "hovertemplate": "version=RGB_only_v1<br>episodes_total=%{x}<br>episode_reward_mean=%{y}<extra></extra>",
         "legendgroup": "RGB_only_v1",
         "line": {
          "color": "#EF553B",
          "dash": "solid"
         },
         "marker": {
          "symbol": "circle"
         },
         "mode": "lines",
         "name": "RGB_only_v1",
         "orientation": "v",
         "showlegend": true,
         "type": "scatter",
         "x": [
          22,
          47,
          67,
          90,
          120,
          145,
          166,
          191,
          227,
          254,
          275,
          303,
          318,
          346,
          375,
          399,
          428,
          450,
          475,
          501,
          526,
          550,
          570,
          590,
          612,
          638,
          656,
          676,
          702,
          722,
          743,
          763,
          779,
          799,
          813,
          831,
          851,
          864,
          884,
          901,
          923,
          946,
          964,
          987,
          1006,
          1019,
          1036,
          1056,
          1077,
          1093,
          1107,
          1125,
          1150,
          1162,
          1177,
          1200,
          1217,
          1237,
          1256,
          1275,
          1293
         ],
         "xaxis": "x",
         "y": [
          0.13636,
          0.12766,
          0.10448,
          0.08889,
          0.09,
          0.07,
          0.09,
          0.24,
          0.14754,
          0.18182,
          0.2,
          0.17,
          0.18,
          0.15,
          0.1,
          0.12,
          0.15,
          0.13,
          0.14,
          0.16,
          0.15,
          0.21,
          0.21,
          0.22,
          0.22,
          0.2,
          0.22,
          0.2,
          0.21,
          0.2,
          0.21,
          0.19,
          0.2,
          0.21,
          0.23,
          0.18,
          0.16,
          0.19,
          0.17,
          0.14,
          0.15,
          0.17,
          0.17,
          0.22,
          0.25,
          0.26,
          0.31,
          0.37,
          0.4,
          0.37,
          0.36,
          0.36,
          0.33,
          0.3,
          0.32,
          0.34,
          0.38,
          0.32,
          0.29,
          0.27,
          0.29
         ],
         "yaxis": "y"
        },
        {
         "hovertemplate": "version=rgbd_v1<br>episodes_total=%{x}<br>episode_reward_mean=%{y}<extra></extra>",
         "legendgroup": "rgbd_v1",
         "line": {
          "color": "#00cc96",
          "dash": "solid"
         },
         "marker": {
          "symbol": "circle"
         },
         "mode": "lines",
         "name": "rgbd_v1",
         "orientation": "v",
         "showlegend": true,
         "type": "scatter",
         "x": [
          26,
          45,
          65,
          80,
          94,
          112,
          125,
          143,
          159,
          177,
          197,
          214,
          232,
          249,
          263,
          277,
          291,
          311,
          326,
          341,
          357,
          369,
          383,
          398,
          414,
          432,
          448,
          467,
          482,
          497,
          511,
          524,
          536,
          550,
          562,
          577,
          590,
          604,
          619,
          634,
          650,
          666,
          680,
          698,
          714,
          727,
          748,
          763,
          777,
          790,
          809,
          828,
          842,
          858,
          873,
          889,
          905,
          923,
          937,
          954,
          972,
          992,
          1009,
          1025,
          1045,
          1070,
          1086,
          1102,
          1115,
          1128,
          1142,
          1155,
          1174,
          1194,
          1212,
          1229,
          1246,
          1258,
          1277,
          1295,
          1317,
          1337,
          1355,
          1371,
          1388,
          1411,
          1427,
          1445,
          1466,
          1483,
          1497,
          1519,
          1533,
          1559,
          1581,
          1601,
          1623,
          1638,
          1653,
          1676
         ],
         "xaxis": "x",
         "y": [
          0.07692,
          0.04444,
          0.03077,
          0.0375,
          0.04255,
          0.03,
          0.02,
          0.02,
          0.04,
          0.05,
          0.06,
          0.08,
          0.1,
          0.09,
          0.12,
          0.12,
          0.12,
          0.09,
          0.11,
          0.14,
          0.15,
          0.15,
          0.16,
          0.17,
          0.19,
          0.19,
          0.19,
          0.14,
          0.15,
          0.14,
          0.14,
          0.15,
          0.14,
          0.14,
          0.15,
          0.16,
          0.18,
          0.17,
          0.16,
          0.18,
          0.2,
          0.23,
          0.21,
          0.22,
          0.25,
          0.24,
          0.22,
          0.2,
          0.22,
          0.23,
          0.25,
          0.25,
          0.25,
          0.29,
          0.32,
          0.34,
          0.34,
          0.36,
          0.38,
          0.36,
          0.32,
          0.32,
          0.32,
          0.36,
          0.34,
          0.37,
          0.35,
          0.35,
          0.34,
          0.3,
          0.29,
          0.28,
          0.3,
          0.3,
          0.31,
          0.32,
          0.31,
          0.33,
          0.29,
          0.35,
          0.38,
          0.39,
          0.43,
          0.43,
          0.42,
          0.44,
          0.39,
          0.4,
          0.43,
          0.4,
          0.38,
          0.43,
          0.41,
          0.48,
          0.51,
          0.56,
          0.49,
          0.49,
          0.42,
          0.5
         ],
         "yaxis": "y"
        }
       ],
       "layout": {
        "legend": {
         "title": {
          "text": "version"
         },
         "tracegroupgap": 0
        },
        "margin": {
         "t": 60
        },
        "template": {
         "data": {
          "bar": [
           {
            "error_x": {
             "color": "#2a3f5f"
            },
            "error_y": {
             "color": "#2a3f5f"
            },
            "marker": {
             "line": {
              "color": "#E5ECF6",
              "width": 0.5
             },
             "pattern": {
              "fillmode": "overlay",
              "size": 10,
              "solidity": 0.2
             }
            },
            "type": "bar"
           }
          ],
          "barpolar": [
           {
            "marker": {
             "line": {
              "color": "#E5ECF6",
              "width": 0.5
             },
             "pattern": {
              "fillmode": "overlay",
              "size": 10,
              "solidity": 0.2
             }
            },
            "type": "barpolar"
           }
          ],
          "carpet": [
           {
            "aaxis": {
             "endlinecolor": "#2a3f5f",
             "gridcolor": "white",
             "linecolor": "white",
             "minorgridcolor": "white",
             "startlinecolor": "#2a3f5f"
            },
            "baxis": {
             "endlinecolor": "#2a3f5f",
             "gridcolor": "white",
             "linecolor": "white",
             "minorgridcolor": "white",
             "startlinecolor": "#2a3f5f"
            },
            "type": "carpet"
           }
          ],
          "choropleth": [
           {
            "colorbar": {
             "outlinewidth": 0,
             "ticks": ""
            },
            "type": "choropleth"
           }
          ],
          "contour": [
           {
            "colorbar": {
             "outlinewidth": 0,
             "ticks": ""
            },
            "colorscale": [
             [
              0,
              "#0d0887"
             ],
             [
              0.1111111111111111,
              "#46039f"
             ],
             [
              0.2222222222222222,
              "#7201a8"
             ],
             [
              0.3333333333333333,
              "#9c179e"
             ],
             [
              0.4444444444444444,
              "#bd3786"
             ],
             [
              0.5555555555555556,
              "#d8576b"
             ],
             [
              0.6666666666666666,
              "#ed7953"
             ],
             [
              0.7777777777777778,
              "#fb9f3a"
             ],
             [
              0.8888888888888888,
              "#fdca26"
             ],
             [
              1,
              "#f0f921"
             ]
            ],
            "type": "contour"
           }
          ],
          "contourcarpet": [
           {
            "colorbar": {
             "outlinewidth": 0,
             "ticks": ""
            },
            "type": "contourcarpet"
           }
          ],
          "heatmap": [
           {
            "colorbar": {
             "outlinewidth": 0,
             "ticks": ""
            },
            "colorscale": [
             [
              0,
              "#0d0887"
             ],
             [
              0.1111111111111111,
              "#46039f"
             ],
             [
              0.2222222222222222,
              "#7201a8"
             ],
             [
              0.3333333333333333,
              "#9c179e"
             ],
             [
              0.4444444444444444,
              "#bd3786"
             ],
             [
              0.5555555555555556,
              "#d8576b"
             ],
             [
              0.6666666666666666,
              "#ed7953"
             ],
             [
              0.7777777777777778,
              "#fb9f3a"
             ],
             [
              0.8888888888888888,
              "#fdca26"
             ],
             [
              1,
              "#f0f921"
             ]
            ],
            "type": "heatmap"
           }
          ],
          "heatmapgl": [
           {
            "colorbar": {
             "outlinewidth": 0,
             "ticks": ""
            },
            "colorscale": [
             [
              0,
              "#0d0887"
             ],
             [
              0.1111111111111111,
              "#46039f"
             ],
             [
              0.2222222222222222,
              "#7201a8"
             ],
             [
              0.3333333333333333,
              "#9c179e"
             ],
             [
              0.4444444444444444,
              "#bd3786"
             ],
             [
              0.5555555555555556,
              "#d8576b"
             ],
             [
              0.6666666666666666,
              "#ed7953"
             ],
             [
              0.7777777777777778,
              "#fb9f3a"
             ],
             [
              0.8888888888888888,
              "#fdca26"
             ],
             [
              1,
              "#f0f921"
             ]
            ],
            "type": "heatmapgl"
           }
          ],
          "histogram": [
           {
            "marker": {
             "pattern": {
              "fillmode": "overlay",
              "size": 10,
              "solidity": 0.2
             }
            },
            "type": "histogram"
           }
          ],
          "histogram2d": [
           {
            "colorbar": {
             "outlinewidth": 0,
             "ticks": ""
            },
            "colorscale": [
             [
              0,
              "#0d0887"
             ],
             [
              0.1111111111111111,
              "#46039f"
             ],
             [
              0.2222222222222222,
              "#7201a8"
             ],
             [
              0.3333333333333333,
              "#9c179e"
             ],
             [
              0.4444444444444444,
              "#bd3786"
             ],
             [
              0.5555555555555556,
              "#d8576b"
             ],
             [
              0.6666666666666666,
              "#ed7953"
             ],
             [
              0.7777777777777778,
              "#fb9f3a"
             ],
             [
              0.8888888888888888,
              "#fdca26"
             ],
             [
              1,
              "#f0f921"
             ]
            ],
            "type": "histogram2d"
           }
          ],
          "histogram2dcontour": [
           {
            "colorbar": {
             "outlinewidth": 0,
             "ticks": ""
            },
            "colorscale": [
             [
              0,
              "#0d0887"
             ],
             [
              0.1111111111111111,
              "#46039f"
             ],
             [
              0.2222222222222222,
              "#7201a8"
             ],
             [
              0.3333333333333333,
              "#9c179e"
             ],
             [
              0.4444444444444444,
              "#bd3786"
             ],
             [
              0.5555555555555556,
              "#d8576b"
             ],
             [
              0.6666666666666666,
              "#ed7953"
             ],
             [
              0.7777777777777778,
              "#fb9f3a"
             ],
             [
              0.8888888888888888,
              "#fdca26"
             ],
             [
              1,
              "#f0f921"
             ]
            ],
            "type": "histogram2dcontour"
           }
          ],
          "mesh3d": [
           {
            "colorbar": {
             "outlinewidth": 0,
             "ticks": ""
            },
            "type": "mesh3d"
           }
          ],
          "parcoords": [
           {
            "line": {
             "colorbar": {
              "outlinewidth": 0,
              "ticks": ""
             }
            },
            "type": "parcoords"
           }
          ],
          "pie": [
           {
            "automargin": true,
            "type": "pie"
           }
          ],
          "scatter": [
           {
            "fillpattern": {
             "fillmode": "overlay",
             "size": 10,
             "solidity": 0.2
            },
            "type": "scatter"
           }
          ],
          "scatter3d": [
           {
            "line": {
             "colorbar": {
              "outlinewidth": 0,
              "ticks": ""
             }
            },
            "marker": {
             "colorbar": {
              "outlinewidth": 0,
              "ticks": ""
             }
            },
            "type": "scatter3d"
           }
          ],
          "scattercarpet": [
           {
            "marker": {
             "colorbar": {
              "outlinewidth": 0,
              "ticks": ""
             }
            },
            "type": "scattercarpet"
           }
          ],
          "scattergeo": [
           {
            "marker": {
             "colorbar": {
              "outlinewidth": 0,
              "ticks": ""
             }
            },
            "type": "scattergeo"
           }
          ],
          "scattergl": [
           {
            "marker": {
             "colorbar": {
              "outlinewidth": 0,
              "ticks": ""
             }
            },
            "type": "scattergl"
           }
          ],
          "scattermapbox": [
           {
            "marker": {
             "colorbar": {
              "outlinewidth": 0,
              "ticks": ""
             }
            },
            "type": "scattermapbox"
           }
          ],
          "scatterpolar": [
           {
            "marker": {
             "colorbar": {
              "outlinewidth": 0,
              "ticks": ""
             }
            },
            "type": "scatterpolar"
           }
          ],
          "scatterpolargl": [
           {
            "marker": {
             "colorbar": {
              "outlinewidth": 0,
              "ticks": ""
             }
            },
            "type": "scatterpolargl"
           }
          ],
          "scatterternary": [
           {
            "marker": {
             "colorbar": {
              "outlinewidth": 0,
              "ticks": ""
             }
            },
            "type": "scatterternary"
           }
          ],
          "surface": [
           {
            "colorbar": {
             "outlinewidth": 0,
             "ticks": ""
            },
            "colorscale": [
             [
              0,
              "#0d0887"
             ],
             [
              0.1111111111111111,
              "#46039f"
             ],
             [
              0.2222222222222222,
              "#7201a8"
             ],
             [
              0.3333333333333333,
              "#9c179e"
             ],
             [
              0.4444444444444444,
              "#bd3786"
             ],
             [
              0.5555555555555556,
              "#d8576b"
             ],
             [
              0.6666666666666666,
              "#ed7953"
             ],
             [
              0.7777777777777778,
              "#fb9f3a"
             ],
             [
              0.8888888888888888,
              "#fdca26"
             ],
             [
              1,
              "#f0f921"
             ]
            ],
            "type": "surface"
           }
          ],
          "table": [
           {
            "cells": {
             "fill": {
              "color": "#EBF0F8"
             },
             "line": {
              "color": "white"
             }
            },
            "header": {
             "fill": {
              "color": "#C8D4E3"
             },
             "line": {
              "color": "white"
             }
            },
            "type": "table"
           }
          ]
         },
         "layout": {
          "annotationdefaults": {
           "arrowcolor": "#2a3f5f",
           "arrowhead": 0,
           "arrowwidth": 1
          },
          "autotypenumbers": "strict",
          "coloraxis": {
           "colorbar": {
            "outlinewidth": 0,
            "ticks": ""
           }
          },
          "colorscale": {
           "diverging": [
            [
             0,
             "#8e0152"
            ],
            [
             0.1,
             "#c51b7d"
            ],
            [
             0.2,
             "#de77ae"
            ],
            [
             0.3,
             "#f1b6da"
            ],
            [
             0.4,
             "#fde0ef"
            ],
            [
             0.5,
             "#f7f7f7"
            ],
            [
             0.6,
             "#e6f5d0"
            ],
            [
             0.7,
             "#b8e186"
            ],
            [
             0.8,
             "#7fbc41"
            ],
            [
             0.9,
             "#4d9221"
            ],
            [
             1,
             "#276419"
            ]
           ],
           "sequential": [
            [
             0,
             "#0d0887"
            ],
            [
             0.1111111111111111,
             "#46039f"
            ],
            [
             0.2222222222222222,
             "#7201a8"
            ],
            [
             0.3333333333333333,
             "#9c179e"
            ],
            [
             0.4444444444444444,
             "#bd3786"
            ],
            [
             0.5555555555555556,
             "#d8576b"
            ],
            [
             0.6666666666666666,
             "#ed7953"
            ],
            [
             0.7777777777777778,
             "#fb9f3a"
            ],
            [
             0.8888888888888888,
             "#fdca26"
            ],
            [
             1,
             "#f0f921"
            ]
           ],
           "sequentialminus": [
            [
             0,
             "#0d0887"
            ],
            [
             0.1111111111111111,
             "#46039f"
            ],
            [
             0.2222222222222222,
             "#7201a8"
            ],
            [
             0.3333333333333333,
             "#9c179e"
            ],
            [
             0.4444444444444444,
             "#bd3786"
            ],
            [
             0.5555555555555556,
             "#d8576b"
            ],
            [
             0.6666666666666666,
             "#ed7953"
            ],
            [
             0.7777777777777778,
             "#fb9f3a"
            ],
            [
             0.8888888888888888,
             "#fdca26"
            ],
            [
             1,
             "#f0f921"
            ]
           ]
          },
          "colorway": [
           "#636efa",
           "#EF553B",
           "#00cc96",
           "#ab63fa",
           "#FFA15A",
           "#19d3f3",
           "#FF6692",
           "#B6E880",
           "#FF97FF",
           "#FECB52"
          ],
          "font": {
           "color": "#2a3f5f"
          },
          "geo": {
           "bgcolor": "white",
           "lakecolor": "white",
           "landcolor": "#E5ECF6",
           "showlakes": true,
           "showland": true,
           "subunitcolor": "white"
          },
          "hoverlabel": {
           "align": "left"
          },
          "hovermode": "closest",
          "mapbox": {
           "style": "light"
          },
          "paper_bgcolor": "white",
          "plot_bgcolor": "#E5ECF6",
          "polar": {
           "angularaxis": {
            "gridcolor": "white",
            "linecolor": "white",
            "ticks": ""
           },
           "bgcolor": "#E5ECF6",
           "radialaxis": {
            "gridcolor": "white",
            "linecolor": "white",
            "ticks": ""
           }
          },
          "scene": {
           "xaxis": {
            "backgroundcolor": "#E5ECF6",
            "gridcolor": "white",
            "gridwidth": 2,
            "linecolor": "white",
            "showbackground": true,
            "ticks": "",
            "zerolinecolor": "white"
           },
           "yaxis": {
            "backgroundcolor": "#E5ECF6",
            "gridcolor": "white",
            "gridwidth": 2,
            "linecolor": "white",
            "showbackground": true,
            "ticks": "",
            "zerolinecolor": "white"
           },
           "zaxis": {
            "backgroundcolor": "#E5ECF6",
            "gridcolor": "white",
            "gridwidth": 2,
            "linecolor": "white",
            "showbackground": true,
            "ticks": "",
            "zerolinecolor": "white"
           }
          },
          "shapedefaults": {
           "line": {
            "color": "#2a3f5f"
           }
          },
          "ternary": {
           "aaxis": {
            "gridcolor": "white",
            "linecolor": "white",
            "ticks": ""
           },
           "baxis": {
            "gridcolor": "white",
            "linecolor": "white",
            "ticks": ""
           },
           "bgcolor": "#E5ECF6",
           "caxis": {
            "gridcolor": "white",
            "linecolor": "white",
            "ticks": ""
           }
          },
          "title": {
           "x": 0.05
          },
          "xaxis": {
           "automargin": true,
           "gridcolor": "white",
           "linecolor": "white",
           "ticks": "",
           "title": {
            "standoff": 15
           },
           "zerolinecolor": "white",
           "zerolinewidth": 2
          },
          "yaxis": {
           "automargin": true,
           "gridcolor": "white",
           "linecolor": "white",
           "ticks": "",
           "title": {
            "standoff": 15
           },
           "zerolinecolor": "white",
           "zerolinewidth": 2
          }
         }
        },
        "xaxis": {
         "anchor": "y",
         "domain": [
          0,
          1
         ],
         "title": {
          "text": "episodes_total"
         }
        },
        "yaxis": {
         "anchor": "x",
         "domain": [
          0,
          1
         ],
         "title": {
          "text": "episode_reward_mean"
         }
        }
       }
      }
     },
     "metadata": {},
     "output_type": "display_data"
    }
   ],
   "source": [
    "\n",
    "plotResultsVsEpoch(data, ENV, VERSIONS, ['episode_reward_mean'])\n",
    "plotResultsVsEpisode(data,ENV, VERSIONS, ['episode_reward_mean'])"
   ]
  },
  {
   "cell_type": "code",
   "execution_count": null,
   "metadata": {},
   "outputs": [],
   "source": []
  }
 ],
 "metadata": {
  "kernelspec": {
   "display_name": "Python 3.9.12 ('ray')",
   "language": "python",
   "name": "python3"
  },
  "language_info": {
   "codemirror_mode": {
    "name": "ipython",
    "version": 3
   },
   "file_extension": ".py",
   "mimetype": "text/x-python",
   "name": "python",
   "nbconvert_exporter": "python",
   "pygments_lexer": "ipython3",
   "version": "3.9.13"
  },
  "orig_nbformat": 4,
  "vscode": {
   "interpreter": {
    "hash": "6ad465c2675b3f8dcc08dbaa7da39a6c4938396ea84379da3fe2bd2da4323b46"
   }
  }
 },
 "nbformat": 4,
 "nbformat_minor": 2
}
