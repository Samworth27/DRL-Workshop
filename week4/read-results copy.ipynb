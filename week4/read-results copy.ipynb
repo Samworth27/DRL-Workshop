{
 "cells": [
  {
   "cell_type": "code",
   "execution_count": 2,
   "metadata": {},
   "outputs": [],
   "source": [
    "import json\n",
    "import numpy as np\n",
    "import pandas as pd\n",
    "import matplotlib.pyplot as plt\n",
    "import os\n",
    "import plotly.express as px"
   ]
  },
  {
   "cell_type": "code",
   "execution_count": 3,
   "metadata": {},
   "outputs": [],
   "source": [
    "def collectVersionData(env, version):\n",
    "  BASE_DIR = \"./.checkpoints\"\n",
    "  results_dir = f'{BASE_DIR}/{env}/{version}'\n",
    "  \n",
    "  data = []\n",
    "  for folder in sorted(os.listdir(results_dir)):\n",
    "    if 'result.json' in os.listdir(f'{results_dir}/{folder}'):\n",
    "      data.append(json.load(open(f'{results_dir}/{folder}/result.json')))\n",
    "      \n",
    "  return data\n",
    "\n",
    "def collectFromRayResults(results_path,folder_name):\n",
    "  file = open(f\"{results_path}/{folder_name}/result.json\", \"r\")\n",
    "  data = []\n",
    "  for line in file:\n",
    "    data.append(json.loads(line))\n",
    "  file.close()\n",
    "  return data"
   ]
  },
  {
   "cell_type": "code",
   "execution_count": 4,
   "metadata": {},
   "outputs": [],
   "source": [
    "def getAllFromDict(keys, listOfDicts):\n",
    "    data = {}\n",
    "    for key in keys:\n",
    "      data[key] =  [d[key] for d in listOfDicts]\n",
    "    return data"
   ]
  },
  {
   "cell_type": "code",
   "execution_count": 22,
   "metadata": {},
   "outputs": [],
   "source": [
    "def collectData(env, versions, stats=[], ray_results=False):\n",
    "  SAMPLER_KEYS = [\n",
    "    'episode_reward_max',\n",
    "    'episode_reward_min',\n",
    "    'episode_reward_mean',\n",
    "    \"episode_len_mean\"\n",
    "    ]\n",
    "  DQN_LEARNER_KEYS = [\n",
    "    'mean_q',\n",
    "    'mean_td_error'\n",
    "  ]\n",
    "  PPO_LEARNER_KEYS =[\n",
    "    \"cur_lr\",\n",
    "    \"total_loss\"\n",
    "  ]\n",
    "  TIME_KEYS = [\n",
    "    \"episodes_total\",\n",
    "    \"time_this_iter_s\",\n",
    "    \"time_total_s\"\n",
    "  ]\n",
    "  PERF_KEYS = [\n",
    "    \"cpu_util_percent\",\n",
    "    \"ram_util_percent\"\n",
    "  ]\n",
    "  \n",
    "  history = pd.DataFrame()\n",
    "  \n",
    "  for version in versions:\n",
    "    data = collectVersionData(env, version) if not ray_results else collectFromRayResults(ray_results['results_dir'],ray_results['folder_name'])\n",
    "    for epoch in data:\n",
    "      epoch_data = {\n",
    "        'epoch': epoch[\"training_iteration\"],\n",
    "        'environment': env,\n",
    "        'version': version\n",
    "      }\n",
    "      \n",
    "      sampler = epoch['sampler_results']\n",
    "      learner = epoch['info']['learner']['default_policy']['learner_stats']\n",
    "      perf = epoch['perf']\n",
    "      \n",
    "      if 'SAMPLER' in stats:\n",
    "        for key in SAMPLER_KEYS:\n",
    "          epoch_data[key] = sampler[key]\n",
    "      if 'DQN_LEARNER' in stats:\n",
    "        for key in DQN_LEARNER_KEYS:\n",
    "          epoch_data[key] = learner[key]\n",
    "      if 'PPO_LEARNER' in stats:\n",
    "        for key in PPO_LEARNER_KEYS:\n",
    "          epoch_data[key] = learner[key]\n",
    "      if 'TIME' in stats:\n",
    "        for key in TIME_KEYS:\n",
    "          epoch_data[key] = epoch[key]\n",
    "      if 'PERF' in stats:\n",
    "        for key in PERF_KEYS:\n",
    "          epoch_data[key] = perf[key]\n",
    "    \n",
    "      df = pd.DataFrame(epoch_data, index=[len(history)+1])\n",
    "      history = pd.concat([history,df])\n",
    "    \n",
    "  return history\n",
    "  \n"
   ]
  },
  {
   "cell_type": "code",
   "execution_count": 6,
   "metadata": {},
   "outputs": [],
   "source": [
    "def plotResults(data, env, versions,keys=[],x_value = 'epoch'):\n",
    "  for key in keys:\n",
    "    fig = px.line(data, x=x_value, y=key, color='version')\n",
    "    fig.show()\n",
    "    \n"
   ]
  },
  {
   "cell_type": "code",
   "execution_count": 7,
   "metadata": {},
   "outputs": [
    {
     "data": {
      "text/html": [
       "<div>\n",
       "<style scoped>\n",
       "    .dataframe tbody tr th:only-of-type {\n",
       "        vertical-align: middle;\n",
       "    }\n",
       "\n",
       "    .dataframe tbody tr th {\n",
       "        vertical-align: top;\n",
       "    }\n",
       "\n",
       "    .dataframe thead th {\n",
       "        text-align: right;\n",
       "    }\n",
       "</style>\n",
       "<table border=\"1\" class=\"dataframe\">\n",
       "  <thead>\n",
       "    <tr style=\"text-align: right;\">\n",
       "      <th></th>\n",
       "      <th>epoch</th>\n",
       "      <th>environment</th>\n",
       "      <th>version</th>\n",
       "      <th>episode_reward_max</th>\n",
       "      <th>episode_reward_min</th>\n",
       "      <th>episode_reward_mean</th>\n",
       "      <th>episode_len_mean</th>\n",
       "      <th>cur_lr</th>\n",
       "      <th>total_loss</th>\n",
       "      <th>episodes_total</th>\n",
       "      <th>time_this_iter_s</th>\n",
       "      <th>time_total_s</th>\n",
       "      <th>cpu_util_percent</th>\n",
       "      <th>ram_util_percent</th>\n",
       "    </tr>\n",
       "  </thead>\n",
       "  <tbody>\n",
       "    <tr>\n",
       "      <th>1</th>\n",
       "      <td>1</td>\n",
       "      <td>CustomOffWorldDockerMonolithDiscreteSim-v0</td>\n",
       "      <td>depth_only_v2</td>\n",
       "      <td>1.0</td>\n",
       "      <td>0.0</td>\n",
       "      <td>0.16667</td>\n",
       "      <td>36.62500</td>\n",
       "      <td>0.00005</td>\n",
       "      <td>-0.00128</td>\n",
       "      <td>24</td>\n",
       "      <td>198.378625</td>\n",
       "      <td>198.378625</td>\n",
       "      <td>84.88028</td>\n",
       "      <td>77.04613</td>\n",
       "    </tr>\n",
       "    <tr>\n",
       "      <th>2</th>\n",
       "      <td>2</td>\n",
       "      <td>CustomOffWorldDockerMonolithDiscreteSim-v0</td>\n",
       "      <td>depth_only_v2</td>\n",
       "      <td>1.0</td>\n",
       "      <td>0.0</td>\n",
       "      <td>0.21739</td>\n",
       "      <td>40.04348</td>\n",
       "      <td>0.00005</td>\n",
       "      <td>-0.00070</td>\n",
       "      <td>46</td>\n",
       "      <td>201.156595</td>\n",
       "      <td>399.535220</td>\n",
       "      <td>84.80488</td>\n",
       "      <td>79.42648</td>\n",
       "    </tr>\n",
       "    <tr>\n",
       "      <th>3</th>\n",
       "      <td>3</td>\n",
       "      <td>CustomOffWorldDockerMonolithDiscreteSim-v0</td>\n",
       "      <td>depth_only_v2</td>\n",
       "      <td>1.0</td>\n",
       "      <td>0.0</td>\n",
       "      <td>0.13636</td>\n",
       "      <td>44.18182</td>\n",
       "      <td>0.00005</td>\n",
       "      <td>-0.01210</td>\n",
       "      <td>66</td>\n",
       "      <td>279.636126</td>\n",
       "      <td>849.790208</td>\n",
       "      <td>91.60576</td>\n",
       "      <td>89.78471</td>\n",
       "    </tr>\n",
       "    <tr>\n",
       "      <th>4</th>\n",
       "      <td>4</td>\n",
       "      <td>CustomOffWorldDockerMonolithDiscreteSim-v0</td>\n",
       "      <td>depth_only_v2</td>\n",
       "      <td>1.0</td>\n",
       "      <td>0.0</td>\n",
       "      <td>0.15730</td>\n",
       "      <td>44.56180</td>\n",
       "      <td>0.00005</td>\n",
       "      <td>0.00074</td>\n",
       "      <td>89</td>\n",
       "      <td>289.799797</td>\n",
       "      <td>1139.590004</td>\n",
       "      <td>91.59807</td>\n",
       "      <td>90.52126</td>\n",
       "    </tr>\n",
       "    <tr>\n",
       "      <th>5</th>\n",
       "      <td>5</td>\n",
       "      <td>CustomOffWorldDockerMonolithDiscreteSim-v0</td>\n",
       "      <td>depth_only_v2</td>\n",
       "      <td>1.0</td>\n",
       "      <td>0.0</td>\n",
       "      <td>0.18000</td>\n",
       "      <td>43.23000</td>\n",
       "      <td>0.00005</td>\n",
       "      <td>0.00121</td>\n",
       "      <td>113</td>\n",
       "      <td>285.488732</td>\n",
       "      <td>1425.078737</td>\n",
       "      <td>91.21744</td>\n",
       "      <td>89.59582</td>\n",
       "    </tr>\n",
       "    <tr>\n",
       "      <th>...</th>\n",
       "      <td>...</td>\n",
       "      <td>...</td>\n",
       "      <td>...</td>\n",
       "      <td>...</td>\n",
       "      <td>...</td>\n",
       "      <td>...</td>\n",
       "      <td>...</td>\n",
       "      <td>...</td>\n",
       "      <td>...</td>\n",
       "      <td>...</td>\n",
       "      <td>...</td>\n",
       "      <td>...</td>\n",
       "      <td>...</td>\n",
       "      <td>...</td>\n",
       "    </tr>\n",
       "    <tr>\n",
       "      <th>223</th>\n",
       "      <td>96</td>\n",
       "      <td>CustomOffWorldDockerMonolithDiscreteSim-v0</td>\n",
       "      <td>rgbd_v1</td>\n",
       "      <td>1.0</td>\n",
       "      <td>0.0</td>\n",
       "      <td>0.56000</td>\n",
       "      <td>46.58000</td>\n",
       "      <td>0.00005</td>\n",
       "      <td>-0.01660</td>\n",
       "      <td>1601</td>\n",
       "      <td>208.451929</td>\n",
       "      <td>19545.250422</td>\n",
       "      <td>85.15034</td>\n",
       "      <td>70.92416</td>\n",
       "    </tr>\n",
       "    <tr>\n",
       "      <th>224</th>\n",
       "      <td>97</td>\n",
       "      <td>CustomOffWorldDockerMonolithDiscreteSim-v0</td>\n",
       "      <td>rgbd_v1</td>\n",
       "      <td>1.0</td>\n",
       "      <td>0.0</td>\n",
       "      <td>0.49000</td>\n",
       "      <td>48.44000</td>\n",
       "      <td>0.00005</td>\n",
       "      <td>-0.02461</td>\n",
       "      <td>1623</td>\n",
       "      <td>210.436869</td>\n",
       "      <td>19755.687291</td>\n",
       "      <td>84.96833</td>\n",
       "      <td>71.22333</td>\n",
       "    </tr>\n",
       "    <tr>\n",
       "      <th>225</th>\n",
       "      <td>98</td>\n",
       "      <td>CustomOffWorldDockerMonolithDiscreteSim-v0</td>\n",
       "      <td>rgbd_v1</td>\n",
       "      <td>1.0</td>\n",
       "      <td>0.0</td>\n",
       "      <td>0.49000</td>\n",
       "      <td>46.40000</td>\n",
       "      <td>0.00005</td>\n",
       "      <td>-0.02717</td>\n",
       "      <td>1638</td>\n",
       "      <td>207.933633</td>\n",
       "      <td>19963.620924</td>\n",
       "      <td>85.19226</td>\n",
       "      <td>71.35926</td>\n",
       "    </tr>\n",
       "    <tr>\n",
       "      <th>226</th>\n",
       "      <td>99</td>\n",
       "      <td>CustomOffWorldDockerMonolithDiscreteSim-v0</td>\n",
       "      <td>rgbd_v1</td>\n",
       "      <td>1.0</td>\n",
       "      <td>0.0</td>\n",
       "      <td>0.42000</td>\n",
       "      <td>52.26000</td>\n",
       "      <td>0.00005</td>\n",
       "      <td>-0.03035</td>\n",
       "      <td>1653</td>\n",
       "      <td>206.753668</td>\n",
       "      <td>20170.374592</td>\n",
       "      <td>85.05831</td>\n",
       "      <td>71.77966</td>\n",
       "    </tr>\n",
       "    <tr>\n",
       "      <th>227</th>\n",
       "      <td>100</td>\n",
       "      <td>CustomOffWorldDockerMonolithDiscreteSim-v0</td>\n",
       "      <td>rgbd_v1</td>\n",
       "      <td>1.0</td>\n",
       "      <td>0.0</td>\n",
       "      <td>0.50000</td>\n",
       "      <td>52.11000</td>\n",
       "      <td>0.00005</td>\n",
       "      <td>-0.01742</td>\n",
       "      <td>1676</td>\n",
       "      <td>209.234075</td>\n",
       "      <td>20379.608667</td>\n",
       "      <td>85.27785</td>\n",
       "      <td>71.81544</td>\n",
       "    </tr>\n",
       "  </tbody>\n",
       "</table>\n",
       "<p>227 rows × 14 columns</p>\n",
       "</div>"
      ],
      "text/plain": [
       "     epoch                                 environment        version  \\\n",
       "1        1  CustomOffWorldDockerMonolithDiscreteSim-v0  depth_only_v2   \n",
       "2        2  CustomOffWorldDockerMonolithDiscreteSim-v0  depth_only_v2   \n",
       "3        3  CustomOffWorldDockerMonolithDiscreteSim-v0  depth_only_v2   \n",
       "4        4  CustomOffWorldDockerMonolithDiscreteSim-v0  depth_only_v2   \n",
       "5        5  CustomOffWorldDockerMonolithDiscreteSim-v0  depth_only_v2   \n",
       "..     ...                                         ...            ...   \n",
       "223     96  CustomOffWorldDockerMonolithDiscreteSim-v0        rgbd_v1   \n",
       "224     97  CustomOffWorldDockerMonolithDiscreteSim-v0        rgbd_v1   \n",
       "225     98  CustomOffWorldDockerMonolithDiscreteSim-v0        rgbd_v1   \n",
       "226     99  CustomOffWorldDockerMonolithDiscreteSim-v0        rgbd_v1   \n",
       "227    100  CustomOffWorldDockerMonolithDiscreteSim-v0        rgbd_v1   \n",
       "\n",
       "     episode_reward_max  episode_reward_min  episode_reward_mean  \\\n",
       "1                   1.0                 0.0              0.16667   \n",
       "2                   1.0                 0.0              0.21739   \n",
       "3                   1.0                 0.0              0.13636   \n",
       "4                   1.0                 0.0              0.15730   \n",
       "5                   1.0                 0.0              0.18000   \n",
       "..                  ...                 ...                  ...   \n",
       "223                 1.0                 0.0              0.56000   \n",
       "224                 1.0                 0.0              0.49000   \n",
       "225                 1.0                 0.0              0.49000   \n",
       "226                 1.0                 0.0              0.42000   \n",
       "227                 1.0                 0.0              0.50000   \n",
       "\n",
       "     episode_len_mean   cur_lr  total_loss  episodes_total  time_this_iter_s  \\\n",
       "1            36.62500  0.00005    -0.00128              24        198.378625   \n",
       "2            40.04348  0.00005    -0.00070              46        201.156595   \n",
       "3            44.18182  0.00005    -0.01210              66        279.636126   \n",
       "4            44.56180  0.00005     0.00074              89        289.799797   \n",
       "5            43.23000  0.00005     0.00121             113        285.488732   \n",
       "..                ...      ...         ...             ...               ...   \n",
       "223          46.58000  0.00005    -0.01660            1601        208.451929   \n",
       "224          48.44000  0.00005    -0.02461            1623        210.436869   \n",
       "225          46.40000  0.00005    -0.02717            1638        207.933633   \n",
       "226          52.26000  0.00005    -0.03035            1653        206.753668   \n",
       "227          52.11000  0.00005    -0.01742            1676        209.234075   \n",
       "\n",
       "     time_total_s  cpu_util_percent  ram_util_percent  \n",
       "1      198.378625          84.88028          77.04613  \n",
       "2      399.535220          84.80488          79.42648  \n",
       "3      849.790208          91.60576          89.78471  \n",
       "4     1139.590004          91.59807          90.52126  \n",
       "5     1425.078737          91.21744          89.59582  \n",
       "..            ...               ...               ...  \n",
       "223  19545.250422          85.15034          70.92416  \n",
       "224  19755.687291          84.96833          71.22333  \n",
       "225  19963.620924          85.19226          71.35926  \n",
       "226  20170.374592          85.05831          71.77966  \n",
       "227  20379.608667          85.27785          71.81544  \n",
       "\n",
       "[227 rows x 14 columns]"
      ]
     },
     "execution_count": 7,
     "metadata": {},
     "output_type": "execute_result"
    }
   ],
   "source": [
    "# Collect data\n",
    "ENV = 'CustomOffWorldDockerMonolithDiscreteSim-v0'\n",
    "VERSIONS = [\n",
    "    'depth_only_v2',\n",
    "    'RGB_only_v1',\n",
    "    'rgbd_v1'\n",
    "    ]\n",
    "\n",
    "ppo_data = collectData(ENV, VERSIONS,['SAMPLER','PPO_LEARNER','TIME','PERF'])\n",
    "ppo_data"
   ]
  },
  {
   "cell_type": "code",
   "execution_count": 8,
   "metadata": {},
   "outputs": [
    {
     "data": {
      "application/vnd.plotly.v1+json": {
       "config": {
        "plotlyServerURL": "https://plot.ly"
       },
       "data": [
        {
         "hovertemplate": "version=depth_only_v2<br>epoch=%{x}<br>episode_reward_mean=%{y}<extra></extra>",
         "legendgroup": "depth_only_v2",
         "line": {
          "color": "#636efa",
          "dash": "solid"
         },
         "marker": {
          "symbol": "circle"
         },
         "mode": "lines",
         "name": "depth_only_v2",
         "orientation": "v",
         "showlegend": true,
         "type": "scatter",
         "x": [
          1,
          2,
          3,
          4,
          5,
          6,
          7,
          8,
          9,
          10,
          11,
          12,
          13,
          14,
          15,
          16,
          17,
          18,
          19,
          20,
          21,
          22,
          23,
          24,
          25,
          26,
          27,
          28,
          29,
          30,
          31,
          32,
          33,
          34,
          35,
          36,
          37,
          38,
          39,
          40,
          41,
          42,
          43,
          44,
          45,
          46,
          47,
          48,
          49,
          50,
          51,
          52,
          53,
          54,
          55,
          56,
          57,
          58,
          59,
          60,
          61,
          62,
          63,
          64,
          65,
          66
         ],
         "xaxis": "x",
         "y": [
          0.16667,
          0.21739,
          0.13636,
          0.1573,
          0.18,
          0.22,
          0.3,
          0.34,
          0.36,
          0.38,
          0.42,
          0.48,
          0.55,
          0.6,
          0.63,
          0.62,
          0.61,
          0.55,
          0.49,
          0.51,
          0.53,
          0.54,
          0.57,
          0.68,
          0.7,
          0.68,
          0.58824,
          0.56098,
          0.63768,
          0.66292,
          0.73913,
          0.7451,
          0.75641,
          0.72,
          0.71,
          0.68,
          0.72,
          0.75,
          0.81818,
          0.82353,
          0.84211,
          0.8,
          0.84,
          0.8,
          0.82,
          0.81,
          0.82,
          0.87,
          0.85,
          0.84,
          0.83,
          0.81,
          0.83,
          0.86,
          0.87,
          0.91,
          0.9,
          0.91,
          0.9,
          0.88,
          0.87,
          0.86,
          0.88,
          0.87,
          0.85,
          0.86
         ],
         "yaxis": "y"
        },
        {
         "hovertemplate": "version=RGB_only_v1<br>epoch=%{x}<br>episode_reward_mean=%{y}<extra></extra>",
         "legendgroup": "RGB_only_v1",
         "line": {
          "color": "#EF553B",
          "dash": "solid"
         },
         "marker": {
          "symbol": "circle"
         },
         "mode": "lines",
         "name": "RGB_only_v1",
         "orientation": "v",
         "showlegend": true,
         "type": "scatter",
         "x": [
          1,
          2,
          3,
          4,
          5,
          6,
          7,
          8,
          9,
          10,
          11,
          12,
          13,
          14,
          15,
          16,
          17,
          18,
          19,
          20,
          21,
          22,
          23,
          24,
          25,
          26,
          27,
          28,
          29,
          30,
          31,
          32,
          33,
          34,
          35,
          36,
          37,
          38,
          39,
          40,
          41,
          42,
          43,
          44,
          45,
          46,
          47,
          48,
          49,
          50,
          51,
          52,
          53,
          54,
          55,
          56,
          57,
          58,
          59,
          60,
          61
         ],
         "xaxis": "x",
         "y": [
          0.13636,
          0.12766,
          0.10448,
          0.08889,
          0.09,
          0.07,
          0.09,
          0.24,
          0.14754,
          0.18182,
          0.2,
          0.17,
          0.18,
          0.15,
          0.1,
          0.12,
          0.15,
          0.13,
          0.14,
          0.16,
          0.15,
          0.21,
          0.21,
          0.22,
          0.22,
          0.2,
          0.22,
          0.2,
          0.21,
          0.2,
          0.21,
          0.19,
          0.2,
          0.21,
          0.23,
          0.18,
          0.16,
          0.19,
          0.17,
          0.14,
          0.15,
          0.17,
          0.17,
          0.22,
          0.25,
          0.26,
          0.31,
          0.37,
          0.4,
          0.37,
          0.36,
          0.36,
          0.33,
          0.3,
          0.32,
          0.34,
          0.38,
          0.32,
          0.29,
          0.27,
          0.29
         ],
         "yaxis": "y"
        },
        {
         "hovertemplate": "version=rgbd_v1<br>epoch=%{x}<br>episode_reward_mean=%{y}<extra></extra>",
         "legendgroup": "rgbd_v1",
         "line": {
          "color": "#00cc96",
          "dash": "solid"
         },
         "marker": {
          "symbol": "circle"
         },
         "mode": "lines",
         "name": "rgbd_v1",
         "orientation": "v",
         "showlegend": true,
         "type": "scatter",
         "x": [
          1,
          2,
          3,
          4,
          5,
          6,
          7,
          8,
          9,
          10,
          11,
          12,
          13,
          14,
          15,
          16,
          17,
          18,
          19,
          20,
          21,
          22,
          23,
          24,
          25,
          26,
          27,
          28,
          29,
          30,
          31,
          32,
          33,
          34,
          35,
          36,
          37,
          38,
          39,
          40,
          41,
          42,
          43,
          44,
          45,
          46,
          47,
          48,
          49,
          50,
          51,
          52,
          53,
          54,
          55,
          56,
          57,
          58,
          59,
          60,
          61,
          62,
          63,
          64,
          65,
          66,
          67,
          68,
          69,
          70,
          71,
          72,
          73,
          74,
          75,
          76,
          77,
          78,
          79,
          80,
          81,
          82,
          83,
          84,
          85,
          86,
          87,
          88,
          89,
          90,
          91,
          92,
          93,
          94,
          95,
          96,
          97,
          98,
          99,
          100
         ],
         "xaxis": "x",
         "y": [
          0.07692,
          0.04444,
          0.03077,
          0.0375,
          0.04255,
          0.03,
          0.02,
          0.02,
          0.04,
          0.05,
          0.06,
          0.08,
          0.1,
          0.09,
          0.12,
          0.12,
          0.12,
          0.09,
          0.11,
          0.14,
          0.15,
          0.15,
          0.16,
          0.17,
          0.19,
          0.19,
          0.19,
          0.14,
          0.15,
          0.14,
          0.14,
          0.15,
          0.14,
          0.14,
          0.15,
          0.16,
          0.18,
          0.17,
          0.16,
          0.18,
          0.2,
          0.23,
          0.21,
          0.22,
          0.25,
          0.24,
          0.22,
          0.2,
          0.22,
          0.23,
          0.25,
          0.25,
          0.25,
          0.29,
          0.32,
          0.34,
          0.34,
          0.36,
          0.38,
          0.36,
          0.32,
          0.32,
          0.32,
          0.36,
          0.34,
          0.37,
          0.35,
          0.35,
          0.34,
          0.3,
          0.29,
          0.28,
          0.3,
          0.3,
          0.31,
          0.32,
          0.31,
          0.33,
          0.29,
          0.35,
          0.38,
          0.39,
          0.43,
          0.43,
          0.42,
          0.44,
          0.39,
          0.4,
          0.43,
          0.4,
          0.38,
          0.43,
          0.41,
          0.48,
          0.51,
          0.56,
          0.49,
          0.49,
          0.42,
          0.5
         ],
         "yaxis": "y"
        }
       ],
       "layout": {
        "legend": {
         "title": {
          "text": "version"
         },
         "tracegroupgap": 0
        },
        "margin": {
         "t": 60
        },
        "template": {
         "data": {
          "bar": [
           {
            "error_x": {
             "color": "#2a3f5f"
            },
            "error_y": {
             "color": "#2a3f5f"
            },
            "marker": {
             "line": {
              "color": "#E5ECF6",
              "width": 0.5
             },
             "pattern": {
              "fillmode": "overlay",
              "size": 10,
              "solidity": 0.2
             }
            },
            "type": "bar"
           }
          ],
          "barpolar": [
           {
            "marker": {
             "line": {
              "color": "#E5ECF6",
              "width": 0.5
             },
             "pattern": {
              "fillmode": "overlay",
              "size": 10,
              "solidity": 0.2
             }
            },
            "type": "barpolar"
           }
          ],
          "carpet": [
           {
            "aaxis": {
             "endlinecolor": "#2a3f5f",
             "gridcolor": "white",
             "linecolor": "white",
             "minorgridcolor": "white",
             "startlinecolor": "#2a3f5f"
            },
            "baxis": {
             "endlinecolor": "#2a3f5f",
             "gridcolor": "white",
             "linecolor": "white",
             "minorgridcolor": "white",
             "startlinecolor": "#2a3f5f"
            },
            "type": "carpet"
           }
          ],
          "choropleth": [
           {
            "colorbar": {
             "outlinewidth": 0,
             "ticks": ""
            },
            "type": "choropleth"
           }
          ],
          "contour": [
           {
            "colorbar": {
             "outlinewidth": 0,
             "ticks": ""
            },
            "colorscale": [
             [
              0,
              "#0d0887"
             ],
             [
              0.1111111111111111,
              "#46039f"
             ],
             [
              0.2222222222222222,
              "#7201a8"
             ],
             [
              0.3333333333333333,
              "#9c179e"
             ],
             [
              0.4444444444444444,
              "#bd3786"
             ],
             [
              0.5555555555555556,
              "#d8576b"
             ],
             [
              0.6666666666666666,
              "#ed7953"
             ],
             [
              0.7777777777777778,
              "#fb9f3a"
             ],
             [
              0.8888888888888888,
              "#fdca26"
             ],
             [
              1,
              "#f0f921"
             ]
            ],
            "type": "contour"
           }
          ],
          "contourcarpet": [
           {
            "colorbar": {
             "outlinewidth": 0,
             "ticks": ""
            },
            "type": "contourcarpet"
           }
          ],
          "heatmap": [
           {
            "colorbar": {
             "outlinewidth": 0,
             "ticks": ""
            },
            "colorscale": [
             [
              0,
              "#0d0887"
             ],
             [
              0.1111111111111111,
              "#46039f"
             ],
             [
              0.2222222222222222,
              "#7201a8"
             ],
             [
              0.3333333333333333,
              "#9c179e"
             ],
             [
              0.4444444444444444,
              "#bd3786"
             ],
             [
              0.5555555555555556,
              "#d8576b"
             ],
             [
              0.6666666666666666,
              "#ed7953"
             ],
             [
              0.7777777777777778,
              "#fb9f3a"
             ],
             [
              0.8888888888888888,
              "#fdca26"
             ],
             [
              1,
              "#f0f921"
             ]
            ],
            "type": "heatmap"
           }
          ],
          "heatmapgl": [
           {
            "colorbar": {
             "outlinewidth": 0,
             "ticks": ""
            },
            "colorscale": [
             [
              0,
              "#0d0887"
             ],
             [
              0.1111111111111111,
              "#46039f"
             ],
             [
              0.2222222222222222,
              "#7201a8"
             ],
             [
              0.3333333333333333,
              "#9c179e"
             ],
             [
              0.4444444444444444,
              "#bd3786"
             ],
             [
              0.5555555555555556,
              "#d8576b"
             ],
             [
              0.6666666666666666,
              "#ed7953"
             ],
             [
              0.7777777777777778,
              "#fb9f3a"
             ],
             [
              0.8888888888888888,
              "#fdca26"
             ],
             [
              1,
              "#f0f921"
             ]
            ],
            "type": "heatmapgl"
           }
          ],
          "histogram": [
           {
            "marker": {
             "pattern": {
              "fillmode": "overlay",
              "size": 10,
              "solidity": 0.2
             }
            },
            "type": "histogram"
           }
          ],
          "histogram2d": [
           {
            "colorbar": {
             "outlinewidth": 0,
             "ticks": ""
            },
            "colorscale": [
             [
              0,
              "#0d0887"
             ],
             [
              0.1111111111111111,
              "#46039f"
             ],
             [
              0.2222222222222222,
              "#7201a8"
             ],
             [
              0.3333333333333333,
              "#9c179e"
             ],
             [
              0.4444444444444444,
              "#bd3786"
             ],
             [
              0.5555555555555556,
              "#d8576b"
             ],
             [
              0.6666666666666666,
              "#ed7953"
             ],
             [
              0.7777777777777778,
              "#fb9f3a"
             ],
             [
              0.8888888888888888,
              "#fdca26"
             ],
             [
              1,
              "#f0f921"
             ]
            ],
            "type": "histogram2d"
           }
          ],
          "histogram2dcontour": [
           {
            "colorbar": {
             "outlinewidth": 0,
             "ticks": ""
            },
            "colorscale": [
             [
              0,
              "#0d0887"
             ],
             [
              0.1111111111111111,
              "#46039f"
             ],
             [
              0.2222222222222222,
              "#7201a8"
             ],
             [
              0.3333333333333333,
              "#9c179e"
             ],
             [
              0.4444444444444444,
              "#bd3786"
             ],
             [
              0.5555555555555556,
              "#d8576b"
             ],
             [
              0.6666666666666666,
              "#ed7953"
             ],
             [
              0.7777777777777778,
              "#fb9f3a"
             ],
             [
              0.8888888888888888,
              "#fdca26"
             ],
             [
              1,
              "#f0f921"
             ]
            ],
            "type": "histogram2dcontour"
           }
          ],
          "mesh3d": [
           {
            "colorbar": {
             "outlinewidth": 0,
             "ticks": ""
            },
            "type": "mesh3d"
           }
          ],
          "parcoords": [
           {
            "line": {
             "colorbar": {
              "outlinewidth": 0,
              "ticks": ""
             }
            },
            "type": "parcoords"
           }
          ],
          "pie": [
           {
            "automargin": true,
            "type": "pie"
           }
          ],
          "scatter": [
           {
            "fillpattern": {
             "fillmode": "overlay",
             "size": 10,
             "solidity": 0.2
            },
            "type": "scatter"
           }
          ],
          "scatter3d": [
           {
            "line": {
             "colorbar": {
              "outlinewidth": 0,
              "ticks": ""
             }
            },
            "marker": {
             "colorbar": {
              "outlinewidth": 0,
              "ticks": ""
             }
            },
            "type": "scatter3d"
           }
          ],
          "scattercarpet": [
           {
            "marker": {
             "colorbar": {
              "outlinewidth": 0,
              "ticks": ""
             }
            },
            "type": "scattercarpet"
           }
          ],
          "scattergeo": [
           {
            "marker": {
             "colorbar": {
              "outlinewidth": 0,
              "ticks": ""
             }
            },
            "type": "scattergeo"
           }
          ],
          "scattergl": [
           {
            "marker": {
             "colorbar": {
              "outlinewidth": 0,
              "ticks": ""
             }
            },
            "type": "scattergl"
           }
          ],
          "scattermapbox": [
           {
            "marker": {
             "colorbar": {
              "outlinewidth": 0,
              "ticks": ""
             }
            },
            "type": "scattermapbox"
           }
          ],
          "scatterpolar": [
           {
            "marker": {
             "colorbar": {
              "outlinewidth": 0,
              "ticks": ""
             }
            },
            "type": "scatterpolar"
           }
          ],
          "scatterpolargl": [
           {
            "marker": {
             "colorbar": {
              "outlinewidth": 0,
              "ticks": ""
             }
            },
            "type": "scatterpolargl"
           }
          ],
          "scatterternary": [
           {
            "marker": {
             "colorbar": {
              "outlinewidth": 0,
              "ticks": ""
             }
            },
            "type": "scatterternary"
           }
          ],
          "surface": [
           {
            "colorbar": {
             "outlinewidth": 0,
             "ticks": ""
            },
            "colorscale": [
             [
              0,
              "#0d0887"
             ],
             [
              0.1111111111111111,
              "#46039f"
             ],
             [
              0.2222222222222222,
              "#7201a8"
             ],
             [
              0.3333333333333333,
              "#9c179e"
             ],
             [
              0.4444444444444444,
              "#bd3786"
             ],
             [
              0.5555555555555556,
              "#d8576b"
             ],
             [
              0.6666666666666666,
              "#ed7953"
             ],
             [
              0.7777777777777778,
              "#fb9f3a"
             ],
             [
              0.8888888888888888,
              "#fdca26"
             ],
             [
              1,
              "#f0f921"
             ]
            ],
            "type": "surface"
           }
          ],
          "table": [
           {
            "cells": {
             "fill": {
              "color": "#EBF0F8"
             },
             "line": {
              "color": "white"
             }
            },
            "header": {
             "fill": {
              "color": "#C8D4E3"
             },
             "line": {
              "color": "white"
             }
            },
            "type": "table"
           }
          ]
         },
         "layout": {
          "annotationdefaults": {
           "arrowcolor": "#2a3f5f",
           "arrowhead": 0,
           "arrowwidth": 1
          },
          "autotypenumbers": "strict",
          "coloraxis": {
           "colorbar": {
            "outlinewidth": 0,
            "ticks": ""
           }
          },
          "colorscale": {
           "diverging": [
            [
             0,
             "#8e0152"
            ],
            [
             0.1,
             "#c51b7d"
            ],
            [
             0.2,
             "#de77ae"
            ],
            [
             0.3,
             "#f1b6da"
            ],
            [
             0.4,
             "#fde0ef"
            ],
            [
             0.5,
             "#f7f7f7"
            ],
            [
             0.6,
             "#e6f5d0"
            ],
            [
             0.7,
             "#b8e186"
            ],
            [
             0.8,
             "#7fbc41"
            ],
            [
             0.9,
             "#4d9221"
            ],
            [
             1,
             "#276419"
            ]
           ],
           "sequential": [
            [
             0,
             "#0d0887"
            ],
            [
             0.1111111111111111,
             "#46039f"
            ],
            [
             0.2222222222222222,
             "#7201a8"
            ],
            [
             0.3333333333333333,
             "#9c179e"
            ],
            [
             0.4444444444444444,
             "#bd3786"
            ],
            [
             0.5555555555555556,
             "#d8576b"
            ],
            [
             0.6666666666666666,
             "#ed7953"
            ],
            [
             0.7777777777777778,
             "#fb9f3a"
            ],
            [
             0.8888888888888888,
             "#fdca26"
            ],
            [
             1,
             "#f0f921"
            ]
           ],
           "sequentialminus": [
            [
             0,
             "#0d0887"
            ],
            [
             0.1111111111111111,
             "#46039f"
            ],
            [
             0.2222222222222222,
             "#7201a8"
            ],
            [
             0.3333333333333333,
             "#9c179e"
            ],
            [
             0.4444444444444444,
             "#bd3786"
            ],
            [
             0.5555555555555556,
             "#d8576b"
            ],
            [
             0.6666666666666666,
             "#ed7953"
            ],
            [
             0.7777777777777778,
             "#fb9f3a"
            ],
            [
             0.8888888888888888,
             "#fdca26"
            ],
            [
             1,
             "#f0f921"
            ]
           ]
          },
          "colorway": [
           "#636efa",
           "#EF553B",
           "#00cc96",
           "#ab63fa",
           "#FFA15A",
           "#19d3f3",
           "#FF6692",
           "#B6E880",
           "#FF97FF",
           "#FECB52"
          ],
          "font": {
           "color": "#2a3f5f"
          },
          "geo": {
           "bgcolor": "white",
           "lakecolor": "white",
           "landcolor": "#E5ECF6",
           "showlakes": true,
           "showland": true,
           "subunitcolor": "white"
          },
          "hoverlabel": {
           "align": "left"
          },
          "hovermode": "closest",
          "mapbox": {
           "style": "light"
          },
          "paper_bgcolor": "white",
          "plot_bgcolor": "#E5ECF6",
          "polar": {
           "angularaxis": {
            "gridcolor": "white",
            "linecolor": "white",
            "ticks": ""
           },
           "bgcolor": "#E5ECF6",
           "radialaxis": {
            "gridcolor": "white",
            "linecolor": "white",
            "ticks": ""
           }
          },
          "scene": {
           "xaxis": {
            "backgroundcolor": "#E5ECF6",
            "gridcolor": "white",
            "gridwidth": 2,
            "linecolor": "white",
            "showbackground": true,
            "ticks": "",
            "zerolinecolor": "white"
           },
           "yaxis": {
            "backgroundcolor": "#E5ECF6",
            "gridcolor": "white",
            "gridwidth": 2,
            "linecolor": "white",
            "showbackground": true,
            "ticks": "",
            "zerolinecolor": "white"
           },
           "zaxis": {
            "backgroundcolor": "#E5ECF6",
            "gridcolor": "white",
            "gridwidth": 2,
            "linecolor": "white",
            "showbackground": true,
            "ticks": "",
            "zerolinecolor": "white"
           }
          },
          "shapedefaults": {
           "line": {
            "color": "#2a3f5f"
           }
          },
          "ternary": {
           "aaxis": {
            "gridcolor": "white",
            "linecolor": "white",
            "ticks": ""
           },
           "baxis": {
            "gridcolor": "white",
            "linecolor": "white",
            "ticks": ""
           },
           "bgcolor": "#E5ECF6",
           "caxis": {
            "gridcolor": "white",
            "linecolor": "white",
            "ticks": ""
           }
          },
          "title": {
           "x": 0.05
          },
          "xaxis": {
           "automargin": true,
           "gridcolor": "white",
           "linecolor": "white",
           "ticks": "",
           "title": {
            "standoff": 15
           },
           "zerolinecolor": "white",
           "zerolinewidth": 2
          },
          "yaxis": {
           "automargin": true,
           "gridcolor": "white",
           "linecolor": "white",
           "ticks": "",
           "title": {
            "standoff": 15
           },
           "zerolinecolor": "white",
           "zerolinewidth": 2
          }
         }
        },
        "xaxis": {
         "anchor": "y",
         "domain": [
          0,
          1
         ],
         "title": {
          "text": "epoch"
         }
        },
        "yaxis": {
         "anchor": "x",
         "domain": [
          0,
          1
         ],
         "title": {
          "text": "episode_reward_mean"
         }
        }
       }
      }
     },
     "metadata": {},
     "output_type": "display_data"
    },
    {
     "data": {
      "application/vnd.plotly.v1+json": {
       "config": {
        "plotlyServerURL": "https://plot.ly"
       },
       "data": [
        {
         "hovertemplate": "version=depth_only_v2<br>episodes_total=%{x}<br>episode_reward_mean=%{y}<extra></extra>",
         "legendgroup": "depth_only_v2",
         "line": {
          "color": "#636efa",
          "dash": "solid"
         },
         "marker": {
          "symbol": "circle"
         },
         "mode": "lines",
         "name": "depth_only_v2",
         "orientation": "v",
         "showlegend": true,
         "type": "scatter",
         "x": [
          24,
          46,
          66,
          89,
          113,
          136,
          159,
          180,
          198,
          217,
          241,
          263,
          281,
          302,
          321,
          344,
          362,
          376,
          394,
          418,
          435,
          456,
          473,
          499,
          523,
          544,
          561,
          585,
          613,
          633,
          656,
          684,
          711,
          739,
          765,
          790,
          814,
          839,
          861,
          890,
          915,
          942,
          974,
          1000,
          1029,
          1061,
          1087,
          1118,
          1154,
          1185,
          1213,
          1236,
          1270,
          1307,
          1337,
          1380,
          1408,
          1438,
          1475,
          1509,
          1536,
          1577,
          1616,
          1658,
          1689,
          1719
         ],
         "xaxis": "x",
         "y": [
          0.16667,
          0.21739,
          0.13636,
          0.1573,
          0.18,
          0.22,
          0.3,
          0.34,
          0.36,
          0.38,
          0.42,
          0.48,
          0.55,
          0.6,
          0.63,
          0.62,
          0.61,
          0.55,
          0.49,
          0.51,
          0.53,
          0.54,
          0.57,
          0.68,
          0.7,
          0.68,
          0.58824,
          0.56098,
          0.63768,
          0.66292,
          0.73913,
          0.7451,
          0.75641,
          0.72,
          0.71,
          0.68,
          0.72,
          0.75,
          0.81818,
          0.82353,
          0.84211,
          0.8,
          0.84,
          0.8,
          0.82,
          0.81,
          0.82,
          0.87,
          0.85,
          0.84,
          0.83,
          0.81,
          0.83,
          0.86,
          0.87,
          0.91,
          0.9,
          0.91,
          0.9,
          0.88,
          0.87,
          0.86,
          0.88,
          0.87,
          0.85,
          0.86
         ],
         "yaxis": "y"
        },
        {
         "hovertemplate": "version=RGB_only_v1<br>episodes_total=%{x}<br>episode_reward_mean=%{y}<extra></extra>",
         "legendgroup": "RGB_only_v1",
         "line": {
          "color": "#EF553B",
          "dash": "solid"
         },
         "marker": {
          "symbol": "circle"
         },
         "mode": "lines",
         "name": "RGB_only_v1",
         "orientation": "v",
         "showlegend": true,
         "type": "scatter",
         "x": [
          22,
          47,
          67,
          90,
          120,
          145,
          166,
          191,
          227,
          254,
          275,
          303,
          318,
          346,
          375,
          399,
          428,
          450,
          475,
          501,
          526,
          550,
          570,
          590,
          612,
          638,
          656,
          676,
          702,
          722,
          743,
          763,
          779,
          799,
          813,
          831,
          851,
          864,
          884,
          901,
          923,
          946,
          964,
          987,
          1006,
          1019,
          1036,
          1056,
          1077,
          1093,
          1107,
          1125,
          1150,
          1162,
          1177,
          1200,
          1217,
          1237,
          1256,
          1275,
          1293
         ],
         "xaxis": "x",
         "y": [
          0.13636,
          0.12766,
          0.10448,
          0.08889,
          0.09,
          0.07,
          0.09,
          0.24,
          0.14754,
          0.18182,
          0.2,
          0.17,
          0.18,
          0.15,
          0.1,
          0.12,
          0.15,
          0.13,
          0.14,
          0.16,
          0.15,
          0.21,
          0.21,
          0.22,
          0.22,
          0.2,
          0.22,
          0.2,
          0.21,
          0.2,
          0.21,
          0.19,
          0.2,
          0.21,
          0.23,
          0.18,
          0.16,
          0.19,
          0.17,
          0.14,
          0.15,
          0.17,
          0.17,
          0.22,
          0.25,
          0.26,
          0.31,
          0.37,
          0.4,
          0.37,
          0.36,
          0.36,
          0.33,
          0.3,
          0.32,
          0.34,
          0.38,
          0.32,
          0.29,
          0.27,
          0.29
         ],
         "yaxis": "y"
        },
        {
         "hovertemplate": "version=rgbd_v1<br>episodes_total=%{x}<br>episode_reward_mean=%{y}<extra></extra>",
         "legendgroup": "rgbd_v1",
         "line": {
          "color": "#00cc96",
          "dash": "solid"
         },
         "marker": {
          "symbol": "circle"
         },
         "mode": "lines",
         "name": "rgbd_v1",
         "orientation": "v",
         "showlegend": true,
         "type": "scatter",
         "x": [
          26,
          45,
          65,
          80,
          94,
          112,
          125,
          143,
          159,
          177,
          197,
          214,
          232,
          249,
          263,
          277,
          291,
          311,
          326,
          341,
          357,
          369,
          383,
          398,
          414,
          432,
          448,
          467,
          482,
          497,
          511,
          524,
          536,
          550,
          562,
          577,
          590,
          604,
          619,
          634,
          650,
          666,
          680,
          698,
          714,
          727,
          748,
          763,
          777,
          790,
          809,
          828,
          842,
          858,
          873,
          889,
          905,
          923,
          937,
          954,
          972,
          992,
          1009,
          1025,
          1045,
          1070,
          1086,
          1102,
          1115,
          1128,
          1142,
          1155,
          1174,
          1194,
          1212,
          1229,
          1246,
          1258,
          1277,
          1295,
          1317,
          1337,
          1355,
          1371,
          1388,
          1411,
          1427,
          1445,
          1466,
          1483,
          1497,
          1519,
          1533,
          1559,
          1581,
          1601,
          1623,
          1638,
          1653,
          1676
         ],
         "xaxis": "x",
         "y": [
          0.07692,
          0.04444,
          0.03077,
          0.0375,
          0.04255,
          0.03,
          0.02,
          0.02,
          0.04,
          0.05,
          0.06,
          0.08,
          0.1,
          0.09,
          0.12,
          0.12,
          0.12,
          0.09,
          0.11,
          0.14,
          0.15,
          0.15,
          0.16,
          0.17,
          0.19,
          0.19,
          0.19,
          0.14,
          0.15,
          0.14,
          0.14,
          0.15,
          0.14,
          0.14,
          0.15,
          0.16,
          0.18,
          0.17,
          0.16,
          0.18,
          0.2,
          0.23,
          0.21,
          0.22,
          0.25,
          0.24,
          0.22,
          0.2,
          0.22,
          0.23,
          0.25,
          0.25,
          0.25,
          0.29,
          0.32,
          0.34,
          0.34,
          0.36,
          0.38,
          0.36,
          0.32,
          0.32,
          0.32,
          0.36,
          0.34,
          0.37,
          0.35,
          0.35,
          0.34,
          0.3,
          0.29,
          0.28,
          0.3,
          0.3,
          0.31,
          0.32,
          0.31,
          0.33,
          0.29,
          0.35,
          0.38,
          0.39,
          0.43,
          0.43,
          0.42,
          0.44,
          0.39,
          0.4,
          0.43,
          0.4,
          0.38,
          0.43,
          0.41,
          0.48,
          0.51,
          0.56,
          0.49,
          0.49,
          0.42,
          0.5
         ],
         "yaxis": "y"
        }
       ],
       "layout": {
        "legend": {
         "title": {
          "text": "version"
         },
         "tracegroupgap": 0
        },
        "margin": {
         "t": 60
        },
        "template": {
         "data": {
          "bar": [
           {
            "error_x": {
             "color": "#2a3f5f"
            },
            "error_y": {
             "color": "#2a3f5f"
            },
            "marker": {
             "line": {
              "color": "#E5ECF6",
              "width": 0.5
             },
             "pattern": {
              "fillmode": "overlay",
              "size": 10,
              "solidity": 0.2
             }
            },
            "type": "bar"
           }
          ],
          "barpolar": [
           {
            "marker": {
             "line": {
              "color": "#E5ECF6",
              "width": 0.5
             },
             "pattern": {
              "fillmode": "overlay",
              "size": 10,
              "solidity": 0.2
             }
            },
            "type": "barpolar"
           }
          ],
          "carpet": [
           {
            "aaxis": {
             "endlinecolor": "#2a3f5f",
             "gridcolor": "white",
             "linecolor": "white",
             "minorgridcolor": "white",
             "startlinecolor": "#2a3f5f"
            },
            "baxis": {
             "endlinecolor": "#2a3f5f",
             "gridcolor": "white",
             "linecolor": "white",
             "minorgridcolor": "white",
             "startlinecolor": "#2a3f5f"
            },
            "type": "carpet"
           }
          ],
          "choropleth": [
           {
            "colorbar": {
             "outlinewidth": 0,
             "ticks": ""
            },
            "type": "choropleth"
           }
          ],
          "contour": [
           {
            "colorbar": {
             "outlinewidth": 0,
             "ticks": ""
            },
            "colorscale": [
             [
              0,
              "#0d0887"
             ],
             [
              0.1111111111111111,
              "#46039f"
             ],
             [
              0.2222222222222222,
              "#7201a8"
             ],
             [
              0.3333333333333333,
              "#9c179e"
             ],
             [
              0.4444444444444444,
              "#bd3786"
             ],
             [
              0.5555555555555556,
              "#d8576b"
             ],
             [
              0.6666666666666666,
              "#ed7953"
             ],
             [
              0.7777777777777778,
              "#fb9f3a"
             ],
             [
              0.8888888888888888,
              "#fdca26"
             ],
             [
              1,
              "#f0f921"
             ]
            ],
            "type": "contour"
           }
          ],
          "contourcarpet": [
           {
            "colorbar": {
             "outlinewidth": 0,
             "ticks": ""
            },
            "type": "contourcarpet"
           }
          ],
          "heatmap": [
           {
            "colorbar": {
             "outlinewidth": 0,
             "ticks": ""
            },
            "colorscale": [
             [
              0,
              "#0d0887"
             ],
             [
              0.1111111111111111,
              "#46039f"
             ],
             [
              0.2222222222222222,
              "#7201a8"
             ],
             [
              0.3333333333333333,
              "#9c179e"
             ],
             [
              0.4444444444444444,
              "#bd3786"
             ],
             [
              0.5555555555555556,
              "#d8576b"
             ],
             [
              0.6666666666666666,
              "#ed7953"
             ],
             [
              0.7777777777777778,
              "#fb9f3a"
             ],
             [
              0.8888888888888888,
              "#fdca26"
             ],
             [
              1,
              "#f0f921"
             ]
            ],
            "type": "heatmap"
           }
          ],
          "heatmapgl": [
           {
            "colorbar": {
             "outlinewidth": 0,
             "ticks": ""
            },
            "colorscale": [
             [
              0,
              "#0d0887"
             ],
             [
              0.1111111111111111,
              "#46039f"
             ],
             [
              0.2222222222222222,
              "#7201a8"
             ],
             [
              0.3333333333333333,
              "#9c179e"
             ],
             [
              0.4444444444444444,
              "#bd3786"
             ],
             [
              0.5555555555555556,
              "#d8576b"
             ],
             [
              0.6666666666666666,
              "#ed7953"
             ],
             [
              0.7777777777777778,
              "#fb9f3a"
             ],
             [
              0.8888888888888888,
              "#fdca26"
             ],
             [
              1,
              "#f0f921"
             ]
            ],
            "type": "heatmapgl"
           }
          ],
          "histogram": [
           {
            "marker": {
             "pattern": {
              "fillmode": "overlay",
              "size": 10,
              "solidity": 0.2
             }
            },
            "type": "histogram"
           }
          ],
          "histogram2d": [
           {
            "colorbar": {
             "outlinewidth": 0,
             "ticks": ""
            },
            "colorscale": [
             [
              0,
              "#0d0887"
             ],
             [
              0.1111111111111111,
              "#46039f"
             ],
             [
              0.2222222222222222,
              "#7201a8"
             ],
             [
              0.3333333333333333,
              "#9c179e"
             ],
             [
              0.4444444444444444,
              "#bd3786"
             ],
             [
              0.5555555555555556,
              "#d8576b"
             ],
             [
              0.6666666666666666,
              "#ed7953"
             ],
             [
              0.7777777777777778,
              "#fb9f3a"
             ],
             [
              0.8888888888888888,
              "#fdca26"
             ],
             [
              1,
              "#f0f921"
             ]
            ],
            "type": "histogram2d"
           }
          ],
          "histogram2dcontour": [
           {
            "colorbar": {
             "outlinewidth": 0,
             "ticks": ""
            },
            "colorscale": [
             [
              0,
              "#0d0887"
             ],
             [
              0.1111111111111111,
              "#46039f"
             ],
             [
              0.2222222222222222,
              "#7201a8"
             ],
             [
              0.3333333333333333,
              "#9c179e"
             ],
             [
              0.4444444444444444,
              "#bd3786"
             ],
             [
              0.5555555555555556,
              "#d8576b"
             ],
             [
              0.6666666666666666,
              "#ed7953"
             ],
             [
              0.7777777777777778,
              "#fb9f3a"
             ],
             [
              0.8888888888888888,
              "#fdca26"
             ],
             [
              1,
              "#f0f921"
             ]
            ],
            "type": "histogram2dcontour"
           }
          ],
          "mesh3d": [
           {
            "colorbar": {
             "outlinewidth": 0,
             "ticks": ""
            },
            "type": "mesh3d"
           }
          ],
          "parcoords": [
           {
            "line": {
             "colorbar": {
              "outlinewidth": 0,
              "ticks": ""
             }
            },
            "type": "parcoords"
           }
          ],
          "pie": [
           {
            "automargin": true,
            "type": "pie"
           }
          ],
          "scatter": [
           {
            "fillpattern": {
             "fillmode": "overlay",
             "size": 10,
             "solidity": 0.2
            },
            "type": "scatter"
           }
          ],
          "scatter3d": [
           {
            "line": {
             "colorbar": {
              "outlinewidth": 0,
              "ticks": ""
             }
            },
            "marker": {
             "colorbar": {
              "outlinewidth": 0,
              "ticks": ""
             }
            },
            "type": "scatter3d"
           }
          ],
          "scattercarpet": [
           {
            "marker": {
             "colorbar": {
              "outlinewidth": 0,
              "ticks": ""
             }
            },
            "type": "scattercarpet"
           }
          ],
          "scattergeo": [
           {
            "marker": {
             "colorbar": {
              "outlinewidth": 0,
              "ticks": ""
             }
            },
            "type": "scattergeo"
           }
          ],
          "scattergl": [
           {
            "marker": {
             "colorbar": {
              "outlinewidth": 0,
              "ticks": ""
             }
            },
            "type": "scattergl"
           }
          ],
          "scattermapbox": [
           {
            "marker": {
             "colorbar": {
              "outlinewidth": 0,
              "ticks": ""
             }
            },
            "type": "scattermapbox"
           }
          ],
          "scatterpolar": [
           {
            "marker": {
             "colorbar": {
              "outlinewidth": 0,
              "ticks": ""
             }
            },
            "type": "scatterpolar"
           }
          ],
          "scatterpolargl": [
           {
            "marker": {
             "colorbar": {
              "outlinewidth": 0,
              "ticks": ""
             }
            },
            "type": "scatterpolargl"
           }
          ],
          "scatterternary": [
           {
            "marker": {
             "colorbar": {
              "outlinewidth": 0,
              "ticks": ""
             }
            },
            "type": "scatterternary"
           }
          ],
          "surface": [
           {
            "colorbar": {
             "outlinewidth": 0,
             "ticks": ""
            },
            "colorscale": [
             [
              0,
              "#0d0887"
             ],
             [
              0.1111111111111111,
              "#46039f"
             ],
             [
              0.2222222222222222,
              "#7201a8"
             ],
             [
              0.3333333333333333,
              "#9c179e"
             ],
             [
              0.4444444444444444,
              "#bd3786"
             ],
             [
              0.5555555555555556,
              "#d8576b"
             ],
             [
              0.6666666666666666,
              "#ed7953"
             ],
             [
              0.7777777777777778,
              "#fb9f3a"
             ],
             [
              0.8888888888888888,
              "#fdca26"
             ],
             [
              1,
              "#f0f921"
             ]
            ],
            "type": "surface"
           }
          ],
          "table": [
           {
            "cells": {
             "fill": {
              "color": "#EBF0F8"
             },
             "line": {
              "color": "white"
             }
            },
            "header": {
             "fill": {
              "color": "#C8D4E3"
             },
             "line": {
              "color": "white"
             }
            },
            "type": "table"
           }
          ]
         },
         "layout": {
          "annotationdefaults": {
           "arrowcolor": "#2a3f5f",
           "arrowhead": 0,
           "arrowwidth": 1
          },
          "autotypenumbers": "strict",
          "coloraxis": {
           "colorbar": {
            "outlinewidth": 0,
            "ticks": ""
           }
          },
          "colorscale": {
           "diverging": [
            [
             0,
             "#8e0152"
            ],
            [
             0.1,
             "#c51b7d"
            ],
            [
             0.2,
             "#de77ae"
            ],
            [
             0.3,
             "#f1b6da"
            ],
            [
             0.4,
             "#fde0ef"
            ],
            [
             0.5,
             "#f7f7f7"
            ],
            [
             0.6,
             "#e6f5d0"
            ],
            [
             0.7,
             "#b8e186"
            ],
            [
             0.8,
             "#7fbc41"
            ],
            [
             0.9,
             "#4d9221"
            ],
            [
             1,
             "#276419"
            ]
           ],
           "sequential": [
            [
             0,
             "#0d0887"
            ],
            [
             0.1111111111111111,
             "#46039f"
            ],
            [
             0.2222222222222222,
             "#7201a8"
            ],
            [
             0.3333333333333333,
             "#9c179e"
            ],
            [
             0.4444444444444444,
             "#bd3786"
            ],
            [
             0.5555555555555556,
             "#d8576b"
            ],
            [
             0.6666666666666666,
             "#ed7953"
            ],
            [
             0.7777777777777778,
             "#fb9f3a"
            ],
            [
             0.8888888888888888,
             "#fdca26"
            ],
            [
             1,
             "#f0f921"
            ]
           ],
           "sequentialminus": [
            [
             0,
             "#0d0887"
            ],
            [
             0.1111111111111111,
             "#46039f"
            ],
            [
             0.2222222222222222,
             "#7201a8"
            ],
            [
             0.3333333333333333,
             "#9c179e"
            ],
            [
             0.4444444444444444,
             "#bd3786"
            ],
            [
             0.5555555555555556,
             "#d8576b"
            ],
            [
             0.6666666666666666,
             "#ed7953"
            ],
            [
             0.7777777777777778,
             "#fb9f3a"
            ],
            [
             0.8888888888888888,
             "#fdca26"
            ],
            [
             1,
             "#f0f921"
            ]
           ]
          },
          "colorway": [
           "#636efa",
           "#EF553B",
           "#00cc96",
           "#ab63fa",
           "#FFA15A",
           "#19d3f3",
           "#FF6692",
           "#B6E880",
           "#FF97FF",
           "#FECB52"
          ],
          "font": {
           "color": "#2a3f5f"
          },
          "geo": {
           "bgcolor": "white",
           "lakecolor": "white",
           "landcolor": "#E5ECF6",
           "showlakes": true,
           "showland": true,
           "subunitcolor": "white"
          },
          "hoverlabel": {
           "align": "left"
          },
          "hovermode": "closest",
          "mapbox": {
           "style": "light"
          },
          "paper_bgcolor": "white",
          "plot_bgcolor": "#E5ECF6",
          "polar": {
           "angularaxis": {
            "gridcolor": "white",
            "linecolor": "white",
            "ticks": ""
           },
           "bgcolor": "#E5ECF6",
           "radialaxis": {
            "gridcolor": "white",
            "linecolor": "white",
            "ticks": ""
           }
          },
          "scene": {
           "xaxis": {
            "backgroundcolor": "#E5ECF6",
            "gridcolor": "white",
            "gridwidth": 2,
            "linecolor": "white",
            "showbackground": true,
            "ticks": "",
            "zerolinecolor": "white"
           },
           "yaxis": {
            "backgroundcolor": "#E5ECF6",
            "gridcolor": "white",
            "gridwidth": 2,
            "linecolor": "white",
            "showbackground": true,
            "ticks": "",
            "zerolinecolor": "white"
           },
           "zaxis": {
            "backgroundcolor": "#E5ECF6",
            "gridcolor": "white",
            "gridwidth": 2,
            "linecolor": "white",
            "showbackground": true,
            "ticks": "",
            "zerolinecolor": "white"
           }
          },
          "shapedefaults": {
           "line": {
            "color": "#2a3f5f"
           }
          },
          "ternary": {
           "aaxis": {
            "gridcolor": "white",
            "linecolor": "white",
            "ticks": ""
           },
           "baxis": {
            "gridcolor": "white",
            "linecolor": "white",
            "ticks": ""
           },
           "bgcolor": "#E5ECF6",
           "caxis": {
            "gridcolor": "white",
            "linecolor": "white",
            "ticks": ""
           }
          },
          "title": {
           "x": 0.05
          },
          "xaxis": {
           "automargin": true,
           "gridcolor": "white",
           "linecolor": "white",
           "ticks": "",
           "title": {
            "standoff": 15
           },
           "zerolinecolor": "white",
           "zerolinewidth": 2
          },
          "yaxis": {
           "automargin": true,
           "gridcolor": "white",
           "linecolor": "white",
           "ticks": "",
           "title": {
            "standoff": 15
           },
           "zerolinecolor": "white",
           "zerolinewidth": 2
          }
         }
        },
        "xaxis": {
         "anchor": "y",
         "domain": [
          0,
          1
         ],
         "title": {
          "text": "episodes_total"
         }
        },
        "yaxis": {
         "anchor": "x",
         "domain": [
          0,
          1
         ],
         "title": {
          "text": "episode_reward_mean"
         }
        }
       }
      }
     },
     "metadata": {},
     "output_type": "display_data"
    },
    {
     "data": {
      "application/vnd.plotly.v1+json": {
       "config": {
        "plotlyServerURL": "https://plot.ly"
       },
       "data": [
        {
         "hovertemplate": "version=depth_only_v2<br>time_total_s=%{x}<br>episode_reward_mean=%{y}<extra></extra>",
         "legendgroup": "depth_only_v2",
         "line": {
          "color": "#636efa",
          "dash": "solid"
         },
         "marker": {
          "symbol": "circle"
         },
         "mode": "lines",
         "name": "depth_only_v2",
         "orientation": "v",
         "showlegend": true,
         "type": "scatter",
         "x": [
          198.37862491607666,
          399.5352201461792,
          849.7902076244354,
          1139.5900044441223,
          1425.0787365436554,
          1708.8101980686188,
          2001.7391922473907,
          2269.46635723114,
          2544.9236640930176,
          2820.059221506119,
          3117.7418394088745,
          3409.4413690567017,
          3702.1458942890167,
          3984.118621110916,
          4283.660758972168,
          4573.467465400696,
          4860.085861444473,
          5138.027164936066,
          5421.917367219925,
          5710.046673774719,
          5995.259033679962,
          6275.3802609443665,
          6553.236535549164,
          6839.845901727676,
          7268.624740123749,
          7554.355979919434,
          7776.49418926239,
          7992.577494859695,
          8209.858285665512,
          8438.711445093155,
          8661.04470205307,
          8894.361944913864,
          9118.815665245056,
          9332.853349208832,
          9558.465074300766,
          9768.66575717926,
          10002.078746318817,
          10228.347472429276,
          10466.293067932129,
          10704.719457864761,
          10952.059207439423,
          11195.45008301735,
          11438.475090265274,
          11688.970544099808,
          11927.867547273636,
          12170.905101060867,
          12420.287353277206,
          12665.919978380203,
          12914.046897649765,
          13150.736025333405,
          13369.887533903122,
          13589.283874034882,
          13829.486935853958,
          14078.26276564598,
          14318.70492887497,
          14552.385739564896,
          14782.727750778198,
          15017.893364429474,
          15260.05773305893,
          15503.626719713211,
          15740.811191558838,
          15979.060450792313,
          16358.751469135284,
          16646.96341753006,
          16905.90749192238,
          17256.862696409225
         ],
         "xaxis": "x",
         "y": [
          0.16667,
          0.21739,
          0.13636,
          0.1573,
          0.18,
          0.22,
          0.3,
          0.34,
          0.36,
          0.38,
          0.42,
          0.48,
          0.55,
          0.6,
          0.63,
          0.62,
          0.61,
          0.55,
          0.49,
          0.51,
          0.53,
          0.54,
          0.57,
          0.68,
          0.7,
          0.68,
          0.58824,
          0.56098,
          0.63768,
          0.66292,
          0.73913,
          0.7451,
          0.75641,
          0.72,
          0.71,
          0.68,
          0.72,
          0.75,
          0.81818,
          0.82353,
          0.84211,
          0.8,
          0.84,
          0.8,
          0.82,
          0.81,
          0.82,
          0.87,
          0.85,
          0.84,
          0.83,
          0.81,
          0.83,
          0.86,
          0.87,
          0.91,
          0.9,
          0.91,
          0.9,
          0.88,
          0.87,
          0.86,
          0.88,
          0.87,
          0.85,
          0.86
         ],
         "yaxis": "y"
        },
        {
         "hovertemplate": "version=RGB_only_v1<br>time_total_s=%{x}<br>episode_reward_mean=%{y}<extra></extra>",
         "legendgroup": "RGB_only_v1",
         "line": {
          "color": "#EF553B",
          "dash": "solid"
         },
         "marker": {
          "symbol": "circle"
         },
         "mode": "lines",
         "name": "RGB_only_v1",
         "orientation": "v",
         "showlegend": true,
         "type": "scatter",
         "x": [
          318.86091446876526,
          618.5475800037384,
          905.3492209911346,
          1187.0152072906494,
          1473.415772676468,
          1772.2903089523315,
          2092.655062198639,
          2362.8615140914917,
          2598.5195128917694,
          2822.271252632141,
          3051.7824001312256,
          3271.698659658432,
          3501.5941643714905,
          3737.9821050167084,
          3961.170213699341,
          4191.323075294495,
          4418.275503158569,
          4644.282577037811,
          4886.646525382996,
          5093.811935186386,
          5305.185497522354,
          5535.487858533859,
          5773.177652359009,
          6006.864000797272,
          6226.004927158356,
          6444.193102121353,
          6666.398289203644,
          6885.935761928558,
          7110.088574647903,
          7326.769642353058,
          7539.688188076019,
          7759.59782409668,
          7974.995653629303,
          8196.52076625824,
          8408.724093914032,
          8623.796176433563,
          8837.312639713287,
          9067.743144273758,
          9282.512048721313,
          9506.817058324814,
          9719.323034763336,
          9930.055321216583,
          10145.835072994232,
          10374.88908815384,
          10605.477469921112,
          10815.831340789795,
          11038.614703416824,
          11270.168625831604,
          11480.589017152786,
          11707.208923339844,
          11916.606215953827,
          12137.57887673378,
          12349.811068296432,
          12561.432167768478,
          12766.466282606125,
          12978.649413108826,
          13187.645511865616,
          13392.069015026093,
          13609.480890750885,
          13825.869642972946,
          14039.277978420258
         ],
         "xaxis": "x",
         "y": [
          0.13636,
          0.12766,
          0.10448,
          0.08889,
          0.09,
          0.07,
          0.09,
          0.24,
          0.14754,
          0.18182,
          0.2,
          0.17,
          0.18,
          0.15,
          0.1,
          0.12,
          0.15,
          0.13,
          0.14,
          0.16,
          0.15,
          0.21,
          0.21,
          0.22,
          0.22,
          0.2,
          0.22,
          0.2,
          0.21,
          0.2,
          0.21,
          0.19,
          0.2,
          0.21,
          0.23,
          0.18,
          0.16,
          0.19,
          0.17,
          0.14,
          0.15,
          0.17,
          0.17,
          0.22,
          0.25,
          0.26,
          0.31,
          0.37,
          0.4,
          0.37,
          0.36,
          0.36,
          0.33,
          0.3,
          0.32,
          0.34,
          0.38,
          0.32,
          0.29,
          0.27,
          0.29
         ],
         "yaxis": "y"
        },
        {
         "hovertemplate": "version=rgbd_v1<br>time_total_s=%{x}<br>episode_reward_mean=%{y}<extra></extra>",
         "legendgroup": "rgbd_v1",
         "line": {
          "color": "#00cc96",
          "dash": "solid"
         },
         "marker": {
          "symbol": "circle"
         },
         "mode": "lines",
         "name": "rgbd_v1",
         "orientation": "v",
         "showlegend": true,
         "type": "scatter",
         "x": [
          187.67995238304138,
          381.25412464141846,
          570.563677072525,
          771.4919366836548,
          962.3079071044922,
          1148.9235723018646,
          1336.2154607772827,
          1539.0492453575134,
          1742.8799545764923,
          1946.1136031150818,
          2141.2158954143524,
          2350.996481657028,
          2556.3874611854553,
          2759.000832080841,
          2951.058522939682,
          3150.392468690872,
          3351.5556457042694,
          3557.469608068466,
          3760.33163690567,
          3960.702151298523,
          4149.857796907425,
          4365.301302909851,
          4567.024521589279,
          4770.160707950592,
          4968.061586141586,
          5181.602470874786,
          5392.2791612148285,
          5595.1892693042755,
          5798.690930604935,
          5994.436363220215,
          6197.30818271637,
          6389.473098516464,
          6602.250819683075,
          6804.981695175171,
          7003.088256120682,
          7208.272847890854,
          7412.843205690384,
          7618.72506070137,
          7821.071261167526,
          8034.402082204819,
          8233.336623191833,
          8440.6972219944,
          8641.514025449753,
          8845.395116567612,
          9064.891709804535,
          9277.357627153397,
          9488.755382537842,
          9712.617806434631,
          9923.06846857071,
          10125.99220609665,
          10329.265625953674,
          10544.644272327423,
          10752.569622278214,
          10963.718611478806,
          11179.02284169197,
          11380.518087148666,
          11587.547175884247,
          11784.111206769943,
          11989.783274173737,
          12195.53104352951,
          12393.012978076935,
          12595.041785478592,
          12801.291991949081,
          13007.358263254166,
          13206.588953495026,
          13403.769010543823,
          13610.188716173172,
          13808.542258501053,
          14014.124325037003,
          14216.790185689926,
          14421.912458896637,
          14642.603685379028,
          14846.883413553238,
          15045.405447006226,
          15240.495440483093,
          15447.701663017273,
          15656.59766292572,
          15861.345582485199,
          16058.43339419365,
          16265.388780117035,
          16474.855659246445,
          16689.839088201523,
          16895.14663052559,
          17088.36441230774,
          17293.536072015762,
          17500.218497037888,
          17697.51437354088,
          17906.102239370346,
          18109.58898806572,
          18312.426282405853,
          18515.161148786545,
          18719.147287130356,
          18925.73218345642,
          19141.147517681122,
          19336.79849267006,
          19545.250422000885,
          19755.687291383743,
          19963.62092423439,
          20170.374591827393,
          20379.60866713524
         ],
         "xaxis": "x",
         "y": [
          0.07692,
          0.04444,
          0.03077,
          0.0375,
          0.04255,
          0.03,
          0.02,
          0.02,
          0.04,
          0.05,
          0.06,
          0.08,
          0.1,
          0.09,
          0.12,
          0.12,
          0.12,
          0.09,
          0.11,
          0.14,
          0.15,
          0.15,
          0.16,
          0.17,
          0.19,
          0.19,
          0.19,
          0.14,
          0.15,
          0.14,
          0.14,
          0.15,
          0.14,
          0.14,
          0.15,
          0.16,
          0.18,
          0.17,
          0.16,
          0.18,
          0.2,
          0.23,
          0.21,
          0.22,
          0.25,
          0.24,
          0.22,
          0.2,
          0.22,
          0.23,
          0.25,
          0.25,
          0.25,
          0.29,
          0.32,
          0.34,
          0.34,
          0.36,
          0.38,
          0.36,
          0.32,
          0.32,
          0.32,
          0.36,
          0.34,
          0.37,
          0.35,
          0.35,
          0.34,
          0.3,
          0.29,
          0.28,
          0.3,
          0.3,
          0.31,
          0.32,
          0.31,
          0.33,
          0.29,
          0.35,
          0.38,
          0.39,
          0.43,
          0.43,
          0.42,
          0.44,
          0.39,
          0.4,
          0.43,
          0.4,
          0.38,
          0.43,
          0.41,
          0.48,
          0.51,
          0.56,
          0.49,
          0.49,
          0.42,
          0.5
         ],
         "yaxis": "y"
        }
       ],
       "layout": {
        "legend": {
         "title": {
          "text": "version"
         },
         "tracegroupgap": 0
        },
        "margin": {
         "t": 60
        },
        "template": {
         "data": {
          "bar": [
           {
            "error_x": {
             "color": "#2a3f5f"
            },
            "error_y": {
             "color": "#2a3f5f"
            },
            "marker": {
             "line": {
              "color": "#E5ECF6",
              "width": 0.5
             },
             "pattern": {
              "fillmode": "overlay",
              "size": 10,
              "solidity": 0.2
             }
            },
            "type": "bar"
           }
          ],
          "barpolar": [
           {
            "marker": {
             "line": {
              "color": "#E5ECF6",
              "width": 0.5
             },
             "pattern": {
              "fillmode": "overlay",
              "size": 10,
              "solidity": 0.2
             }
            },
            "type": "barpolar"
           }
          ],
          "carpet": [
           {
            "aaxis": {
             "endlinecolor": "#2a3f5f",
             "gridcolor": "white",
             "linecolor": "white",
             "minorgridcolor": "white",
             "startlinecolor": "#2a3f5f"
            },
            "baxis": {
             "endlinecolor": "#2a3f5f",
             "gridcolor": "white",
             "linecolor": "white",
             "minorgridcolor": "white",
             "startlinecolor": "#2a3f5f"
            },
            "type": "carpet"
           }
          ],
          "choropleth": [
           {
            "colorbar": {
             "outlinewidth": 0,
             "ticks": ""
            },
            "type": "choropleth"
           }
          ],
          "contour": [
           {
            "colorbar": {
             "outlinewidth": 0,
             "ticks": ""
            },
            "colorscale": [
             [
              0,
              "#0d0887"
             ],
             [
              0.1111111111111111,
              "#46039f"
             ],
             [
              0.2222222222222222,
              "#7201a8"
             ],
             [
              0.3333333333333333,
              "#9c179e"
             ],
             [
              0.4444444444444444,
              "#bd3786"
             ],
             [
              0.5555555555555556,
              "#d8576b"
             ],
             [
              0.6666666666666666,
              "#ed7953"
             ],
             [
              0.7777777777777778,
              "#fb9f3a"
             ],
             [
              0.8888888888888888,
              "#fdca26"
             ],
             [
              1,
              "#f0f921"
             ]
            ],
            "type": "contour"
           }
          ],
          "contourcarpet": [
           {
            "colorbar": {
             "outlinewidth": 0,
             "ticks": ""
            },
            "type": "contourcarpet"
           }
          ],
          "heatmap": [
           {
            "colorbar": {
             "outlinewidth": 0,
             "ticks": ""
            },
            "colorscale": [
             [
              0,
              "#0d0887"
             ],
             [
              0.1111111111111111,
              "#46039f"
             ],
             [
              0.2222222222222222,
              "#7201a8"
             ],
             [
              0.3333333333333333,
              "#9c179e"
             ],
             [
              0.4444444444444444,
              "#bd3786"
             ],
             [
              0.5555555555555556,
              "#d8576b"
             ],
             [
              0.6666666666666666,
              "#ed7953"
             ],
             [
              0.7777777777777778,
              "#fb9f3a"
             ],
             [
              0.8888888888888888,
              "#fdca26"
             ],
             [
              1,
              "#f0f921"
             ]
            ],
            "type": "heatmap"
           }
          ],
          "heatmapgl": [
           {
            "colorbar": {
             "outlinewidth": 0,
             "ticks": ""
            },
            "colorscale": [
             [
              0,
              "#0d0887"
             ],
             [
              0.1111111111111111,
              "#46039f"
             ],
             [
              0.2222222222222222,
              "#7201a8"
             ],
             [
              0.3333333333333333,
              "#9c179e"
             ],
             [
              0.4444444444444444,
              "#bd3786"
             ],
             [
              0.5555555555555556,
              "#d8576b"
             ],
             [
              0.6666666666666666,
              "#ed7953"
             ],
             [
              0.7777777777777778,
              "#fb9f3a"
             ],
             [
              0.8888888888888888,
              "#fdca26"
             ],
             [
              1,
              "#f0f921"
             ]
            ],
            "type": "heatmapgl"
           }
          ],
          "histogram": [
           {
            "marker": {
             "pattern": {
              "fillmode": "overlay",
              "size": 10,
              "solidity": 0.2
             }
            },
            "type": "histogram"
           }
          ],
          "histogram2d": [
           {
            "colorbar": {
             "outlinewidth": 0,
             "ticks": ""
            },
            "colorscale": [
             [
              0,
              "#0d0887"
             ],
             [
              0.1111111111111111,
              "#46039f"
             ],
             [
              0.2222222222222222,
              "#7201a8"
             ],
             [
              0.3333333333333333,
              "#9c179e"
             ],
             [
              0.4444444444444444,
              "#bd3786"
             ],
             [
              0.5555555555555556,
              "#d8576b"
             ],
             [
              0.6666666666666666,
              "#ed7953"
             ],
             [
              0.7777777777777778,
              "#fb9f3a"
             ],
             [
              0.8888888888888888,
              "#fdca26"
             ],
             [
              1,
              "#f0f921"
             ]
            ],
            "type": "histogram2d"
           }
          ],
          "histogram2dcontour": [
           {
            "colorbar": {
             "outlinewidth": 0,
             "ticks": ""
            },
            "colorscale": [
             [
              0,
              "#0d0887"
             ],
             [
              0.1111111111111111,
              "#46039f"
             ],
             [
              0.2222222222222222,
              "#7201a8"
             ],
             [
              0.3333333333333333,
              "#9c179e"
             ],
             [
              0.4444444444444444,
              "#bd3786"
             ],
             [
              0.5555555555555556,
              "#d8576b"
             ],
             [
              0.6666666666666666,
              "#ed7953"
             ],
             [
              0.7777777777777778,
              "#fb9f3a"
             ],
             [
              0.8888888888888888,
              "#fdca26"
             ],
             [
              1,
              "#f0f921"
             ]
            ],
            "type": "histogram2dcontour"
           }
          ],
          "mesh3d": [
           {
            "colorbar": {
             "outlinewidth": 0,
             "ticks": ""
            },
            "type": "mesh3d"
           }
          ],
          "parcoords": [
           {
            "line": {
             "colorbar": {
              "outlinewidth": 0,
              "ticks": ""
             }
            },
            "type": "parcoords"
           }
          ],
          "pie": [
           {
            "automargin": true,
            "type": "pie"
           }
          ],
          "scatter": [
           {
            "fillpattern": {
             "fillmode": "overlay",
             "size": 10,
             "solidity": 0.2
            },
            "type": "scatter"
           }
          ],
          "scatter3d": [
           {
            "line": {
             "colorbar": {
              "outlinewidth": 0,
              "ticks": ""
             }
            },
            "marker": {
             "colorbar": {
              "outlinewidth": 0,
              "ticks": ""
             }
            },
            "type": "scatter3d"
           }
          ],
          "scattercarpet": [
           {
            "marker": {
             "colorbar": {
              "outlinewidth": 0,
              "ticks": ""
             }
            },
            "type": "scattercarpet"
           }
          ],
          "scattergeo": [
           {
            "marker": {
             "colorbar": {
              "outlinewidth": 0,
              "ticks": ""
             }
            },
            "type": "scattergeo"
           }
          ],
          "scattergl": [
           {
            "marker": {
             "colorbar": {
              "outlinewidth": 0,
              "ticks": ""
             }
            },
            "type": "scattergl"
           }
          ],
          "scattermapbox": [
           {
            "marker": {
             "colorbar": {
              "outlinewidth": 0,
              "ticks": ""
             }
            },
            "type": "scattermapbox"
           }
          ],
          "scatterpolar": [
           {
            "marker": {
             "colorbar": {
              "outlinewidth": 0,
              "ticks": ""
             }
            },
            "type": "scatterpolar"
           }
          ],
          "scatterpolargl": [
           {
            "marker": {
             "colorbar": {
              "outlinewidth": 0,
              "ticks": ""
             }
            },
            "type": "scatterpolargl"
           }
          ],
          "scatterternary": [
           {
            "marker": {
             "colorbar": {
              "outlinewidth": 0,
              "ticks": ""
             }
            },
            "type": "scatterternary"
           }
          ],
          "surface": [
           {
            "colorbar": {
             "outlinewidth": 0,
             "ticks": ""
            },
            "colorscale": [
             [
              0,
              "#0d0887"
             ],
             [
              0.1111111111111111,
              "#46039f"
             ],
             [
              0.2222222222222222,
              "#7201a8"
             ],
             [
              0.3333333333333333,
              "#9c179e"
             ],
             [
              0.4444444444444444,
              "#bd3786"
             ],
             [
              0.5555555555555556,
              "#d8576b"
             ],
             [
              0.6666666666666666,
              "#ed7953"
             ],
             [
              0.7777777777777778,
              "#fb9f3a"
             ],
             [
              0.8888888888888888,
              "#fdca26"
             ],
             [
              1,
              "#f0f921"
             ]
            ],
            "type": "surface"
           }
          ],
          "table": [
           {
            "cells": {
             "fill": {
              "color": "#EBF0F8"
             },
             "line": {
              "color": "white"
             }
            },
            "header": {
             "fill": {
              "color": "#C8D4E3"
             },
             "line": {
              "color": "white"
             }
            },
            "type": "table"
           }
          ]
         },
         "layout": {
          "annotationdefaults": {
           "arrowcolor": "#2a3f5f",
           "arrowhead": 0,
           "arrowwidth": 1
          },
          "autotypenumbers": "strict",
          "coloraxis": {
           "colorbar": {
            "outlinewidth": 0,
            "ticks": ""
           }
          },
          "colorscale": {
           "diverging": [
            [
             0,
             "#8e0152"
            ],
            [
             0.1,
             "#c51b7d"
            ],
            [
             0.2,
             "#de77ae"
            ],
            [
             0.3,
             "#f1b6da"
            ],
            [
             0.4,
             "#fde0ef"
            ],
            [
             0.5,
             "#f7f7f7"
            ],
            [
             0.6,
             "#e6f5d0"
            ],
            [
             0.7,
             "#b8e186"
            ],
            [
             0.8,
             "#7fbc41"
            ],
            [
             0.9,
             "#4d9221"
            ],
            [
             1,
             "#276419"
            ]
           ],
           "sequential": [
            [
             0,
             "#0d0887"
            ],
            [
             0.1111111111111111,
             "#46039f"
            ],
            [
             0.2222222222222222,
             "#7201a8"
            ],
            [
             0.3333333333333333,
             "#9c179e"
            ],
            [
             0.4444444444444444,
             "#bd3786"
            ],
            [
             0.5555555555555556,
             "#d8576b"
            ],
            [
             0.6666666666666666,
             "#ed7953"
            ],
            [
             0.7777777777777778,
             "#fb9f3a"
            ],
            [
             0.8888888888888888,
             "#fdca26"
            ],
            [
             1,
             "#f0f921"
            ]
           ],
           "sequentialminus": [
            [
             0,
             "#0d0887"
            ],
            [
             0.1111111111111111,
             "#46039f"
            ],
            [
             0.2222222222222222,
             "#7201a8"
            ],
            [
             0.3333333333333333,
             "#9c179e"
            ],
            [
             0.4444444444444444,
             "#bd3786"
            ],
            [
             0.5555555555555556,
             "#d8576b"
            ],
            [
             0.6666666666666666,
             "#ed7953"
            ],
            [
             0.7777777777777778,
             "#fb9f3a"
            ],
            [
             0.8888888888888888,
             "#fdca26"
            ],
            [
             1,
             "#f0f921"
            ]
           ]
          },
          "colorway": [
           "#636efa",
           "#EF553B",
           "#00cc96",
           "#ab63fa",
           "#FFA15A",
           "#19d3f3",
           "#FF6692",
           "#B6E880",
           "#FF97FF",
           "#FECB52"
          ],
          "font": {
           "color": "#2a3f5f"
          },
          "geo": {
           "bgcolor": "white",
           "lakecolor": "white",
           "landcolor": "#E5ECF6",
           "showlakes": true,
           "showland": true,
           "subunitcolor": "white"
          },
          "hoverlabel": {
           "align": "left"
          },
          "hovermode": "closest",
          "mapbox": {
           "style": "light"
          },
          "paper_bgcolor": "white",
          "plot_bgcolor": "#E5ECF6",
          "polar": {
           "angularaxis": {
            "gridcolor": "white",
            "linecolor": "white",
            "ticks": ""
           },
           "bgcolor": "#E5ECF6",
           "radialaxis": {
            "gridcolor": "white",
            "linecolor": "white",
            "ticks": ""
           }
          },
          "scene": {
           "xaxis": {
            "backgroundcolor": "#E5ECF6",
            "gridcolor": "white",
            "gridwidth": 2,
            "linecolor": "white",
            "showbackground": true,
            "ticks": "",
            "zerolinecolor": "white"
           },
           "yaxis": {
            "backgroundcolor": "#E5ECF6",
            "gridcolor": "white",
            "gridwidth": 2,
            "linecolor": "white",
            "showbackground": true,
            "ticks": "",
            "zerolinecolor": "white"
           },
           "zaxis": {
            "backgroundcolor": "#E5ECF6",
            "gridcolor": "white",
            "gridwidth": 2,
            "linecolor": "white",
            "showbackground": true,
            "ticks": "",
            "zerolinecolor": "white"
           }
          },
          "shapedefaults": {
           "line": {
            "color": "#2a3f5f"
           }
          },
          "ternary": {
           "aaxis": {
            "gridcolor": "white",
            "linecolor": "white",
            "ticks": ""
           },
           "baxis": {
            "gridcolor": "white",
            "linecolor": "white",
            "ticks": ""
           },
           "bgcolor": "#E5ECF6",
           "caxis": {
            "gridcolor": "white",
            "linecolor": "white",
            "ticks": ""
           }
          },
          "title": {
           "x": 0.05
          },
          "xaxis": {
           "automargin": true,
           "gridcolor": "white",
           "linecolor": "white",
           "ticks": "",
           "title": {
            "standoff": 15
           },
           "zerolinecolor": "white",
           "zerolinewidth": 2
          },
          "yaxis": {
           "automargin": true,
           "gridcolor": "white",
           "linecolor": "white",
           "ticks": "",
           "title": {
            "standoff": 15
           },
           "zerolinecolor": "white",
           "zerolinewidth": 2
          }
         }
        },
        "xaxis": {
         "anchor": "y",
         "domain": [
          0,
          1
         ],
         "title": {
          "text": "time_total_s"
         }
        },
        "yaxis": {
         "anchor": "x",
         "domain": [
          0,
          1
         ],
         "title": {
          "text": "episode_reward_mean"
         }
        }
       }
      }
     },
     "metadata": {},
     "output_type": "display_data"
    }
   ],
   "source": [
    "plotResults(ppo_data,ENV, VERSIONS, ['episode_reward_mean'], x_value='epoch' )\n",
    "plotResults(ppo_data,ENV, VERSIONS, ['episode_reward_mean'], x_value='episodes_total')\n",
    "plotResults(ppo_data,ENV, VERSIONS, ['episode_reward_mean'], x_value='time_total_s')\n"
   ]
  },
  {
   "cell_type": "code",
   "execution_count": 24,
   "metadata": {},
   "outputs": [
    {
     "data": {
      "text/html": [
       "<div>\n",
       "<style scoped>\n",
       "    .dataframe tbody tr th:only-of-type {\n",
       "        vertical-align: middle;\n",
       "    }\n",
       "\n",
       "    .dataframe tbody tr th {\n",
       "        vertical-align: top;\n",
       "    }\n",
       "\n",
       "    .dataframe thead th {\n",
       "        text-align: right;\n",
       "    }\n",
       "</style>\n",
       "<table border=\"1\" class=\"dataframe\">\n",
       "  <thead>\n",
       "    <tr style=\"text-align: right;\">\n",
       "      <th></th>\n",
       "      <th>epoch</th>\n",
       "      <th>environment</th>\n",
       "      <th>version</th>\n",
       "      <th>episode_reward_max</th>\n",
       "      <th>episode_reward_min</th>\n",
       "      <th>episode_reward_mean</th>\n",
       "      <th>episode_len_mean</th>\n",
       "      <th>mean_q</th>\n",
       "      <th>mean_td_error</th>\n",
       "      <th>episodes_total</th>\n",
       "      <th>time_this_iter_s</th>\n",
       "      <th>time_total_s</th>\n",
       "      <th>cpu_util_percent</th>\n",
       "      <th>ram_util_percent</th>\n",
       "    </tr>\n",
       "  </thead>\n",
       "  <tbody>\n",
       "    <tr>\n",
       "      <th>1</th>\n",
       "      <td>1</td>\n",
       "      <td>CustomOffWorldDockerMonolithDiscreteSim-v0</td>\n",
       "      <td>dqn_depth_v1</td>\n",
       "      <td>1.0</td>\n",
       "      <td>0.0</td>\n",
       "      <td>0.183857</td>\n",
       "      <td>44.035874</td>\n",
       "      <td>0.044934</td>\n",
       "      <td>0.020861</td>\n",
       "      <td>223</td>\n",
       "      <td>2026.473218</td>\n",
       "      <td>2026.473218</td>\n",
       "      <td>76.679382</td>\n",
       "      <td>68.704514</td>\n",
       "    </tr>\n",
       "    <tr>\n",
       "      <th>2</th>\n",
       "      <td>2</td>\n",
       "      <td>CustomOffWorldDockerMonolithDiscreteSim-v0</td>\n",
       "      <td>dqn_depth_v1</td>\n",
       "      <td>1.0</td>\n",
       "      <td>0.0</td>\n",
       "      <td>0.165138</td>\n",
       "      <td>45.995413</td>\n",
       "      <td>0.044860</td>\n",
       "      <td>-0.086270</td>\n",
       "      <td>441</td>\n",
       "      <td>2039.213573</td>\n",
       "      <td>4065.686792</td>\n",
       "      <td>76.918789</td>\n",
       "      <td>85.809859</td>\n",
       "    </tr>\n",
       "    <tr>\n",
       "      <th>3</th>\n",
       "      <td>3</td>\n",
       "      <td>CustomOffWorldDockerMonolithDiscreteSim-v0</td>\n",
       "      <td>dqn_depth_v1</td>\n",
       "      <td>1.0</td>\n",
       "      <td>0.0</td>\n",
       "      <td>0.185841</td>\n",
       "      <td>44.553097</td>\n",
       "      <td>0.069326</td>\n",
       "      <td>-0.018382</td>\n",
       "      <td>667</td>\n",
       "      <td>2059.494106</td>\n",
       "      <td>6125.180897</td>\n",
       "      <td>76.888196</td>\n",
       "      <td>86.503537</td>\n",
       "    </tr>\n",
       "    <tr>\n",
       "      <th>4</th>\n",
       "      <td>4</td>\n",
       "      <td>CustomOffWorldDockerMonolithDiscreteSim-v0</td>\n",
       "      <td>dqn_depth_v1</td>\n",
       "      <td>1.0</td>\n",
       "      <td>0.0</td>\n",
       "      <td>0.248889</td>\n",
       "      <td>44.826667</td>\n",
       "      <td>0.091298</td>\n",
       "      <td>-0.010901</td>\n",
       "      <td>892</td>\n",
       "      <td>2109.345118</td>\n",
       "      <td>8234.526015</td>\n",
       "      <td>76.883138</td>\n",
       "      <td>86.764624</td>\n",
       "    </tr>\n",
       "    <tr>\n",
       "      <th>5</th>\n",
       "      <td>5</td>\n",
       "      <td>CustomOffWorldDockerMonolithDiscreteSim-v0</td>\n",
       "      <td>dqn_depth_v1</td>\n",
       "      <td>1.0</td>\n",
       "      <td>0.0</td>\n",
       "      <td>0.236111</td>\n",
       "      <td>46.199074</td>\n",
       "      <td>0.132311</td>\n",
       "      <td>-0.078898</td>\n",
       "      <td>1108</td>\n",
       "      <td>2066.673707</td>\n",
       "      <td>10301.199723</td>\n",
       "      <td>76.941875</td>\n",
       "      <td>86.852545</td>\n",
       "    </tr>\n",
       "    <tr>\n",
       "      <th>6</th>\n",
       "      <td>6</td>\n",
       "      <td>CustomOffWorldDockerMonolithDiscreteSim-v0</td>\n",
       "      <td>dqn_depth_v1</td>\n",
       "      <td>1.0</td>\n",
       "      <td>0.0</td>\n",
       "      <td>0.192825</td>\n",
       "      <td>44.578475</td>\n",
       "      <td>0.179280</td>\n",
       "      <td>-0.014487</td>\n",
       "      <td>1331</td>\n",
       "      <td>2078.003396</td>\n",
       "      <td>12379.203119</td>\n",
       "      <td>76.947521</td>\n",
       "      <td>86.912640</td>\n",
       "    </tr>\n",
       "    <tr>\n",
       "      <th>7</th>\n",
       "      <td>7</td>\n",
       "      <td>CustomOffWorldDockerMonolithDiscreteSim-v0</td>\n",
       "      <td>dqn_depth_v1</td>\n",
       "      <td>1.0</td>\n",
       "      <td>0.0</td>\n",
       "      <td>0.226087</td>\n",
       "      <td>43.834783</td>\n",
       "      <td>0.194226</td>\n",
       "      <td>-0.016513</td>\n",
       "      <td>1561</td>\n",
       "      <td>2054.313837</td>\n",
       "      <td>14433.516956</td>\n",
       "      <td>77.089923</td>\n",
       "      <td>86.827962</td>\n",
       "    </tr>\n",
       "    <tr>\n",
       "      <th>8</th>\n",
       "      <td>8</td>\n",
       "      <td>CustomOffWorldDockerMonolithDiscreteSim-v0</td>\n",
       "      <td>dqn_depth_v1</td>\n",
       "      <td>1.0</td>\n",
       "      <td>0.0</td>\n",
       "      <td>0.219178</td>\n",
       "      <td>45.511416</td>\n",
       "      <td>0.238254</td>\n",
       "      <td>-0.032390</td>\n",
       "      <td>1780</td>\n",
       "      <td>2081.850764</td>\n",
       "      <td>16515.367719</td>\n",
       "      <td>76.977453</td>\n",
       "      <td>86.819982</td>\n",
       "    </tr>\n",
       "    <tr>\n",
       "      <th>9</th>\n",
       "      <td>9</td>\n",
       "      <td>CustomOffWorldDockerMonolithDiscreteSim-v0</td>\n",
       "      <td>dqn_depth_v1</td>\n",
       "      <td>1.0</td>\n",
       "      <td>0.0</td>\n",
       "      <td>0.185520</td>\n",
       "      <td>45.113122</td>\n",
       "      <td>0.301548</td>\n",
       "      <td>-0.026588</td>\n",
       "      <td>2001</td>\n",
       "      <td>2066.619357</td>\n",
       "      <td>18581.987076</td>\n",
       "      <td>76.976342</td>\n",
       "      <td>86.724568</td>\n",
       "    </tr>\n",
       "    <tr>\n",
       "      <th>10</th>\n",
       "      <td>10</td>\n",
       "      <td>CustomOffWorldDockerMonolithDiscreteSim-v0</td>\n",
       "      <td>dqn_depth_v1</td>\n",
       "      <td>1.0</td>\n",
       "      <td>0.0</td>\n",
       "      <td>0.252033</td>\n",
       "      <td>40.747967</td>\n",
       "      <td>0.310082</td>\n",
       "      <td>-0.008423</td>\n",
       "      <td>2247</td>\n",
       "      <td>2073.266448</td>\n",
       "      <td>20655.253524</td>\n",
       "      <td>77.097632</td>\n",
       "      <td>86.557787</td>\n",
       "    </tr>\n",
       "    <tr>\n",
       "      <th>11</th>\n",
       "      <td>11</td>\n",
       "      <td>CustomOffWorldDockerMonolithDiscreteSim-v0</td>\n",
       "      <td>dqn_depth_v1</td>\n",
       "      <td>1.0</td>\n",
       "      <td>0.0</td>\n",
       "      <td>0.223256</td>\n",
       "      <td>46.869767</td>\n",
       "      <td>0.292837</td>\n",
       "      <td>0.017698</td>\n",
       "      <td>2462</td>\n",
       "      <td>2087.936815</td>\n",
       "      <td>22743.190338</td>\n",
       "      <td>77.125590</td>\n",
       "      <td>86.504265</td>\n",
       "    </tr>\n",
       "    <tr>\n",
       "      <th>12</th>\n",
       "      <td>12</td>\n",
       "      <td>CustomOffWorldDockerMonolithDiscreteSim-v0</td>\n",
       "      <td>dqn_depth_v1</td>\n",
       "      <td>1.0</td>\n",
       "      <td>0.0</td>\n",
       "      <td>0.273543</td>\n",
       "      <td>44.614350</td>\n",
       "      <td>0.348278</td>\n",
       "      <td>-0.032877</td>\n",
       "      <td>2685</td>\n",
       "      <td>2080.746162</td>\n",
       "      <td>24823.936500</td>\n",
       "      <td>77.102510</td>\n",
       "      <td>86.391921</td>\n",
       "    </tr>\n",
       "    <tr>\n",
       "      <th>13</th>\n",
       "      <td>13</td>\n",
       "      <td>CustomOffWorldDockerMonolithDiscreteSim-v0</td>\n",
       "      <td>dqn_depth_v1</td>\n",
       "      <td>1.0</td>\n",
       "      <td>0.0</td>\n",
       "      <td>0.216981</td>\n",
       "      <td>46.768868</td>\n",
       "      <td>0.373668</td>\n",
       "      <td>-0.007058</td>\n",
       "      <td>2897</td>\n",
       "      <td>2090.383721</td>\n",
       "      <td>26914.320221</td>\n",
       "      <td>77.010519</td>\n",
       "      <td>86.297769</td>\n",
       "    </tr>\n",
       "    <tr>\n",
       "      <th>14</th>\n",
       "      <td>14</td>\n",
       "      <td>CustomOffWorldDockerMonolithDiscreteSim-v0</td>\n",
       "      <td>dqn_depth_v1</td>\n",
       "      <td>1.0</td>\n",
       "      <td>0.0</td>\n",
       "      <td>0.268085</td>\n",
       "      <td>43.161702</td>\n",
       "      <td>0.365061</td>\n",
       "      <td>0.005546</td>\n",
       "      <td>3132</td>\n",
       "      <td>2087.224838</td>\n",
       "      <td>29001.545059</td>\n",
       "      <td>77.218149</td>\n",
       "      <td>85.592385</td>\n",
       "    </tr>\n",
       "    <tr>\n",
       "      <th>15</th>\n",
       "      <td>15</td>\n",
       "      <td>CustomOffWorldDockerMonolithDiscreteSim-v0</td>\n",
       "      <td>dqn_depth_v1</td>\n",
       "      <td>1.0</td>\n",
       "      <td>0.0</td>\n",
       "      <td>0.297561</td>\n",
       "      <td>48.536585</td>\n",
       "      <td>0.420542</td>\n",
       "      <td>-0.019219</td>\n",
       "      <td>3337</td>\n",
       "      <td>2098.283509</td>\n",
       "      <td>31099.828567</td>\n",
       "      <td>77.169119</td>\n",
       "      <td>85.279064</td>\n",
       "    </tr>\n",
       "    <tr>\n",
       "      <th>16</th>\n",
       "      <td>16</td>\n",
       "      <td>CustomOffWorldDockerMonolithDiscreteSim-v0</td>\n",
       "      <td>dqn_depth_v1</td>\n",
       "      <td>1.0</td>\n",
       "      <td>0.0</td>\n",
       "      <td>0.294118</td>\n",
       "      <td>45.398190</td>\n",
       "      <td>0.448005</td>\n",
       "      <td>0.009290</td>\n",
       "      <td>3558</td>\n",
       "      <td>2084.338803</td>\n",
       "      <td>33184.167371</td>\n",
       "      <td>77.159899</td>\n",
       "      <td>85.101375</td>\n",
       "    </tr>\n",
       "  </tbody>\n",
       "</table>\n",
       "</div>"
      ],
      "text/plain": [
       "    epoch                                 environment       version  \\\n",
       "1       1  CustomOffWorldDockerMonolithDiscreteSim-v0  dqn_depth_v1   \n",
       "2       2  CustomOffWorldDockerMonolithDiscreteSim-v0  dqn_depth_v1   \n",
       "3       3  CustomOffWorldDockerMonolithDiscreteSim-v0  dqn_depth_v1   \n",
       "4       4  CustomOffWorldDockerMonolithDiscreteSim-v0  dqn_depth_v1   \n",
       "5       5  CustomOffWorldDockerMonolithDiscreteSim-v0  dqn_depth_v1   \n",
       "6       6  CustomOffWorldDockerMonolithDiscreteSim-v0  dqn_depth_v1   \n",
       "7       7  CustomOffWorldDockerMonolithDiscreteSim-v0  dqn_depth_v1   \n",
       "8       8  CustomOffWorldDockerMonolithDiscreteSim-v0  dqn_depth_v1   \n",
       "9       9  CustomOffWorldDockerMonolithDiscreteSim-v0  dqn_depth_v1   \n",
       "10     10  CustomOffWorldDockerMonolithDiscreteSim-v0  dqn_depth_v1   \n",
       "11     11  CustomOffWorldDockerMonolithDiscreteSim-v0  dqn_depth_v1   \n",
       "12     12  CustomOffWorldDockerMonolithDiscreteSim-v0  dqn_depth_v1   \n",
       "13     13  CustomOffWorldDockerMonolithDiscreteSim-v0  dqn_depth_v1   \n",
       "14     14  CustomOffWorldDockerMonolithDiscreteSim-v0  dqn_depth_v1   \n",
       "15     15  CustomOffWorldDockerMonolithDiscreteSim-v0  dqn_depth_v1   \n",
       "16     16  CustomOffWorldDockerMonolithDiscreteSim-v0  dqn_depth_v1   \n",
       "\n",
       "    episode_reward_max  episode_reward_min  episode_reward_mean  \\\n",
       "1                  1.0                 0.0             0.183857   \n",
       "2                  1.0                 0.0             0.165138   \n",
       "3                  1.0                 0.0             0.185841   \n",
       "4                  1.0                 0.0             0.248889   \n",
       "5                  1.0                 0.0             0.236111   \n",
       "6                  1.0                 0.0             0.192825   \n",
       "7                  1.0                 0.0             0.226087   \n",
       "8                  1.0                 0.0             0.219178   \n",
       "9                  1.0                 0.0             0.185520   \n",
       "10                 1.0                 0.0             0.252033   \n",
       "11                 1.0                 0.0             0.223256   \n",
       "12                 1.0                 0.0             0.273543   \n",
       "13                 1.0                 0.0             0.216981   \n",
       "14                 1.0                 0.0             0.268085   \n",
       "15                 1.0                 0.0             0.297561   \n",
       "16                 1.0                 0.0             0.294118   \n",
       "\n",
       "    episode_len_mean    mean_q  mean_td_error  episodes_total  \\\n",
       "1          44.035874  0.044934       0.020861             223   \n",
       "2          45.995413  0.044860      -0.086270             441   \n",
       "3          44.553097  0.069326      -0.018382             667   \n",
       "4          44.826667  0.091298      -0.010901             892   \n",
       "5          46.199074  0.132311      -0.078898            1108   \n",
       "6          44.578475  0.179280      -0.014487            1331   \n",
       "7          43.834783  0.194226      -0.016513            1561   \n",
       "8          45.511416  0.238254      -0.032390            1780   \n",
       "9          45.113122  0.301548      -0.026588            2001   \n",
       "10         40.747967  0.310082      -0.008423            2247   \n",
       "11         46.869767  0.292837       0.017698            2462   \n",
       "12         44.614350  0.348278      -0.032877            2685   \n",
       "13         46.768868  0.373668      -0.007058            2897   \n",
       "14         43.161702  0.365061       0.005546            3132   \n",
       "15         48.536585  0.420542      -0.019219            3337   \n",
       "16         45.398190  0.448005       0.009290            3558   \n",
       "\n",
       "    time_this_iter_s  time_total_s  cpu_util_percent  ram_util_percent  \n",
       "1        2026.473218   2026.473218         76.679382         68.704514  \n",
       "2        2039.213573   4065.686792         76.918789         85.809859  \n",
       "3        2059.494106   6125.180897         76.888196         86.503537  \n",
       "4        2109.345118   8234.526015         76.883138         86.764624  \n",
       "5        2066.673707  10301.199723         76.941875         86.852545  \n",
       "6        2078.003396  12379.203119         76.947521         86.912640  \n",
       "7        2054.313837  14433.516956         77.089923         86.827962  \n",
       "8        2081.850764  16515.367719         76.977453         86.819982  \n",
       "9        2066.619357  18581.987076         76.976342         86.724568  \n",
       "10       2073.266448  20655.253524         77.097632         86.557787  \n",
       "11       2087.936815  22743.190338         77.125590         86.504265  \n",
       "12       2080.746162  24823.936500         77.102510         86.391921  \n",
       "13       2090.383721  26914.320221         77.010519         86.297769  \n",
       "14       2087.224838  29001.545059         77.218149         85.592385  \n",
       "15       2098.283509  31099.828567         77.169119         85.279064  \n",
       "16       2084.338803  33184.167371         77.159899         85.101375  "
      ]
     },
     "execution_count": 24,
     "metadata": {},
     "output_type": "execute_result"
    }
   ],
   "source": [
    "dqn_data = collectData(ENV,[\"dqn_depth_v1\"], [\"SAMPLER\",\"DQN_LEARNER\",\"TIME\", \"PERF\"], ray_results={'results_dir':\"/home/sam/ray_results\", 'folder_name':\"DQN_CustomOffWorldDockerMonolithDiscreteSim-v0_2022-09-01_00-18-07lr1piv6r\"})\n",
    "dqn_data"
   ]
  },
  {
   "cell_type": "code",
   "execution_count": 29,
   "metadata": {},
   "outputs": [
    {
     "data": {
      "application/vnd.plotly.v1+json": {
       "config": {
        "plotlyServerURL": "https://plot.ly"
       },
       "data": [
        {
         "hovertemplate": "version=dqn_depth_v1<br>epoch=%{x}<br>episode_reward_mean=%{y}<extra></extra>",
         "legendgroup": "dqn_depth_v1",
         "line": {
          "color": "#636efa",
          "dash": "solid"
         },
         "marker": {
          "symbol": "circle"
         },
         "mode": "lines",
         "name": "dqn_depth_v1",
         "orientation": "v",
         "showlegend": true,
         "type": "scatter",
         "x": [
          1,
          2,
          3,
          4,
          5,
          6,
          7,
          8,
          9,
          10,
          11,
          12,
          13,
          14,
          15,
          16
         ],
         "xaxis": "x",
         "y": [
          0.18385650224215247,
          0.1651376146788991,
          0.18584070796460178,
          0.24888888888888888,
          0.2361111111111111,
          0.19282511210762332,
          0.22608695652173913,
          0.2191780821917808,
          0.18552036199095023,
          0.25203252032520324,
          0.22325581395348837,
          0.273542600896861,
          0.2169811320754717,
          0.2680851063829787,
          0.2975609756097561,
          0.29411764705882354
         ],
         "yaxis": "y"
        }
       ],
       "layout": {
        "legend": {
         "title": {
          "text": "version"
         },
         "tracegroupgap": 0
        },
        "margin": {
         "t": 60
        },
        "template": {
         "data": {
          "bar": [
           {
            "error_x": {
             "color": "#2a3f5f"
            },
            "error_y": {
             "color": "#2a3f5f"
            },
            "marker": {
             "line": {
              "color": "#E5ECF6",
              "width": 0.5
             },
             "pattern": {
              "fillmode": "overlay",
              "size": 10,
              "solidity": 0.2
             }
            },
            "type": "bar"
           }
          ],
          "barpolar": [
           {
            "marker": {
             "line": {
              "color": "#E5ECF6",
              "width": 0.5
             },
             "pattern": {
              "fillmode": "overlay",
              "size": 10,
              "solidity": 0.2
             }
            },
            "type": "barpolar"
           }
          ],
          "carpet": [
           {
            "aaxis": {
             "endlinecolor": "#2a3f5f",
             "gridcolor": "white",
             "linecolor": "white",
             "minorgridcolor": "white",
             "startlinecolor": "#2a3f5f"
            },
            "baxis": {
             "endlinecolor": "#2a3f5f",
             "gridcolor": "white",
             "linecolor": "white",
             "minorgridcolor": "white",
             "startlinecolor": "#2a3f5f"
            },
            "type": "carpet"
           }
          ],
          "choropleth": [
           {
            "colorbar": {
             "outlinewidth": 0,
             "ticks": ""
            },
            "type": "choropleth"
           }
          ],
          "contour": [
           {
            "colorbar": {
             "outlinewidth": 0,
             "ticks": ""
            },
            "colorscale": [
             [
              0,
              "#0d0887"
             ],
             [
              0.1111111111111111,
              "#46039f"
             ],
             [
              0.2222222222222222,
              "#7201a8"
             ],
             [
              0.3333333333333333,
              "#9c179e"
             ],
             [
              0.4444444444444444,
              "#bd3786"
             ],
             [
              0.5555555555555556,
              "#d8576b"
             ],
             [
              0.6666666666666666,
              "#ed7953"
             ],
             [
              0.7777777777777778,
              "#fb9f3a"
             ],
             [
              0.8888888888888888,
              "#fdca26"
             ],
             [
              1,
              "#f0f921"
             ]
            ],
            "type": "contour"
           }
          ],
          "contourcarpet": [
           {
            "colorbar": {
             "outlinewidth": 0,
             "ticks": ""
            },
            "type": "contourcarpet"
           }
          ],
          "heatmap": [
           {
            "colorbar": {
             "outlinewidth": 0,
             "ticks": ""
            },
            "colorscale": [
             [
              0,
              "#0d0887"
             ],
             [
              0.1111111111111111,
              "#46039f"
             ],
             [
              0.2222222222222222,
              "#7201a8"
             ],
             [
              0.3333333333333333,
              "#9c179e"
             ],
             [
              0.4444444444444444,
              "#bd3786"
             ],
             [
              0.5555555555555556,
              "#d8576b"
             ],
             [
              0.6666666666666666,
              "#ed7953"
             ],
             [
              0.7777777777777778,
              "#fb9f3a"
             ],
             [
              0.8888888888888888,
              "#fdca26"
             ],
             [
              1,
              "#f0f921"
             ]
            ],
            "type": "heatmap"
           }
          ],
          "heatmapgl": [
           {
            "colorbar": {
             "outlinewidth": 0,
             "ticks": ""
            },
            "colorscale": [
             [
              0,
              "#0d0887"
             ],
             [
              0.1111111111111111,
              "#46039f"
             ],
             [
              0.2222222222222222,
              "#7201a8"
             ],
             [
              0.3333333333333333,
              "#9c179e"
             ],
             [
              0.4444444444444444,
              "#bd3786"
             ],
             [
              0.5555555555555556,
              "#d8576b"
             ],
             [
              0.6666666666666666,
              "#ed7953"
             ],
             [
              0.7777777777777778,
              "#fb9f3a"
             ],
             [
              0.8888888888888888,
              "#fdca26"
             ],
             [
              1,
              "#f0f921"
             ]
            ],
            "type": "heatmapgl"
           }
          ],
          "histogram": [
           {
            "marker": {
             "pattern": {
              "fillmode": "overlay",
              "size": 10,
              "solidity": 0.2
             }
            },
            "type": "histogram"
           }
          ],
          "histogram2d": [
           {
            "colorbar": {
             "outlinewidth": 0,
             "ticks": ""
            },
            "colorscale": [
             [
              0,
              "#0d0887"
             ],
             [
              0.1111111111111111,
              "#46039f"
             ],
             [
              0.2222222222222222,
              "#7201a8"
             ],
             [
              0.3333333333333333,
              "#9c179e"
             ],
             [
              0.4444444444444444,
              "#bd3786"
             ],
             [
              0.5555555555555556,
              "#d8576b"
             ],
             [
              0.6666666666666666,
              "#ed7953"
             ],
             [
              0.7777777777777778,
              "#fb9f3a"
             ],
             [
              0.8888888888888888,
              "#fdca26"
             ],
             [
              1,
              "#f0f921"
             ]
            ],
            "type": "histogram2d"
           }
          ],
          "histogram2dcontour": [
           {
            "colorbar": {
             "outlinewidth": 0,
             "ticks": ""
            },
            "colorscale": [
             [
              0,
              "#0d0887"
             ],
             [
              0.1111111111111111,
              "#46039f"
             ],
             [
              0.2222222222222222,
              "#7201a8"
             ],
             [
              0.3333333333333333,
              "#9c179e"
             ],
             [
              0.4444444444444444,
              "#bd3786"
             ],
             [
              0.5555555555555556,
              "#d8576b"
             ],
             [
              0.6666666666666666,
              "#ed7953"
             ],
             [
              0.7777777777777778,
              "#fb9f3a"
             ],
             [
              0.8888888888888888,
              "#fdca26"
             ],
             [
              1,
              "#f0f921"
             ]
            ],
            "type": "histogram2dcontour"
           }
          ],
          "mesh3d": [
           {
            "colorbar": {
             "outlinewidth": 0,
             "ticks": ""
            },
            "type": "mesh3d"
           }
          ],
          "parcoords": [
           {
            "line": {
             "colorbar": {
              "outlinewidth": 0,
              "ticks": ""
             }
            },
            "type": "parcoords"
           }
          ],
          "pie": [
           {
            "automargin": true,
            "type": "pie"
           }
          ],
          "scatter": [
           {
            "fillpattern": {
             "fillmode": "overlay",
             "size": 10,
             "solidity": 0.2
            },
            "type": "scatter"
           }
          ],
          "scatter3d": [
           {
            "line": {
             "colorbar": {
              "outlinewidth": 0,
              "ticks": ""
             }
            },
            "marker": {
             "colorbar": {
              "outlinewidth": 0,
              "ticks": ""
             }
            },
            "type": "scatter3d"
           }
          ],
          "scattercarpet": [
           {
            "marker": {
             "colorbar": {
              "outlinewidth": 0,
              "ticks": ""
             }
            },
            "type": "scattercarpet"
           }
          ],
          "scattergeo": [
           {
            "marker": {
             "colorbar": {
              "outlinewidth": 0,
              "ticks": ""
             }
            },
            "type": "scattergeo"
           }
          ],
          "scattergl": [
           {
            "marker": {
             "colorbar": {
              "outlinewidth": 0,
              "ticks": ""
             }
            },
            "type": "scattergl"
           }
          ],
          "scattermapbox": [
           {
            "marker": {
             "colorbar": {
              "outlinewidth": 0,
              "ticks": ""
             }
            },
            "type": "scattermapbox"
           }
          ],
          "scatterpolar": [
           {
            "marker": {
             "colorbar": {
              "outlinewidth": 0,
              "ticks": ""
             }
            },
            "type": "scatterpolar"
           }
          ],
          "scatterpolargl": [
           {
            "marker": {
             "colorbar": {
              "outlinewidth": 0,
              "ticks": ""
             }
            },
            "type": "scatterpolargl"
           }
          ],
          "scatterternary": [
           {
            "marker": {
             "colorbar": {
              "outlinewidth": 0,
              "ticks": ""
             }
            },
            "type": "scatterternary"
           }
          ],
          "surface": [
           {
            "colorbar": {
             "outlinewidth": 0,
             "ticks": ""
            },
            "colorscale": [
             [
              0,
              "#0d0887"
             ],
             [
              0.1111111111111111,
              "#46039f"
             ],
             [
              0.2222222222222222,
              "#7201a8"
             ],
             [
              0.3333333333333333,
              "#9c179e"
             ],
             [
              0.4444444444444444,
              "#bd3786"
             ],
             [
              0.5555555555555556,
              "#d8576b"
             ],
             [
              0.6666666666666666,
              "#ed7953"
             ],
             [
              0.7777777777777778,
              "#fb9f3a"
             ],
             [
              0.8888888888888888,
              "#fdca26"
             ],
             [
              1,
              "#f0f921"
             ]
            ],
            "type": "surface"
           }
          ],
          "table": [
           {
            "cells": {
             "fill": {
              "color": "#EBF0F8"
             },
             "line": {
              "color": "white"
             }
            },
            "header": {
             "fill": {
              "color": "#C8D4E3"
             },
             "line": {
              "color": "white"
             }
            },
            "type": "table"
           }
          ]
         },
         "layout": {
          "annotationdefaults": {
           "arrowcolor": "#2a3f5f",
           "arrowhead": 0,
           "arrowwidth": 1
          },
          "autotypenumbers": "strict",
          "coloraxis": {
           "colorbar": {
            "outlinewidth": 0,
            "ticks": ""
           }
          },
          "colorscale": {
           "diverging": [
            [
             0,
             "#8e0152"
            ],
            [
             0.1,
             "#c51b7d"
            ],
            [
             0.2,
             "#de77ae"
            ],
            [
             0.3,
             "#f1b6da"
            ],
            [
             0.4,
             "#fde0ef"
            ],
            [
             0.5,
             "#f7f7f7"
            ],
            [
             0.6,
             "#e6f5d0"
            ],
            [
             0.7,
             "#b8e186"
            ],
            [
             0.8,
             "#7fbc41"
            ],
            [
             0.9,
             "#4d9221"
            ],
            [
             1,
             "#276419"
            ]
           ],
           "sequential": [
            [
             0,
             "#0d0887"
            ],
            [
             0.1111111111111111,
             "#46039f"
            ],
            [
             0.2222222222222222,
             "#7201a8"
            ],
            [
             0.3333333333333333,
             "#9c179e"
            ],
            [
             0.4444444444444444,
             "#bd3786"
            ],
            [
             0.5555555555555556,
             "#d8576b"
            ],
            [
             0.6666666666666666,
             "#ed7953"
            ],
            [
             0.7777777777777778,
             "#fb9f3a"
            ],
            [
             0.8888888888888888,
             "#fdca26"
            ],
            [
             1,
             "#f0f921"
            ]
           ],
           "sequentialminus": [
            [
             0,
             "#0d0887"
            ],
            [
             0.1111111111111111,
             "#46039f"
            ],
            [
             0.2222222222222222,
             "#7201a8"
            ],
            [
             0.3333333333333333,
             "#9c179e"
            ],
            [
             0.4444444444444444,
             "#bd3786"
            ],
            [
             0.5555555555555556,
             "#d8576b"
            ],
            [
             0.6666666666666666,
             "#ed7953"
            ],
            [
             0.7777777777777778,
             "#fb9f3a"
            ],
            [
             0.8888888888888888,
             "#fdca26"
            ],
            [
             1,
             "#f0f921"
            ]
           ]
          },
          "colorway": [
           "#636efa",
           "#EF553B",
           "#00cc96",
           "#ab63fa",
           "#FFA15A",
           "#19d3f3",
           "#FF6692",
           "#B6E880",
           "#FF97FF",
           "#FECB52"
          ],
          "font": {
           "color": "#2a3f5f"
          },
          "geo": {
           "bgcolor": "white",
           "lakecolor": "white",
           "landcolor": "#E5ECF6",
           "showlakes": true,
           "showland": true,
           "subunitcolor": "white"
          },
          "hoverlabel": {
           "align": "left"
          },
          "hovermode": "closest",
          "mapbox": {
           "style": "light"
          },
          "paper_bgcolor": "white",
          "plot_bgcolor": "#E5ECF6",
          "polar": {
           "angularaxis": {
            "gridcolor": "white",
            "linecolor": "white",
            "ticks": ""
           },
           "bgcolor": "#E5ECF6",
           "radialaxis": {
            "gridcolor": "white",
            "linecolor": "white",
            "ticks": ""
           }
          },
          "scene": {
           "xaxis": {
            "backgroundcolor": "#E5ECF6",
            "gridcolor": "white",
            "gridwidth": 2,
            "linecolor": "white",
            "showbackground": true,
            "ticks": "",
            "zerolinecolor": "white"
           },
           "yaxis": {
            "backgroundcolor": "#E5ECF6",
            "gridcolor": "white",
            "gridwidth": 2,
            "linecolor": "white",
            "showbackground": true,
            "ticks": "",
            "zerolinecolor": "white"
           },
           "zaxis": {
            "backgroundcolor": "#E5ECF6",
            "gridcolor": "white",
            "gridwidth": 2,
            "linecolor": "white",
            "showbackground": true,
            "ticks": "",
            "zerolinecolor": "white"
           }
          },
          "shapedefaults": {
           "line": {
            "color": "#2a3f5f"
           }
          },
          "ternary": {
           "aaxis": {
            "gridcolor": "white",
            "linecolor": "white",
            "ticks": ""
           },
           "baxis": {
            "gridcolor": "white",
            "linecolor": "white",
            "ticks": ""
           },
           "bgcolor": "#E5ECF6",
           "caxis": {
            "gridcolor": "white",
            "linecolor": "white",
            "ticks": ""
           }
          },
          "title": {
           "x": 0.05
          },
          "xaxis": {
           "automargin": true,
           "gridcolor": "white",
           "linecolor": "white",
           "ticks": "",
           "title": {
            "standoff": 15
           },
           "zerolinecolor": "white",
           "zerolinewidth": 2
          },
          "yaxis": {
           "automargin": true,
           "gridcolor": "white",
           "linecolor": "white",
           "ticks": "",
           "title": {
            "standoff": 15
           },
           "zerolinecolor": "white",
           "zerolinewidth": 2
          }
         }
        },
        "xaxis": {
         "anchor": "y",
         "domain": [
          0,
          1
         ],
         "title": {
          "text": "epoch"
         }
        },
        "yaxis": {
         "anchor": "x",
         "domain": [
          0,
          1
         ],
         "title": {
          "text": "episode_reward_mean"
         }
        }
       }
      }
     },
     "metadata": {},
     "output_type": "display_data"
    },
    {
     "data": {
      "application/vnd.plotly.v1+json": {
       "config": {
        "plotlyServerURL": "https://plot.ly"
       },
       "data": [
        {
         "hovertemplate": "version=dqn_depth_v1<br>episodes_total=%{x}<br>episode_reward_mean=%{y}<extra></extra>",
         "legendgroup": "dqn_depth_v1",
         "line": {
          "color": "#636efa",
          "dash": "solid"
         },
         "marker": {
          "symbol": "circle"
         },
         "mode": "lines",
         "name": "dqn_depth_v1",
         "orientation": "v",
         "showlegend": true,
         "type": "scatter",
         "x": [
          223,
          441,
          667,
          892,
          1108,
          1331,
          1561,
          1780,
          2001,
          2247,
          2462,
          2685,
          2897,
          3132,
          3337,
          3558
         ],
         "xaxis": "x",
         "y": [
          0.18385650224215247,
          0.1651376146788991,
          0.18584070796460178,
          0.24888888888888888,
          0.2361111111111111,
          0.19282511210762332,
          0.22608695652173913,
          0.2191780821917808,
          0.18552036199095023,
          0.25203252032520324,
          0.22325581395348837,
          0.273542600896861,
          0.2169811320754717,
          0.2680851063829787,
          0.2975609756097561,
          0.29411764705882354
         ],
         "yaxis": "y"
        }
       ],
       "layout": {
        "legend": {
         "title": {
          "text": "version"
         },
         "tracegroupgap": 0
        },
        "margin": {
         "t": 60
        },
        "template": {
         "data": {
          "bar": [
           {
            "error_x": {
             "color": "#2a3f5f"
            },
            "error_y": {
             "color": "#2a3f5f"
            },
            "marker": {
             "line": {
              "color": "#E5ECF6",
              "width": 0.5
             },
             "pattern": {
              "fillmode": "overlay",
              "size": 10,
              "solidity": 0.2
             }
            },
            "type": "bar"
           }
          ],
          "barpolar": [
           {
            "marker": {
             "line": {
              "color": "#E5ECF6",
              "width": 0.5
             },
             "pattern": {
              "fillmode": "overlay",
              "size": 10,
              "solidity": 0.2
             }
            },
            "type": "barpolar"
           }
          ],
          "carpet": [
           {
            "aaxis": {
             "endlinecolor": "#2a3f5f",
             "gridcolor": "white",
             "linecolor": "white",
             "minorgridcolor": "white",
             "startlinecolor": "#2a3f5f"
            },
            "baxis": {
             "endlinecolor": "#2a3f5f",
             "gridcolor": "white",
             "linecolor": "white",
             "minorgridcolor": "white",
             "startlinecolor": "#2a3f5f"
            },
            "type": "carpet"
           }
          ],
          "choropleth": [
           {
            "colorbar": {
             "outlinewidth": 0,
             "ticks": ""
            },
            "type": "choropleth"
           }
          ],
          "contour": [
           {
            "colorbar": {
             "outlinewidth": 0,
             "ticks": ""
            },
            "colorscale": [
             [
              0,
              "#0d0887"
             ],
             [
              0.1111111111111111,
              "#46039f"
             ],
             [
              0.2222222222222222,
              "#7201a8"
             ],
             [
              0.3333333333333333,
              "#9c179e"
             ],
             [
              0.4444444444444444,
              "#bd3786"
             ],
             [
              0.5555555555555556,
              "#d8576b"
             ],
             [
              0.6666666666666666,
              "#ed7953"
             ],
             [
              0.7777777777777778,
              "#fb9f3a"
             ],
             [
              0.8888888888888888,
              "#fdca26"
             ],
             [
              1,
              "#f0f921"
             ]
            ],
            "type": "contour"
           }
          ],
          "contourcarpet": [
           {
            "colorbar": {
             "outlinewidth": 0,
             "ticks": ""
            },
            "type": "contourcarpet"
           }
          ],
          "heatmap": [
           {
            "colorbar": {
             "outlinewidth": 0,
             "ticks": ""
            },
            "colorscale": [
             [
              0,
              "#0d0887"
             ],
             [
              0.1111111111111111,
              "#46039f"
             ],
             [
              0.2222222222222222,
              "#7201a8"
             ],
             [
              0.3333333333333333,
              "#9c179e"
             ],
             [
              0.4444444444444444,
              "#bd3786"
             ],
             [
              0.5555555555555556,
              "#d8576b"
             ],
             [
              0.6666666666666666,
              "#ed7953"
             ],
             [
              0.7777777777777778,
              "#fb9f3a"
             ],
             [
              0.8888888888888888,
              "#fdca26"
             ],
             [
              1,
              "#f0f921"
             ]
            ],
            "type": "heatmap"
           }
          ],
          "heatmapgl": [
           {
            "colorbar": {
             "outlinewidth": 0,
             "ticks": ""
            },
            "colorscale": [
             [
              0,
              "#0d0887"
             ],
             [
              0.1111111111111111,
              "#46039f"
             ],
             [
              0.2222222222222222,
              "#7201a8"
             ],
             [
              0.3333333333333333,
              "#9c179e"
             ],
             [
              0.4444444444444444,
              "#bd3786"
             ],
             [
              0.5555555555555556,
              "#d8576b"
             ],
             [
              0.6666666666666666,
              "#ed7953"
             ],
             [
              0.7777777777777778,
              "#fb9f3a"
             ],
             [
              0.8888888888888888,
              "#fdca26"
             ],
             [
              1,
              "#f0f921"
             ]
            ],
            "type": "heatmapgl"
           }
          ],
          "histogram": [
           {
            "marker": {
             "pattern": {
              "fillmode": "overlay",
              "size": 10,
              "solidity": 0.2
             }
            },
            "type": "histogram"
           }
          ],
          "histogram2d": [
           {
            "colorbar": {
             "outlinewidth": 0,
             "ticks": ""
            },
            "colorscale": [
             [
              0,
              "#0d0887"
             ],
             [
              0.1111111111111111,
              "#46039f"
             ],
             [
              0.2222222222222222,
              "#7201a8"
             ],
             [
              0.3333333333333333,
              "#9c179e"
             ],
             [
              0.4444444444444444,
              "#bd3786"
             ],
             [
              0.5555555555555556,
              "#d8576b"
             ],
             [
              0.6666666666666666,
              "#ed7953"
             ],
             [
              0.7777777777777778,
              "#fb9f3a"
             ],
             [
              0.8888888888888888,
              "#fdca26"
             ],
             [
              1,
              "#f0f921"
             ]
            ],
            "type": "histogram2d"
           }
          ],
          "histogram2dcontour": [
           {
            "colorbar": {
             "outlinewidth": 0,
             "ticks": ""
            },
            "colorscale": [
             [
              0,
              "#0d0887"
             ],
             [
              0.1111111111111111,
              "#46039f"
             ],
             [
              0.2222222222222222,
              "#7201a8"
             ],
             [
              0.3333333333333333,
              "#9c179e"
             ],
             [
              0.4444444444444444,
              "#bd3786"
             ],
             [
              0.5555555555555556,
              "#d8576b"
             ],
             [
              0.6666666666666666,
              "#ed7953"
             ],
             [
              0.7777777777777778,
              "#fb9f3a"
             ],
             [
              0.8888888888888888,
              "#fdca26"
             ],
             [
              1,
              "#f0f921"
             ]
            ],
            "type": "histogram2dcontour"
           }
          ],
          "mesh3d": [
           {
            "colorbar": {
             "outlinewidth": 0,
             "ticks": ""
            },
            "type": "mesh3d"
           }
          ],
          "parcoords": [
           {
            "line": {
             "colorbar": {
              "outlinewidth": 0,
              "ticks": ""
             }
            },
            "type": "parcoords"
           }
          ],
          "pie": [
           {
            "automargin": true,
            "type": "pie"
           }
          ],
          "scatter": [
           {
            "fillpattern": {
             "fillmode": "overlay",
             "size": 10,
             "solidity": 0.2
            },
            "type": "scatter"
           }
          ],
          "scatter3d": [
           {
            "line": {
             "colorbar": {
              "outlinewidth": 0,
              "ticks": ""
             }
            },
            "marker": {
             "colorbar": {
              "outlinewidth": 0,
              "ticks": ""
             }
            },
            "type": "scatter3d"
           }
          ],
          "scattercarpet": [
           {
            "marker": {
             "colorbar": {
              "outlinewidth": 0,
              "ticks": ""
             }
            },
            "type": "scattercarpet"
           }
          ],
          "scattergeo": [
           {
            "marker": {
             "colorbar": {
              "outlinewidth": 0,
              "ticks": ""
             }
            },
            "type": "scattergeo"
           }
          ],
          "scattergl": [
           {
            "marker": {
             "colorbar": {
              "outlinewidth": 0,
              "ticks": ""
             }
            },
            "type": "scattergl"
           }
          ],
          "scattermapbox": [
           {
            "marker": {
             "colorbar": {
              "outlinewidth": 0,
              "ticks": ""
             }
            },
            "type": "scattermapbox"
           }
          ],
          "scatterpolar": [
           {
            "marker": {
             "colorbar": {
              "outlinewidth": 0,
              "ticks": ""
             }
            },
            "type": "scatterpolar"
           }
          ],
          "scatterpolargl": [
           {
            "marker": {
             "colorbar": {
              "outlinewidth": 0,
              "ticks": ""
             }
            },
            "type": "scatterpolargl"
           }
          ],
          "scatterternary": [
           {
            "marker": {
             "colorbar": {
              "outlinewidth": 0,
              "ticks": ""
             }
            },
            "type": "scatterternary"
           }
          ],
          "surface": [
           {
            "colorbar": {
             "outlinewidth": 0,
             "ticks": ""
            },
            "colorscale": [
             [
              0,
              "#0d0887"
             ],
             [
              0.1111111111111111,
              "#46039f"
             ],
             [
              0.2222222222222222,
              "#7201a8"
             ],
             [
              0.3333333333333333,
              "#9c179e"
             ],
             [
              0.4444444444444444,
              "#bd3786"
             ],
             [
              0.5555555555555556,
              "#d8576b"
             ],
             [
              0.6666666666666666,
              "#ed7953"
             ],
             [
              0.7777777777777778,
              "#fb9f3a"
             ],
             [
              0.8888888888888888,
              "#fdca26"
             ],
             [
              1,
              "#f0f921"
             ]
            ],
            "type": "surface"
           }
          ],
          "table": [
           {
            "cells": {
             "fill": {
              "color": "#EBF0F8"
             },
             "line": {
              "color": "white"
             }
            },
            "header": {
             "fill": {
              "color": "#C8D4E3"
             },
             "line": {
              "color": "white"
             }
            },
            "type": "table"
           }
          ]
         },
         "layout": {
          "annotationdefaults": {
           "arrowcolor": "#2a3f5f",
           "arrowhead": 0,
           "arrowwidth": 1
          },
          "autotypenumbers": "strict",
          "coloraxis": {
           "colorbar": {
            "outlinewidth": 0,
            "ticks": ""
           }
          },
          "colorscale": {
           "diverging": [
            [
             0,
             "#8e0152"
            ],
            [
             0.1,
             "#c51b7d"
            ],
            [
             0.2,
             "#de77ae"
            ],
            [
             0.3,
             "#f1b6da"
            ],
            [
             0.4,
             "#fde0ef"
            ],
            [
             0.5,
             "#f7f7f7"
            ],
            [
             0.6,
             "#e6f5d0"
            ],
            [
             0.7,
             "#b8e186"
            ],
            [
             0.8,
             "#7fbc41"
            ],
            [
             0.9,
             "#4d9221"
            ],
            [
             1,
             "#276419"
            ]
           ],
           "sequential": [
            [
             0,
             "#0d0887"
            ],
            [
             0.1111111111111111,
             "#46039f"
            ],
            [
             0.2222222222222222,
             "#7201a8"
            ],
            [
             0.3333333333333333,
             "#9c179e"
            ],
            [
             0.4444444444444444,
             "#bd3786"
            ],
            [
             0.5555555555555556,
             "#d8576b"
            ],
            [
             0.6666666666666666,
             "#ed7953"
            ],
            [
             0.7777777777777778,
             "#fb9f3a"
            ],
            [
             0.8888888888888888,
             "#fdca26"
            ],
            [
             1,
             "#f0f921"
            ]
           ],
           "sequentialminus": [
            [
             0,
             "#0d0887"
            ],
            [
             0.1111111111111111,
             "#46039f"
            ],
            [
             0.2222222222222222,
             "#7201a8"
            ],
            [
             0.3333333333333333,
             "#9c179e"
            ],
            [
             0.4444444444444444,
             "#bd3786"
            ],
            [
             0.5555555555555556,
             "#d8576b"
            ],
            [
             0.6666666666666666,
             "#ed7953"
            ],
            [
             0.7777777777777778,
             "#fb9f3a"
            ],
            [
             0.8888888888888888,
             "#fdca26"
            ],
            [
             1,
             "#f0f921"
            ]
           ]
          },
          "colorway": [
           "#636efa",
           "#EF553B",
           "#00cc96",
           "#ab63fa",
           "#FFA15A",
           "#19d3f3",
           "#FF6692",
           "#B6E880",
           "#FF97FF",
           "#FECB52"
          ],
          "font": {
           "color": "#2a3f5f"
          },
          "geo": {
           "bgcolor": "white",
           "lakecolor": "white",
           "landcolor": "#E5ECF6",
           "showlakes": true,
           "showland": true,
           "subunitcolor": "white"
          },
          "hoverlabel": {
           "align": "left"
          },
          "hovermode": "closest",
          "mapbox": {
           "style": "light"
          },
          "paper_bgcolor": "white",
          "plot_bgcolor": "#E5ECF6",
          "polar": {
           "angularaxis": {
            "gridcolor": "white",
            "linecolor": "white",
            "ticks": ""
           },
           "bgcolor": "#E5ECF6",
           "radialaxis": {
            "gridcolor": "white",
            "linecolor": "white",
            "ticks": ""
           }
          },
          "scene": {
           "xaxis": {
            "backgroundcolor": "#E5ECF6",
            "gridcolor": "white",
            "gridwidth": 2,
            "linecolor": "white",
            "showbackground": true,
            "ticks": "",
            "zerolinecolor": "white"
           },
           "yaxis": {
            "backgroundcolor": "#E5ECF6",
            "gridcolor": "white",
            "gridwidth": 2,
            "linecolor": "white",
            "showbackground": true,
            "ticks": "",
            "zerolinecolor": "white"
           },
           "zaxis": {
            "backgroundcolor": "#E5ECF6",
            "gridcolor": "white",
            "gridwidth": 2,
            "linecolor": "white",
            "showbackground": true,
            "ticks": "",
            "zerolinecolor": "white"
           }
          },
          "shapedefaults": {
           "line": {
            "color": "#2a3f5f"
           }
          },
          "ternary": {
           "aaxis": {
            "gridcolor": "white",
            "linecolor": "white",
            "ticks": ""
           },
           "baxis": {
            "gridcolor": "white",
            "linecolor": "white",
            "ticks": ""
           },
           "bgcolor": "#E5ECF6",
           "caxis": {
            "gridcolor": "white",
            "linecolor": "white",
            "ticks": ""
           }
          },
          "title": {
           "x": 0.05
          },
          "xaxis": {
           "automargin": true,
           "gridcolor": "white",
           "linecolor": "white",
           "ticks": "",
           "title": {
            "standoff": 15
           },
           "zerolinecolor": "white",
           "zerolinewidth": 2
          },
          "yaxis": {
           "automargin": true,
           "gridcolor": "white",
           "linecolor": "white",
           "ticks": "",
           "title": {
            "standoff": 15
           },
           "zerolinecolor": "white",
           "zerolinewidth": 2
          }
         }
        },
        "xaxis": {
         "anchor": "y",
         "domain": [
          0,
          1
         ],
         "title": {
          "text": "episodes_total"
         }
        },
        "yaxis": {
         "anchor": "x",
         "domain": [
          0,
          1
         ],
         "title": {
          "text": "episode_reward_mean"
         }
        }
       }
      }
     },
     "metadata": {},
     "output_type": "display_data"
    }
   ],
   "source": [
    "plotResults(dqn_data,ENV, ['dqn_depth_v1'],x_value=\"epoch\", keys=['episode_reward_mean'])\n",
    "plotResults(dqn_data,ENV, ['dqn_depth_v1'],x_value=\"episodes_total\", keys=['episode_reward_mean'])"
   ]
  }
 ],
 "metadata": {
  "kernelspec": {
   "display_name": "Python 3.9.12 ('ray')",
   "language": "python",
   "name": "python3"
  },
  "language_info": {
   "codemirror_mode": {
    "name": "ipython",
    "version": 3
   },
   "file_extension": ".py",
   "mimetype": "text/x-python",
   "name": "python",
   "nbconvert_exporter": "python",
   "pygments_lexer": "ipython3",
   "version": "3.9.13"
  },
  "orig_nbformat": 4,
  "vscode": {
   "interpreter": {
    "hash": "6ad465c2675b3f8dcc08dbaa7da39a6c4938396ea84379da3fe2bd2da4323b46"
   }
  }
 },
 "nbformat": 4,
 "nbformat_minor": 2
}
