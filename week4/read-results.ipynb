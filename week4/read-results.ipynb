{
 "cells": [
  {
   "cell_type": "code",
   "execution_count": 1,
   "metadata": {},
   "outputs": [],
   "source": [
    "import json\n",
    "import numpy as np\n",
    "import pandas as pd\n",
    "import matplotlib.pyplot as plt\n",
    "import os\n",
    "import plotly.express as px"
   ]
  },
  {
   "cell_type": "code",
   "execution_count": 2,
   "metadata": {},
   "outputs": [],
   "source": [
    "def collectVersionData(env, version):\n",
    "  BASE_DIR = \"./.checkpoints\"\n",
    "  results_dir = f'{BASE_DIR}/{env}/{version}'\n",
    "  \n",
    "  data = []\n",
    "  for folder in sorted(os.listdir(results_dir)):\n",
    "    if 'result.json' in os.listdir(f'{results_dir}/{folder}'):\n",
    "      data.append(json.load(open(f'{results_dir}/{folder}/result.json')))\n",
    "      \n",
    "  return data\n",
    "\n",
    "def collectFromRayResults(results_path,folder_name):\n",
    "  file = open(f\"{results_path}/{folder_name}/result.json\", \"r\")\n",
    "  data = []\n",
    "  for line in file:\n",
    "    data.append(json.loads(line))\n",
    "  file.close()\n",
    "  return data"
   ]
  },
  {
   "cell_type": "code",
   "execution_count": 3,
   "metadata": {},
   "outputs": [],
   "source": [
    "def getAllFromDict(keys, listOfDicts):\n",
    "    data = {}\n",
    "    for key in keys:\n",
    "      data[key] =  [d[key] for d in listOfDicts]\n",
    "    return data"
   ]
  },
  {
   "cell_type": "code",
   "execution_count": 4,
   "metadata": {},
   "outputs": [],
   "source": [
    "def collectData(env, versions, stats=[], ray_results=False):\n",
    "  SAMPLER_KEYS = [\n",
    "    'episode_reward_max',\n",
    "    'episode_reward_min',\n",
    "    'episode_reward_mean',\n",
    "    \"episode_len_mean\"\n",
    "    ]\n",
    "  DQN_LEARNER_KEYS = [\n",
    "    'mean_q',\n",
    "    'mean_td_error'\n",
    "  ]\n",
    "  PPO_LEARNER_KEYS =[\n",
    "    \"cur_lr\",\n",
    "    \"total_loss\"\n",
    "  ]\n",
    "  TIME_KEYS = [\n",
    "    \"episodes_total\",\n",
    "    \"time_this_iter_s\",\n",
    "    \"time_total_s\"\n",
    "  ]\n",
    "  PERF_KEYS = [\n",
    "    \"cpu_util_percent\",\n",
    "    \"ram_util_percent\"\n",
    "  ]\n",
    "  \n",
    "  history = pd.DataFrame()\n",
    "  \n",
    "  for version in versions:\n",
    "    data = collectVersionData(env, version) if not ray_results else collectFromRayResults(ray_results['results_dir'],ray_results['folder_name'])\n",
    "    for epoch in data:\n",
    "      epoch_data = {\n",
    "        'epoch': epoch[\"training_iteration\"],\n",
    "        'environment': env,\n",
    "        'version': version\n",
    "      }\n",
    "      \n",
    "      sampler = epoch['sampler_results']\n",
    "      learner = epoch['info']['learner']['default_policy']['learner_stats']\n",
    "      perf = epoch['perf']\n",
    "      \n",
    "      if 'SAMPLER' in stats:\n",
    "        for key in SAMPLER_KEYS:\n",
    "          epoch_data[key] = sampler[key]\n",
    "      if 'DQN_LEARNER' in stats:\n",
    "        for key in DQN_LEARNER_KEYS:\n",
    "          epoch_data[key] = learner[key]\n",
    "      if 'PPO_LEARNER' in stats:\n",
    "        for key in PPO_LEARNER_KEYS:\n",
    "          epoch_data[key] = learner[key]\n",
    "      if 'TIME' in stats:\n",
    "        for key in TIME_KEYS:\n",
    "          epoch_data[key] = epoch[key]\n",
    "      if 'PERF' in stats:\n",
    "        for key in PERF_KEYS:\n",
    "          epoch_data[key] = perf[key]\n",
    "    \n",
    "      df = pd.DataFrame(epoch_data, index=[len(history)+1])\n",
    "      history = pd.concat([history,df])\n",
    "    \n",
    "  return history\n",
    "  \n"
   ]
  },
  {
   "cell_type": "code",
   "execution_count": 5,
   "metadata": {},
   "outputs": [],
   "source": [
    "def plotResults(data, env, versions,keys=[],x_value = 'epoch'):\n",
    "  for key in keys:\n",
    "    fig = px.line(data, x=x_value, y=key, color='version')\n",
    "    fig.show()\n",
    "    \n"
   ]
  },
  {
   "cell_type": "code",
   "execution_count": 7,
   "metadata": {},
   "outputs": [
    {
     "data": {
      "text/html": [
       "<div>\n",
       "<style scoped>\n",
       "    .dataframe tbody tr th:only-of-type {\n",
       "        vertical-align: middle;\n",
       "    }\n",
       "\n",
       "    .dataframe tbody tr th {\n",
       "        vertical-align: top;\n",
       "    }\n",
       "\n",
       "    .dataframe thead th {\n",
       "        text-align: right;\n",
       "    }\n",
       "</style>\n",
       "<table border=\"1\" class=\"dataframe\">\n",
       "  <thead>\n",
       "    <tr style=\"text-align: right;\">\n",
       "      <th></th>\n",
       "      <th>epoch</th>\n",
       "      <th>environment</th>\n",
       "      <th>version</th>\n",
       "      <th>episode_reward_max</th>\n",
       "      <th>episode_reward_min</th>\n",
       "      <th>episode_reward_mean</th>\n",
       "      <th>episode_len_mean</th>\n",
       "      <th>cur_lr</th>\n",
       "      <th>total_loss</th>\n",
       "      <th>episodes_total</th>\n",
       "      <th>time_this_iter_s</th>\n",
       "      <th>time_total_s</th>\n",
       "      <th>cpu_util_percent</th>\n",
       "      <th>ram_util_percent</th>\n",
       "    </tr>\n",
       "  </thead>\n",
       "  <tbody>\n",
       "    <tr>\n",
       "      <th>1</th>\n",
       "      <td>1</td>\n",
       "      <td>CustomOffWorldDiscreteEnv-v0</td>\n",
       "      <td>depth_only_v2</td>\n",
       "      <td>1.0</td>\n",
       "      <td>0.0</td>\n",
       "      <td>0.11765</td>\n",
       "      <td>47.17647</td>\n",
       "      <td>0.00005</td>\n",
       "      <td>-0.01401</td>\n",
       "      <td>17</td>\n",
       "      <td>203.629014</td>\n",
       "      <td>203.629014</td>\n",
       "      <td>83.70623</td>\n",
       "      <td>67.52996</td>\n",
       "    </tr>\n",
       "    <tr>\n",
       "      <th>2</th>\n",
       "      <td>2</td>\n",
       "      <td>CustomOffWorldDiscreteEnv-v0</td>\n",
       "      <td>depth_only_v2</td>\n",
       "      <td>1.0</td>\n",
       "      <td>0.0</td>\n",
       "      <td>0.17143</td>\n",
       "      <td>53.14286</td>\n",
       "      <td>0.00005</td>\n",
       "      <td>-0.00224</td>\n",
       "      <td>35</td>\n",
       "      <td>197.897987</td>\n",
       "      <td>401.527000</td>\n",
       "      <td>83.80488</td>\n",
       "      <td>70.19878</td>\n",
       "    </tr>\n",
       "    <tr>\n",
       "      <th>3</th>\n",
       "      <td>3</td>\n",
       "      <td>CustomOffWorldDiscreteEnv-v0</td>\n",
       "      <td>depth_only_v2</td>\n",
       "      <td>1.0</td>\n",
       "      <td>0.0</td>\n",
       "      <td>0.12000</td>\n",
       "      <td>57.28000</td>\n",
       "      <td>0.00005</td>\n",
       "      <td>-0.02363</td>\n",
       "      <td>50</td>\n",
       "      <td>185.889317</td>\n",
       "      <td>587.416317</td>\n",
       "      <td>83.79307</td>\n",
       "      <td>70.28701</td>\n",
       "    </tr>\n",
       "    <tr>\n",
       "      <th>4</th>\n",
       "      <td>4</td>\n",
       "      <td>CustomOffWorldDiscreteEnv-v0</td>\n",
       "      <td>depth_only_v2</td>\n",
       "      <td>1.0</td>\n",
       "      <td>0.0</td>\n",
       "      <td>0.14286</td>\n",
       "      <td>56.75714</td>\n",
       "      <td>0.00005</td>\n",
       "      <td>-0.00511</td>\n",
       "      <td>70</td>\n",
       "      <td>199.615727</td>\n",
       "      <td>787.032044</td>\n",
       "      <td>83.55141</td>\n",
       "      <td>70.33695</td>\n",
       "    </tr>\n",
       "    <tr>\n",
       "      <th>5</th>\n",
       "      <td>5</td>\n",
       "      <td>CustomOffWorldDiscreteEnv-v0</td>\n",
       "      <td>depth_only_v2</td>\n",
       "      <td>1.0</td>\n",
       "      <td>0.0</td>\n",
       "      <td>0.17241</td>\n",
       "      <td>54.90805</td>\n",
       "      <td>0.00005</td>\n",
       "      <td>-0.00242</td>\n",
       "      <td>87</td>\n",
       "      <td>197.714959</td>\n",
       "      <td>984.747003</td>\n",
       "      <td>83.93089</td>\n",
       "      <td>70.38659</td>\n",
       "    </tr>\n",
       "    <tr>\n",
       "      <th>...</th>\n",
       "      <td>...</td>\n",
       "      <td>...</td>\n",
       "      <td>...</td>\n",
       "      <td>...</td>\n",
       "      <td>...</td>\n",
       "      <td>...</td>\n",
       "      <td>...</td>\n",
       "      <td>...</td>\n",
       "      <td>...</td>\n",
       "      <td>...</td>\n",
       "      <td>...</td>\n",
       "      <td>...</td>\n",
       "      <td>...</td>\n",
       "      <td>...</td>\n",
       "    </tr>\n",
       "    <tr>\n",
       "      <th>129</th>\n",
       "      <td>129</td>\n",
       "      <td>CustomOffWorldDiscreteEnv-v0</td>\n",
       "      <td>depth_only_v2</td>\n",
       "      <td>1.0</td>\n",
       "      <td>0.0</td>\n",
       "      <td>0.99000</td>\n",
       "      <td>19.89000</td>\n",
       "      <td>0.00005</td>\n",
       "      <td>-0.00245</td>\n",
       "      <td>4658</td>\n",
       "      <td>242.016628</td>\n",
       "      <td>28807.009380</td>\n",
       "      <td>84.66400</td>\n",
       "      <td>81.93233</td>\n",
       "    </tr>\n",
       "    <tr>\n",
       "      <th>130</th>\n",
       "      <td>130</td>\n",
       "      <td>CustomOffWorldDiscreteEnv-v0</td>\n",
       "      <td>depth_only_v2</td>\n",
       "      <td>1.0</td>\n",
       "      <td>0.0</td>\n",
       "      <td>0.98000</td>\n",
       "      <td>19.98000</td>\n",
       "      <td>0.00005</td>\n",
       "      <td>-0.00019</td>\n",
       "      <td>4708</td>\n",
       "      <td>237.081144</td>\n",
       "      <td>29044.090524</td>\n",
       "      <td>84.56780</td>\n",
       "      <td>82.27831</td>\n",
       "    </tr>\n",
       "    <tr>\n",
       "      <th>131</th>\n",
       "      <td>131</td>\n",
       "      <td>CustomOffWorldDiscreteEnv-v0</td>\n",
       "      <td>depth_only_v2</td>\n",
       "      <td>1.0</td>\n",
       "      <td>0.0</td>\n",
       "      <td>0.98000</td>\n",
       "      <td>20.65000</td>\n",
       "      <td>0.00005</td>\n",
       "      <td>-0.00499</td>\n",
       "      <td>4756</td>\n",
       "      <td>243.547604</td>\n",
       "      <td>29287.638128</td>\n",
       "      <td>84.40198</td>\n",
       "      <td>82.31155</td>\n",
       "    </tr>\n",
       "    <tr>\n",
       "      <th>132</th>\n",
       "      <td>132</td>\n",
       "      <td>CustomOffWorldDiscreteEnv-v0</td>\n",
       "      <td>depth_only_v2</td>\n",
       "      <td>1.0</td>\n",
       "      <td>1.0</td>\n",
       "      <td>1.00000</td>\n",
       "      <td>22.45000</td>\n",
       "      <td>0.00005</td>\n",
       "      <td>-0.00489</td>\n",
       "      <td>4797</td>\n",
       "      <td>239.997519</td>\n",
       "      <td>29527.635647</td>\n",
       "      <td>84.40302</td>\n",
       "      <td>82.50738</td>\n",
       "    </tr>\n",
       "    <tr>\n",
       "      <th>133</th>\n",
       "      <td>133</td>\n",
       "      <td>CustomOffWorldDiscreteEnv-v0</td>\n",
       "      <td>depth_only_v2</td>\n",
       "      <td>1.0</td>\n",
       "      <td>0.0</td>\n",
       "      <td>0.98000</td>\n",
       "      <td>20.02000</td>\n",
       "      <td>0.00005</td>\n",
       "      <td>0.00173</td>\n",
       "      <td>4854</td>\n",
       "      <td>240.485017</td>\n",
       "      <td>29768.120663</td>\n",
       "      <td>84.36020</td>\n",
       "      <td>82.71706</td>\n",
       "    </tr>\n",
       "  </tbody>\n",
       "</table>\n",
       "<p>133 rows × 14 columns</p>\n",
       "</div>"
      ],
      "text/plain": [
       "     epoch                   environment        version  episode_reward_max  \\\n",
       "1        1  CustomOffWorldDiscreteEnv-v0  depth_only_v2                 1.0   \n",
       "2        2  CustomOffWorldDiscreteEnv-v0  depth_only_v2                 1.0   \n",
       "3        3  CustomOffWorldDiscreteEnv-v0  depth_only_v2                 1.0   \n",
       "4        4  CustomOffWorldDiscreteEnv-v0  depth_only_v2                 1.0   \n",
       "5        5  CustomOffWorldDiscreteEnv-v0  depth_only_v2                 1.0   \n",
       "..     ...                           ...            ...                 ...   \n",
       "129    129  CustomOffWorldDiscreteEnv-v0  depth_only_v2                 1.0   \n",
       "130    130  CustomOffWorldDiscreteEnv-v0  depth_only_v2                 1.0   \n",
       "131    131  CustomOffWorldDiscreteEnv-v0  depth_only_v2                 1.0   \n",
       "132    132  CustomOffWorldDiscreteEnv-v0  depth_only_v2                 1.0   \n",
       "133    133  CustomOffWorldDiscreteEnv-v0  depth_only_v2                 1.0   \n",
       "\n",
       "     episode_reward_min  episode_reward_mean  episode_len_mean   cur_lr  \\\n",
       "1                   0.0              0.11765          47.17647  0.00005   \n",
       "2                   0.0              0.17143          53.14286  0.00005   \n",
       "3                   0.0              0.12000          57.28000  0.00005   \n",
       "4                   0.0              0.14286          56.75714  0.00005   \n",
       "5                   0.0              0.17241          54.90805  0.00005   \n",
       "..                  ...                  ...               ...      ...   \n",
       "129                 0.0              0.99000          19.89000  0.00005   \n",
       "130                 0.0              0.98000          19.98000  0.00005   \n",
       "131                 0.0              0.98000          20.65000  0.00005   \n",
       "132                 1.0              1.00000          22.45000  0.00005   \n",
       "133                 0.0              0.98000          20.02000  0.00005   \n",
       "\n",
       "     total_loss  episodes_total  time_this_iter_s  time_total_s  \\\n",
       "1      -0.01401              17        203.629014    203.629014   \n",
       "2      -0.00224              35        197.897987    401.527000   \n",
       "3      -0.02363              50        185.889317    587.416317   \n",
       "4      -0.00511              70        199.615727    787.032044   \n",
       "5      -0.00242              87        197.714959    984.747003   \n",
       "..          ...             ...               ...           ...   \n",
       "129    -0.00245            4658        242.016628  28807.009380   \n",
       "130    -0.00019            4708        237.081144  29044.090524   \n",
       "131    -0.00499            4756        243.547604  29287.638128   \n",
       "132    -0.00489            4797        239.997519  29527.635647   \n",
       "133     0.00173            4854        240.485017  29768.120663   \n",
       "\n",
       "     cpu_util_percent  ram_util_percent  \n",
       "1            83.70623          67.52996  \n",
       "2            83.80488          70.19878  \n",
       "3            83.79307          70.28701  \n",
       "4            83.55141          70.33695  \n",
       "5            83.93089          70.38659  \n",
       "..                ...               ...  \n",
       "129          84.66400          81.93233  \n",
       "130          84.56780          82.27831  \n",
       "131          84.40198          82.31155  \n",
       "132          84.40302          82.50738  \n",
       "133          84.36020          82.71706  \n",
       "\n",
       "[133 rows x 14 columns]"
      ]
     },
     "execution_count": 7,
     "metadata": {},
     "output_type": "execute_result"
    }
   ],
   "source": [
    "# Collect data\n",
    "ENV = 'CustomOffWorldDiscreteEnv-v0'\n",
    "VERSIONS = [\n",
    "    'depth_only_v2',\n",
    "    ]\n",
    "\n",
    "ppo_data = collectData(ENV, VERSIONS,['SAMPLER','PPO_LEARNER','TIME','PERF'])\n",
    "ppo_data"
   ]
  },
  {
   "cell_type": "code",
   "execution_count": 11,
   "metadata": {},
   "outputs": [
    {
     "data": {
      "application/vnd.plotly.v1+json": {
       "config": {
        "plotlyServerURL": "https://plot.ly"
       },
       "data": [
        {
         "hovertemplate": "version=depth_only_v2<br>epoch=%{x}<br>episode_reward_mean=%{y}<extra></extra>",
         "legendgroup": "depth_only_v2",
         "line": {
          "color": "#636efa",
          "dash": "solid"
         },
         "marker": {
          "symbol": "circle"
         },
         "mode": "lines",
         "name": "depth_only_v2",
         "orientation": "v",
         "showlegend": true,
         "type": "scatter",
         "x": [
          1,
          2,
          3,
          4,
          5,
          6,
          7,
          8,
          9,
          10,
          11,
          12,
          13,
          14,
          15,
          16,
          17,
          18,
          19,
          20,
          21,
          22,
          23,
          24,
          25,
          26,
          27,
          28,
          29,
          30,
          31,
          32,
          33,
          34,
          35,
          36,
          37,
          38,
          39,
          40,
          41,
          42,
          43,
          44,
          45,
          46,
          47,
          48,
          49,
          50,
          51,
          52,
          53,
          54,
          55,
          56,
          57,
          58,
          59,
          60,
          61,
          62,
          63,
          64,
          65,
          66,
          67,
          68,
          69,
          70,
          71,
          72,
          73,
          74,
          75,
          76,
          77,
          78,
          79,
          80,
          81,
          82,
          83,
          84,
          85,
          86,
          87,
          88,
          89,
          90,
          91,
          92,
          93,
          94,
          95,
          96,
          97,
          98,
          99,
          100,
          101,
          102,
          103,
          104,
          105,
          106,
          107,
          108,
          109,
          110,
          111,
          112,
          113,
          114,
          115,
          116,
          117,
          118,
          119,
          120,
          121,
          122,
          123,
          124,
          125,
          126,
          127,
          128,
          129,
          130,
          131,
          132,
          133
         ],
         "xaxis": "x",
         "y": [
          0.11765,
          0.17143,
          0.12,
          0.14286,
          0.17241,
          0.21,
          0.29,
          0.38,
          0.4,
          0.4,
          0.46,
          0.44,
          0.41,
          0.52,
          0.55,
          0.54,
          0.55,
          0.55,
          0.6,
          0.58,
          0.64,
          0.65,
          0.67,
          0.74,
          0.81,
          0.82,
          0.84,
          0.82,
          0.83,
          0.83,
          0.86,
          0.8,
          0.77,
          0.77,
          0.75,
          0.85,
          0.82,
          0.87,
          0.87,
          0.87,
          0.88,
          0.82,
          0.85,
          0.81,
          0.88,
          0.86,
          0.84,
          0.85,
          0.86,
          0.88,
          0.86,
          0.87,
          0.88,
          0.9,
          0.88,
          0.86,
          0.88,
          0.92,
          0.92,
          0.86,
          0.86,
          0.89,
          0.94,
          0.92,
          0.94,
          0.92,
          0.91,
          0.91,
          0.96,
          0.97,
          0.94,
          0.94,
          0.91,
          0.92,
          0.92,
          0.94,
          0.97,
          0.96,
          0.96,
          0.96,
          0.97,
          0.95,
          0.96,
          0.98,
          1,
          0.99,
          0.98,
          0.97,
          0.99,
          0.99,
          0.97,
          0.97,
          0.98,
          0.98,
          0.98,
          0.98,
          0.97,
          0.98,
          0.98,
          0.98,
          0.98,
          0.99,
          1,
          0.99,
          0.99,
          1,
          0.98,
          0.96,
          0.95,
          0.96,
          0.98,
          0.97,
          0.97,
          0.98,
          0.99,
          0.98,
          0.96,
          0.96,
          0.96,
          0.95,
          0.94,
          0.96,
          0.96,
          0.95,
          0.98,
          0.97,
          0.97,
          0.99,
          0.99,
          0.98,
          0.98,
          1,
          0.98
         ],
         "yaxis": "y"
        }
       ],
       "layout": {
        "legend": {
         "title": {
          "text": "version"
         },
         "tracegroupgap": 0
        },
        "margin": {
         "t": 60
        },
        "template": {
         "data": {
          "bar": [
           {
            "error_x": {
             "color": "#2a3f5f"
            },
            "error_y": {
             "color": "#2a3f5f"
            },
            "marker": {
             "line": {
              "color": "#E5ECF6",
              "width": 0.5
             },
             "pattern": {
              "fillmode": "overlay",
              "size": 10,
              "solidity": 0.2
             }
            },
            "type": "bar"
           }
          ],
          "barpolar": [
           {
            "marker": {
             "line": {
              "color": "#E5ECF6",
              "width": 0.5
             },
             "pattern": {
              "fillmode": "overlay",
              "size": 10,
              "solidity": 0.2
             }
            },
            "type": "barpolar"
           }
          ],
          "carpet": [
           {
            "aaxis": {
             "endlinecolor": "#2a3f5f",
             "gridcolor": "white",
             "linecolor": "white",
             "minorgridcolor": "white",
             "startlinecolor": "#2a3f5f"
            },
            "baxis": {
             "endlinecolor": "#2a3f5f",
             "gridcolor": "white",
             "linecolor": "white",
             "minorgridcolor": "white",
             "startlinecolor": "#2a3f5f"
            },
            "type": "carpet"
           }
          ],
          "choropleth": [
           {
            "colorbar": {
             "outlinewidth": 0,
             "ticks": ""
            },
            "type": "choropleth"
           }
          ],
          "contour": [
           {
            "colorbar": {
             "outlinewidth": 0,
             "ticks": ""
            },
            "colorscale": [
             [
              0,
              "#0d0887"
             ],
             [
              0.1111111111111111,
              "#46039f"
             ],
             [
              0.2222222222222222,
              "#7201a8"
             ],
             [
              0.3333333333333333,
              "#9c179e"
             ],
             [
              0.4444444444444444,
              "#bd3786"
             ],
             [
              0.5555555555555556,
              "#d8576b"
             ],
             [
              0.6666666666666666,
              "#ed7953"
             ],
             [
              0.7777777777777778,
              "#fb9f3a"
             ],
             [
              0.8888888888888888,
              "#fdca26"
             ],
             [
              1,
              "#f0f921"
             ]
            ],
            "type": "contour"
           }
          ],
          "contourcarpet": [
           {
            "colorbar": {
             "outlinewidth": 0,
             "ticks": ""
            },
            "type": "contourcarpet"
           }
          ],
          "heatmap": [
           {
            "colorbar": {
             "outlinewidth": 0,
             "ticks": ""
            },
            "colorscale": [
             [
              0,
              "#0d0887"
             ],
             [
              0.1111111111111111,
              "#46039f"
             ],
             [
              0.2222222222222222,
              "#7201a8"
             ],
             [
              0.3333333333333333,
              "#9c179e"
             ],
             [
              0.4444444444444444,
              "#bd3786"
             ],
             [
              0.5555555555555556,
              "#d8576b"
             ],
             [
              0.6666666666666666,
              "#ed7953"
             ],
             [
              0.7777777777777778,
              "#fb9f3a"
             ],
             [
              0.8888888888888888,
              "#fdca26"
             ],
             [
              1,
              "#f0f921"
             ]
            ],
            "type": "heatmap"
           }
          ],
          "heatmapgl": [
           {
            "colorbar": {
             "outlinewidth": 0,
             "ticks": ""
            },
            "colorscale": [
             [
              0,
              "#0d0887"
             ],
             [
              0.1111111111111111,
              "#46039f"
             ],
             [
              0.2222222222222222,
              "#7201a8"
             ],
             [
              0.3333333333333333,
              "#9c179e"
             ],
             [
              0.4444444444444444,
              "#bd3786"
             ],
             [
              0.5555555555555556,
              "#d8576b"
             ],
             [
              0.6666666666666666,
              "#ed7953"
             ],
             [
              0.7777777777777778,
              "#fb9f3a"
             ],
             [
              0.8888888888888888,
              "#fdca26"
             ],
             [
              1,
              "#f0f921"
             ]
            ],
            "type": "heatmapgl"
           }
          ],
          "histogram": [
           {
            "marker": {
             "pattern": {
              "fillmode": "overlay",
              "size": 10,
              "solidity": 0.2
             }
            },
            "type": "histogram"
           }
          ],
          "histogram2d": [
           {
            "colorbar": {
             "outlinewidth": 0,
             "ticks": ""
            },
            "colorscale": [
             [
              0,
              "#0d0887"
             ],
             [
              0.1111111111111111,
              "#46039f"
             ],
             [
              0.2222222222222222,
              "#7201a8"
             ],
             [
              0.3333333333333333,
              "#9c179e"
             ],
             [
              0.4444444444444444,
              "#bd3786"
             ],
             [
              0.5555555555555556,
              "#d8576b"
             ],
             [
              0.6666666666666666,
              "#ed7953"
             ],
             [
              0.7777777777777778,
              "#fb9f3a"
             ],
             [
              0.8888888888888888,
              "#fdca26"
             ],
             [
              1,
              "#f0f921"
             ]
            ],
            "type": "histogram2d"
           }
          ],
          "histogram2dcontour": [
           {
            "colorbar": {
             "outlinewidth": 0,
             "ticks": ""
            },
            "colorscale": [
             [
              0,
              "#0d0887"
             ],
             [
              0.1111111111111111,
              "#46039f"
             ],
             [
              0.2222222222222222,
              "#7201a8"
             ],
             [
              0.3333333333333333,
              "#9c179e"
             ],
             [
              0.4444444444444444,
              "#bd3786"
             ],
             [
              0.5555555555555556,
              "#d8576b"
             ],
             [
              0.6666666666666666,
              "#ed7953"
             ],
             [
              0.7777777777777778,
              "#fb9f3a"
             ],
             [
              0.8888888888888888,
              "#fdca26"
             ],
             [
              1,
              "#f0f921"
             ]
            ],
            "type": "histogram2dcontour"
           }
          ],
          "mesh3d": [
           {
            "colorbar": {
             "outlinewidth": 0,
             "ticks": ""
            },
            "type": "mesh3d"
           }
          ],
          "parcoords": [
           {
            "line": {
             "colorbar": {
              "outlinewidth": 0,
              "ticks": ""
             }
            },
            "type": "parcoords"
           }
          ],
          "pie": [
           {
            "automargin": true,
            "type": "pie"
           }
          ],
          "scatter": [
           {
            "fillpattern": {
             "fillmode": "overlay",
             "size": 10,
             "solidity": 0.2
            },
            "type": "scatter"
           }
          ],
          "scatter3d": [
           {
            "line": {
             "colorbar": {
              "outlinewidth": 0,
              "ticks": ""
             }
            },
            "marker": {
             "colorbar": {
              "outlinewidth": 0,
              "ticks": ""
             }
            },
            "type": "scatter3d"
           }
          ],
          "scattercarpet": [
           {
            "marker": {
             "colorbar": {
              "outlinewidth": 0,
              "ticks": ""
             }
            },
            "type": "scattercarpet"
           }
          ],
          "scattergeo": [
           {
            "marker": {
             "colorbar": {
              "outlinewidth": 0,
              "ticks": ""
             }
            },
            "type": "scattergeo"
           }
          ],
          "scattergl": [
           {
            "marker": {
             "colorbar": {
              "outlinewidth": 0,
              "ticks": ""
             }
            },
            "type": "scattergl"
           }
          ],
          "scattermapbox": [
           {
            "marker": {
             "colorbar": {
              "outlinewidth": 0,
              "ticks": ""
             }
            },
            "type": "scattermapbox"
           }
          ],
          "scatterpolar": [
           {
            "marker": {
             "colorbar": {
              "outlinewidth": 0,
              "ticks": ""
             }
            },
            "type": "scatterpolar"
           }
          ],
          "scatterpolargl": [
           {
            "marker": {
             "colorbar": {
              "outlinewidth": 0,
              "ticks": ""
             }
            },
            "type": "scatterpolargl"
           }
          ],
          "scatterternary": [
           {
            "marker": {
             "colorbar": {
              "outlinewidth": 0,
              "ticks": ""
             }
            },
            "type": "scatterternary"
           }
          ],
          "surface": [
           {
            "colorbar": {
             "outlinewidth": 0,
             "ticks": ""
            },
            "colorscale": [
             [
              0,
              "#0d0887"
             ],
             [
              0.1111111111111111,
              "#46039f"
             ],
             [
              0.2222222222222222,
              "#7201a8"
             ],
             [
              0.3333333333333333,
              "#9c179e"
             ],
             [
              0.4444444444444444,
              "#bd3786"
             ],
             [
              0.5555555555555556,
              "#d8576b"
             ],
             [
              0.6666666666666666,
              "#ed7953"
             ],
             [
              0.7777777777777778,
              "#fb9f3a"
             ],
             [
              0.8888888888888888,
              "#fdca26"
             ],
             [
              1,
              "#f0f921"
             ]
            ],
            "type": "surface"
           }
          ],
          "table": [
           {
            "cells": {
             "fill": {
              "color": "#EBF0F8"
             },
             "line": {
              "color": "white"
             }
            },
            "header": {
             "fill": {
              "color": "#C8D4E3"
             },
             "line": {
              "color": "white"
             }
            },
            "type": "table"
           }
          ]
         },
         "layout": {
          "annotationdefaults": {
           "arrowcolor": "#2a3f5f",
           "arrowhead": 0,
           "arrowwidth": 1
          },
          "autotypenumbers": "strict",
          "coloraxis": {
           "colorbar": {
            "outlinewidth": 0,
            "ticks": ""
           }
          },
          "colorscale": {
           "diverging": [
            [
             0,
             "#8e0152"
            ],
            [
             0.1,
             "#c51b7d"
            ],
            [
             0.2,
             "#de77ae"
            ],
            [
             0.3,
             "#f1b6da"
            ],
            [
             0.4,
             "#fde0ef"
            ],
            [
             0.5,
             "#f7f7f7"
            ],
            [
             0.6,
             "#e6f5d0"
            ],
            [
             0.7,
             "#b8e186"
            ],
            [
             0.8,
             "#7fbc41"
            ],
            [
             0.9,
             "#4d9221"
            ],
            [
             1,
             "#276419"
            ]
           ],
           "sequential": [
            [
             0,
             "#0d0887"
            ],
            [
             0.1111111111111111,
             "#46039f"
            ],
            [
             0.2222222222222222,
             "#7201a8"
            ],
            [
             0.3333333333333333,
             "#9c179e"
            ],
            [
             0.4444444444444444,
             "#bd3786"
            ],
            [
             0.5555555555555556,
             "#d8576b"
            ],
            [
             0.6666666666666666,
             "#ed7953"
            ],
            [
             0.7777777777777778,
             "#fb9f3a"
            ],
            [
             0.8888888888888888,
             "#fdca26"
            ],
            [
             1,
             "#f0f921"
            ]
           ],
           "sequentialminus": [
            [
             0,
             "#0d0887"
            ],
            [
             0.1111111111111111,
             "#46039f"
            ],
            [
             0.2222222222222222,
             "#7201a8"
            ],
            [
             0.3333333333333333,
             "#9c179e"
            ],
            [
             0.4444444444444444,
             "#bd3786"
            ],
            [
             0.5555555555555556,
             "#d8576b"
            ],
            [
             0.6666666666666666,
             "#ed7953"
            ],
            [
             0.7777777777777778,
             "#fb9f3a"
            ],
            [
             0.8888888888888888,
             "#fdca26"
            ],
            [
             1,
             "#f0f921"
            ]
           ]
          },
          "colorway": [
           "#636efa",
           "#EF553B",
           "#00cc96",
           "#ab63fa",
           "#FFA15A",
           "#19d3f3",
           "#FF6692",
           "#B6E880",
           "#FF97FF",
           "#FECB52"
          ],
          "font": {
           "color": "#2a3f5f"
          },
          "geo": {
           "bgcolor": "white",
           "lakecolor": "white",
           "landcolor": "#E5ECF6",
           "showlakes": true,
           "showland": true,
           "subunitcolor": "white"
          },
          "hoverlabel": {
           "align": "left"
          },
          "hovermode": "closest",
          "mapbox": {
           "style": "light"
          },
          "paper_bgcolor": "white",
          "plot_bgcolor": "#E5ECF6",
          "polar": {
           "angularaxis": {
            "gridcolor": "white",
            "linecolor": "white",
            "ticks": ""
           },
           "bgcolor": "#E5ECF6",
           "radialaxis": {
            "gridcolor": "white",
            "linecolor": "white",
            "ticks": ""
           }
          },
          "scene": {
           "xaxis": {
            "backgroundcolor": "#E5ECF6",
            "gridcolor": "white",
            "gridwidth": 2,
            "linecolor": "white",
            "showbackground": true,
            "ticks": "",
            "zerolinecolor": "white"
           },
           "yaxis": {
            "backgroundcolor": "#E5ECF6",
            "gridcolor": "white",
            "gridwidth": 2,
            "linecolor": "white",
            "showbackground": true,
            "ticks": "",
            "zerolinecolor": "white"
           },
           "zaxis": {
            "backgroundcolor": "#E5ECF6",
            "gridcolor": "white",
            "gridwidth": 2,
            "linecolor": "white",
            "showbackground": true,
            "ticks": "",
            "zerolinecolor": "white"
           }
          },
          "shapedefaults": {
           "line": {
            "color": "#2a3f5f"
           }
          },
          "ternary": {
           "aaxis": {
            "gridcolor": "white",
            "linecolor": "white",
            "ticks": ""
           },
           "baxis": {
            "gridcolor": "white",
            "linecolor": "white",
            "ticks": ""
           },
           "bgcolor": "#E5ECF6",
           "caxis": {
            "gridcolor": "white",
            "linecolor": "white",
            "ticks": ""
           }
          },
          "title": {
           "x": 0.05
          },
          "xaxis": {
           "automargin": true,
           "gridcolor": "white",
           "linecolor": "white",
           "ticks": "",
           "title": {
            "standoff": 15
           },
           "zerolinecolor": "white",
           "zerolinewidth": 2
          },
          "yaxis": {
           "automargin": true,
           "gridcolor": "white",
           "linecolor": "white",
           "ticks": "",
           "title": {
            "standoff": 15
           },
           "zerolinecolor": "white",
           "zerolinewidth": 2
          }
         }
        },
        "xaxis": {
         "anchor": "y",
         "domain": [
          0,
          1
         ],
         "title": {
          "text": "epoch"
         }
        },
        "yaxis": {
         "anchor": "x",
         "domain": [
          0,
          1
         ],
         "title": {
          "text": "episode_reward_mean"
         }
        }
       }
      }
     },
     "metadata": {},
     "output_type": "display_data"
    },
    {
     "data": {
      "application/vnd.plotly.v1+json": {
       "config": {
        "plotlyServerURL": "https://plot.ly"
       },
       "data": [
        {
         "hovertemplate": "version=depth_only_v2<br>epoch=%{x}<br>episode_len_mean=%{y}<extra></extra>",
         "legendgroup": "depth_only_v2",
         "line": {
          "color": "#636efa",
          "dash": "solid"
         },
         "marker": {
          "symbol": "circle"
         },
         "mode": "lines",
         "name": "depth_only_v2",
         "orientation": "v",
         "showlegend": true,
         "type": "scatter",
         "x": [
          1,
          2,
          3,
          4,
          5,
          6,
          7,
          8,
          9,
          10,
          11,
          12,
          13,
          14,
          15,
          16,
          17,
          18,
          19,
          20,
          21,
          22,
          23,
          24,
          25,
          26,
          27,
          28,
          29,
          30,
          31,
          32,
          33,
          34,
          35,
          36,
          37,
          38,
          39,
          40,
          41,
          42,
          43,
          44,
          45,
          46,
          47,
          48,
          49,
          50,
          51,
          52,
          53,
          54,
          55,
          56,
          57,
          58,
          59,
          60,
          61,
          62,
          63,
          64,
          65,
          66,
          67,
          68,
          69,
          70,
          71,
          72,
          73,
          74,
          75,
          76,
          77,
          78,
          79,
          80,
          81,
          82,
          83,
          84,
          85,
          86,
          87,
          88,
          89,
          90,
          91,
          92,
          93,
          94,
          95,
          96,
          97,
          98,
          99,
          100,
          101,
          102,
          103,
          104,
          105,
          106,
          107,
          108,
          109,
          110,
          111,
          112,
          113,
          114,
          115,
          116,
          117,
          118,
          119,
          120,
          121,
          122,
          123,
          124,
          125,
          126,
          127,
          128,
          129,
          130,
          131,
          132,
          133
         ],
         "xaxis": "x",
         "y": [
          47.17647,
          53.14286,
          57.28,
          56.75714,
          54.90805,
          56.57,
          53.91,
          49.25,
          46.97,
          47.21,
          47.05,
          49.13,
          52.27,
          50.55,
          48.92,
          48.96,
          50.58,
          46.53,
          49.77,
          43.97,
          43.85,
          40.42,
          42.33,
          42.77,
          38.83,
          35.36,
          33.67,
          32.7,
          33.42,
          36.49,
          34.87,
          38.68,
          39.07,
          37.22,
          41.32,
          35.55,
          36.51,
          35.81,
          34.84,
          33.04,
          33.15,
          34.17,
          31.13,
          32.59,
          29.91,
          32.48,
          32.29,
          31.61,
          29.18,
          27.93,
          28.8,
          29.35,
          31.22,
          31.79,
          31.42,
          28.72,
          29.69,
          30.24,
          28.55,
          28.33,
          26.54,
          25.81,
          25.88,
          27.08,
          27.81,
          25.86,
          24.27,
          24.7,
          26.38,
          26.18,
          27.39,
          27.5,
          26.74,
          26.08,
          26.22,
          24.77,
          23.8,
          25.02,
          25.12,
          24.82,
          23.45,
          22.78,
          24.86,
          26.25,
          24.21,
          22.73,
          23.4,
          23.44,
          24.49,
          24.68,
          24.99,
          25.46,
          23.86,
          19.98,
          21.18,
          21.03,
          21.96,
          22.44,
          21.26,
          21.69,
          22.5,
          21.83,
          21.57,
          23.09,
          24.07,
          22.66,
          22.82,
          22,
          20.49,
          20.09,
          20.57,
          19.23,
          18.85,
          19.9,
          19.28,
          19.32,
          21.15,
          21.43,
          22.6,
          21.26,
          20.21,
          19.11,
          19.93,
          20.56,
          20.39,
          19.02,
          17.84,
          18.8,
          19.89,
          19.98,
          20.65,
          22.45,
          20.02
         ],
         "yaxis": "y"
        }
       ],
       "layout": {
        "legend": {
         "title": {
          "text": "version"
         },
         "tracegroupgap": 0
        },
        "margin": {
         "t": 60
        },
        "template": {
         "data": {
          "bar": [
           {
            "error_x": {
             "color": "#2a3f5f"
            },
            "error_y": {
             "color": "#2a3f5f"
            },
            "marker": {
             "line": {
              "color": "#E5ECF6",
              "width": 0.5
             },
             "pattern": {
              "fillmode": "overlay",
              "size": 10,
              "solidity": 0.2
             }
            },
            "type": "bar"
           }
          ],
          "barpolar": [
           {
            "marker": {
             "line": {
              "color": "#E5ECF6",
              "width": 0.5
             },
             "pattern": {
              "fillmode": "overlay",
              "size": 10,
              "solidity": 0.2
             }
            },
            "type": "barpolar"
           }
          ],
          "carpet": [
           {
            "aaxis": {
             "endlinecolor": "#2a3f5f",
             "gridcolor": "white",
             "linecolor": "white",
             "minorgridcolor": "white",
             "startlinecolor": "#2a3f5f"
            },
            "baxis": {
             "endlinecolor": "#2a3f5f",
             "gridcolor": "white",
             "linecolor": "white",
             "minorgridcolor": "white",
             "startlinecolor": "#2a3f5f"
            },
            "type": "carpet"
           }
          ],
          "choropleth": [
           {
            "colorbar": {
             "outlinewidth": 0,
             "ticks": ""
            },
            "type": "choropleth"
           }
          ],
          "contour": [
           {
            "colorbar": {
             "outlinewidth": 0,
             "ticks": ""
            },
            "colorscale": [
             [
              0,
              "#0d0887"
             ],
             [
              0.1111111111111111,
              "#46039f"
             ],
             [
              0.2222222222222222,
              "#7201a8"
             ],
             [
              0.3333333333333333,
              "#9c179e"
             ],
             [
              0.4444444444444444,
              "#bd3786"
             ],
             [
              0.5555555555555556,
              "#d8576b"
             ],
             [
              0.6666666666666666,
              "#ed7953"
             ],
             [
              0.7777777777777778,
              "#fb9f3a"
             ],
             [
              0.8888888888888888,
              "#fdca26"
             ],
             [
              1,
              "#f0f921"
             ]
            ],
            "type": "contour"
           }
          ],
          "contourcarpet": [
           {
            "colorbar": {
             "outlinewidth": 0,
             "ticks": ""
            },
            "type": "contourcarpet"
           }
          ],
          "heatmap": [
           {
            "colorbar": {
             "outlinewidth": 0,
             "ticks": ""
            },
            "colorscale": [
             [
              0,
              "#0d0887"
             ],
             [
              0.1111111111111111,
              "#46039f"
             ],
             [
              0.2222222222222222,
              "#7201a8"
             ],
             [
              0.3333333333333333,
              "#9c179e"
             ],
             [
              0.4444444444444444,
              "#bd3786"
             ],
             [
              0.5555555555555556,
              "#d8576b"
             ],
             [
              0.6666666666666666,
              "#ed7953"
             ],
             [
              0.7777777777777778,
              "#fb9f3a"
             ],
             [
              0.8888888888888888,
              "#fdca26"
             ],
             [
              1,
              "#f0f921"
             ]
            ],
            "type": "heatmap"
           }
          ],
          "heatmapgl": [
           {
            "colorbar": {
             "outlinewidth": 0,
             "ticks": ""
            },
            "colorscale": [
             [
              0,
              "#0d0887"
             ],
             [
              0.1111111111111111,
              "#46039f"
             ],
             [
              0.2222222222222222,
              "#7201a8"
             ],
             [
              0.3333333333333333,
              "#9c179e"
             ],
             [
              0.4444444444444444,
              "#bd3786"
             ],
             [
              0.5555555555555556,
              "#d8576b"
             ],
             [
              0.6666666666666666,
              "#ed7953"
             ],
             [
              0.7777777777777778,
              "#fb9f3a"
             ],
             [
              0.8888888888888888,
              "#fdca26"
             ],
             [
              1,
              "#f0f921"
             ]
            ],
            "type": "heatmapgl"
           }
          ],
          "histogram": [
           {
            "marker": {
             "pattern": {
              "fillmode": "overlay",
              "size": 10,
              "solidity": 0.2
             }
            },
            "type": "histogram"
           }
          ],
          "histogram2d": [
           {
            "colorbar": {
             "outlinewidth": 0,
             "ticks": ""
            },
            "colorscale": [
             [
              0,
              "#0d0887"
             ],
             [
              0.1111111111111111,
              "#46039f"
             ],
             [
              0.2222222222222222,
              "#7201a8"
             ],
             [
              0.3333333333333333,
              "#9c179e"
             ],
             [
              0.4444444444444444,
              "#bd3786"
             ],
             [
              0.5555555555555556,
              "#d8576b"
             ],
             [
              0.6666666666666666,
              "#ed7953"
             ],
             [
              0.7777777777777778,
              "#fb9f3a"
             ],
             [
              0.8888888888888888,
              "#fdca26"
             ],
             [
              1,
              "#f0f921"
             ]
            ],
            "type": "histogram2d"
           }
          ],
          "histogram2dcontour": [
           {
            "colorbar": {
             "outlinewidth": 0,
             "ticks": ""
            },
            "colorscale": [
             [
              0,
              "#0d0887"
             ],
             [
              0.1111111111111111,
              "#46039f"
             ],
             [
              0.2222222222222222,
              "#7201a8"
             ],
             [
              0.3333333333333333,
              "#9c179e"
             ],
             [
              0.4444444444444444,
              "#bd3786"
             ],
             [
              0.5555555555555556,
              "#d8576b"
             ],
             [
              0.6666666666666666,
              "#ed7953"
             ],
             [
              0.7777777777777778,
              "#fb9f3a"
             ],
             [
              0.8888888888888888,
              "#fdca26"
             ],
             [
              1,
              "#f0f921"
             ]
            ],
            "type": "histogram2dcontour"
           }
          ],
          "mesh3d": [
           {
            "colorbar": {
             "outlinewidth": 0,
             "ticks": ""
            },
            "type": "mesh3d"
           }
          ],
          "parcoords": [
           {
            "line": {
             "colorbar": {
              "outlinewidth": 0,
              "ticks": ""
             }
            },
            "type": "parcoords"
           }
          ],
          "pie": [
           {
            "automargin": true,
            "type": "pie"
           }
          ],
          "scatter": [
           {
            "fillpattern": {
             "fillmode": "overlay",
             "size": 10,
             "solidity": 0.2
            },
            "type": "scatter"
           }
          ],
          "scatter3d": [
           {
            "line": {
             "colorbar": {
              "outlinewidth": 0,
              "ticks": ""
             }
            },
            "marker": {
             "colorbar": {
              "outlinewidth": 0,
              "ticks": ""
             }
            },
            "type": "scatter3d"
           }
          ],
          "scattercarpet": [
           {
            "marker": {
             "colorbar": {
              "outlinewidth": 0,
              "ticks": ""
             }
            },
            "type": "scattercarpet"
           }
          ],
          "scattergeo": [
           {
            "marker": {
             "colorbar": {
              "outlinewidth": 0,
              "ticks": ""
             }
            },
            "type": "scattergeo"
           }
          ],
          "scattergl": [
           {
            "marker": {
             "colorbar": {
              "outlinewidth": 0,
              "ticks": ""
             }
            },
            "type": "scattergl"
           }
          ],
          "scattermapbox": [
           {
            "marker": {
             "colorbar": {
              "outlinewidth": 0,
              "ticks": ""
             }
            },
            "type": "scattermapbox"
           }
          ],
          "scatterpolar": [
           {
            "marker": {
             "colorbar": {
              "outlinewidth": 0,
              "ticks": ""
             }
            },
            "type": "scatterpolar"
           }
          ],
          "scatterpolargl": [
           {
            "marker": {
             "colorbar": {
              "outlinewidth": 0,
              "ticks": ""
             }
            },
            "type": "scatterpolargl"
           }
          ],
          "scatterternary": [
           {
            "marker": {
             "colorbar": {
              "outlinewidth": 0,
              "ticks": ""
             }
            },
            "type": "scatterternary"
           }
          ],
          "surface": [
           {
            "colorbar": {
             "outlinewidth": 0,
             "ticks": ""
            },
            "colorscale": [
             [
              0,
              "#0d0887"
             ],
             [
              0.1111111111111111,
              "#46039f"
             ],
             [
              0.2222222222222222,
              "#7201a8"
             ],
             [
              0.3333333333333333,
              "#9c179e"
             ],
             [
              0.4444444444444444,
              "#bd3786"
             ],
             [
              0.5555555555555556,
              "#d8576b"
             ],
             [
              0.6666666666666666,
              "#ed7953"
             ],
             [
              0.7777777777777778,
              "#fb9f3a"
             ],
             [
              0.8888888888888888,
              "#fdca26"
             ],
             [
              1,
              "#f0f921"
             ]
            ],
            "type": "surface"
           }
          ],
          "table": [
           {
            "cells": {
             "fill": {
              "color": "#EBF0F8"
             },
             "line": {
              "color": "white"
             }
            },
            "header": {
             "fill": {
              "color": "#C8D4E3"
             },
             "line": {
              "color": "white"
             }
            },
            "type": "table"
           }
          ]
         },
         "layout": {
          "annotationdefaults": {
           "arrowcolor": "#2a3f5f",
           "arrowhead": 0,
           "arrowwidth": 1
          },
          "autotypenumbers": "strict",
          "coloraxis": {
           "colorbar": {
            "outlinewidth": 0,
            "ticks": ""
           }
          },
          "colorscale": {
           "diverging": [
            [
             0,
             "#8e0152"
            ],
            [
             0.1,
             "#c51b7d"
            ],
            [
             0.2,
             "#de77ae"
            ],
            [
             0.3,
             "#f1b6da"
            ],
            [
             0.4,
             "#fde0ef"
            ],
            [
             0.5,
             "#f7f7f7"
            ],
            [
             0.6,
             "#e6f5d0"
            ],
            [
             0.7,
             "#b8e186"
            ],
            [
             0.8,
             "#7fbc41"
            ],
            [
             0.9,
             "#4d9221"
            ],
            [
             1,
             "#276419"
            ]
           ],
           "sequential": [
            [
             0,
             "#0d0887"
            ],
            [
             0.1111111111111111,
             "#46039f"
            ],
            [
             0.2222222222222222,
             "#7201a8"
            ],
            [
             0.3333333333333333,
             "#9c179e"
            ],
            [
             0.4444444444444444,
             "#bd3786"
            ],
            [
             0.5555555555555556,
             "#d8576b"
            ],
            [
             0.6666666666666666,
             "#ed7953"
            ],
            [
             0.7777777777777778,
             "#fb9f3a"
            ],
            [
             0.8888888888888888,
             "#fdca26"
            ],
            [
             1,
             "#f0f921"
            ]
           ],
           "sequentialminus": [
            [
             0,
             "#0d0887"
            ],
            [
             0.1111111111111111,
             "#46039f"
            ],
            [
             0.2222222222222222,
             "#7201a8"
            ],
            [
             0.3333333333333333,
             "#9c179e"
            ],
            [
             0.4444444444444444,
             "#bd3786"
            ],
            [
             0.5555555555555556,
             "#d8576b"
            ],
            [
             0.6666666666666666,
             "#ed7953"
            ],
            [
             0.7777777777777778,
             "#fb9f3a"
            ],
            [
             0.8888888888888888,
             "#fdca26"
            ],
            [
             1,
             "#f0f921"
            ]
           ]
          },
          "colorway": [
           "#636efa",
           "#EF553B",
           "#00cc96",
           "#ab63fa",
           "#FFA15A",
           "#19d3f3",
           "#FF6692",
           "#B6E880",
           "#FF97FF",
           "#FECB52"
          ],
          "font": {
           "color": "#2a3f5f"
          },
          "geo": {
           "bgcolor": "white",
           "lakecolor": "white",
           "landcolor": "#E5ECF6",
           "showlakes": true,
           "showland": true,
           "subunitcolor": "white"
          },
          "hoverlabel": {
           "align": "left"
          },
          "hovermode": "closest",
          "mapbox": {
           "style": "light"
          },
          "paper_bgcolor": "white",
          "plot_bgcolor": "#E5ECF6",
          "polar": {
           "angularaxis": {
            "gridcolor": "white",
            "linecolor": "white",
            "ticks": ""
           },
           "bgcolor": "#E5ECF6",
           "radialaxis": {
            "gridcolor": "white",
            "linecolor": "white",
            "ticks": ""
           }
          },
          "scene": {
           "xaxis": {
            "backgroundcolor": "#E5ECF6",
            "gridcolor": "white",
            "gridwidth": 2,
            "linecolor": "white",
            "showbackground": true,
            "ticks": "",
            "zerolinecolor": "white"
           },
           "yaxis": {
            "backgroundcolor": "#E5ECF6",
            "gridcolor": "white",
            "gridwidth": 2,
            "linecolor": "white",
            "showbackground": true,
            "ticks": "",
            "zerolinecolor": "white"
           },
           "zaxis": {
            "backgroundcolor": "#E5ECF6",
            "gridcolor": "white",
            "gridwidth": 2,
            "linecolor": "white",
            "showbackground": true,
            "ticks": "",
            "zerolinecolor": "white"
           }
          },
          "shapedefaults": {
           "line": {
            "color": "#2a3f5f"
           }
          },
          "ternary": {
           "aaxis": {
            "gridcolor": "white",
            "linecolor": "white",
            "ticks": ""
           },
           "baxis": {
            "gridcolor": "white",
            "linecolor": "white",
            "ticks": ""
           },
           "bgcolor": "#E5ECF6",
           "caxis": {
            "gridcolor": "white",
            "linecolor": "white",
            "ticks": ""
           }
          },
          "title": {
           "x": 0.05
          },
          "xaxis": {
           "automargin": true,
           "gridcolor": "white",
           "linecolor": "white",
           "ticks": "",
           "title": {
            "standoff": 15
           },
           "zerolinecolor": "white",
           "zerolinewidth": 2
          },
          "yaxis": {
           "automargin": true,
           "gridcolor": "white",
           "linecolor": "white",
           "ticks": "",
           "title": {
            "standoff": 15
           },
           "zerolinecolor": "white",
           "zerolinewidth": 2
          }
         }
        },
        "xaxis": {
         "anchor": "y",
         "domain": [
          0,
          1
         ],
         "title": {
          "text": "epoch"
         }
        },
        "yaxis": {
         "anchor": "x",
         "domain": [
          0,
          1
         ],
         "title": {
          "text": "episode_len_mean"
         }
        }
       }
      }
     },
     "metadata": {},
     "output_type": "display_data"
    }
   ],
   "source": [
    "plotResults(ppo_data,ENV, VERSIONS, ['episode_reward_mean',\"episode_len_mean\"], x_value='epoch' )\n",
    "# plotResults(ppo_data,ENV, VERSIONS, ['episode_reward_mean'], x_value='episodes_total')\n",
    "# plotResults(ppo_data,ENV, VERSIONS, ['episode_reward_mean'], x_value='time_total_s')\n"
   ]
  },
  {
   "cell_type": "code",
   "execution_count": null,
   "metadata": {},
   "outputs": [
    {
     "data": {
      "text/html": [
       "<div>\n",
       "<style scoped>\n",
       "    .dataframe tbody tr th:only-of-type {\n",
       "        vertical-align: middle;\n",
       "    }\n",
       "\n",
       "    .dataframe tbody tr th {\n",
       "        vertical-align: top;\n",
       "    }\n",
       "\n",
       "    .dataframe thead th {\n",
       "        text-align: right;\n",
       "    }\n",
       "</style>\n",
       "<table border=\"1\" class=\"dataframe\">\n",
       "  <thead>\n",
       "    <tr style=\"text-align: right;\">\n",
       "      <th></th>\n",
       "      <th>epoch</th>\n",
       "      <th>environment</th>\n",
       "      <th>version</th>\n",
       "      <th>episode_reward_max</th>\n",
       "      <th>episode_reward_min</th>\n",
       "      <th>episode_reward_mean</th>\n",
       "      <th>episode_len_mean</th>\n",
       "      <th>mean_q</th>\n",
       "      <th>mean_td_error</th>\n",
       "      <th>episodes_total</th>\n",
       "      <th>time_this_iter_s</th>\n",
       "      <th>time_total_s</th>\n",
       "      <th>cpu_util_percent</th>\n",
       "      <th>ram_util_percent</th>\n",
       "    </tr>\n",
       "  </thead>\n",
       "  <tbody>\n",
       "    <tr>\n",
       "      <th>1</th>\n",
       "      <td>1</td>\n",
       "      <td>CustomOffWorldDockerMonolithDiscreteSim-v0</td>\n",
       "      <td>dqn_depth_v1</td>\n",
       "      <td>1.0</td>\n",
       "      <td>0.0</td>\n",
       "      <td>0.183857</td>\n",
       "      <td>44.035874</td>\n",
       "      <td>0.044934</td>\n",
       "      <td>0.020861</td>\n",
       "      <td>223</td>\n",
       "      <td>2026.473218</td>\n",
       "      <td>2026.473218</td>\n",
       "      <td>76.679382</td>\n",
       "      <td>68.704514</td>\n",
       "    </tr>\n",
       "    <tr>\n",
       "      <th>2</th>\n",
       "      <td>2</td>\n",
       "      <td>CustomOffWorldDockerMonolithDiscreteSim-v0</td>\n",
       "      <td>dqn_depth_v1</td>\n",
       "      <td>1.0</td>\n",
       "      <td>0.0</td>\n",
       "      <td>0.165138</td>\n",
       "      <td>45.995413</td>\n",
       "      <td>0.044860</td>\n",
       "      <td>-0.086270</td>\n",
       "      <td>441</td>\n",
       "      <td>2039.213573</td>\n",
       "      <td>4065.686792</td>\n",
       "      <td>76.918789</td>\n",
       "      <td>85.809859</td>\n",
       "    </tr>\n",
       "    <tr>\n",
       "      <th>3</th>\n",
       "      <td>3</td>\n",
       "      <td>CustomOffWorldDockerMonolithDiscreteSim-v0</td>\n",
       "      <td>dqn_depth_v1</td>\n",
       "      <td>1.0</td>\n",
       "      <td>0.0</td>\n",
       "      <td>0.185841</td>\n",
       "      <td>44.553097</td>\n",
       "      <td>0.069326</td>\n",
       "      <td>-0.018382</td>\n",
       "      <td>667</td>\n",
       "      <td>2059.494106</td>\n",
       "      <td>6125.180897</td>\n",
       "      <td>76.888196</td>\n",
       "      <td>86.503537</td>\n",
       "    </tr>\n",
       "    <tr>\n",
       "      <th>4</th>\n",
       "      <td>4</td>\n",
       "      <td>CustomOffWorldDockerMonolithDiscreteSim-v0</td>\n",
       "      <td>dqn_depth_v1</td>\n",
       "      <td>1.0</td>\n",
       "      <td>0.0</td>\n",
       "      <td>0.248889</td>\n",
       "      <td>44.826667</td>\n",
       "      <td>0.091298</td>\n",
       "      <td>-0.010901</td>\n",
       "      <td>892</td>\n",
       "      <td>2109.345118</td>\n",
       "      <td>8234.526015</td>\n",
       "      <td>76.883138</td>\n",
       "      <td>86.764624</td>\n",
       "    </tr>\n",
       "    <tr>\n",
       "      <th>5</th>\n",
       "      <td>5</td>\n",
       "      <td>CustomOffWorldDockerMonolithDiscreteSim-v0</td>\n",
       "      <td>dqn_depth_v1</td>\n",
       "      <td>1.0</td>\n",
       "      <td>0.0</td>\n",
       "      <td>0.236111</td>\n",
       "      <td>46.199074</td>\n",
       "      <td>0.132311</td>\n",
       "      <td>-0.078898</td>\n",
       "      <td>1108</td>\n",
       "      <td>2066.673707</td>\n",
       "      <td>10301.199723</td>\n",
       "      <td>76.941875</td>\n",
       "      <td>86.852545</td>\n",
       "    </tr>\n",
       "    <tr>\n",
       "      <th>6</th>\n",
       "      <td>6</td>\n",
       "      <td>CustomOffWorldDockerMonolithDiscreteSim-v0</td>\n",
       "      <td>dqn_depth_v1</td>\n",
       "      <td>1.0</td>\n",
       "      <td>0.0</td>\n",
       "      <td>0.192825</td>\n",
       "      <td>44.578475</td>\n",
       "      <td>0.179280</td>\n",
       "      <td>-0.014487</td>\n",
       "      <td>1331</td>\n",
       "      <td>2078.003396</td>\n",
       "      <td>12379.203119</td>\n",
       "      <td>76.947521</td>\n",
       "      <td>86.912640</td>\n",
       "    </tr>\n",
       "    <tr>\n",
       "      <th>7</th>\n",
       "      <td>7</td>\n",
       "      <td>CustomOffWorldDockerMonolithDiscreteSim-v0</td>\n",
       "      <td>dqn_depth_v1</td>\n",
       "      <td>1.0</td>\n",
       "      <td>0.0</td>\n",
       "      <td>0.226087</td>\n",
       "      <td>43.834783</td>\n",
       "      <td>0.194226</td>\n",
       "      <td>-0.016513</td>\n",
       "      <td>1561</td>\n",
       "      <td>2054.313837</td>\n",
       "      <td>14433.516956</td>\n",
       "      <td>77.089923</td>\n",
       "      <td>86.827962</td>\n",
       "    </tr>\n",
       "    <tr>\n",
       "      <th>8</th>\n",
       "      <td>8</td>\n",
       "      <td>CustomOffWorldDockerMonolithDiscreteSim-v0</td>\n",
       "      <td>dqn_depth_v1</td>\n",
       "      <td>1.0</td>\n",
       "      <td>0.0</td>\n",
       "      <td>0.219178</td>\n",
       "      <td>45.511416</td>\n",
       "      <td>0.238254</td>\n",
       "      <td>-0.032390</td>\n",
       "      <td>1780</td>\n",
       "      <td>2081.850764</td>\n",
       "      <td>16515.367719</td>\n",
       "      <td>76.977453</td>\n",
       "      <td>86.819982</td>\n",
       "    </tr>\n",
       "    <tr>\n",
       "      <th>9</th>\n",
       "      <td>9</td>\n",
       "      <td>CustomOffWorldDockerMonolithDiscreteSim-v0</td>\n",
       "      <td>dqn_depth_v1</td>\n",
       "      <td>1.0</td>\n",
       "      <td>0.0</td>\n",
       "      <td>0.185520</td>\n",
       "      <td>45.113122</td>\n",
       "      <td>0.301548</td>\n",
       "      <td>-0.026588</td>\n",
       "      <td>2001</td>\n",
       "      <td>2066.619357</td>\n",
       "      <td>18581.987076</td>\n",
       "      <td>76.976342</td>\n",
       "      <td>86.724568</td>\n",
       "    </tr>\n",
       "    <tr>\n",
       "      <th>10</th>\n",
       "      <td>10</td>\n",
       "      <td>CustomOffWorldDockerMonolithDiscreteSim-v0</td>\n",
       "      <td>dqn_depth_v1</td>\n",
       "      <td>1.0</td>\n",
       "      <td>0.0</td>\n",
       "      <td>0.252033</td>\n",
       "      <td>40.747967</td>\n",
       "      <td>0.310082</td>\n",
       "      <td>-0.008423</td>\n",
       "      <td>2247</td>\n",
       "      <td>2073.266448</td>\n",
       "      <td>20655.253524</td>\n",
       "      <td>77.097632</td>\n",
       "      <td>86.557787</td>\n",
       "    </tr>\n",
       "    <tr>\n",
       "      <th>11</th>\n",
       "      <td>11</td>\n",
       "      <td>CustomOffWorldDockerMonolithDiscreteSim-v0</td>\n",
       "      <td>dqn_depth_v1</td>\n",
       "      <td>1.0</td>\n",
       "      <td>0.0</td>\n",
       "      <td>0.223256</td>\n",
       "      <td>46.869767</td>\n",
       "      <td>0.292837</td>\n",
       "      <td>0.017698</td>\n",
       "      <td>2462</td>\n",
       "      <td>2087.936815</td>\n",
       "      <td>22743.190338</td>\n",
       "      <td>77.125590</td>\n",
       "      <td>86.504265</td>\n",
       "    </tr>\n",
       "    <tr>\n",
       "      <th>12</th>\n",
       "      <td>12</td>\n",
       "      <td>CustomOffWorldDockerMonolithDiscreteSim-v0</td>\n",
       "      <td>dqn_depth_v1</td>\n",
       "      <td>1.0</td>\n",
       "      <td>0.0</td>\n",
       "      <td>0.273543</td>\n",
       "      <td>44.614350</td>\n",
       "      <td>0.348278</td>\n",
       "      <td>-0.032877</td>\n",
       "      <td>2685</td>\n",
       "      <td>2080.746162</td>\n",
       "      <td>24823.936500</td>\n",
       "      <td>77.102510</td>\n",
       "      <td>86.391921</td>\n",
       "    </tr>\n",
       "    <tr>\n",
       "      <th>13</th>\n",
       "      <td>13</td>\n",
       "      <td>CustomOffWorldDockerMonolithDiscreteSim-v0</td>\n",
       "      <td>dqn_depth_v1</td>\n",
       "      <td>1.0</td>\n",
       "      <td>0.0</td>\n",
       "      <td>0.216981</td>\n",
       "      <td>46.768868</td>\n",
       "      <td>0.373668</td>\n",
       "      <td>-0.007058</td>\n",
       "      <td>2897</td>\n",
       "      <td>2090.383721</td>\n",
       "      <td>26914.320221</td>\n",
       "      <td>77.010519</td>\n",
       "      <td>86.297769</td>\n",
       "    </tr>\n",
       "    <tr>\n",
       "      <th>14</th>\n",
       "      <td>14</td>\n",
       "      <td>CustomOffWorldDockerMonolithDiscreteSim-v0</td>\n",
       "      <td>dqn_depth_v1</td>\n",
       "      <td>1.0</td>\n",
       "      <td>0.0</td>\n",
       "      <td>0.268085</td>\n",
       "      <td>43.161702</td>\n",
       "      <td>0.365061</td>\n",
       "      <td>0.005546</td>\n",
       "      <td>3132</td>\n",
       "      <td>2087.224838</td>\n",
       "      <td>29001.545059</td>\n",
       "      <td>77.218149</td>\n",
       "      <td>85.592385</td>\n",
       "    </tr>\n",
       "    <tr>\n",
       "      <th>15</th>\n",
       "      <td>15</td>\n",
       "      <td>CustomOffWorldDockerMonolithDiscreteSim-v0</td>\n",
       "      <td>dqn_depth_v1</td>\n",
       "      <td>1.0</td>\n",
       "      <td>0.0</td>\n",
       "      <td>0.297561</td>\n",
       "      <td>48.536585</td>\n",
       "      <td>0.420542</td>\n",
       "      <td>-0.019219</td>\n",
       "      <td>3337</td>\n",
       "      <td>2098.283509</td>\n",
       "      <td>31099.828567</td>\n",
       "      <td>77.169119</td>\n",
       "      <td>85.279064</td>\n",
       "    </tr>\n",
       "    <tr>\n",
       "      <th>16</th>\n",
       "      <td>16</td>\n",
       "      <td>CustomOffWorldDockerMonolithDiscreteSim-v0</td>\n",
       "      <td>dqn_depth_v1</td>\n",
       "      <td>1.0</td>\n",
       "      <td>0.0</td>\n",
       "      <td>0.294118</td>\n",
       "      <td>45.398190</td>\n",
       "      <td>0.448005</td>\n",
       "      <td>0.009290</td>\n",
       "      <td>3558</td>\n",
       "      <td>2084.338803</td>\n",
       "      <td>33184.167371</td>\n",
       "      <td>77.159899</td>\n",
       "      <td>85.101375</td>\n",
       "    </tr>\n",
       "  </tbody>\n",
       "</table>\n",
       "</div>"
      ],
      "text/plain": [
       "    epoch                                 environment       version  \\\n",
       "1       1  CustomOffWorldDockerMonolithDiscreteSim-v0  dqn_depth_v1   \n",
       "2       2  CustomOffWorldDockerMonolithDiscreteSim-v0  dqn_depth_v1   \n",
       "3       3  CustomOffWorldDockerMonolithDiscreteSim-v0  dqn_depth_v1   \n",
       "4       4  CustomOffWorldDockerMonolithDiscreteSim-v0  dqn_depth_v1   \n",
       "5       5  CustomOffWorldDockerMonolithDiscreteSim-v0  dqn_depth_v1   \n",
       "6       6  CustomOffWorldDockerMonolithDiscreteSim-v0  dqn_depth_v1   \n",
       "7       7  CustomOffWorldDockerMonolithDiscreteSim-v0  dqn_depth_v1   \n",
       "8       8  CustomOffWorldDockerMonolithDiscreteSim-v0  dqn_depth_v1   \n",
       "9       9  CustomOffWorldDockerMonolithDiscreteSim-v0  dqn_depth_v1   \n",
       "10     10  CustomOffWorldDockerMonolithDiscreteSim-v0  dqn_depth_v1   \n",
       "11     11  CustomOffWorldDockerMonolithDiscreteSim-v0  dqn_depth_v1   \n",
       "12     12  CustomOffWorldDockerMonolithDiscreteSim-v0  dqn_depth_v1   \n",
       "13     13  CustomOffWorldDockerMonolithDiscreteSim-v0  dqn_depth_v1   \n",
       "14     14  CustomOffWorldDockerMonolithDiscreteSim-v0  dqn_depth_v1   \n",
       "15     15  CustomOffWorldDockerMonolithDiscreteSim-v0  dqn_depth_v1   \n",
       "16     16  CustomOffWorldDockerMonolithDiscreteSim-v0  dqn_depth_v1   \n",
       "\n",
       "    episode_reward_max  episode_reward_min  episode_reward_mean  \\\n",
       "1                  1.0                 0.0             0.183857   \n",
       "2                  1.0                 0.0             0.165138   \n",
       "3                  1.0                 0.0             0.185841   \n",
       "4                  1.0                 0.0             0.248889   \n",
       "5                  1.0                 0.0             0.236111   \n",
       "6                  1.0                 0.0             0.192825   \n",
       "7                  1.0                 0.0             0.226087   \n",
       "8                  1.0                 0.0             0.219178   \n",
       "9                  1.0                 0.0             0.185520   \n",
       "10                 1.0                 0.0             0.252033   \n",
       "11                 1.0                 0.0             0.223256   \n",
       "12                 1.0                 0.0             0.273543   \n",
       "13                 1.0                 0.0             0.216981   \n",
       "14                 1.0                 0.0             0.268085   \n",
       "15                 1.0                 0.0             0.297561   \n",
       "16                 1.0                 0.0             0.294118   \n",
       "\n",
       "    episode_len_mean    mean_q  mean_td_error  episodes_total  \\\n",
       "1          44.035874  0.044934       0.020861             223   \n",
       "2          45.995413  0.044860      -0.086270             441   \n",
       "3          44.553097  0.069326      -0.018382             667   \n",
       "4          44.826667  0.091298      -0.010901             892   \n",
       "5          46.199074  0.132311      -0.078898            1108   \n",
       "6          44.578475  0.179280      -0.014487            1331   \n",
       "7          43.834783  0.194226      -0.016513            1561   \n",
       "8          45.511416  0.238254      -0.032390            1780   \n",
       "9          45.113122  0.301548      -0.026588            2001   \n",
       "10         40.747967  0.310082      -0.008423            2247   \n",
       "11         46.869767  0.292837       0.017698            2462   \n",
       "12         44.614350  0.348278      -0.032877            2685   \n",
       "13         46.768868  0.373668      -0.007058            2897   \n",
       "14         43.161702  0.365061       0.005546            3132   \n",
       "15         48.536585  0.420542      -0.019219            3337   \n",
       "16         45.398190  0.448005       0.009290            3558   \n",
       "\n",
       "    time_this_iter_s  time_total_s  cpu_util_percent  ram_util_percent  \n",
       "1        2026.473218   2026.473218         76.679382         68.704514  \n",
       "2        2039.213573   4065.686792         76.918789         85.809859  \n",
       "3        2059.494106   6125.180897         76.888196         86.503537  \n",
       "4        2109.345118   8234.526015         76.883138         86.764624  \n",
       "5        2066.673707  10301.199723         76.941875         86.852545  \n",
       "6        2078.003396  12379.203119         76.947521         86.912640  \n",
       "7        2054.313837  14433.516956         77.089923         86.827962  \n",
       "8        2081.850764  16515.367719         76.977453         86.819982  \n",
       "9        2066.619357  18581.987076         76.976342         86.724568  \n",
       "10       2073.266448  20655.253524         77.097632         86.557787  \n",
       "11       2087.936815  22743.190338         77.125590         86.504265  \n",
       "12       2080.746162  24823.936500         77.102510         86.391921  \n",
       "13       2090.383721  26914.320221         77.010519         86.297769  \n",
       "14       2087.224838  29001.545059         77.218149         85.592385  \n",
       "15       2098.283509  31099.828567         77.169119         85.279064  \n",
       "16       2084.338803  33184.167371         77.159899         85.101375  "
      ]
     },
     "execution_count": 24,
     "metadata": {},
     "output_type": "execute_result"
    }
   ],
   "source": [
    "dqn_data = collectData(ENV,VERSIONS, [\"SAMPLER\",\"DQN_LEARNER\",\"TIME\", \"PERF\"])\n",
    "dqn_data"
   ]
  }
 ],
 "metadata": {
  "kernelspec": {
   "display_name": "Python 3.9.12 ('ray')",
   "language": "python",
   "name": "python3"
  },
  "language_info": {
   "codemirror_mode": {
    "name": "ipython",
    "version": 3
   },
   "file_extension": ".py",
   "mimetype": "text/x-python",
   "name": "python",
   "nbconvert_exporter": "python",
   "pygments_lexer": "ipython3",
   "version": "3.9.13"
  },
  "orig_nbformat": 4,
  "vscode": {
   "interpreter": {
    "hash": "6ad465c2675b3f8dcc08dbaa7da39a6c4938396ea84379da3fe2bd2da4323b46"
   }
  }
 },
 "nbformat": 4,
 "nbformat_minor": 2
}
